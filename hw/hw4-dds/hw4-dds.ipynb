{
 "cells": [
  {
   "cell_type": "markdown",
   "metadata": {},
   "source": [
    "# PSTAT 100 Homework 4"
   ]
  },
  {
   "cell_type": "code",
   "execution_count": null,
   "metadata": {},
   "outputs": [],
   "source": [
    "import numpy as np\n",
    "import pandas as pd\n",
    "import altair as alt\n",
    "import sklearn.linear_model as lm\n",
    "from sklearn.preprocessing import add_dummy_feature"
   ]
  },
  {
   "cell_type": "markdown",
   "metadata": {},
   "source": [
    "## Background: California Department of Developmental Services\n",
    "\n",
    "From Taylor, S. A., & Mickel, A. E. (2014). Simpson's Paradox: A Data Set and Discrimination Case Study Exercise. Journal of Statistics Education, 22(1):\n",
    "\n",
    "> Most states in the USA provide services and support to individuals with developmental disabilities (e.g., intellectual disability, cerebral palsy, autism, etc.) and their families. The agency through which the State of California serves the developmentally-disabled population is the California Department of Developmental Services (DDS) ... One of the responsibilities of DDS is to allocate funds that support over 250,000 developmentally-disabled residents. A number of years ago, an allegation of discrimination was made and supported by a univariate analysis that examined average annual expenditures on consumers by ethnicity. The analysis revealed that the average annual expenditures on Hispanic consumers was approximately one-third of the average expenditures on White non-Hispanic consumers. This finding was the catalyst for further investigation; subsequently, state legislators and department managers sought consulting services from a statistician.\n",
    "\n",
    "In this assignment, you'll analyze the deidentified DDS data published with this article to answer the question: *is there evidence of ethnic or gender discrimination in allocation of DDS funds?*\n",
    "\n",
    "**Aside**: The JSE article focuses on what's known as [Simpson's paradox](https://en.wikipedia.org/wiki/Simpson%27s_paradox), an arithmetic phenomenon in which aggregate trends across multiple groups show the *opposite* of within-group trends. We won't emphasize this topic, though the data does provide a nice illustration -- if you're interested in learning more, you can follow the embedded link to the Wikipedia entry on the subject.\n",
    "\n",
    "---\n",
    "## Assignment objectives\n",
    "\n",
    "You'll answer the question of interest employing exploratory and regression analysis techniques from class. In particular, you'll practice the following skills.\n",
    "\n",
    "**Exploratory analysis**:\n",
    "* grouped summaries for categorical variables;\n",
    "* visualization techniques for categorical variables;\n",
    "* hypothesis generation based on EDA.\n",
    "\n",
    "**Regression analysis**:\n",
    "* categorical variable encodings;\n",
    "* model fitting and fit reporting;\n",
    "* parameter interpretation;\n",
    "* model-based visualizations.\n",
    "\n",
    "In addition, in **communicating results** at the end of the assignment, you'll practice a few soft skills that may be helpful in thinking about how to report results for your independent class project:\n",
    "* composing a concise summary (similar to an abstract) of background and key findings; and\n",
    "* determining which results (figures/tables) to reproduce in a presentation context."
   ]
  },
  {
   "cell_type": "markdown",
   "metadata": {},
   "source": [
    "---\n",
    "## 0. Getting acquainted with the DDS data\n",
    "\n",
    "The data for this assignment are already tidy, so in this section you'll just familiarize yourself with basic characteristics. The first few rows of the data are shown below:"
   ]
  },
  {
   "cell_type": "code",
   "execution_count": null,
   "metadata": {},
   "outputs": [],
   "source": [
    "dds = pd.read_csv('data/california-dds.csv')\n",
    "dds.head()"
   ]
  },
  {
   "cell_type": "markdown",
   "metadata": {},
   "source": [
    "Take a moment to open and read the data documentation (*data > california-dds-documentation.md*)."
   ]
  },
  {
   "cell_type": "markdown",
   "metadata": {},
   "source": [
    "### Question 0 (a). Sample characteristics\n",
    "\n",
    "Answer the following questions based on the data documentation."
   ]
  },
  {
   "cell_type": "markdown",
   "metadata": {},
   "source": [
    "#### (i) Identify the observational units.\n",
    "\n",
    "**Answer**: *Type your answer here*.\n",
    "\n",
    "#### (ii) Identify the population of interest.\n",
    "\n",
    "**Answer**: *Type your answer here*.\n",
    "\n",
    "#### (iii) What type of sample is this (*e.g.*, census, convenience, etc.)?\n",
    "\n",
    "**Answer**: *Type your answer here*.\n",
    "\n",
    "#### (iv) Is it possible to make inferences about the population based on this data?\n",
    "\n",
    "**Answer**: *Type your answer here*."
   ]
  },
  {
   "cell_type": "markdown",
   "metadata": {},
   "source": [
    "### Question 0 (b). Variable summaries\n",
    "\n",
    "Fill in the table below for each variable in the dataset."
   ]
  },
  {
   "cell_type": "markdown",
   "metadata": {},
   "source": [
    "Name | Variable description | Type | Units of measurement\n",
    "---|---|---|---\n",
    "ID | Unique consumer identifier | Numeric | None "
   ]
  },
  {
   "cell_type": "markdown",
   "metadata": {},
   "source": [
    "---\n",
    "## 1. Exploratory analysis\n"
   ]
  },
  {
   "cell_type": "markdown",
   "metadata": {},
   "source": [
    "### Question 1 (a). Alleged discrimination\n",
    "\n",
    "These data were used in a court case alleging discrimination in funding allocation by ethnicity. The basis for this claim was a calculation of the median expenditure for each group. Here you'll replicate this finding.\n",
    "\n",
    "#### (i) Median expenditures by ethnicity\n",
    "\n",
    "Construct a table of median expenditures by ethnicity.\n",
    "\n",
    "1. Slice the ethnicity and expenditure variables from `dds`, group by ethnicity, and calculate the median expenditure. Store the result as `median_expend_by_eth`.\n",
    "2. Compute the sample sizes for each ethnicity using `.value_counts()`: obtain a Series object indexed by ethnicity with a single column named `n`. You'll need to use `.rename(...)` to avoid having the column named `Ethnicity`. Store this result as `ethnicity_n`.\n",
    "3. Use `pd.concat(...)` to append the sample sizes in `ethnicity_n` to the median expenditures in `median_expend_by_eth`. Store the result as `tbl_1`.\n",
    "\n",
    "Print `tbl_1`."
   ]
  },
  {
   "cell_type": "code",
   "execution_count": null,
   "metadata": {},
   "outputs": [],
   "source": [
    "# compute median expenditures\n",
    "\n",
    "# compute sample sizes\n",
    "\n",
    "# concatenate\n",
    "\n",
    "# print\n"
   ]
  },
  {
   "cell_type": "markdown",
   "metadata": {},
   "source": [
    "#### (ii) Do there appear to be significant differences in funding allocation by ethnicity?\n",
    "\n",
    "If so, give an example of two groups receiving significantly different median payments."
   ]
  },
  {
   "cell_type": "markdown",
   "metadata": {},
   "source": [
    "#### Answer\n",
    "\n",
    "*Type your answer here*."
   ]
  },
  {
   "cell_type": "markdown",
   "metadata": {},
   "source": [
    "#### (iii) Which groups have small sample sizes? How could this affect the median expenditure in those groups?"
   ]
  },
  {
   "cell_type": "markdown",
   "metadata": {},
   "source": [
    "#### Answer\n",
    "\n",
    "*Type your answer here*."
   ]
  },
  {
   "cell_type": "markdown",
   "metadata": {},
   "source": [
    "#### (iv) Display `tbl_1` visually.\n",
    "\n",
    "Construct a point-and-line plot of median expenditure (y) against ethnicity (x), with:\n",
    "* ethnicities sorted by descending median expenditure;\n",
    "* the median expenditure axis shown on the log scale;\n",
    "* the y-axis labeled 'Median expenditure'; and \n",
    "* no x-axis label (since the ethnicity group names are used to label the axis ticks, the label 'Ethnicity' is redundant). \n",
    "\n",
    "Store the result as `fig_1` and display the plot.\n",
    "\n",
    "*Hints*:\n",
    "* you'll need to use `tbl_1.reset_index()` to obtain the ethnicity group as a variable;\n",
    "* recall that `.mark_line(point = True)` will add points to a line plot; \n",
    "* sorting can be done using `alt.X(..., sort = alt.EncodingSortField(field = ..., order = ...))`"
   ]
  },
  {
   "cell_type": "code",
   "execution_count": null,
   "metadata": {},
   "outputs": [],
   "source": [
    "# solution\n"
   ]
  },
  {
   "cell_type": "markdown",
   "metadata": {},
   "source": [
    "### Question 1 (b). Age and expenditure\n",
    "\n",
    "Here you'll explore how expenditure differs by age."
   ]
  },
  {
   "cell_type": "markdown",
   "metadata": {},
   "source": [
    "#### (i) Construct a scatterplot of expenditure (y) versus age (x).\n",
    "\n",
    "Use the quantitative age variable (not age cohort). Display expenditure on the y axis on the log scale, and age on the x axis on the usual (linear) scale. \n",
    "\n",
    "Store the plot as `fig_2` and display the graphic."
   ]
  },
  {
   "cell_type": "code",
   "execution_count": null,
   "metadata": {},
   "outputs": [],
   "source": [
    "# solution\n"
   ]
  },
  {
   "cell_type": "markdown",
   "metadata": {},
   "source": [
    "#### (ii) Does the relationship seem linear?\n",
    "\n",
    "If so, describe the direction (positive/negative) and approximate strength (steep/slight) of relationship. If not, describe the pattern of relationship, if any, in 1-2 sentences."
   ]
  },
  {
   "cell_type": "markdown",
   "metadata": {},
   "source": [
    "#### Answer\n",
    "\n",
    "*Type your answer here*."
   ]
  },
  {
   "cell_type": "markdown",
   "metadata": {},
   "source": [
    "#### (iii) Overall, how does expenditure tend to change as age increases?"
   ]
  },
  {
   "cell_type": "markdown",
   "metadata": {},
   "source": [
    "#### Answer\n",
    "\n",
    "*Type your answer here*."
   ]
  },
  {
   "cell_type": "markdown",
   "metadata": {},
   "source": [
    "#### (iv) What might explain the sudden increase in expenditure after age 20?"
   ]
  },
  {
   "cell_type": "markdown",
   "metadata": {},
   "source": [
    "#### Answer\n",
    "\n",
    "*Type your answer here*."
   ]
  },
  {
   "cell_type": "markdown",
   "metadata": {},
   "source": [
    "Precisely because recipients have different needs at different ages that translate to jumps in expenditure, age has been discretized into age cohorts defined based on need level. Going forward, we'll work with these age cohorts -- by treating age as discrete, we won't need to attempt to model the discontinuities in the relationship between age and expenditure.\n",
    "\n",
    "The cohort labels are stored as `Age Cohort` in the dataset. There are six cohorts; the cell below coerces the labels to an ordered category and prints the category levels."
   ]
  },
  {
   "cell_type": "code",
   "execution_count": null,
   "metadata": {},
   "outputs": [],
   "source": [
    "# convert data types\n",
    "dds_cat = dds.astype({'Age Cohort': 'category', 'Ethnicity': 'category', 'Gender': 'category'}).copy()\n",
    "\n",
    "dds_cat['Age Cohort'] = dds_cat['Age Cohort'].cat.as_ordered().cat.reorder_categories(\n",
    "    dds_cat['Age Cohort'].cat.categories[[0, 5, 1, 2, 3, 4]]\n",
    ")\n",
    "\n",
    "# age cohorts\n",
    "dds_cat['Age Cohort'].cat.categories"
   ]
  },
  {
   "cell_type": "markdown",
   "metadata": {},
   "source": [
    "Here is an explanation of how the cohort age boundaries were chosen:\n",
    "\n",
    "> The 0-5 cohort (preschool age) has the fewest needs and requires the least amount of funding. For the 6-12 cohort (elementary school age) and 13-17 (high school age), a number of needed services are provided by schools. The 18-21 cohort is typically in a transition phase as the consumers begin moving out from their parents’ homes into community centers or living on their own. The majority of those in the 22-50 cohort no longer live with their parents but may still receive some support from their family. Those in the 51+ cohort have the most needs and require the most amount of funding because they are living on their own or in community centers and often have no living parents."
   ]
  },
  {
   "cell_type": "markdown",
   "metadata": {},
   "source": [
    "### Question 1 (c). Age and ethnicity\n",
    "\n",
    "Here you'll explore the age structure of each ethnic group in the sample."
   ]
  },
  {
   "cell_type": "markdown",
   "metadata": {},
   "source": [
    "#### (i) Group the data by ethnic group and tabulate the sample sizes for each group.\n",
    "\n",
    "Use `dds_cat` so that the order of age cohorts is preserved. Write a chain that does the following.\n",
    "\n",
    "1. Group by age cohort and ethnicity.\n",
    "2. Slice the `Id` variable, which is unique to recipient in the sample.\n",
    "3. Count the number of recipients in each group using `.count()`.\n",
    "4. Reset the index so that age cohort and ethnicity are dataframe columns.\n",
    "5. Rename the column of ID counts 'n'.\n",
    "\n",
    "Store the result as `samp_sizes` and print the first four rows."
   ]
  },
  {
   "cell_type": "code",
   "execution_count": null,
   "metadata": {},
   "outputs": [],
   "source": [
    "# solution\n",
    "\n",
    "# print\n"
   ]
  },
  {
   "cell_type": "markdown",
   "metadata": {},
   "source": [
    "#### (ii) Visualize the age structure of each ethnic group in the sample.\n",
    "\n",
    "Construct a point-and-line plot of the sample size against age cohort by ethnicity.\n",
    "\n",
    "1. To preserve the ordering of age cohorts, create a new column in `samp_sizes` called `cohort_order` that contains an integer encoding of the cohort labels in order. To obtain the integer encoding, slice the age cohort variable as a series and use `series.cat.codes`.\n",
    "2. Construct an Altair chart based on `samp_sizes` with:\n",
    "    + sample size (`n`) on the y axis;\n",
    "    + the y axis titled 'Sample size' and displayed on a square root scale;\n",
    "    + age cohort on the x axis, ordered by the cohort variable you created;\n",
    "    + the x axis unlabeled; and\n",
    "    + ethnic group mapped to color.\n",
    "\n",
    "Store the plot as `fig_3` and display the graphic.\n",
    "\n",
    "(*Hint*: sorting can be done using `alt.X(..., sort = alt.EncodingSortField(field = ..., order = ...))`.)"
   ]
  },
  {
   "cell_type": "code",
   "execution_count": null,
   "metadata": {},
   "outputs": [],
   "source": [
    "# add column with category codes\n",
    "\n",
    "# construct plot\n",
    "\n",
    "# display\n"
   ]
  },
  {
   "cell_type": "markdown",
   "metadata": {},
   "source": [
    "#### (iii) Are there differences in age structure?\n",
    "\n",
    "If so, identify one specific example of two ethnic groups with different age structures and describe how the age structures differ."
   ]
  },
  {
   "cell_type": "markdown",
   "metadata": {},
   "source": [
    "#### Answer\n",
    "\n",
    "*Type your answer here*."
   ]
  },
  {
   "cell_type": "markdown",
   "metadata": {},
   "source": [
    "### Question 1 (d). Correcting for age\n",
    "\n",
    "Here you'll consider how the age structure among ethnic groups might be related to the observed differences in median expenditure."
   ]
  },
  {
   "cell_type": "markdown",
   "metadata": {},
   "source": [
    "#### (i) Combine your figures 1, 2, and 3.\n",
    "\n",
    "Place your figures together in three panels on a single row. You'll need to adjust the width of figure 2 (expenditure vs. age) so that the panels don't get cut off in rendering your notebook.\n",
    "\n",
    "Store the figure panel as `eda_figures` and display the graphic."
   ]
  },
  {
   "cell_type": "code",
   "execution_count": null,
   "metadata": {},
   "outputs": [],
   "source": [
    "# solution\n"
   ]
  },
  {
   "cell_type": "markdown",
   "metadata": {},
   "source": [
    "#### (ii) Why is the median expenditure for the multiracial group so low?\n",
    "\n",
    "Look at the age distribution for `Multi Race` and consider the age-expenditure relationship. Can you explain why the median expenditure for this group might be lower than the others? Answer in 1-2 sentences."
   ]
  },
  {
   "cell_type": "markdown",
   "metadata": {},
   "source": [
    "#### Answer\n",
    "\n",
    "*Type your answer here*."
   ]
  },
  {
   "cell_type": "markdown",
   "metadata": {},
   "source": [
    "#### (iii) Why is the median expenditure for the American Indian group so high?\n",
    "\n",
    "Print the rows of `dds_cat` for this group (there aren't very many) and answer the question based on inspecting the rows."
   ]
  },
  {
   "cell_type": "code",
   "execution_count": null,
   "metadata": {},
   "outputs": [],
   "source": [
    "# solution\n"
   ]
  },
  {
   "cell_type": "markdown",
   "metadata": {},
   "source": [
    "#### Answer\n",
    "\n",
    "*Type your answer here*."
   ]
  },
  {
   "cell_type": "markdown",
   "metadata": {},
   "source": [
    "#### (iv) Plot expenditure against ethnicity by age.\n",
    "\n",
    "Hopefully, the last few prompts convinced you that the apparent discrimination *could* simply be an artefact of differing age structure. You can investigate this by plotting median expenditure against ethnicity, as in figure 1, but now also correcting for age cohort.\n",
    "\n",
    "1. To preserve the ordering of age cohorts, create a new column in `dds_cat` called `cohort_order` that contains an integer encoding of the cohort labels in order. To obtain the integer encoding, slice the age cohort variable as a series and use `series.cat.codes`.\n",
    "2. Construct an Altair point-and-line chart based on `dds_cat` with:\n",
    "    + ethnicity on the x axis;\n",
    "    + no x axis label;\n",
    "    + median expenditure on the y axis (*hint*: altair can parse `median(variablename)` within an axis specification);\n",
    "    + the y axis displayed on the log scale;\n",
    "    + age cohort mapped to color as an ordinal variable (meaning, use `:O` in the variable specification) and sorted in order of the `cohort_order` variable you created; and\n",
    "    + lines connecting points that display the median expenditure for each ethnicity and cohort, with one line per age cohort.\n",
    "    \n",
    "\n",
    "Store the result as `fig_4` and display the graphic."
   ]
  },
  {
   "cell_type": "code",
   "execution_count": null,
   "metadata": {},
   "outputs": [],
   "source": [
    "# add column with category codes\n",
    "\n",
    "# construct plot\n",
    "\n",
    "# display\n"
   ]
  },
  {
   "cell_type": "markdown",
   "metadata": {},
   "source": [
    "#### (v) Do the data reflect a difference in median expenditure by ethnicity after accounting for age?\n",
    "\n",
    "Answer based on figure 4 in 1-2 sentences."
   ]
  },
  {
   "cell_type": "markdown",
   "metadata": {},
   "source": [
    "#### Answer\n",
    "\n",
    "*Type your answer here*."
   ]
  },
  {
   "cell_type": "markdown",
   "metadata": {},
   "source": [
    "---\n",
    "## 2. Regression analysis\n",
    "\n",
    "Now that you've thoroughly explored the data, you'll use a linear model in this part to estimate the differences in median expenditure that you observed graphically in part 1.\n",
    "\n",
    "More specifically, you'll model the log of expenditures (response variable) as a function of gender, age cohort, and ethnicity:\n",
    "\n",
    "$$\\log\\left(\\text{expend}_i\\right)\n",
    "    = \\beta_0 + \\beta_1\\left(\\text{6-12}\\right)_i + \\cdots + \\beta_5\\left(\\text{51+}\\right)_i + \\beta_6\\text{male}_i + \\beta_7\\text{hispanic}_i + \\cdots + \\beta_{13}\\text{other}_i + \\epsilon_i$$\n",
    "\n",
    "In this model, *all* of the explanatory variables are categorical and encoded using indicators; in this case, the linear model coefficients capture means for each group. \n",
    "\n",
    "Because this model is a little different than the examples you've seen so far in two respects -- the response variable is log-transformed and all explanatory variables are categorical -- some comments are provided below on these features. You can review or skip the comments, depending on your level of interest in understanding the model better mathematically.\n",
    "\n",
    "#### Commments about parameter interpretation\n",
    "In particular, each coefficient represents a difference in means from the 'baseline' group. All indicators are zero for a white male recipient between ages 0 and 5, so this is the baseline group and:\n",
    "\n",
    "$$\\mathbb{E}\\left(\\log(\\text{expend})\\;|\\; \\text{male, white, 0-5}\\right) = \\beta_1$$\n",
    "\n",
    "Then, the expected log expenditure for a hispanic male recipient between ages 0 and 5 is:\n",
    "\n",
    "$$\\mathbb{E}\\left(\\log(\\text{expend})\\;|\\; \\text{male, hispanic, 0-5}\\right) = \\beta_0 + \\beta_7$$\n",
    "\n",
    "So $\\beta_7$ is *the difference in mean log expenditure between hispanic and white recipients after accounting for gender and age*. The other parameters have similar interpretations.\n",
    "\n",
    "While the calculation shown above may seem a little foreign, you should know that the parameters represent marginal differences in means between genders (holding age and ethnicity fixed), between ages (holding gender and ethnicity fixed), and between ethnicities (holding age and gender fixed).\n",
    "\n",
    "#### Comments about the log transformation\n",
    "The response in this model is the *log* of expenditures (this gives a better model for a variety of reasons). The statistical assumption then becomes that:\n",
    "\n",
    "$$\\log(\\text{expend})_i \\sim N\\left(\\mathbf{x}_i'\\beta, \\sigma^2\\right)$$\n",
    "\n",
    "If the log of a random variable $Y$ is normal, then $Y$ is known as a *lognormal* random variable; it can be shown mathematically that the exponentiated mean of $\\log Y$ is the median of $Y$. As a consequence, according to our model:\n",
    "\n",
    "$$\\text{median}(\\text{expend}_i) = \\exp\\left\\{\\mathbf{x}_i'\\beta\\right\\}$$\n",
    "\n",
    "You'll work on the log scale throughout to avoid complicating matters, but know that this model for the log of expenditures is *equivalently* a model of the median expenditures.\n",
    "\n",
    "#### Reordering categories\n",
    "\n",
    "The cell below reorders the category levels to match the model written above. To ensure the parameters appear in the proper order, this reordering is done for you."
   ]
  },
  {
   "cell_type": "code",
   "execution_count": null,
   "metadata": {},
   "outputs": [],
   "source": [
    "# remove ID and quantitative age\n",
    "reg_data = dds_cat.copy().drop(columns = ['Id', 'Age'])\n",
    "\n",
    "# reorder ethnicity\n",
    "reg_data['Ethnicity'] = reg_data.Ethnicity.cat.as_ordered().cat.reorder_categories(\n",
    "    reg_data.Ethnicity.cat.categories[[7, 3, 2, 1, 5, 0, 4, 6]]\n",
    ")\n",
    "\n",
    "# reorder gender\n",
    "reg_data['Gender'] = reg_data.Gender.cat.as_ordered().cat.reorder_categories(['Male', 'Female'])"
   ]
  },
  {
   "cell_type": "markdown",
   "metadata": {},
   "source": [
    "### Question 2 (a). Data preprocessing\n",
    "\n",
    "Here you'll extract the quantities -- explanatory variable matrix and response vector -- needed to fit the linear model."
   ]
  },
  {
   "cell_type": "markdown",
   "metadata": {},
   "source": [
    "#### (i) Categorical variable encoding.\n",
    "\n",
    "Use `pd.get_dummies(...)` to encode the variables in `reg_data` as indicators. Be sure to set `drop_first = True`. Store the encoded categorical variables as `x_df` and print the first three rows and six columns. (There should be 13 columns in total.)\n",
    "\n",
    "(*Hint*: `reg_data` can be passed directly to `get_dummies(...)`, and quantitative variables will be unaffected; a quick way to find `x_df` is to pass `reg_data` to this function and then drop the quantitative variables.)"
   ]
  },
  {
   "cell_type": "code",
   "execution_count": null,
   "metadata": {},
   "outputs": [],
   "source": [
    "# solution\n"
   ]
  },
  {
   "cell_type": "markdown",
   "metadata": {},
   "source": [
    "#### (ii) Add intercept.\n",
    "\n",
    "Add an intercept column -- a column of ones -- to `x_df` using `add_dummy_feature(...)`. Store the result (an array) as `x_mx` and print the first three rows and six columns."
   ]
  },
  {
   "cell_type": "code",
   "execution_count": null,
   "metadata": {},
   "outputs": [],
   "source": [
    "# solution\n"
   ]
  },
  {
   "cell_type": "markdown",
   "metadata": {},
   "source": [
    "#### (iii) Response variable.\n",
    "\n",
    "Log-transform the expenditures column of `reg_data` and store the result in array format as `y`. Print the first ten entries of `y`."
   ]
  },
  {
   "cell_type": "code",
   "execution_count": null,
   "metadata": {},
   "outputs": [],
   "source": [
    "# solution\n"
   ]
  },
  {
   "cell_type": "markdown",
   "metadata": {},
   "source": [
    "### Question 2 (b). Model fitting\n",
    "\n",
    "In this part you'll fit the linear model and summarize the results. You may find it helpful to have lab 6 open as an example to follow througout."
   ]
  },
  {
   "cell_type": "markdown",
   "metadata": {},
   "source": [
    "#### (i) Compute the estimates.\n",
    "\n",
    "Configure a linear regression module and store the result as `mlr`; fit the model to `x_mx` and `y`. Be sure **not** to fit an intercept separately, since there's already an intercept column in `x_mx`.\n",
    "\n",
    "(You do not need to show any output for this part.)"
   ]
  },
  {
   "cell_type": "code",
   "execution_count": null,
   "metadata": {},
   "outputs": [],
   "source": [
    "# solution\n"
   ]
  },
  {
   "cell_type": "markdown",
   "metadata": {},
   "source": [
    "#### (ii) Parameter estimate table.\n",
    "\n",
    "Construct a table of the estimates and standard errors for each coefficient, and the estimate for the error variance parameter. The table should have two columns, 'estimate' and 'standard error', and rows should be indexed by parameter name. Follow the steps below.\n",
    "\n",
    "1. Store the dimensions of `x_mx` as `n` and `p`.\n",
    "2. Compute $\\left(\\mathbf{X'X}\\right)$; store the result as `xtx`.\n",
    "3. Compute $\\left(\\mathbf{X'X}\\right)^{-1}$; store the result as `xtx_inv`.\n",
    "4. Compute the residuals (as an array); store the result as `resid`.\n",
    "    + (You can compute the fitted values as a separate step, or not, depending on your preference.)\n",
    "5. Compute the error variance estimate, $\\text{var}(\\text{resids})\\times\\frac{n - 1}{n - p}$; store the result as `sigmasqhat`.\n",
    "6. Compute the variance-covariance matrix of the coefficient estimates $\\hat{\\mathbf{V}} = \\hat{\\sigma}^2\\left(\\mathbf{X'X}\\right)^{-1}$; store the result as `v_hat`.\n",
    "7. Compute the coefficient standard errors, $\\sqrt{\\hat{v}_{ii}}$; store the result (an array) as `coef_se`.\n",
    "    + Append an `NaN` (`float('nan')`) to the array (for the error variance estimate).\n",
    "8. Create an array of coefficient labels by appending 'intercept' to the column names of `x_df`, followed by 'error_variance'; store the result as `coef_labels`.\n",
    "9. Create an array of estimates by appending the fitted coefficients with `sigmasqhat`; store the result as `coef_estimates`.\n",
    "10. Create a dataframe with `coef_estimates` as one column, `coef_se` as another column, and indexed by `coef_labels`. Store the result as `coef_table`.\n",
    "\n",
    "Print `coef_table`."
   ]
  },
  {
   "cell_type": "code",
   "execution_count": null,
   "metadata": {},
   "outputs": [],
   "source": [
    "# store dimensions\n",
    "\n",
    "# compute x'x\n",
    "\n",
    "# compute x'x inverse\n",
    "\n",
    "# compute residuals\n",
    "\n",
    "# compute error variance estimate\n",
    "\n",
    "# compute variance-covariance matrix\n",
    "\n",
    "# compute standard errors\n",
    "\n",
    "# coefficient labels\n",
    "\n",
    "# estimates\n",
    "\n",
    "# summary table\n",
    "\n",
    "# print\n"
   ]
  },
  {
   "cell_type": "markdown",
   "metadata": {},
   "source": [
    "Now look at both the estimates and standard errors for each level of each categorical variable; if some estimates are large for at least one level and the standard errors aren't too big, then estimated mean log expenditures differ according to the value of that variable when the other variables are held constant.\n",
    "\n",
    "For example: the estimate for `Gender_Female` is 0.04; that means that, if age and ethnicity are held fixed, the estimated difference in mean log expenditure between female and male recipients is 0.04. If $\\log(a) - \\log(b) = 0.04$, then $\\frac{a}{b} = e^{0.04} \\approx 1.041$; so the estimated expenditures (not on the log scale) differ by a factor of about 1. Further, the standard error is 0.02, so the estimate is within 2SE of 0; the difference could well be zero. So the model suggests there is no difference in expenditure by gender."
   ]
  },
  {
   "cell_type": "markdown",
   "metadata": {},
   "source": [
    "#### (iii) Do the parameter estimates suggest differences in expenditure by age or ethnicity?\n",
    "\n",
    "First consider the estimates and standard errors for each level of age, and state whether any differences in mean log expenditure between levels appear significant; if so, cite one example. Then do the same for the levels of ethnicity. Answer in 2-4 sentences.\n",
    "\n",
    "(*Hint*: it may be helpful scratch work to exponentiate the coefficient estimates and consider whether they differ by much from 1.)"
   ]
  },
  {
   "cell_type": "code",
   "execution_count": null,
   "metadata": {},
   "outputs": [],
   "source": [
    "# exponentiate age (not required)\n"
   ]
  },
  {
   "cell_type": "code",
   "execution_count": null,
   "metadata": {},
   "outputs": [],
   "source": [
    "# exponentiate ethnicity (not requried)\n"
   ]
  },
  {
   "cell_type": "markdown",
   "metadata": {},
   "source": [
    "#### Answer\n",
    "\n",
    "*Type your answer here*."
   ]
  },
  {
   "cell_type": "markdown",
   "metadata": {},
   "source": [
    "Now as a final step in the analysis, you'll visualize your results. The idea is simple: plot the estimated mean log expenditures for each group. Essentially you'll make a version of your figure 4 from part 1 in which the points are estimated rather than observed. So the model visualization graphic will look similar to this:"
   ]
  },
  {
   "cell_type": "code",
   "execution_count": null,
   "metadata": {},
   "outputs": [],
   "source": [
    "fig_4"
   ]
  },
  {
   "cell_type": "markdown",
   "metadata": {},
   "source": [
    "In order to construct a 'model version' of this plot, however, you'll need to generate estimated mean log expenditures for each unique combination of categorical variable levels. The cell below generates a 'grid' of every such combination."
   ]
  },
  {
   "cell_type": "code",
   "execution_count": null,
   "metadata": {},
   "outputs": [],
   "source": [
    "# store unique levels of each categorical variable\n",
    "genders = reg_data.Gender.unique()\n",
    "ethnicities = reg_data.Ethnicity.unique()\n",
    "ages = reg_data['Age Cohort'].unique()\n",
    "\n",
    "# generate grid of each unique combination of variable levels \n",
    "gx, ex, ax = np.meshgrid(genders, ethnicities, ages)\n",
    "ngrid = len(genders)*len(ethnicities)*len(ages)\n",
    "grid_mx = np.vstack([ax.reshape(ngrid), gx.reshape(ngrid), ex.reshape(ngrid)]).transpose()\n",
    "grid_df = pd.DataFrame(grid_mx, columns = ['age', 'gender', 'ethnicity']).astype(\n",
    "    {'gender': 'category', 'ethnicity': 'category', 'age': 'category'}\n",
    ")\n",
    "\n",
    "# reorder category levels so consistent with input data\n",
    "grid_df['ethnicity'] = grid_df.ethnicity.cat.as_ordered().cat.reorder_categories(\n",
    "    grid_df.ethnicity.cat.categories[[7, 3, 2, 1, 5, 0, 4, 6]]\n",
    ")\n",
    "grid_df['gender'] = grid_df.gender.cat.as_ordered().cat.reorder_categories(['Male', 'Female'])\n",
    "grid_df['age'] = grid_df.age.cat.as_ordered().cat.reorder_categories(\n",
    "    grid_df.age.cat.categories[[0, 5, 1, 2, 3, 4]]\n",
    ")\n",
    "grid_df['cohort_order'] = grid_df.age.cat.codes\n",
    "\n",
    "# preview\n",
    "grid_df.head()"
   ]
  },
  {
   "cell_type": "markdown",
   "metadata": {},
   "source": [
    "### Question 2 (c). Model visualization\n",
    "\n",
    "Your task in this question will be to add fitted values and standard errors to the grid above and then plot it."
   ]
  },
  {
   "cell_type": "markdown",
   "metadata": {},
   "source": [
    "#### (i) Create an explanatory variable matrix from the grid.\n",
    "\n",
    "Pretend for a moment that you're going to treat `grid_df` as if it were the data. Create a new `x_mx` based on `grid_df`:\n",
    "\n",
    "1. Use `pd.get_dummies(...)` to obtain the indicator variable encoding of `grid_df`; store the result as `pred_df`.\n",
    "2. Add an intercept column to `pred_df` using `add_dummy_feature(...)`; store the result (an array) as `pred_mx`.\n",
    "\n",
    "Print the first three rows and six columns of `pred_mx`."
   ]
  },
  {
   "cell_type": "code",
   "execution_count": null,
   "metadata": {},
   "outputs": [],
   "source": [
    "# variable encodings\n",
    "\n",
    "# add intercept\n",
    "\n",
    "# preview\n"
   ]
  },
  {
   "cell_type": "markdown",
   "metadata": {},
   "source": [
    "#### (ii) Compute fitted values and standard errors on the grid.\n",
    "\n",
    "Now add a new column to `grid_df` called `expenditure` that contains the estimated log expenditure (*hint*: use `mlr_predict(...)` with your result from (i) immediately above)."
   ]
  },
  {
   "cell_type": "code",
   "execution_count": null,
   "metadata": {},
   "outputs": [],
   "source": [
    "# solution\n"
   ]
  },
  {
   "cell_type": "markdown",
   "metadata": {},
   "source": [
    "The cell below adds the standard errors for estimated log expenditure."
   ]
  },
  {
   "cell_type": "code",
   "execution_count": null,
   "metadata": {},
   "outputs": [],
   "source": [
    "# add standard errors\n",
    "grid_df['expenditure_se'] = np.sqrt(pred_mx.dot(xtxinv).dot(pred_mx.transpose()).diagonal() * sigmasqhat)"
   ]
  },
  {
   "cell_type": "markdown",
   "metadata": {},
   "source": [
    "#### (iii) Plot the estimated means and standard errors.\n",
    "\n",
    "Construct a model visualization matching figure 4 in the following steps.\n",
    "\n",
    "1. Construct a point-and-line plot called `lines` based on `grid_df` with:\n",
    "    + ethnicity on the x axis;\n",
    "    + no x axis title;\n",
    "    + log expenditure on the y axis;\n",
    "    + the y axis title 'Estimated mean log expenditure';\n",
    "    + age cohort mapped to the color encoding channel as an *ordinal* variable and shown in ascending cohort order (refer back to your codes for figure 4).\n",
    "\n",
    "2. Construct an error band plot called `bands` based on `grid_df` with:\n",
    "    + a `.transform_calculate(...)` step computing lower and upper band boundaries\n",
    "       - $\\texttt{lwr} = \\texttt{expenditure} - 2\\times\\texttt{expenditure_se}$ and\n",
    "       - $\\texttt{upr} = \\texttt{expenditure} + 2\\times\\texttt{expenditure_se}$;\n",
    "    + ethnicity on the x axis;\n",
    "    + no x axis title;\n",
    "    + `lwr` and `upr` passed to the `y` and `y2` encoding channels;\n",
    "    + the `y` channel titled 'Estimated mean log expenditure';\n",
    "    + age cohort mapped to the color channel exactly as in `lines`.\n",
    "\n",
    "3. Layer `lines` and `bands` and facet the layered chart into columns according to gender. Store the result as `fig_5`.\n",
    "\n",
    "Display `fig_5`."
   ]
  },
  {
   "cell_type": "code",
   "execution_count": null,
   "metadata": {},
   "outputs": [],
   "source": [
    "# point and line plot\n",
    "\n",
    "# error bands\n",
    "\n",
    "# layer and facet\n",
    "\n",
    "# display\n"
   ]
  },
  {
   "cell_type": "markdown",
   "metadata": {},
   "source": [
    "#### (iv) Sanity check.\n",
    "\n",
    "Does the model visualization seem to accurately reflect the pattern in your exploratory plots? Answer in 1 sentence."
   ]
  },
  {
   "cell_type": "markdown",
   "metadata": {},
   "source": [
    "#### Answer\n",
    "\n",
    "*Type your answer here*."
   ]
  },
  {
   "cell_type": "markdown",
   "metadata": {},
   "source": [
    "#### (v) Which estimates have greater uncertainty and why?\n",
    "\n",
    "Identify the ethnic groups for which the uncertainty band is relatively wide in the plot. Why might uncertainty be higher for these groups? Answer in 2 sentences.\n",
    "\n",
    "(*Hint*: it may help to refer to figure 3.)"
   ]
  },
  {
   "cell_type": "markdown",
   "metadata": {},
   "source": [
    "#### Answer\n",
    "\n",
    "*Type your answer here*."
   ]
  },
  {
   "cell_type": "markdown",
   "metadata": {},
   "source": [
    "---\n",
    "## 3. Communicating results\n",
    "\n",
    "Review your exploratory and regression analyses above, and then answer the following questions."
   ]
  },
  {
   "cell_type": "markdown",
   "metadata": {},
   "source": [
    "### Question 3 (a). Summary\n",
    "\n",
    "Write a one-paragraph summary of your analysis. Focus on answering the question, 'do the data provide evidence of ethnic or gender discrimination in allocation of DDS funds?'\n",
    "\n",
    "Your summary should include the following:\n",
    "* a one-sentence description of the data indicating observations, variables, and whether they are a random sample;\n",
    "* one to two sentences describing any important exploratory findings;\n",
    "* a one-sentence description of the method you used to analyze the data (don't worry about capturing every detail);\n",
    "* one sentence desribing findings of the analysis;\n",
    "* an answer to the question."
   ]
  },
  {
   "cell_type": "markdown",
   "metadata": {},
   "source": [
    "#### Answer\n",
    "\n",
    "*Type your answer here.*"
   ]
  },
  {
   "cell_type": "markdown",
   "metadata": {},
   "source": [
    "### Question 3 (b). Supporting information\n",
    "\n",
    "Choose one table or figure from part 1 and one table and figure from part 2 that support your summary of results. Write a caption for each of your choices."
   ]
  },
  {
   "cell_type": "markdown",
   "metadata": {},
   "source": [
    "#### (i) First figure/table.\n",
    "\n",
    "*Write your caption here.*"
   ]
  },
  {
   "cell_type": "code",
   "execution_count": null,
   "metadata": {},
   "outputs": [],
   "source": [
    "# show figure/table\n"
   ]
  },
  {
   "cell_type": "markdown",
   "metadata": {},
   "source": [
    "#### (ii) Second figure/table.\n",
    "\n",
    "*Write your caption here.*"
   ]
  },
  {
   "cell_type": "code",
   "execution_count": null,
   "metadata": {},
   "outputs": [],
   "source": [
    "# show figure/table\n"
   ]
  },
  {
   "cell_type": "markdown",
   "metadata": {
    "tags": []
   },
   "source": [
    "---\n",
    "## Submission Checklist\n",
    "1. Save file to confirm all changes are on disk\n",
    "2. Run *Kernel > Restart & Run All* to execute all code from top to bottom\n",
    "3. Save file again to write any new output to disk\n",
    "4. Select *File > Download as > HTML*.\n",
    "5. Open in Google Chrome and print to PDF on A3 paper in portrait orientation.\n",
    "6. Submit to Gradescope"
   ]
  }
 ],
 "metadata": {
  "kernelspec": {
   "display_name": "Python 3",
   "language": "python",
   "name": "python3"
  },
  "language_info": {
   "codemirror_mode": {
    "name": "ipython",
    "version": 3
   },
   "file_extension": ".py",
   "mimetype": "text/x-python",
   "name": "python",
   "nbconvert_exporter": "python",
   "pygments_lexer": "ipython3",
   "version": "3.8.5"
  }
 },
 "nbformat": 4,
 "nbformat_minor": 4
}
