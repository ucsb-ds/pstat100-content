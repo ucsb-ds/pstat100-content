{
 "cells": [
  {
   "cell_type": "markdown",
   "metadata": {},
   "source": [
    "# PSTAT 100 Homework 1"
   ]
  },
  {
   "cell_type": "code",
   "execution_count": null,
   "metadata": {},
   "outputs": [],
   "source": [
    "import numpy as np\n",
    "import pandas as pd\n",
    "import altair as alt"
   ]
  },
  {
   "cell_type": "markdown",
   "metadata": {},
   "source": [
    "## Background \n",
    "\n",
    "The [Behavioral Risk Factor Surveillance System](https://www.cdc.gov/brfss/index.html) (BRFSS) is a long-term effort administered by the CDC to collect data on behaviors affecting physical and mental health, past and present health conditions, and access to healthcare among U.S. residents. The BRFSS comprises telephone surveys of U.S. residents conducted annually since 1984; in the last decade, over half a million interviews have been conducted each year. This is the largest such data collection effort in the world, and many countries have developed similar programs. The objective of the program is to support monitoring and analysis of factors influencing public health in the United States.\n",
    "\n",
    "Each year, a standard survey questionnaire is developed that includes a core component comprising questions about: demographic and household information; health-related perceptions, conditions, and behaviors; substance use; and diet. Trained interviewers in each state call randomly selected telephone (landline and cell) numbers and administer the questionnaire; the phone numbers are chosen so as to obtain a representative sample of all households with telephone numbers.\n",
    "\n",
    "The raw BRFSS survey data is submitted to the CDC for processing and compilation into a single dataset. In the process, a number of 'derived variables' are calculated based on questionnaire responses and appended to the dataset -- a simple example is weight in kg, derived from respondents' weights reported in pounds. \n",
    "\n",
    "Take a moment to [read about the 2019 survey here](https://www.cdc.gov/brfss/annual_data/annual_2019.html) (follow the link!) and familiarize yourself with the information that is publicly available. This includes data and documentation pertaining to sampling methodology, questionnaires, variable coding, derived variables, and response rates."
   ]
  },
  {
   "cell_type": "markdown",
   "metadata": {},
   "source": [
    "## Assignment objectives\n",
    "\n",
    "In this assignment you'll import and subsample the BRFSS 2019 data and perform a simple descriptive analysis exploring association between adverse childhood experiences, health perceptions, tobacco use, and depressive disorders. This is an opportunity to practice critical thinking about data collection, computational skills, and communicating results clearly and correctly.\n",
    "\n",
    "**Critical thinking about data collection.** You'll examine the BRFSS data documentation and practice:\n",
    "* identifying sampled units, variables measured, and the sampling frame;\n",
    "* assessing study design, data integrity, and scope of inference.\n",
    "\n",
    "**Computation.** You'll put into practice your data manipulation skills to tidy up the dataset:\n",
    "* data import;\n",
    "* slicing (selecting rows and columns);\n",
    "* index manipulation (renaming and rearranging);\n",
    "* value substitution for coded categorical variables (*e.g.*, 1 - 5 -> excellent - poor);\n",
    "* grouping and aggregation; and\n",
    "* visualization.\n",
    "\n",
    "**Communication.** Finally, you'll practice:\n",
    "* clear and concise description of data summaries and plots;\n",
    "* proper interpretation of estimates;\n",
    "* avoiding causual language when discussing observational data."
   ]
  },
  {
   "cell_type": "markdown",
   "metadata": {},
   "source": [
    "---\n",
    "\n",
    "# 0. Data import and assessment\n",
    "\n",
    "In this part you'll import the 2019 BRFSS data from a compressed CSV file and perform some basic qualitative assessments:\n",
    "\n",
    "* examine the imported data;\n",
    "* check your understanding of the data format;\n",
    "* and investigate the data collection procedure. \n",
    "\n",
    "Think of these tasks as comprising the '**collect**' and '**acquaint**' steps of our PSTAT 100 lifecycle: gathering data and getting to know it.\n",
    "\n",
    "**Performing these basic checks and gaining background on how the data were generated are essential steps in any analysis**. You should make them standard practice in your work. Investigating the data collection procedure is especially important -- it is professionally irresponsible to analyze data without knowing where they came from, and collection protocols (known as a *sampling design*) can have strong implications for whether findings can be replicated and whether they might be biased.\n",
    "\n",
    "The cell below imports the full 2019 dataset as a pandas DataFrame. The file is big, so this may take a few minutes. Run the cell, take a break to stretch, and then have a quick look at the first few rows and columns."
   ]
  },
  {
   "cell_type": "code",
   "execution_count": null,
   "metadata": {},
   "outputs": [],
   "source": [
    "# import full 2019 BRFSS dataset\n",
    "brfss = pd.read_csv('brfss2019.zip', compression = 'zip')\n",
    "\n",
    "# print first few rows\n",
    "brfss.head()"
   ]
  },
  {
   "cell_type": "markdown",
   "metadata": {},
   "source": [
    "### Q0 (a). Dimensions\n",
    "\n",
    "Check the dimensions of the dataset."
   ]
  },
  {
   "cell_type": "code",
   "execution_count": null,
   "metadata": {},
   "outputs": [],
   "source": [
    "# solution\n",
    "..."
   ]
  },
  {
   "cell_type": "markdown",
   "metadata": {},
   "source": [
    "### Q0 (b). Row and column information\n",
    "\n",
    "Now that you've imported the data, you should verify that the dimensions conform to the format you expect based on data documentation and ensure you understand what each row and each column represents. This is an essential step in any analysis -- one can't conduct a useful analysis without properly understanding the entries in a dataset.\n",
    "\n",
    "Check the number of records (interviews conducted) reported and variables measured for 2019 by reviewing the [surveillance summaries by year](https://www.cdc.gov/brfss/annual_data/all_years/states_data.htm) (follow the link!), and then answer the following questions.\n",
    "\n",
    "* Does the number of rows match the number of reported records? \n",
    "* Does the number of columns match the number of reported variables measured? \n",
    "* What does each row in the `brfss` dataframe represent?\n",
    "* What does each column in the `brfss` dataframe represent?"
   ]
  },
  {
   "cell_type": "markdown",
   "metadata": {},
   "source": [
    "**Answer**\n",
    "\n",
    "*Type your answer here.*\n",
    "\n"
   ]
  },
  {
   "cell_type": "markdown",
   "metadata": {},
   "source": [
    "### Q0 (c). Sampling design and data collection\n",
    "\n",
    "**It is essential to devote effort to understanding how data were obtained before taking any further steps, no matter how basic those steps might be.** Without adequate background, it is easy to miss potential complications affecting how an analyst should engage with a project. To name a few examples: \n",
    "\n",
    "* convenience or haphazard sampling (*e.g.*, surveying my neighbors) could entail that patterns in the data are non-generalizable, as they may be difficult or impossible to replicate if the data are collected anew;\n",
    "* there may be sources of bias inherent in measurements (*e.g.*, failing to properly calibrate lab equipment) that could produce misleading results;\n",
    "* ethical issues (*e.g.*, data from animal experiments, conflicts of interest, sensitive user information, etc.) may require withdrawal from a project for personal reasons or demand extra caution to protect subject privacy.\n",
    "\n",
    "These matters are never evident from data itself, and require critical qualitative assessment of data collection procedures.\n",
    "\n",
    "Skim the [overview documentation](https://www.cdc.gov/brfss/annual_data/2019/pdf/overview-2019-508.pdf) for the 2019 BRFSS data. Focus specifically the 'Background' and 'Data Collection' sections, and read between the technical information (don't worry if you don't understand everything in the documentation -- you're not expected to!), and answer the following questions."
   ]
  },
  {
   "cell_type": "markdown",
   "metadata": {},
   "source": [
    "#### i. Who does an interviewer speak to in each household?\n",
    "\n",
    "*Type your answer here.*"
   ]
  },
  {
   "cell_type": "markdown",
   "metadata": {},
   "source": [
    "#### ii. What criteria must a person meet to be interviewed?\n",
    "\n",
    "*Type your answer here.*"
   ]
  },
  {
   "cell_type": "markdown",
   "metadata": {},
   "source": [
    "#### iii. Who *can't* possibly appear in the survey? Give two examples.\n",
    "\n",
    "*Type your answer here.*"
   ]
  },
  {
   "cell_type": "markdown",
   "metadata": {},
   "source": [
    "#### iv. Who conducts the interviews and how long does the core portion of a typical interview last?\n",
    "\n",
    "*Type your answer here.*"
   ]
  },
  {
   "cell_type": "markdown",
   "metadata": {},
   "source": [
    "#### v. How would you describe the study population (*i.e.*, all individuals who could possibly be sampled)?\n",
    "\n",
    "*Type your answer here.*"
   ]
  },
  {
   "cell_type": "markdown",
   "metadata": {},
   "source": [
    "#### vi. Does the data contain any identifying information on respondents?\n",
    "\n",
    "*Type your answer here.*"
   ]
  },
  {
   "cell_type": "markdown",
   "metadata": {},
   "source": [
    "Now that you have a good understanding of how the data are formatted and how they were collected, you can start engaging with the dataset in an informed way. \n",
    "\n",
    "For this assignment, you'll work with just a few of the 300+ variables: sex, age, general health self-assessment, smoking status, depressive disorder, and adverse childhood experiences (ACEs). The names of these variables as they appear in the raw dataset are stored in the cell immediately below."
   ]
  },
  {
   "cell_type": "code",
   "execution_count": null,
   "metadata": {},
   "outputs": [],
   "source": [
    "# store variable names of interest\n",
    "selected_vars = ['_SEX', '_AGEG5YR', \n",
    "                 'GENHLTH', 'ACEPRISN', \n",
    "                 'ACEDRUGS', 'ACEDRINK', \n",
    "                 'ACEDEPRS', 'ADDEPEV3', \n",
    "                 '_SMOKER3']"
   ]
  },
  {
   "cell_type": "markdown",
   "metadata": {},
   "source": [
    "### Q0 (d) -- variable descriptions\n",
    "\n",
    "With a narrowed set of variables to focus on, a final step in gathering background understanding is to determine clearly the meaning of each variable and how its measurements are recorded in the dataset (*e.g.*, text, numeric/continuous, numeric/categorical, logical, etc.). **This is yet another essential step in any analysis**. It is often useful, and therefore good practice, to include a brief description of each variable at the outset of any reported analyses, both for your own clarity and for that of any potential readers.\n",
    "\n",
    "Open the [2019 BRFSS codebook](https://www.cdc.gov/brfss/annual_data/2019/pdf/codebook19_llcp-v2-508.HTML) in your browser and use text searching to locate each of the variable names of interest. Read the codebook entries and fill in the second column in the table below with a one-sentence description of each variable identified in `selected_vars`. "
   ]
  },
  {
   "cell_type": "markdown",
   "metadata": {},
   "source": [
    "Variable name | Description \n",
    "--------------|--------------\n",
    "`GENHLTH` |\n",
    "`_SEX` |\n",
    "`_AGEG5YR` |\n",
    "`ACEPRISN` |\n",
    "`ACEDRUGS` |\n",
    "`ACEDRINK` |\n",
    "`ACEDEPRS` |\n",
    "`ADDEPEV3` |\n",
    "`_SMOKER3` |"
   ]
  },
  {
   "cell_type": "markdown",
   "metadata": {},
   "source": [
    "---\n",
    "\n",
    "# Subsampling\n",
    "\n",
    "To simplify life a little, we'll draw a large random sample of the rows and work with that in place of the full dataset. This is known as **subsampling**. The cell below draws a random subsample of 10k records. Because the subsample is randomly drawn, we should not expect it to vary in any systematic way from the overall dataset, and distinct subsamples should have similar properties -- therefore, results downstream should be similar to an analysis of the full dataset, and should also be possible to *replicate* using distinct subsamples.\n",
    "\n",
    "Notice that the random number generator seed is set before carrying out this task -- this ensures that every time the cell is run, the same subsample is drawn. As a result, the computations in this notebook are _reproducible_: when I run the notebook on my computer, I get the same results as you get when you run the notebook on your computer."
   ]
  },
  {
   "cell_type": "code",
   "execution_count": null,
   "metadata": {},
   "outputs": [],
   "source": [
    "# for reproducibility\n",
    "np.random.seed(32221) \n",
    "\n",
    "# randomly sample 10k records\n",
    "brfss['weight'] = 1/brfss._LLCPWT\n",
    "samp = brfss.sample(n = 10000, \n",
    "                    replace = False, \n",
    "                    weights = 'weight')"
   ]
  },
  {
   "cell_type": "markdown",
   "metadata": {},
   "source": [
    "**Aside.** Notice also that _sampling weights_ provided with the dataset are used to draw a weighted sample. Some respondents are more likely to be selected than others from the general population of U.S. adults with phone numbers, so the BRFSS calculates derived weights that represent the probability that the respondent is included in the survey. This is a somewhat sophisticated calculation, however if you're interested, you can read about how these weights are calculated and why in the overview documentation you used to answer the questions above. We use them in drawing the subsample so that we get a representative sample of U.S. adults with phone numbers."
   ]
  },
  {
   "cell_type": "markdown",
   "metadata": {},
   "source": [
    "---\n",
    "\n",
    "# 1. Data tidying -- slicing, recoding, renaming\n",
    "\n",
    "Here you'll **tidy** up the subsample, performing the following steps:\n",
    "\n",
    "* selecting columns of interest;\n",
    "* replacing coded values of question responses with responses;\n",
    "* defining new variables based on existing ones;\n",
    "* renaming columns.\n",
    "\n",
    "The objective of this section is to produce a clean version of the dataset that is well-organized, intuitive to navigate, and ready for analysis."
   ]
  },
  {
   "cell_type": "markdown",
   "metadata": {},
   "source": [
    "### Q1 (a). Column selection\n",
    "\n",
    "Use `selected_vars` and slice `samp` to obtain the variables of interest and exclude the others using the `.loc` method. (See lab 1.) "
   ]
  },
  {
   "cell_type": "code",
   "execution_count": null,
   "metadata": {},
   "outputs": [],
   "source": [
    "# slice columns of interest\n",
    "samp_mod1 = ...\n",
    "\n",
    "# check result with .head()\n",
    "..."
   ]
  },
  {
   "cell_type": "markdown",
   "metadata": {},
   "source": [
    "Notice the missing values. How many entries are missing in each column? The cell below computes the proportion of missing values for each of the selected variables."
   ]
  },
  {
   "cell_type": "code",
   "execution_count": null,
   "metadata": {},
   "outputs": [],
   "source": [
    "# proportions of missingness -- uncomment after resolving q1a\n",
    "# samp_mod1.isna().mean()"
   ]
  },
  {
   "cell_type": "markdown",
   "metadata": {},
   "source": [
    "## Recoding categorical variables\n",
    "\n",
    "Now notice that the variable entries are coded numerically to represent certain responses. These should be replaced by more informative entries. We can use the codebook to determine which number means what, and replace the values accordingly.\n",
    "\n",
    "The cell below replaces the numeric values for `_AGEG5YR` by their meanings, illustrating how to use `.replace()` with a dictionary to convert the numeric coding to interpretable values. The basic strategy is:\n",
    "\n",
    "1. Store the variable coding for `VAR` as a dictionary `var_codes`.\n",
    "2. Use `.replace({'VAR': var_codes})` to modify values.\n",
    "\n",
    "If you need additional examples, check the [pandas documentation](https://pandas.pydata.org/docs/reference/api/pandas.DataFrame.replace.html) for `.replace()`."
   ]
  },
  {
   "cell_type": "code",
   "execution_count": null,
   "metadata": {},
   "outputs": [],
   "source": [
    "# dictionary representing variable coding\n",
    "age_codes = {\n",
    "    1: '18-24', 2: '25-29', 3: '30-34',\n",
    "    4: '35-39', 5: '40-44', 6: '45-49',\n",
    "    7: '50-54', 8: '55-59', 9: '60-64',\n",
    "    10: '65-69', 11: '70-74', 12: '75-79',\n",
    "    13: '80+', 14: 'Unsure/refused/missing'\n",
    "}\n",
    "\n",
    "# recode age categories\n",
    "samp_mod2 = samp_mod1.replace({'_AGEG5YR': age_codes})\n",
    "\n",
    "# check result\n",
    "samp_mod2.head()"
   ]
  },
  {
   "cell_type": "markdown",
   "metadata": {},
   "source": [
    "### Q1 (b). Recoding variables\n",
    "\n",
    "Following the example immediately above and referring to the [2019 BRFSS codebook](https://www.cdc.gov/brfss/annual_data/2019/pdf/codebook19_llcp-v2-508.HTML), replace the numeric codings with response categories for each of the following variables:\n",
    "\n",
    "* `_SEX`\n",
    "* `GENHLTH`\n",
    "* `_SMOKER3`\n",
    "\n",
    "Notice that above, the first modification (slicing) was stored as `samp_mod1`, and was a function of `samp`; the second modification (recoding age) was stored as `samp_mod2` and was a function of `samp_mod1`. You'll follow this pattern so that each step of your data manipulations is stored separately, for easy troubleshooting."
   ]
  },
  {
   "cell_type": "markdown",
   "metadata": {},
   "source": [
    "#### i. Recode `_SEX`\n",
    "\n",
    "Define a new dataframe `samp_mod3` that is the same as `samp_mod2` but with the `_SEX` variable recoded as `M` and `F`. Print the first few rows of the result using `.head()`."
   ]
  },
  {
   "cell_type": "code",
   "execution_count": null,
   "metadata": {},
   "outputs": [],
   "source": [
    "# define dictionary\n",
    "sex_codes = ...\n",
    "\n",
    "# recode\n",
    "samp_mod3 = ...\n",
    "\n",
    "# check using head()\n",
    "..."
   ]
  },
  {
   "cell_type": "markdown",
   "metadata": {},
   "source": [
    "#### ii. Recode `GENHLTH`\n",
    "\n",
    "Define a new dataframe `samp_mod4` that is the same as `samp_mod3` but with the `GENHLTH` variable recoded as `Excellent`, `Very good`, `Good`, `Fair`, `Poor`, `Unsure`, and `Refused`. Print the first few rows of the result using `.head()`."
   ]
  },
  {
   "cell_type": "code",
   "execution_count": null,
   "metadata": {},
   "outputs": [],
   "source": [
    "# define dictionary\n",
    "health_codes = ...\n",
    "\n",
    "# recode\n",
    "samp_mod4 = ...\n",
    "\n",
    "# check using head()\n",
    "..."
   ]
  },
  {
   "cell_type": "markdown",
   "metadata": {},
   "source": [
    "#### iii. Recode `_SMOKER3`\n",
    "\n",
    "Define a new dataframe `samp_mod5` that is the same as `samp_mod4` but with `_SMOKER3` recoded as `Daily`, `Some days`, `Former`, `Never`, and `Unsure/refused/missing`. Print the first few rows of the result using `.head()`."
   ]
  },
  {
   "cell_type": "code",
   "execution_count": null,
   "metadata": {},
   "outputs": [],
   "source": [
    "# define dictionary\n",
    "smoke_codes = ...\n",
    "\n",
    "# recode\n",
    "samp_mod5 = ...\n",
    "\n",
    "# check using head()\n",
    "..."
   ]
  },
  {
   "cell_type": "markdown",
   "metadata": {},
   "source": [
    "### Q1 (c). Value replacement\n",
    "\n",
    "\n",
    "Now all the variables *except* the adverse childhood experience and depressive disorder question responses are non-numeric. Notice in the codebook that the answer key is identical for these remaining variables. \n",
    "\n",
    "The numeric codings can be replaced all at once by applying `.replace()` to the dataframe with an argument of the form \n",
    "\n",
    "* `df.replace({'var1': varcodes1, 'var2': varcodes1, ..., 'varp': varcodesp})` \n",
    "\n",
    "Define a new dataframe `samp_mod6` that is the same as `samp_mod5` but with the remaining variables recoded according to the answer key `Yes`, `No`, `Unsure`, `Refused`. Print the first few rows of the result using `.head()`."
   ]
  },
  {
   "cell_type": "code",
   "execution_count": null,
   "metadata": {
    "scrolled": true
   },
   "outputs": [],
   "source": [
    "# define dictionary\n",
    "answer_key = ...\n",
    "\n",
    "# recode\n",
    "samp_mod6 = ...\n",
    "\n",
    "# check using head()\n",
    "..."
   ]
  },
  {
   "cell_type": "markdown",
   "metadata": {},
   "source": [
    "Finally, all the variables in the dataset are categorical. Notice that the current data types do not reflect this."
   ]
  },
  {
   "cell_type": "code",
   "execution_count": null,
   "metadata": {},
   "outputs": [],
   "source": [
    "samp_mod6.dtypes"
   ]
  },
  {
   "cell_type": "markdown",
   "metadata": {},
   "source": [
    "Let's coerce the variables to `category` data types using `.astype()`."
   ]
  },
  {
   "cell_type": "code",
   "execution_count": null,
   "metadata": {},
   "outputs": [],
   "source": [
    "# coerce to categorical\n",
    "samp_mod7 = samp_mod6.astype('category')\n",
    "\n",
    "# check new data types\n",
    "samp_mod7.dtypes"
   ]
  },
  {
   "cell_type": "markdown",
   "metadata": {},
   "source": [
    "### Q1 (d). Define ACE indicator variable\n",
    "\n",
    "Your objective will be to look for associations between adverse childhood experiences and the other variables by calculating the proportion of respondents who reported experiencing ACEs. This task will be facilitated by having an indicator variable that is a `1` if the respondent answered 'Yes' to any ACE question, and a `0` otherwise -- that way, you can easily count the number of respondents reporting ACEs by summing up the indicator.\n",
    "\n",
    "To this end, define a new logical variable:\n",
    "\n",
    "* `adverse_conditions`: did the respondent answer yes to any of the adverse childhood condition questions?\n",
    "\n",
    "You can accomplish this task in several steps:\n",
    "\n",
    "1. Obtain a logical array indicating the positions of the ACE variables (hint: use `.columns` to obtain the column index and operate on the result with `.str.startswith(...)`.). Store this as `ace_positions`.\n",
    "2. Use the logical array `ace_positions` to select the ACE columns via `.loc[]`. Store this as `ace_data`.\n",
    "3. Obtain a dataframe that indicates whether each entry is a 'Yes' (hint: use the boolean operator `==`, which is a vectorized operation). Store this as `ace_yes`.\n",
    "4. Compute the row sums using `.sum()`. Store this as `ace_numyes`.\n",
    "5. Define the new variable as `ace_numyes > 0`.\n",
    "\n",
    "Store the result as `samp_mod8`, and print the first few rows using `.head()`."
   ]
  },
  {
   "cell_type": "code",
   "execution_count": null,
   "metadata": {},
   "outputs": [],
   "source": [
    "# copy samp_mod7\n",
    "samp_mod8 = samp_mod7.copy()\n",
    "\n",
    "# ace column positions\n",
    "ace_positions = ...\n",
    "\n",
    "# ace data\n",
    "ace_data = ...\n",
    "\n",
    "# ace yes indicators\n",
    "ace_yes = ...\n",
    "\n",
    "# number of yesses\n",
    "ace_numyes = ...\n",
    "\n",
    "# assign new variable\n",
    "samp_mod8['adverse_conditions'] = ...\n",
    "\n",
    "# check result using .head()\n",
    "..."
   ]
  },
  {
   "cell_type": "markdown",
   "metadata": {},
   "source": [
    "### Q1 (e). Define missingness indicator variable\n",
    "\n",
    "As you saw earlier, there are some missing values for the ACE questions. These arise whenever a respondent is not asked these questions. In fact, answers are missing for nearly 80% of the respondents in our subsample! We should keep track of this information. Define a missing indicator:\n",
    "\n",
    "* `adverse_missing`: is a response missing for at least one of the ACE questions?"
   ]
  },
  {
   "cell_type": "code",
   "execution_count": null,
   "metadata": {},
   "outputs": [],
   "source": [
    "# copy modification 8\n",
    "samp_mod9 = samp_mod8.copy()\n",
    "\n",
    "# define missing indicator using loc\n",
    "...\n",
    "\n",
    "# check using head()"
   ]
  },
  {
   "cell_type": "markdown",
   "metadata": {},
   "source": [
    "### Q1 (f). Filter respondents who did not answer ACE questions\n",
    "\n",
    "Since values are missing for the ACE question if a respondent was not asked, we can remove these observations and do any analysis *conditional on respondents answering the ACE questions*. Use your indicator variable `adverse_missing` to filter out respondents who were not asked the ACE questions."
   ]
  },
  {
   "cell_type": "code",
   "execution_count": null,
   "metadata": {},
   "outputs": [],
   "source": [
    "# solution\n",
    "samp_mod10 = ..."
   ]
  },
  {
   "cell_type": "markdown",
   "metadata": {},
   "source": [
    "### Q1 (f). Define depression indicator variable\n",
    "\n",
    "It will prove similarly helpful to define an indicator for reported depression:\n",
    "\n",
    "* `depression`: did the respondent report having been diagnosed with a depressive disorder?\n",
    "\n",
    "Follow the same strategy as above, and store the result as `samp_mod9`. See if you can perform the calculation of the new variable in a single line of code. Print the first few rows using `.head()`."
   ]
  },
  {
   "cell_type": "code",
   "execution_count": null,
   "metadata": {},
   "outputs": [],
   "source": [
    "# copy samp_mod10\n",
    "samp_mod11 = samp_mod10.copy()\n",
    "\n",
    "# define new variable using loc\n",
    "...\n",
    "\n",
    "# check using .head()\n",
    "..."
   ]
  },
  {
   "cell_type": "markdown",
   "metadata": {},
   "source": [
    "### Q1 (f). Final dataset.\n",
    "\n",
    "For the final dataset, drop the respondent answers to individual questions, the missingness indicator, and select just the derived indicator variables along with state, general health, sex, age, and smoking status. Check the [pandas documentation](https://pandas.pydata.org/pandas-docs/stable/reference/api/pandas.DataFrame.rename.html) for `.rename()` and follow the examples to rename the latter variables:\n",
    "\n",
    "* general_health\n",
    "* sex\n",
    "* age\n",
    "* smoking\n",
    "\n",
    "See if you can perform both operations (slicing and renaming) in a single chain."
   ]
  },
  {
   "cell_type": "code",
   "execution_count": null,
   "metadata": {},
   "outputs": [],
   "source": [
    "# slice and rename\n",
    "data = ...\n",
    "\n",
    "# check using .head()"
   ]
  },
  {
   "cell_type": "markdown",
   "metadata": {},
   "source": [
    "---\n",
    "\n",
    "# 2. Descriptive analysis\n",
    "\n",
    "Now that you have a clean dataset, you'll use grouping and aggregation to compute several summary statistics that will help you **explore** and **analyze** whether there is an apparent association between experiencing adverse childhood conditions and self-reported health, smoking status, and depressive disorders. \n",
    "\n",
    "The basic strategy will be to calculate the proportions of respondents who answered yes to one of the adverse experience questions when respondents are grouped by the other variables."
   ]
  },
  {
   "cell_type": "markdown",
   "metadata": {},
   "source": [
    "### Q2 (a). Proportion of respondents reporting ACEs\n",
    "\n",
    "Calculate the overall proportion of respondents in the subsample that reported experiencing at least one adverse condition (given that they answered the ACE questions). Use `.mean()`; store the result as `mean_ace` and print."
   ]
  },
  {
   "cell_type": "code",
   "execution_count": null,
   "metadata": {},
   "outputs": [],
   "source": [
    "# proportion of respondents reporting at least one adverse condition\n",
    "mean_ace = ...\n",
    "\n",
    "# print\n",
    "mean_ace"
   ]
  },
  {
   "cell_type": "markdown",
   "metadata": {},
   "source": [
    "*Does the proportion of respondents who reported experiencing adverse childhood conditions vary by general health?*\n",
    "\n",
    "The cell below computes the porportion separately by general health self-rating. Notice that the depression variable is dropped so that the result doesn't also report the proportion of respondents reporting having been diagnosed with a depressive disorder. Notice also that the proportion of missing values for respondents indicating each general health rating is shown."
   ]
  },
  {
   "cell_type": "code",
   "execution_count": null,
   "metadata": {},
   "outputs": [],
   "source": [
    "# proportions grouped by general health\n",
    "data.drop(\n",
    "    columns = 'depression'\n",
    ").groupby(\n",
    "    'general_health'\n",
    ").mean()"
   ]
  },
  {
   "cell_type": "markdown",
   "metadata": {},
   "source": [
    "Notice that the row index lists the general health rating out of order. This can be fixed using a `.loc[]` call and the dictionary that was defined for the variable coding."
   ]
  },
  {
   "cell_type": "code",
   "execution_count": null,
   "metadata": {},
   "outputs": [],
   "source": [
    "# same as above, rearranging index\n",
    "ace_health = data.drop(\n",
    "    columns = 'depression'\n",
    ").groupby(\n",
    "    'general_health'\n",
    ").mean().loc[list(health_codes.values()), :]\n",
    "\n",
    "# print\n",
    "ace_health"
   ]
  },
  {
   "cell_type": "markdown",
   "metadata": {},
   "source": [
    "### Q2 (b). Association between smoking status and ACEs\n",
    "\n",
    "*Does the proportion of respondents who reported experiencing adverse childhood conditions vary by smoking status?*\n",
    "\n",
    "Following the example above for computing the proportion of respondents reporting ACEs by general health rating, calculate the proportion of respondents reporting ACEs by smoking status (be sure to arrange the rows in appropriate order of smoking status)."
   ]
  },
  {
   "cell_type": "code",
   "execution_count": null,
   "metadata": {
    "scrolled": true
   },
   "outputs": [],
   "source": [
    "# proportions grouped by smoking status\n",
    "ace_smoking = ...\n",
    "\n",
    "# print\n",
    "ace_smoking"
   ]
  },
  {
   "cell_type": "markdown",
   "metadata": {},
   "source": [
    "### Q2 (c). Association between depression and ACEs\n",
    "\n",
    "*Does the proportion of respondents who reported experiencing adverse childhood conditions vary by smoking status?*\n",
    "\n",
    "Calculate the proportion of respondents reporting ACEs by whether respondents had been diagnosed with a depressive disorder."
   ]
  },
  {
   "cell_type": "code",
   "execution_count": null,
   "metadata": {},
   "outputs": [],
   "source": [
    "# proportions grouped by having experienced depression\n",
    "ace_depr = ...\n",
    "\n",
    "# print\n",
    "ace_depr"
   ]
  },
  {
   "cell_type": "markdown",
   "metadata": {},
   "source": [
    "### Q2 (d). Exploring subgroupings\n",
    "\n",
    "*Does the apparent association between general health and ACEs persist after accounting for sex?*\n",
    "\n",
    "Repeat the calculation of the proportion of respondents reporting ACEs by general health rating, but also group by sex. "
   ]
  },
  {
   "cell_type": "code",
   "execution_count": null,
   "metadata": {},
   "outputs": [],
   "source": [
    "# group by general health and sex\n",
    "ace_health_sex = ...\n",
    "\n",
    "# pivot table for better display\n",
    "..."
   ]
  },
  {
   "cell_type": "markdown",
   "metadata": {},
   "source": [
    "The table in the last question is a little tricky to read. This information would be better displayed in a plot. The example below generates a bar chart showing the summaries you calculated in Q2(d), with the proportion on the y axis, the health rating on the x axis, and separate bars for the two sexes."
   ]
  },
  {
   "cell_type": "code",
   "execution_count": null,
   "metadata": {},
   "outputs": [],
   "source": [
    "# coerce indices to columns for plotting\n",
    "plot_df = ace_health_sex.reset_index()\n",
    "\n",
    "# specify order of general health categories\n",
    "genhealth_order = pd.CategoricalDtype(list(health_codes.values()), ordered = True)\n",
    "plot_df['general_health'] = plot_df.general_health.astype(genhealth_order)\n",
    "\n",
    "# plot\n",
    "alt.Chart(plot_df).mark_bar().encode(\n",
    "    x = alt.X('general_health', \n",
    "              sort = ['general_health'],\n",
    "              title = 'Self-rated general health'),\n",
    "    y = alt.Y('adverse_conditions',\n",
    "              title = 'Prop. of respondents reporting ACEs'),\n",
    "    color = 'sex',\n",
    "    column = 'sex'\n",
    ").properties(\n",
    "    width = 200, \n",
    "    height = 200\n",
    ")"
   ]
  },
  {
   "cell_type": "markdown",
   "metadata": {},
   "source": [
    "### Q2 (e). Visualization\n",
    "\n",
    "Use the example above to plot the proportion of respondents reporting ACEs \n",
    "against smoking status for men and women.\n",
    "\n",
    "*Hint*: you only need to modify the example by substituting smoking status for general health."
   ]
  },
  {
   "cell_type": "code",
   "execution_count": null,
   "metadata": {},
   "outputs": [],
   "source": [
    "# plot codes go here\n",
    "..."
   ]
  },
  {
   "cell_type": "markdown",
   "metadata": {},
   "source": [
    "## 3. Communicating results\n",
    "\n",
    "Here you'll be asked to reflect briefly on your findings."
   ]
  },
  {
   "cell_type": "markdown",
   "metadata": {},
   "source": [
    "### Q3 (a). Summary\n",
    "\n",
    "*Is there an observed association between reporting ACEs and general health, smoking status, and depression among survey respondents who answered the ACE questions?*\n",
    "\n",
    "Write a two to three sentence answer to the above question summarizing your findings. State an answer to the question in your first sentence, and then in your second/third sentences describe exactly what you observed in the foregoing descriptive analysis of the BRFSS data. Be precise, but also concise. There is no need to describe any of the data manipulations, survey design, or the like."
   ]
  },
  {
   "cell_type": "markdown",
   "metadata": {},
   "source": [
    "**Answer**\n",
    "\n",
    "*Type your answer here.*"
   ]
  },
  {
   "cell_type": "markdown",
   "metadata": {},
   "source": [
    "### Q3 (b). Generalization\n",
    "\n",
    "Recall from the overview documentation all the care that the BRFSS dedicates to collecting a representative sample of the U.S. adult population with phone numbers. Do you think that your findings provide evidence of an association among the general public (not just the individuals survey)? Why or why not? Answer in two sentences."
   ]
  },
  {
   "cell_type": "markdown",
   "metadata": {},
   "source": [
    "**Answer**\n",
    "\n",
    "*Type your answer here.*"
   ]
  },
  {
   "cell_type": "markdown",
   "metadata": {},
   "source": [
    "### Q3 (c). Bias\n",
    "\n",
    "What is a potential source of bias in the survey results, and how might this affect the proportions you've calculated?\n",
    "\n",
    "Answer in one or two sentences."
   ]
  },
  {
   "cell_type": "markdown",
   "metadata": {},
   "source": [
    "**Answer**\n",
    "\n",
    "*Type your answer here.*"
   ]
  },
  {
   "cell_type": "markdown",
   "metadata": {},
   "source": [
    "### Comment\n",
    "\n",
    "Notice that the language 'association' is non-causual: we don't say that ACEs cause (or don't cause) poorer health outcomes. This is intentional, because the BRFSS data are what are known as 'observational' data, *i.e.* not originating from a controlled experiment. There could be unobserved factors that explain the association. \n",
    "\n",
    "To take a simple example, dog owners live longer, but the reason is simply that dog owners walk more -- so it's the exercise, not the dogs, that cause an increase in longevity. An observational study that doesn't measure exercise would show a positive association between dog ownership and lifespan, but it's a non-causal relationship.\n",
    "\n",
    "So there could easily be unobserved factors that account for the observed association in the BRFSS data. We guard against over-interpreting the results by using causally-neutral language."
   ]
  },
  {
   "cell_type": "markdown",
   "metadata": {},
   "source": [
    "## Submission\n",
    "\n",
    "1. Save file to confirm all changes are on disk\n",
    "2. Run *Kernel > Restart & Run All* to execute all code from top to bottom\n",
    "3. Save file again to write any new output to disk\n",
    "4. Select *File > Download as > Notebook*\n",
    "5. Submit to Gradescope"
   ]
  }
 ],
 "metadata": {
  "kernelspec": {
   "display_name": "Python 3",
   "language": "python",
   "name": "python3"
  },
  "language_info": {
   "codemirror_mode": {
    "name": "ipython",
    "version": 3
   },
   "file_extension": ".py",
   "mimetype": "text/x-python",
   "name": "python",
   "nbconvert_exporter": "python",
   "pygments_lexer": "ipython3",
   "version": "3.8.5"
  }
 },
 "nbformat": 4,
 "nbformat_minor": 4
}
