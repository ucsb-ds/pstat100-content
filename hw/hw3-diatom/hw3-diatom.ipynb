{
 "cells": [
  {
   "cell_type": "markdown",
   "metadata": {},
   "source": [
    "# PSTAT 100 Homework 3"
   ]
  },
  {
   "cell_type": "code",
   "execution_count": 1,
   "metadata": {},
   "outputs": [],
   "source": [
    "import numpy as np\n",
    "import pandas as pd\n",
    "import altair as alt\n",
    "from sklearn.decomposition import PCA"
   ]
  },
  {
   "cell_type": "markdown",
   "metadata": {},
   "source": [
    "## Background: diatoms and paleoclimatology\n",
    "\n",
    "Diatoms are a type of phytoplankton -- they are photosynthetic algae that function as primary producers in aquatic ecosystems. Diatoms are at the bottom of the food web: they are consumed by filter feeders, like clams, mussels, and many fish, which are in turn consumed by larger organisms like scavengers and predators and, well, us. As a result, changes in the composition of diatom species in marine ecosystems have ripple effects that can dramatically alter overall community structure in any environment of which marine life forms a part. \n",
    "\n",
    "Diatoms have glass bodies. As a group of organisms, they display a great diversity of body shapes, and many are quite elaborate. The image below, taken from a Scientific American article, shows a small sample of their shapes and structures.\n",
    "\n",
    "<center><img src='figures/diatoms-sciam.jpg' style='width:400px'></center>\n",
    "\n",
    "Because they are made of glass, diatoms preserve extraordinarily well over time. When they die, their bodies sink and form part of the sediment. Due to their abundance, there is a sort of steady rain of diatoms forming part of the sedimentation process, which produces sediment layers that are dense with diatoms.\n",
    "\n",
    "Sedimentation is a long-term process spanning great stretches of time, and the deeper one looks in sediment, the older the material. Since diatoms are present in high density throughout sedimentation layers, and they preserve so well, it is possible to study their presence over immense time spans -- potentially hundreds of thousands of years. \n",
    "\n",
    "A branch of paleoclimatology is dedicated to studying changes in biological productivity on geologic time scales, and much research in this area has involved studying the relative abundances of diatoms. In this assignment, you'll do just that on a small scale and work with data from sediment cores taken in the gulf of California at the location indicated on the map:\n",
    "\n",
    "<center><img src='figures/site1-barron2004.png' style='width:400px'></center>\n",
    "\n",
    "The data are publicly available: \n",
    "> Barron, J.A., *et al.* 2005. High Resolution Guaymas Basin Geochemical, Diatom, and Silicoflagellate Data. IGBP PAGES/World Data Center for Paleoclimatology Data Contribution Series # 2005-022. NOAA/NGDC Paleoclimatology Program, Boulder CO, USA.\n",
    "\n",
    "---\n",
    "## Assignment objectives\n",
    "\n",
    "In this assignment, you'll use the exploratory techniques we've been discussing in class to analyze the relative abundances of diatom taxa over a time span of 15,000 years. This will involve practicing the following skills.\n",
    "\n",
    "**Acquaint and tidy**\n",
    "* data import\n",
    "* handling NaNs \n",
    "* transforming values\n",
    "* assessing time resolution\n",
    "\n",
    "**Exploratory analysis of individual variables**\n",
    "* visualizing summary statistics\n",
    "* density histograms and kernel density estimates\n",
    "* describing variation\n",
    "\n",
    "**Exploratory analysis of multiple variables**\n",
    "* examining correlation structure\n",
    "* computing and selecting principal components\n",
    "* interpreting principal component loadings\n",
    "* using principal components to visualize multivariate data\n",
    "\n",
    "**Communication and critical thinking**\n",
    "* summarizing results in written form\n",
    "* suggesting next steps\n",
    "\n",
    "Have fun!"
   ]
  },
  {
   "cell_type": "markdown",
   "metadata": {},
   "source": [
    "---\n",
    "\n",
    "## 0. Getting acquainted with the diatom data\n",
    "\n",
    "In this assignment you'll focus less on tidying and more on exploration -- the data you'll work with are already tidy. So, in this initial part, you'll:\n",
    "* import the data;\n",
    "* examine its structure to get acquainted; and \n",
    "* perform some simple preprocessing transformations to facilitate exploratory analysis. \n",
    "\n",
    "The data are diatom counts sampled from evenly-spaced depths in a sediment core from the gulf of California. In sediment cores, depth correlates with time before the present -- deeper layers are older -- and depths are typically chosen to obtain a desired temporal resolution. The counts were recorded by sampling material from sediment cores at each depth, and examining the sampled material for phytoplankton cells. For each sample, phytoplankton were identified at the taxon level and counts of diatom taxa were recorded along with the total number of phytoplankton cells identified. Thus:\n",
    "* The **observational units** are _**sediment samples**_.  \n",
    "* The **variables** are _**depth (age), diatom abundance counts, and the total number of identified phytoplankton**_. Age is inferred from radiocarbon. \n",
    "* One **observation** is made at _**each depth**_ from 0cm (surface) to  13.71 cm. \n",
    "\n",
    "The table below provides variable descriptions and units for each column in the dataframe.\n",
    "\n",
    "Variable | Description | Units\n",
    "---|---|---\n",
    "Depth | Depth interval location of sampled material in sediment core | Centimeters (cm)\n",
    "Age | Radiocarbon age | Thousands of years before present (KyrBP)\n",
    "A_curv | Abundance of *Actinocyclus curvatulus* | Count (n)\n",
    "A_octon | Abundance of *Actinocyclus octonarius* | Count (n)\n",
    "ActinSpp | Abundance of *Actinoptychus* species | Count (n)\n",
    "A_nodul | Abundance of *Azpeitia nodulifer* | Count (n)\n",
    "CocsinSpp | Abundance of *Coscinodiscus* species | Count (n)\n",
    "CyclotSpp | Abundance of *Cyclotella* species | Count (n)\n",
    "Rop_tess | Abundance of *Roperia tesselata* | Count (n)\n",
    "StephanSpp | Abundance of *Stephanopyxis* species | Count (n)\n",
    "Num.counted | Number of diatoms counted in sample | Count (n)\n",
    "\n",
    "The cell below imports the data."
   ]
  },
  {
   "cell_type": "code",
   "execution_count": 2,
   "metadata": {},
   "outputs": [
    {
     "data": {
      "text/html": [
       "<div>\n",
       "<style scoped>\n",
       "    .dataframe tbody tr th:only-of-type {\n",
       "        vertical-align: middle;\n",
       "    }\n",
       "\n",
       "    .dataframe tbody tr th {\n",
       "        vertical-align: top;\n",
       "    }\n",
       "\n",
       "    .dataframe thead th {\n",
       "        text-align: right;\n",
       "    }\n",
       "</style>\n",
       "<table border=\"1\" class=\"dataframe\">\n",
       "  <thead>\n",
       "    <tr style=\"text-align: right;\">\n",
       "      <th></th>\n",
       "      <th>Depth</th>\n",
       "      <th>Age</th>\n",
       "      <th>A_curv</th>\n",
       "      <th>A_octon</th>\n",
       "      <th>ActinSpp</th>\n",
       "      <th>A_nodul</th>\n",
       "      <th>CoscinSpp</th>\n",
       "      <th>CyclotSpp</th>\n",
       "      <th>Rop_tess</th>\n",
       "      <th>StephanSpp</th>\n",
       "      <th>Num.counted</th>\n",
       "    </tr>\n",
       "  </thead>\n",
       "  <tbody>\n",
       "    <tr>\n",
       "      <th>0</th>\n",
       "      <td>0.00</td>\n",
       "      <td>1.33</td>\n",
       "      <td>5.0</td>\n",
       "      <td>2.0</td>\n",
       "      <td>32</td>\n",
       "      <td>14.0</td>\n",
       "      <td>21</td>\n",
       "      <td>22.0</td>\n",
       "      <td>1.0</td>\n",
       "      <td>1.0</td>\n",
       "      <td>201</td>\n",
       "    </tr>\n",
       "    <tr>\n",
       "      <th>1</th>\n",
       "      <td>0.05</td>\n",
       "      <td>1.37</td>\n",
       "      <td>8.0</td>\n",
       "      <td>2.0</td>\n",
       "      <td>31</td>\n",
       "      <td>16.0</td>\n",
       "      <td>20</td>\n",
       "      <td>16.0</td>\n",
       "      <td>7.0</td>\n",
       "      <td>2.0</td>\n",
       "      <td>200</td>\n",
       "    </tr>\n",
       "    <tr>\n",
       "      <th>2</th>\n",
       "      <td>0.10</td>\n",
       "      <td>1.42</td>\n",
       "      <td>8.0</td>\n",
       "      <td>6.0</td>\n",
       "      <td>33</td>\n",
       "      <td>18.0</td>\n",
       "      <td>29</td>\n",
       "      <td>7.0</td>\n",
       "      <td>1.0</td>\n",
       "      <td>1.0</td>\n",
       "      <td>200</td>\n",
       "    </tr>\n",
       "    <tr>\n",
       "      <th>3</th>\n",
       "      <td>0.15</td>\n",
       "      <td>1.46</td>\n",
       "      <td>11.0</td>\n",
       "      <td>1.0</td>\n",
       "      <td>21</td>\n",
       "      <td>1.0</td>\n",
       "      <td>12</td>\n",
       "      <td>28.0</td>\n",
       "      <td>25.0</td>\n",
       "      <td>3.0</td>\n",
       "      <td>200</td>\n",
       "    </tr>\n",
       "    <tr>\n",
       "      <th>4</th>\n",
       "      <td>0.20</td>\n",
       "      <td>1.51</td>\n",
       "      <td>11.0</td>\n",
       "      <td>1.0</td>\n",
       "      <td>38</td>\n",
       "      <td>3.0</td>\n",
       "      <td>18</td>\n",
       "      <td>24.0</td>\n",
       "      <td>3.0</td>\n",
       "      <td>NaN</td>\n",
       "      <td>300</td>\n",
       "    </tr>\n",
       "  </tbody>\n",
       "</table>\n",
       "</div>"
      ],
      "text/plain": [
       "   Depth   Age  A_curv  A_octon  ActinSpp  A_nodul  CoscinSpp  CyclotSpp  \\\n",
       "0   0.00  1.33     5.0      2.0        32     14.0         21       22.0   \n",
       "1   0.05  1.37     8.0      2.0        31     16.0         20       16.0   \n",
       "2   0.10  1.42     8.0      6.0        33     18.0         29        7.0   \n",
       "3   0.15  1.46    11.0      1.0        21      1.0         12       28.0   \n",
       "4   0.20  1.51    11.0      1.0        38      3.0         18       24.0   \n",
       "\n",
       "   Rop_tess  StephanSpp  Num.counted  \n",
       "0       1.0         1.0          201  \n",
       "1       7.0         2.0          200  \n",
       "2       1.0         1.0          200  \n",
       "3      25.0         3.0          200  \n",
       "4       3.0         NaN          300  "
      ]
     },
     "execution_count": 2,
     "metadata": {},
     "output_type": "execute_result"
    }
   ],
   "source": [
    "# import diatom data\n",
    "diatoms_raw = pd.read_csv('data/barron-diatoms.csv')\n",
    "diatoms_raw.head(5)"
   ]
  },
  {
   "cell_type": "markdown",
   "metadata": {},
   "source": [
    "The data are already in tidy format, because each row is an observation (a set of measurements on one sample of sediment) and each column is a variable (one of age, depth, or counts). However, examine rows 3 and 4. These rows illustrate two noteworthy features of the raw data:\n",
    "\n",
    "1. NaNs are present\n",
    "2. The number of individuals counted in each sample varies by a lot from sample to sample.\n",
    "\n",
    "Let's address those before conducting initial explorations.\n",
    "\n",
    "### 'Missing' values\n",
    "\n",
    "The NaNs are an artefact of the data recording -- if *no* diatoms in a particular taxa are observed, a `-` is entered in the table (you can verify this by checking the .csv file). In these cases the value isn't missing, but rather zero. These entries are parsed by pandas as NaNs, but they correspond to a value of 0 (no diatoms observed). "
   ]
  },
  {
   "cell_type": "markdown",
   "metadata": {},
   "source": [
    "### Q0 (a). Filling NaNs\n",
    "\n",
    "Use `.fill_na()` to replace all NaNs by zeros, and store the result as `diatoms_mod1`. Print rows 4 and 5 (index, not integer location) of the resulting dataframe.\n",
    "\n",
    "(*Hint*: check the [documentation](https://pandas.pydata.org/docs/reference/api/pandas.DataFrame.fillna.html) for `fill_na()`.)"
   ]
  },
  {
   "cell_type": "code",
   "execution_count": 3,
   "metadata": {},
   "outputs": [],
   "source": [
    "# solution\n"
   ]
  },
  {
   "cell_type": "markdown",
   "metadata": {},
   "source": [
    "### Varying total counts\n",
    "\n",
    "Since the total number of phytoplankton counted in each sample varies, the raw counts are not directly comparable -- *e.g.*, a count of 18 is actually a *different* abundance in a sample with 200 individuals counted than in a sample with 300 individuals counted.\n",
    "\n",
    "For exploratory analysis, you'll want the values to be comparable across rows. This can be achieved by a simple transformation so that the values are *relative* abundances: *proportions* of phytoplankton observed from each taxon."
   ]
  },
  {
   "cell_type": "markdown",
   "metadata": {},
   "source": [
    "### Q0 (b). Counts to proportions\n",
    "\n",
    "Convert the counts to proportions by dividing by the relevant entry in the `Num.counted` column. There are a few ways to do this, but here's one approach:\n",
    "\n",
    "1. Set Depth and Age to row indices using `.set_index(...)` and store the result as `diatoms_mod2`.\n",
    "2. Store the `Num.counted` column from `diatoms_mod2` as `sampsize`.\n",
    "3. Use `.div(...)` to divide entrywise every column in `diatoms_mod2` by `sampsize` and store the result as `diatoms_mod3`.\n",
    "4. Drop the `Num.counted` column from `diatoms_mod3` and reset the index; store the result as `diatoms`.\n",
    "\n",
    "Carry out these steps and print the first four rows of `diatoms`.\n",
    "\n",
    "(*Hint*: careful with the `axis = ...` argument in `.div(...)`; you may want to look at the [documentation](https://pandas.pydata.org/docs/reference/api/pandas.DataFrame.div.html).)"
   ]
  },
  {
   "cell_type": "code",
   "execution_count": 4,
   "metadata": {},
   "outputs": [],
   "source": [
    "# set depth, age to indices and drop num.counted\n",
    "\n",
    "# store sample sizes\n",
    "\n",
    "# divide\n",
    "\n",
    "# drop num.counted and reset index\n",
    "\n",
    "# print\n"
   ]
  },
  {
   "cell_type": "markdown",
   "metadata": {},
   "source": [
    "Now that the data are ready for exploratory analysis, take a moment to think about what the data represent. They are relative abundances over time; essentially, snapshots of the community composition of diatoms over time, and thus information about how ecological community composition changes.\n",
    "\n",
    "Before diving in, it will be helpful to resolve two matters:\n",
    "\n",
    "1. How far back in time do the data go?\n",
    "2. What is the time resolution of the data?"
   ]
  },
  {
   "cell_type": "markdown",
   "metadata": {},
   "source": [
    "### Q0 (c). Time span\n",
    "\n",
    "What is the geological time span covered by the data? Compute the minimum and maximum age using `.aggregate(...)`. \n",
    "\n",
    "*Note*: This may be a new function for you, but it's simple: it takes as an argument a list of functions that will be applied to the dataframe (columnwise by default). So for example, to get the mean and variance of each column in `df`, one would use `df.aggregate(['mean', 'var'])`. See the [documentation](https://pandas.pydata.org/docs/reference/api/pandas.DataFrame.aggregate.html) for further examples.\n",
    "\n",
    "(*Remember*: age is reported as thousands of years before present, so `Age = 2` means 2000 years ago.)"
   ]
  },
  {
   "cell_type": "code",
   "execution_count": 5,
   "metadata": {},
   "outputs": [],
   "source": [
    "# solution\n"
   ]
  },
  {
   "cell_type": "markdown",
   "metadata": {},
   "source": [
    "### Q0 (d). Time resolution\n",
    "\n",
    "How are the observations spaced in time? \n",
    "\n",
    "#### (i) Make a histogram of the time steps between consecutive sample ages. \n",
    "\n",
    "Follow these steps:\n",
    "\n",
    "1. Extract the `Age` column from `diatoms`, sort the values in ascending order, compute the differences between consecutive rows, and store the result as `diffs`.\n",
    "    + *Hint*: use `.sort_values()` and `.diff()`.\n",
    "    + *Notice*: that the first difference is NaN, because there is no previous value to compare the first row with. Drop this entry when you store `diffs`.\n",
    "\n",
    "\n",
    "2. Make a simple count histogram (no need to manually bin or convert to density scale) with bins of width 0.02 (20 years).\n",
    "    + Label the x axis 'Time step between consecutive sample ages'"
   ]
  },
  {
   "cell_type": "code",
   "execution_count": 6,
   "metadata": {},
   "outputs": [],
   "source": [
    "# store differences\n",
    "\n",
    "# construct histogram\n"
   ]
  },
  {
   "cell_type": "markdown",
   "metadata": {},
   "source": [
    "#### (ii) What is the typical time step in years?\n",
    "\n",
    "*Type your answer here.*"
   ]
  },
  {
   "cell_type": "markdown",
   "metadata": {},
   "source": [
    "---\n",
    "## 1. Exploring diatom taxon abundances\n",
    "\n",
    "Recall that the first type of exploratory analysis question has to do with exploring variation in each variable; to begin, you'll examine the variation in relative abundance over time for the eight individual taxa. \n",
    "\n",
    "Here are some initial questions in this spirit that will help you to hone in and develop more focuesed exploratory questions:\n",
    "* Which taxa are most and least abundant on average over time?\n",
    "* Which taxa vary the most over time?\n",
    "\n",
    "These can be answered by computing simple summary statistics for each column in the diatom data."
   ]
  },
  {
   "cell_type": "markdown",
   "metadata": {},
   "source": [
    "### Q1 (a). Summary statistics\n",
    "\n",
    "Use `.aggregate(...)` to find the mean and standard deviation of relative abundances for each taxon. Follow these steps:\n",
    "\n",
    "1. See Q0 (c) for an explanation of `.aggregate(...)`.\n",
    "2. Drop the depth and age variables before performing the aggregation.\n",
    "3. Use `.transpose()` to ensure that the table is rendered in long form (8 rows by 2 columns rather than 2 columns by 8 rows). \n",
    "4. Store the result as `diatom_summary` and print the dataframe."
   ]
  },
  {
   "cell_type": "code",
   "execution_count": 7,
   "metadata": {},
   "outputs": [],
   "source": [
    "# solution\n"
   ]
  },
  {
   "cell_type": "markdown",
   "metadata": {},
   "source": [
    "It will be easier to determine which taxa are most/least abundant and most variable by displaying this information visually."
   ]
  },
  {
   "cell_type": "markdown",
   "metadata": {},
   "source": [
    "### Q1 (b). Visualizing summary statistics\n",
    "\n",
    "Create a plot of the average relative abundances and their variation over time by following these steps:\n",
    "\n",
    "1. Reset the index of `diatom_summary` so that the taxon names are stored as a column and not an index. Store the result as `plot_df`.\n",
    "\n",
    "2. Create an Altair chart based on `plot_df` with *no marks* -- just `alt.Chart(...).encode(...)` -- and pass the columnn of taxon names to the `Y` encoding channel with the title 'Taxon' and sorted in descending order of mean relative abundance. Store the result as `base`.\n",
    "    + *Hint*: `alt.Y(..., sort = {'field': 'column', 'order': 'descending'})` will sort the Y channel by 'column' in descending order.\n",
    "\n",
    "\n",
    "3. Modify `base` to create a point plot of the average relative abundances for each taxon; store the result as `means`.\n",
    "    + Average relative abundance (the mean you calculated in Q1 (a)) should appear on the x axis, and taxon on the y axis.\n",
    "    + Since the `Y` encoding was already specified in `base`, you do not need to add a `Y` encoding at this stage.\n",
    "    + Give the x axis the title 'Average relative abundance'.\n",
    "\n",
    "\n",
    "4. Modify `base` to create a plot with bars spanning two standard deviations in either direction from the mean. Store the result as `bars`.\n",
    "    + First use `base.transform_calculate(...)` to compute `lwr` and `upr` for the positions of the bar endpoints:\n",
    "        - $\\texttt{lwr} = \\texttt{mean} - 2\\times\\texttt{std}$\n",
    "        - $\\texttt{upr} = \\texttt{mean} + 2\\times\\texttt{std}$.\n",
    "    + Then append `.mark_errorbar().encode(...)` to the chain:\n",
    "        - pass `lwr:Q` to the `X` encoding channel with the title 'Average relative abundance' (to match the point plot)\n",
    "        - pass `upr:Q` to the `X2` encoding channel (no specific title needed).\n",
    "\n",
    "\n",
    "5. Layer the plots: `means + bars`.\n",
    "\n",
    "\n",
    "It may help to have a look at [this example](https://altair-viz.github.io/gallery/simple_scatter_with_errorbars.html). Once you make the plot, answer questions (i) - (iii) below."
   ]
  },
  {
   "cell_type": "code",
   "execution_count": 8,
   "metadata": {},
   "outputs": [],
   "source": [
    "# reset index\n",
    "\n",
    "# create base chart\n",
    "\n",
    "# create point plot\n",
    "\n",
    "# create bar plot\n",
    "\n",
    "# layer\n"
   ]
  },
  {
   "cell_type": "markdown",
   "metadata": {},
   "source": [
    "#### (i) Which taxon is most abundant on average over time?\n",
    "\n",
    "*Type your answer here.*"
   ]
  },
  {
   "cell_type": "markdown",
   "metadata": {},
   "source": [
    "#### (ii) Which taxon is most rare on average over time?\n",
    "\n",
    "*Type your answer here.*"
   ]
  },
  {
   "cell_type": "markdown",
   "metadata": {},
   "source": [
    "#### (iii) Which taxon varies most in relative abundance over time?\n",
    "\n",
    "*Type your answer here.*"
   ]
  },
  {
   "cell_type": "markdown",
   "metadata": {},
   "source": [
    "Now that you have a sense of the typical abundances for each taxon (measured by means) and the variations in abundance (measured by standard deviations), you'll dig in a bit further and examine the variation in abundance of the most variable taxon. \n",
    "\n",
    "For the next few questions, it may help you to follow code examples from lab 4."
   ]
  },
  {
   "cell_type": "markdown",
   "metadata": {},
   "source": [
    "### Q1 (c). Distribution of *Azpeitia nodulifer* abundance over time\n",
    "\n",
    "Here you'll construct a few plots that will help you answer the following key exploratory questions:\n",
    "* Which values are common?\n",
    "* Which values are rare?\n",
    "* How spread out are the values?\n",
    "* Are values spread evenly or irregularly?\n",
    "\n",
    "#### (i) Construct a density scale histogram of the relative abundances of *Azpeitia nodulifer*. \n",
    "\n",
    "Use a bin width of 0.03 and store the histogram as `hist`."
   ]
  },
  {
   "cell_type": "code",
   "execution_count": 9,
   "metadata": {},
   "outputs": [],
   "source": [
    "# solution \n"
   ]
  },
  {
   "cell_type": "markdown",
   "metadata": {},
   "source": [
    "#### (ii) Construct a kernel density estimate of the distribution.\n",
    "\n",
    "Save the KDE curve as `smooth` and layer it on top of the density histogram.\n",
    "\n",
    "(*Remember*: experiment with the bandwidth parameter, and find a value that you feel captures the shape best.)"
   ]
  },
  {
   "cell_type": "code",
   "execution_count": 10,
   "metadata": {},
   "outputs": [],
   "source": [
    "# solution\n"
   ]
  },
  {
   "cell_type": "markdown",
   "metadata": {},
   "source": [
    "#### (iii) Which values are common?\n",
    "\n",
    "*Type your answer here.*"
   ]
  },
  {
   "cell_type": "markdown",
   "metadata": {},
   "source": [
    "#### (iv) Which values are rare?\n",
    "\n",
    "*Type your answer here.*"
   ]
  },
  {
   "cell_type": "markdown",
   "metadata": {},
   "source": [
    "#### (v) How spread out are the values and how are they spread out?\n",
    "\n",
    "*Type your answer here.*"
   ]
  },
  {
   "cell_type": "markdown",
   "metadata": {},
   "source": [
    "#### (vi) How would you describe the shape?\n",
    "\n",
    "*Type your answer here.*"
   ]
  },
  {
   "cell_type": "markdown",
   "metadata": {},
   "source": [
    "#### Comment: 'zero inflation'\n",
    "\n",
    "There are a disproportionately large number of zeroes, because in many samples no *Azpeitia nodulifer* diatoms were observed. This is a common phenomenon in ecological data, and even has a name: it results in a 'zero inflated' distribution of values. The statistician to identify and name the phenomenon was Diane Lambert, whose highly influential work on the subject (>4k citations) was published in 1992.\n",
    "\n",
    "Zero inflation can present a variety of challenges. You may have noticed, for example, that there was no bandwidth parameter for the KDE curve that *both* captured the shape of the histogram near zero *and* away from zero -- it either got the height near zero right but was too wiggly, or got the shape away from zero right but was too low near zero."
   ]
  },
  {
   "cell_type": "markdown",
   "metadata": {},
   "source": [
    "### Conditioning on a climate event\n",
    "\n",
    "There was a major climate event during the time span covered by the diatom data. The oldest data points in the diatom data correspond to the end of the Pleistocene epoch (ice age), at which time there was a pronounced warming (Late Glacial Interstadial, 14.7 - 12.9 KyrBP) followed by a return to glacial conditions (Younger Dryas, 12.9 - 11.7 KyrBP). \n",
    "\n",
    "This fluctuation can be seen from temperature reconstructions. Below is a plot of sea surface temperature reconstructions off the coast of Northern California. Data come from the following source:\n",
    "\n",
    "> Barron *et al.*, 2003. Northern Coastal California High Resolution Holocene/Late Pleistocene Oceanographic Data. IGBP PAGES/World Data Center for Paleoclimatology. Data Contribution Series # 2003-014. NOAA/NGDC Paleoclimatology Program, Boulder CO, USA.\n",
    "\n",
    "The shaded region indicates the time window with unusually large flucutations in sea surface temperature; this window roughly corresponds to the dates of the climate event."
   ]
  },
  {
   "cell_type": "code",
   "execution_count": 11,
   "metadata": {},
   "outputs": [
    {
     "data": {
      "text/html": [
       "\n",
       "<div id=\"altair-viz-8a70021c4976462a94f0702810a5561d\"></div>\n",
       "<script type=\"text/javascript\">\n",
       "  (function(spec, embedOpt){\n",
       "    let outputDiv = document.currentScript.previousElementSibling;\n",
       "    if (outputDiv.id !== \"altair-viz-8a70021c4976462a94f0702810a5561d\") {\n",
       "      outputDiv = document.getElementById(\"altair-viz-8a70021c4976462a94f0702810a5561d\");\n",
       "    }\n",
       "    const paths = {\n",
       "      \"vega\": \"https://cdn.jsdelivr.net/npm//vega@5?noext\",\n",
       "      \"vega-lib\": \"https://cdn.jsdelivr.net/npm//vega-lib?noext\",\n",
       "      \"vega-lite\": \"https://cdn.jsdelivr.net/npm//vega-lite@4.8.1?noext\",\n",
       "      \"vega-embed\": \"https://cdn.jsdelivr.net/npm//vega-embed@6?noext\",\n",
       "    };\n",
       "\n",
       "    function loadScript(lib) {\n",
       "      return new Promise(function(resolve, reject) {\n",
       "        var s = document.createElement('script');\n",
       "        s.src = paths[lib];\n",
       "        s.async = true;\n",
       "        s.onload = () => resolve(paths[lib]);\n",
       "        s.onerror = () => reject(`Error loading script: ${paths[lib]}`);\n",
       "        document.getElementsByTagName(\"head\")[0].appendChild(s);\n",
       "      });\n",
       "    }\n",
       "\n",
       "    function showError(err) {\n",
       "      outputDiv.innerHTML = `<div class=\"error\" style=\"color:red;\">${err}</div>`;\n",
       "      throw err;\n",
       "    }\n",
       "\n",
       "    function displayChart(vegaEmbed) {\n",
       "      vegaEmbed(outputDiv, spec, embedOpt)\n",
       "        .catch(err => showError(`Javascript Error: ${err.message}<br>This usually means there's a typo in your chart specification. See the javascript console for the full traceback.`));\n",
       "    }\n",
       "\n",
       "    if(typeof define === \"function\" && define.amd) {\n",
       "      requirejs.config({paths});\n",
       "      require([\"vega-embed\"], displayChart, err => showError(`Error loading script: ${err.message}`));\n",
       "    } else if (typeof vegaEmbed === \"function\") {\n",
       "      displayChart(vegaEmbed);\n",
       "    } else {\n",
       "      loadScript(\"vega\")\n",
       "        .then(() => loadScript(\"vega-lite\"))\n",
       "        .then(() => loadScript(\"vega-embed\"))\n",
       "        .catch(showError)\n",
       "        .then(() => displayChart(vegaEmbed));\n",
       "    }\n",
       "  })({\"config\": {\"view\": {\"continuousWidth\": 400, \"continuousHeight\": 300}}, \"layer\": [{\"data\": {\"name\": \"data-3a58caeda919fa504e554b7173d0eec4\"}, \"mark\": \"line\", \"encoding\": {\"x\": {\"type\": \"quantitative\", \"field\": \"Age\", \"title\": \"Thousands of years before present\"}, \"y\": {\"type\": \"quantitative\", \"field\": \"SST\"}}}, {\"data\": {\"name\": \"data-6cea38239315c3d997ab47994b5133ac\"}, \"mark\": {\"type\": \"area\", \"color\": \"orange\", \"opacity\": 0.2}, \"encoding\": {\"x\": {\"type\": \"quantitative\", \"field\": \"upr\", \"title\": \"Thousands of years before present\"}, \"x2\": {\"field\": \"lwr\"}, \"y\": {\"type\": \"quantitative\", \"field\": \"SST\"}}}, {\"data\": {\"name\": \"data-3a58caeda919fa504e554b7173d0eec4\"}, \"mark\": {\"type\": \"line\", \"color\": \"black\"}, \"encoding\": {\"x\": {\"type\": \"quantitative\", \"field\": \"Age\", \"title\": \"Thousands of years before present\"}, \"y\": {\"type\": \"quantitative\", \"field\": \"SST\"}}, \"transform\": [{\"loess\": \"SST\", \"on\": \"Age\", \"bandwidth\": 0.2}]}], \"$schema\": \"https://vega.github.io/schema/vega-lite/v4.8.1.json\", \"datasets\": {\"data-3a58caeda919fa504e554b7173d0eec4\": [{\"Age\": 0.16, \"SST\": 11.7}, {\"Age\": 0.16, \"SST\": 11.6}, {\"Age\": 0.29, \"SST\": 11.5}, {\"Age\": 0.29, \"SST\": 11.4}, {\"Age\": 0.55, \"SST\": 11.3}, {\"Age\": 0.68, \"SST\": 11.4}, {\"Age\": 0.82, \"SST\": 11.6}, {\"Age\": 0.95, \"SST\": 11.3}, {\"Age\": 1.21, \"SST\": 11.5}, {\"Age\": 1.34, \"SST\": 11.5}, {\"Age\": 1.47, \"SST\": 11.7}, {\"Age\": 1.61, \"SST\": 11.6}, {\"Age\": 1.87, \"SST\": 11.5}, {\"Age\": 1.87, \"SST\": 11.4}, {\"Age\": 2.0, \"SST\": 11.3}, {\"Age\": 2.0, \"SST\": 11.2}, {\"Age\": 2.13, \"SST\": 10.9}, {\"Age\": 2.26, \"SST\": 11.5}, {\"Age\": 2.53, \"SST\": 11.8}, {\"Age\": 2.66, \"SST\": 11.9}, {\"Age\": 2.79, \"SST\": 12.1}, {\"Age\": 2.92, \"SST\": 11.6}, {\"Age\": 3.18, \"SST\": 12.2}, {\"Age\": 3.32, \"SST\": 11.3}, {\"Age\": 3.45, \"SST\": 10.5}, {\"Age\": 3.58, \"SST\": 10.8}, {\"Age\": 3.58, \"SST\": 10.8}, {\"Age\": 3.58, \"SST\": 10.8}, {\"Age\": 3.84, \"SST\": 11.0}, {\"Age\": 3.97, \"SST\": 10.7}, {\"Age\": 4.11, \"SST\": 11.0}, {\"Age\": 4.24, \"SST\": 10.6}, {\"Age\": 4.5, \"SST\": 11.2}, {\"Age\": 4.63, \"SST\": 10.4}, {\"Age\": 4.76, \"SST\": 10.6}, {\"Age\": 4.89, \"SST\": 10.4}, {\"Age\": 5.18, \"SST\": 10.5}, {\"Age\": 5.29, \"SST\": 10.5}, {\"Age\": 5.42, \"SST\": 10.6}, {\"Age\": 5.52, \"SST\": 10.6}, {\"Age\": 5.52, \"SST\": 10.8}, {\"Age\": 5.73, \"SST\": 10.8}, {\"Age\": 5.83, \"SST\": 10.7}, {\"Age\": 5.94, \"SST\": 10.8}, {\"Age\": 6.05, \"SST\": 10.8}, {\"Age\": 6.26, \"SST\": 10.4}, {\"Age\": 6.37, \"SST\": 10.2}, {\"Age\": 6.49, \"SST\": 9.8}, {\"Age\": 6.58, \"SST\": 10.1}, {\"Age\": 6.79, \"SST\": 10.4}, {\"Age\": 6.92, \"SST\": 10.2}, {\"Age\": 6.92, \"SST\": 10.2}, {\"Age\": 7.0, \"SST\": 10.7}, {\"Age\": 7.11, \"SST\": 10.6}, {\"Age\": 7.32, \"SST\": 10.4}, {\"Age\": 7.43, \"SST\": 10.4}, {\"Age\": 7.54, \"SST\": 10.9}, {\"Age\": 7.73, \"SST\": 10.9}, {\"Age\": 7.84, \"SST\": 10.6}, {\"Age\": 7.94, \"SST\": 11.5}, {\"Age\": 8.05, \"SST\": 10.8}, {\"Age\": 8.2, \"SST\": 10.2}, {\"Age\": 8.39, \"SST\": 11.3}, {\"Age\": 8.49, \"SST\": 11.3}, {\"Age\": 8.6, \"SST\": 11.8}, {\"Age\": 8.71, \"SST\": 11.3}, {\"Age\": 8.92, \"SST\": 11.6}, {\"Age\": 8.92, \"SST\": 11.8}, {\"Age\": 9.03, \"SST\": 11.7}, {\"Age\": 9.13, \"SST\": 11.7}, {\"Age\": 9.26, \"SST\": 11.5}, {\"Age\": 9.37, \"SST\": 11.9}, {\"Age\": 9.56, \"SST\": 11.8}, {\"Age\": 9.66, \"SST\": 11.1}, {\"Age\": 9.77, \"SST\": 12.7}, {\"Age\": 9.97, \"SST\": 12.8}, {\"Age\": 10.05, \"SST\": 13.2}, {\"Age\": 10.17, \"SST\": 11.6}, {\"Age\": 10.22, \"SST\": 12.0}, {\"Age\": 10.35, \"SST\": 11.9}, {\"Age\": 10.4, \"SST\": 11.9}, {\"Age\": 10.52, \"SST\": 11.6}, {\"Age\": 10.58, \"SST\": 11.7}, {\"Age\": 10.66, \"SST\": 11.3}, {\"Age\": 10.72, \"SST\": 11.5}, {\"Age\": 10.77, \"SST\": 11.0}, {\"Age\": 10.83, \"SST\": 10.8}, {\"Age\": 10.99, \"SST\": 10.3}, {\"Age\": 11.07, \"SST\": 11.2}, {\"Age\": 11.15, \"SST\": 13.1}, {\"Age\": 11.31, \"SST\": 13.1}, {\"Age\": 11.31, \"SST\": 11.9}, {\"Age\": 11.41, \"SST\": 11.7}, {\"Age\": 11.49, \"SST\": 11.1}, {\"Age\": 11.57, \"SST\": 9.5}, {\"Age\": 11.57, \"SST\": 9.6}, {\"Age\": 11.73, \"SST\": 8.4}, {\"Age\": 11.8, \"SST\": 8.0}, {\"Age\": 11.96, \"SST\": 8.0}, {\"Age\": 12.13, \"SST\": 7.7}, {\"Age\": 12.21, \"SST\": 7.6}, {\"Age\": 12.28, \"SST\": 7.5}, {\"Age\": 12.36, \"SST\": 7.6}, {\"Age\": 12.52, \"SST\": 7.6}, {\"Age\": 12.52, \"SST\": 7.5}, {\"Age\": 12.6, \"SST\": 7.3}, {\"Age\": 12.68, \"SST\": 7.4}, {\"Age\": 12.84, \"SST\": 8.1}, {\"Age\": 12.92, \"SST\": 8.5}, {\"Age\": 13.01, \"SST\": 9.4}, {\"Age\": 13.09, \"SST\": 10.8}, {\"Age\": 13.17, \"SST\": 10.0}, {\"Age\": 13.33, \"SST\": 10.3}, {\"Age\": 13.41, \"SST\": 10.3}, {\"Age\": 13.49, \"SST\": 10.4}, {\"Age\": 13.57, \"SST\": 12.9}, {\"Age\": 13.73, \"SST\": 10.4}, {\"Age\": 13.81, \"SST\": 10.7}, {\"Age\": 13.89, \"SST\": 9.0}, {\"Age\": 13.97, \"SST\": 10.3}, {\"Age\": 14.13, \"SST\": 9.7}, {\"Age\": 14.21, \"SST\": 9.0}, {\"Age\": 14.3, \"SST\": 9.3}, {\"Age\": 14.38, \"SST\": 11.1}, {\"Age\": 14.62, \"SST\": 12.1}, {\"Age\": 14.7, \"SST\": 10.8}, {\"Age\": 14.78, \"SST\": 8.5}, {\"Age\": 14.94, \"SST\": 11.3}], \"data-6cea38239315c3d997ab47994b5133ac\": [{\"SST\": 0.0, \"upr\": 11, \"lwr\": 15}, {\"SST\": 0.1414141414141414, \"upr\": 11, \"lwr\": 15}, {\"SST\": 0.2828282828282828, \"upr\": 11, \"lwr\": 15}, {\"SST\": 0.4242424242424242, \"upr\": 11, \"lwr\": 15}, {\"SST\": 0.5656565656565656, \"upr\": 11, \"lwr\": 15}, {\"SST\": 0.7070707070707071, \"upr\": 11, \"lwr\": 15}, {\"SST\": 0.8484848484848484, \"upr\": 11, \"lwr\": 15}, {\"SST\": 0.9898989898989898, \"upr\": 11, \"lwr\": 15}, {\"SST\": 1.1313131313131313, \"upr\": 11, \"lwr\": 15}, {\"SST\": 1.2727272727272727, \"upr\": 11, \"lwr\": 15}, {\"SST\": 1.4141414141414141, \"upr\": 11, \"lwr\": 15}, {\"SST\": 1.5555555555555556, \"upr\": 11, \"lwr\": 15}, {\"SST\": 1.6969696969696968, \"upr\": 11, \"lwr\": 15}, {\"SST\": 1.8383838383838382, \"upr\": 11, \"lwr\": 15}, {\"SST\": 1.9797979797979797, \"upr\": 11, \"lwr\": 15}, {\"SST\": 2.121212121212121, \"upr\": 11, \"lwr\": 15}, {\"SST\": 2.2626262626262625, \"upr\": 11, \"lwr\": 15}, {\"SST\": 2.404040404040404, \"upr\": 11, \"lwr\": 15}, {\"SST\": 2.5454545454545454, \"upr\": 11, \"lwr\": 15}, {\"SST\": 2.686868686868687, \"upr\": 11, \"lwr\": 15}, {\"SST\": 2.8282828282828283, \"upr\": 11, \"lwr\": 15}, {\"SST\": 2.9696969696969697, \"upr\": 11, \"lwr\": 15}, {\"SST\": 3.111111111111111, \"upr\": 11, \"lwr\": 15}, {\"SST\": 3.2525252525252526, \"upr\": 11, \"lwr\": 15}, {\"SST\": 3.3939393939393936, \"upr\": 11, \"lwr\": 15}, {\"SST\": 3.535353535353535, \"upr\": 11, \"lwr\": 15}, {\"SST\": 3.6767676767676765, \"upr\": 11, \"lwr\": 15}, {\"SST\": 3.818181818181818, \"upr\": 11, \"lwr\": 15}, {\"SST\": 3.9595959595959593, \"upr\": 11, \"lwr\": 15}, {\"SST\": 4.101010101010101, \"upr\": 11, \"lwr\": 15}, {\"SST\": 4.242424242424242, \"upr\": 11, \"lwr\": 15}, {\"SST\": 4.383838383838384, \"upr\": 11, \"lwr\": 15}, {\"SST\": 4.525252525252525, \"upr\": 11, \"lwr\": 15}, {\"SST\": 4.666666666666666, \"upr\": 11, \"lwr\": 15}, {\"SST\": 4.808080808080808, \"upr\": 11, \"lwr\": 15}, {\"SST\": 4.949494949494949, \"upr\": 11, \"lwr\": 15}, {\"SST\": 5.090909090909091, \"upr\": 11, \"lwr\": 15}, {\"SST\": 5.232323232323232, \"upr\": 11, \"lwr\": 15}, {\"SST\": 5.373737373737374, \"upr\": 11, \"lwr\": 15}, {\"SST\": 5.515151515151515, \"upr\": 11, \"lwr\": 15}, {\"SST\": 5.656565656565657, \"upr\": 11, \"lwr\": 15}, {\"SST\": 5.797979797979798, \"upr\": 11, \"lwr\": 15}, {\"SST\": 5.9393939393939394, \"upr\": 11, \"lwr\": 15}, {\"SST\": 6.08080808080808, \"upr\": 11, \"lwr\": 15}, {\"SST\": 6.222222222222222, \"upr\": 11, \"lwr\": 15}, {\"SST\": 6.363636363636363, \"upr\": 11, \"lwr\": 15}, {\"SST\": 6.505050505050505, \"upr\": 11, \"lwr\": 15}, {\"SST\": 6.646464646464646, \"upr\": 11, \"lwr\": 15}, {\"SST\": 6.787878787878787, \"upr\": 11, \"lwr\": 15}, {\"SST\": 6.929292929292929, \"upr\": 11, \"lwr\": 15}, {\"SST\": 7.07070707070707, \"upr\": 11, \"lwr\": 15}, {\"SST\": 7.212121212121212, \"upr\": 11, \"lwr\": 15}, {\"SST\": 7.353535353535353, \"upr\": 11, \"lwr\": 15}, {\"SST\": 7.494949494949495, \"upr\": 11, \"lwr\": 15}, {\"SST\": 7.636363636363636, \"upr\": 11, \"lwr\": 15}, {\"SST\": 7.777777777777778, \"upr\": 11, \"lwr\": 15}, {\"SST\": 7.919191919191919, \"upr\": 11, \"lwr\": 15}, {\"SST\": 8.06060606060606, \"upr\": 11, \"lwr\": 15}, {\"SST\": 8.202020202020202, \"upr\": 11, \"lwr\": 15}, {\"SST\": 8.343434343434343, \"upr\": 11, \"lwr\": 15}, {\"SST\": 8.484848484848484, \"upr\": 11, \"lwr\": 15}, {\"SST\": 8.626262626262626, \"upr\": 11, \"lwr\": 15}, {\"SST\": 8.767676767676768, \"upr\": 11, \"lwr\": 15}, {\"SST\": 8.909090909090908, \"upr\": 11, \"lwr\": 15}, {\"SST\": 9.05050505050505, \"upr\": 11, \"lwr\": 15}, {\"SST\": 9.191919191919192, \"upr\": 11, \"lwr\": 15}, {\"SST\": 9.333333333333332, \"upr\": 11, \"lwr\": 15}, {\"SST\": 9.474747474747474, \"upr\": 11, \"lwr\": 15}, {\"SST\": 9.616161616161616, \"upr\": 11, \"lwr\": 15}, {\"SST\": 9.757575757575758, \"upr\": 11, \"lwr\": 15}, {\"SST\": 9.898989898989898, \"upr\": 11, \"lwr\": 15}, {\"SST\": 10.04040404040404, \"upr\": 11, \"lwr\": 15}, {\"SST\": 10.181818181818182, \"upr\": 11, \"lwr\": 15}, {\"SST\": 10.323232323232324, \"upr\": 11, \"lwr\": 15}, {\"SST\": 10.464646464646464, \"upr\": 11, \"lwr\": 15}, {\"SST\": 10.606060606060606, \"upr\": 11, \"lwr\": 15}, {\"SST\": 10.747474747474747, \"upr\": 11, \"lwr\": 15}, {\"SST\": 10.88888888888889, \"upr\": 11, \"lwr\": 15}, {\"SST\": 11.03030303030303, \"upr\": 11, \"lwr\": 15}, {\"SST\": 11.171717171717171, \"upr\": 11, \"lwr\": 15}, {\"SST\": 11.313131313131313, \"upr\": 11, \"lwr\": 15}, {\"SST\": 11.454545454545453, \"upr\": 11, \"lwr\": 15}, {\"SST\": 11.595959595959595, \"upr\": 11, \"lwr\": 15}, {\"SST\": 11.737373737373737, \"upr\": 11, \"lwr\": 15}, {\"SST\": 11.878787878787879, \"upr\": 11, \"lwr\": 15}, {\"SST\": 12.020202020202019, \"upr\": 11, \"lwr\": 15}, {\"SST\": 12.16161616161616, \"upr\": 11, \"lwr\": 15}, {\"SST\": 12.303030303030303, \"upr\": 11, \"lwr\": 15}, {\"SST\": 12.444444444444445, \"upr\": 11, \"lwr\": 15}, {\"SST\": 12.585858585858585, \"upr\": 11, \"lwr\": 15}, {\"SST\": 12.727272727272727, \"upr\": 11, \"lwr\": 15}, {\"SST\": 12.868686868686869, \"upr\": 11, \"lwr\": 15}, {\"SST\": 13.01010101010101, \"upr\": 11, \"lwr\": 15}, {\"SST\": 13.15151515151515, \"upr\": 11, \"lwr\": 15}, {\"SST\": 13.292929292929292, \"upr\": 11, \"lwr\": 15}, {\"SST\": 13.434343434343434, \"upr\": 11, \"lwr\": 15}, {\"SST\": 13.575757575757574, \"upr\": 11, \"lwr\": 15}, {\"SST\": 13.717171717171716, \"upr\": 11, \"lwr\": 15}, {\"SST\": 13.858585858585858, \"upr\": 11, \"lwr\": 15}, {\"SST\": 14.0, \"upr\": 11, \"lwr\": 15}]}}, {\"mode\": \"vega-lite\"});\n",
       "</script>"
      ],
      "text/plain": [
       "alt.LayerChart(...)"
      ]
     },
     "execution_count": 11,
     "metadata": {},
     "output_type": "execute_result"
    }
   ],
   "source": [
    "# import sea surface temp reconstruction\n",
    "seatemps = pd.read_csv('data/barron-sst.csv')\n",
    "\n",
    "# line plot of time series\n",
    "line = alt.Chart(seatemps).mark_line().encode(\n",
    "    x = alt.X('Age', title = 'Thousands of years before present'),\n",
    "    y = 'SST'\n",
    ")\n",
    "\n",
    "# highlight region with large variations\n",
    "highlight = alt.Chart(\n",
    "    pd.DataFrame(\n",
    "        {'SST': np.linspace(0, 14, 100), \n",
    "         'upr': np.repeat(11, 100), \n",
    "         'lwr': np.repeat(15, 100)}\n",
    "    )\n",
    ").mark_area(opacity = 0.2, color = 'orange').encode(\n",
    "    y = 'SST',\n",
    "    x = alt.X('upr', title = 'Thousands of years before present'),\n",
    "    x2 = 'lwr'\n",
    ")\n",
    "\n",
    "# add smooth trend\n",
    "smooth = line.transform_loess(\n",
    "    on = 'Age',\n",
    "    loess = 'SST',\n",
    "    bandwidth = 0.2\n",
    ").mark_line(color = 'black')\n",
    "\n",
    "# layer\n",
    "line + highlight + smooth"
   ]
  },
  {
   "cell_type": "markdown",
   "metadata": {},
   "source": [
    "### Q1 (d). Conditional distributions of relative abundance\n",
    "\n",
    "Does the distribution of relative abundance of *Azpeitia nodulifer* differ when variation in sea temperatures was higher (before 11KyrBP)? \n",
    "\n",
    "#### (i) Plot kernel density estimates to show the distribution of relative abundances before and after 11KyrBP.\n",
    "\n",
    "1. Use `.transform_caluculate(...)` to calculate an indicator variable, `pre_dryas`, that indicates whether `Age` exceeds 11.\n",
    "\n",
    "2. Use `.transform_density(...)` to compute KDEs separately for observations of relative abundance before and after 11KyrBP.\n",
    "    + *Hint*: group by `pre_dryas`\n",
    "\n",
    "\n",
    "3. Plot the KDEs distinguished by color; give the color legend the title 'Before 11KyrBP' and store the plot as `kdes`.\n",
    "\n",
    "4. Add a shaded area beneath the KDE curves. Adjust the opacity of the area to your liking."
   ]
  },
  {
   "cell_type": "code",
   "execution_count": 12,
   "metadata": {},
   "outputs": [],
   "source": [
    "# solution\n"
   ]
  },
  {
   "cell_type": "markdown",
   "metadata": {},
   "source": [
    "#### (ii) Describe the variation in relative abundance of *Azpeitia nodulifer* between now and 11,000 years ago.\n",
    "\n",
    "*Type your answer here.*"
   ]
  },
  {
   "cell_type": "markdown",
   "metadata": {},
   "source": [
    "#### (iii) Describe the variation in relative abundance of *Azpeitia nodulifer* between 11,000 and 14,000 years ago.\n",
    "\n",
    "*Type your answer here.*"
   ]
  },
  {
   "cell_type": "markdown",
   "metadata": {},
   "source": [
    "---\n",
    "\n",
    "## 2. Visualizing community composition with PCA\n",
    "\n",
    "So far you've seen that the abundances of one taxon -- *Azpeitia nodulifer* -- change markedly before and after a shift in climate conditions. In this part you'll use PCA to explore variation in community composition *among* all eight taxa.\n",
    "\n",
    "Throughout this part, it may help you to refer to code examples from lab 5. "
   ]
  },
  {
   "cell_type": "markdown",
   "metadata": {},
   "source": [
    "### Q2 (a). Pairwise correlations in relative abundances\n",
    "\n",
    "Before carrying out PCA it is a good idea to inspect the correlations between relative abundances directly. Here you'll compute and then visualize the correlation matrix.\n",
    "\n",
    "#### (i) Compute the pairwise correlations between relative abundances.\n",
    "\n",
    "Be sure to remove or set to indices the Depth and Age variables before computing the correlation matrix. Save the matrix as `corr_mx` and print the result. \n",
    "\n",
    "*Hint:* See the [pandas documentation for `.corr()`](https://pandas.pydata.org/docs/reference/api/pandas.DataFrame.corr.html)."
   ]
  },
  {
   "cell_type": "code",
   "execution_count": 13,
   "metadata": {},
   "outputs": [],
   "source": [
    "# solution\n"
   ]
  },
  {
   "cell_type": "markdown",
   "metadata": {},
   "source": [
    "#### (ii) Visualize the correlation matrix as a heatmap\n",
    "\n",
    "Have a look at either lab 5 or [this example](https://altair-viz.github.io/gallery/simple_heatmap.html) (or both!). Notice that to make a heatmap of a matrix, you'll need to melt it into long format.\n",
    "\n",
    "1. Melt `corr_mx` to obtain a dataframe with three columns: \n",
    "    + `row`, which contains the values of the index of `corr_mx` (taxon names); \n",
    "    + `column`, which contains the names of the columns of `corr_mx` (also taxon names); and\n",
    "    + `Correlation`, which contains the values of `corr_mx`.\n",
    "    Store the result as `corr_mx_long`.\n",
    "\n",
    "\n",
    "2. Create an Altair chart based on `corr_mx_long` and construct the heatmap by following the examples indicated above.\n",
    "    + Adjust the color scheme to `blueorange` over the extent (-1, 1) to obtain a diverging color gradient where a correlation of zero is blank (white).\n",
    "    + Adjust the color legend to indicate the color values corresponding to correlations of 1, 0.5, 0, -0.5, and -1.\n",
    "    + Sort the rows and columns in ascending order of correlation. "
   ]
  },
  {
   "cell_type": "code",
   "execution_count": 14,
   "metadata": {},
   "outputs": [],
   "source": [
    "# melt corr_mx\n",
    "\n",
    "# construct plot\n"
   ]
  },
  {
   "cell_type": "markdown",
   "metadata": {},
   "source": [
    "#### (iii) How does the relative abundance of *Azpeitia nodulifer* seem to covary with the other taxa?\n",
    "\n",
    "*Type your answer here.*"
   ]
  },
  {
   "cell_type": "markdown",
   "metadata": {},
   "source": [
    "### Q2 (b). Computing and selecting principal components\n",
    "\n",
    "Here you'll perform all of the calculations involved in PCA and check the variance ratios to select an appropriate number of principal components. The parts of this question correspond to the individual steps in this process.\n",
    "\n",
    "#### (i) Center and scale the data columns.\n",
    "\n",
    "For PCA it is usually recommended to center and scale the data; set Depth and Age as indices and center and scale the relative abundances. Store the result as `pcdata`. "
   ]
  },
  {
   "cell_type": "code",
   "execution_count": 15,
   "metadata": {},
   "outputs": [],
   "source": [
    "# solution\n"
   ]
  },
  {
   "cell_type": "markdown",
   "metadata": {},
   "source": [
    "#### (ii) Compute the principal components.\n",
    "\n",
    "Compute *all 8* principal components. (For this part you do not need to show any specific output.) "
   ]
  },
  {
   "cell_type": "code",
   "execution_count": 16,
   "metadata": {},
   "outputs": [],
   "source": [
    "# solution\n"
   ]
  },
  {
   "cell_type": "markdown",
   "metadata": {},
   "source": [
    "#### (iii) Examine the variance ratios.\n",
    "\n",
    "Create a dataframe called `pcvars` with the variance information by following these steps:\n",
    "\n",
    "1. Store the proportion of variance explained (called `.explained_variance_ratio_` in the PCA output) as a dataframe named `pcvars` with just one column named `Proportion of variance explained`.\n",
    "2. Add a column named `Component` to `pcvars` with the integers 1 through 8 as values (indicating the component number).\n",
    "3. Add a column named `Cumulative variance explained` to `pcvars` that is the cumulative sum of `Proportion of variance explained`.\n",
    "    + *Hint*: slice the `Proportion of variance explained` column and use `.cumsum(axis = ...)`.\n",
    "\n",
    "\n",
    "Print the dataframe `pcvars`."
   ]
  },
  {
   "cell_type": "code",
   "execution_count": 17,
   "metadata": {},
   "outputs": [],
   "source": [
    "# store proportion of variance explained as a dataframe\n",
    "\n",
    "# add component number as a new column\n",
    "\n",
    "# add cumulative variance explained as a new column\n",
    "\n",
    "# print\n"
   ]
  },
  {
   "cell_type": "markdown",
   "metadata": {},
   "source": [
    "#### (iv) Plot the variance explained by each PC.\n",
    "\n",
    "Use `pcvars` to construct a dual-axis plot showing the proportion of variance explained (left y axis) and cumulative variance explained (right y axis) as a function of component number (x axis), with points indicating the variance ratios and lines connecting the points. \n",
    "\n",
    "Follow these steps:\n",
    "\n",
    "1. Construct a base chart that encodes only `Component` on the `X` channel. Store this as `base`.\n",
    "2. Make a base layer for the proportion of variance explained that modifies `base` by encoding `Proportion of variance explained` on the `Y` channel. Store the result as `prop_var_base`.\n",
    "    + Give the `Y` axis title a distinct color of your choosing via `alt.Y(..., axis = alt.Axis(titleColor = ...))`.\n",
    "\n",
    "\n",
    "3. Make a base layer for the cumulative variance explained that modifies `base` by endocing `Cumulative variance explained` on the `Y` channel. Store the result as `cum_var_base`.\n",
    "    + Give the `Y` axis title another distinct color of your choosing via `alt.Y(..., axis = alt.Axis(titleColor = ...))`.\n",
    "\n",
    "\n",
    "4. Create a plot layer for the proportion of variance explained by combining points (`prop_var_base.mark_point()`) with lines (`prop_var_base.mark_line()`). Store the result as `cum_var`.\n",
    "    + Apply the color you chose for the axis title to the points and lines.\n",
    "\n",
    "\n",
    "5. Repeat the previous step for the cumulative variance explained.\n",
    "    + Apply the color you chose for the axis title to the points and lines.\n",
    "\n",
    "\n",
    "6. Layer the plots together using `alt.layer(l1, l2).resolve_scale(y = 'independent')`."
   ]
  },
  {
   "cell_type": "code",
   "execution_count": 18,
   "metadata": {},
   "outputs": [],
   "source": [
    "# encode component axis only as base layer\n",
    "\n",
    "# make a base layer for the proportion of variance explained\n",
    "\n",
    "# make a base layer for the cumulative variance explained\n",
    "\n",
    "# add points and lines to each base layer\n",
    "\n",
    "# layer the layers\n"
   ]
  },
  {
   "cell_type": "markdown",
   "metadata": {},
   "source": [
    "#### (v) How many PCs?\n",
    "\n",
    "How many principal components capture a high proportion of covariation in relative abundances? How much total variation do these explain together?"
   ]
  },
  {
   "cell_type": "markdown",
   "metadata": {},
   "source": [
    "#### Answer\n",
    "\n",
    "*Type your answer here.*"
   ]
  },
  {
   "cell_type": "markdown",
   "metadata": {},
   "source": [
    "### Q2 (c). Interpreting component loadings\n",
    "\n",
    "Now that you've performed the calculations for PCA, you can move on to the fun part: figuring out what they say about the data!\n",
    "\n",
    "The first step in this process is to examine the loadings. Each principal component is a linear combination of the relative abundances by taxon, and the loadings tell you *how* that combination is formed; the loadings are the linear combination coefficients, and thus correspond to the weight of each taxon in the corresponding principal component. Some useful points to keep in mind:\n",
    "* a high loading value (negative or positive) indicates that a variable strongly influences the principal component;\n",
    "* a negative loading value indicates that\n",
    "    + increases in the value of a variable *decrease* the value of the principal component \n",
    "    + and decreases in the value of a variable *increase* the value of the principal component;\n",
    "* a positive loading value indicates that \n",
    "    + increases in the value of a variable *increase* the value of the principal component\n",
    "    + and decreases in the value of a variable *decrease* the value of the principal component;\n",
    "* similar loadings between two or more variables indicate that the principal component reflects their *average*;\n",
    "* divergent loadings between two sets of variables indicates that the principal component reflects their *difference*.\n",
    "\n",
    "#### (i) Extract the loadings from `pca`.\n",
    "\n",
    "Store the loadings for the first two principal components in a dataframe named `loading_df`. Name the columns `PC1` and `PC2`, and append a column `Taxon` with the corresponding variable names, and print the resulting dataframe."
   ]
  },
  {
   "cell_type": "code",
   "execution_count": 19,
   "metadata": {},
   "outputs": [],
   "source": [
    "# store the loadings as a data frame with appropriate names\n",
    "\n",
    "# add a column with the taxon names\n",
    "\n",
    "# print\n"
   ]
  },
  {
   "cell_type": "markdown",
   "metadata": {},
   "source": [
    "#### (ii) Loading plots\n",
    "\n",
    "Construct a line-and-point plot connecting the loadings of the first two principal components. Display the value of the loading on the y axis and the taxa names on the x axis, and show points indicating the loading values. Distinguish the PC's by color, and add lines connecting the loading values for each principal component.\n",
    "\n",
    "*Hint*: you will need to first melt `loading_df` to long form with three columns -- the taxon name, the principal component (1 or 2), and the value of the loading."
   ]
  },
  {
   "cell_type": "code",
   "execution_count": 20,
   "metadata": {},
   "outputs": [],
   "source": [
    "# melt from wide to long\n",
    "\n",
    "# create base layer with encoding\n",
    "\n",
    "# store horizontal line at zero\n",
    "\n",
    "# layer points + lines + rule to construct loading plot\n",
    "\n",
    "# show\n"
   ]
  },
  {
   "cell_type": "markdown",
   "metadata": {},
   "source": [
    "#### (iii) Interpret the first principal component.\n",
    "\n",
    "Indicate the following:\n",
    "* which taxa are up-weighted and which are down-weighted;\n",
    "* how you would describe the principal component in context (*e.g.*, average abundance among a group, differences in abundances, etc.);\n",
    "* and how you would interpret a positive value of the PC versus a negative value of the PC in terms of diatom communnity composition.\n",
    "\n",
    "#### Answer\n",
    "\n",
    "*Type your answer here.*"
   ]
  },
  {
   "cell_type": "markdown",
   "metadata": {},
   "source": [
    "#### (iv) Interpret the second principal component.\n",
    "\n",
    "Indicate the following:\n",
    "* which taxa are up-weighted and which are down-weighted;\n",
    "* how you would describe the principal component in context (*e.g.*, average abundance among a group, differences in abundances, etc.);\n",
    "* and how you would interpret a positive value of the PC versus a negative value of the PC in terms of diatom community composition.\n",
    "\n",
    "#### Answer\n",
    "\n",
    "*Type your answer here.*"
   ]
  },
  {
   "cell_type": "markdown",
   "metadata": {},
   "source": [
    "### Q2 (d). Visualizing community composition\n",
    "\n",
    "Take a moment to recall that there was a shift in the *A. nodulifer* abundance before and after around 11,000 years ago, which roughly corresponded to a major transition in the earth's climate. \n",
    "\n",
    "Well, you can now use PCA to investigate whether not just individual abundances but *community composition* may have shifted around that time. To that end, let's think of the principal components as 'community composition indices':\n",
    "* consider PC1 a nodulifer/non-nodulifer community composition index; and \n",
    "* consider PC2 a complex community composition index. \n",
    "\n",
    "A pattern of variation or covariation in the principal components can be thought of as reflecting a particular ecological community composition dynamic -- a way that community composition varies throughout time. Here you'll look for distinct patterns of variation/covariation before and after 11,000 years ago via an exploratory plot of the principal components."
   ]
  },
  {
   "cell_type": "markdown",
   "metadata": {},
   "source": [
    "#### (i) Project the centered and scaled data onto the first two component directions.\n",
    "\n",
    "This sounds a little more complicated than it is -- all that means is compute the values of the principal components for each data point. \n",
    "\n",
    "Create a dataframe called `projected_data` containing just the first two principal components as two columns named `PC1` and `PC2`, and two additional columns with the Age and Depth variables. \n",
    "\n",
    "Print the first four rows of `projected_data`."
   ]
  },
  {
   "cell_type": "code",
   "execution_count": 21,
   "metadata": {},
   "outputs": [],
   "source": [
    "# project pcdata onto first two components; store as data frame\n",
    "\n",
    "# add index and reset\n",
    "\n",
    "# print\n"
   ]
  },
  {
   "cell_type": "markdown",
   "metadata": {},
   "source": [
    "#### (ii) Construct a scatterplot of PC1 and PC2 by age indicator.\n",
    "\n",
    "Follow these steps to construct a scatterplot of the principal components.\n",
    "\n",
    "1. Create an Altair chart based on `projected_data` and use `.transform_calculate(...)` to define a variable `since_11KyrBP` that indicates whether `Age` is older than 11,000 years. Store the result as `base`.\n",
    "2. Modify `base` to add points with the following encodings. \n",
    "    + Pass PC1 to the `X` encoding channel and title the axis 'A. Nodulifer/non-A. nodulifer composition'.\n",
    "    + Pass PC2 to the `Y` encoding channel and title the axis 'Complex community composition'.\n",
    "    + Pass the variable you created in step 1. to the `color` encoding channel and title it 'More recent than 11KyrBP'.\n",
    "    Store the result as `scatter`.\n",
    "    \n",
    "Show the scatterplot once you complete these steps."
   ]
  },
  {
   "cell_type": "code",
   "execution_count": 22,
   "metadata": {},
   "outputs": [],
   "source": [
    "# base chart\n",
    "\n",
    "# data scatter\n",
    "\n",
    "# show\n"
   ]
  },
  {
   "cell_type": "markdown",
   "metadata": {},
   "source": [
    "#### (iii) Add top and side panels with KDE curves.\n",
    "\n",
    "Construct plots of kernel density estimates for each principal component conditional on age being older than 11,000 years:\n",
    "* modify `base` to create a `top_panel` plot with the KDE curves for PC1, with color corresponding to the age indicator from the `.transform_calculate(...)` step in making the base layer;\n",
    "* modify `base` again to create a `side_panel` plot with the KDE curves for PC2, rotated 90 degrees relative to the usual orientation (flip the typical axes), and with color corresponding to the age indicator from the `.transform_calculate(...)` step in making the base layer.\n",
    "\n",
    "Then, resize these panels appropriately (top should be thin, side should be narrow), and use Altair's faceting operators `&` (vertical concatenation) and `|` (horizontal concatenation) to combine them with your scatterplot."
   ]
  },
  {
   "cell_type": "code",
   "execution_count": 23,
   "metadata": {},
   "outputs": [],
   "source": [
    "# construct upper panel (kdes for pc1)\n",
    "\n",
    "# construct side panel (kdes for pc2)\n",
    "\n",
    "# facet\n"
   ]
  },
  {
   "cell_type": "markdown",
   "metadata": {},
   "source": [
    "---\n",
    "\n",
    "## 3. Communicating results\n",
    "\n",
    "Take a moment to review and reflect on the results of your analysis in the previous parts. Think about how you would describe succinctly what you've learned from the diatom data."
   ]
  },
  {
   "cell_type": "markdown",
   "metadata": {},
   "source": [
    "### Q3 (a). Summary\n",
    "\n",
    "Write a brief paragraph (3-5 sentences) that addresses the following questions by referring to your final plot in Q2 (d).\n",
    "* How would you characterize the typical ecological community composition of diatom taxa before and after 11,000 years ago?\n",
    "    + *Hint*: focus on the side and top panels and the typical values of each index in the two time periods.\n",
    "* Does the variation in ecological community composition over time seem to differ before and after 11,000 years ago?\n",
    "    + *Hint*: focus on the shape of data scatter."
   ]
  },
  {
   "cell_type": "markdown",
   "metadata": {},
   "source": [
    "#### Answer\n",
    "\n",
    "*Type your answer here.*"
   ]
  },
  {
   "cell_type": "markdown",
   "metadata": {},
   "source": [
    "### Q3 (b). Further work\n",
    "\n",
    "What more might you like to know, given what you've learned? Pose a question that your exploratory analysis raises for you."
   ]
  },
  {
   "cell_type": "markdown",
   "metadata": {},
   "source": [
    "#### Answer\n",
    "\n",
    "*Type your answer here.*"
   ]
  },
  {
   "cell_type": "markdown",
   "metadata": {
    "tags": []
   },
   "source": [
    "---\n",
    "## Submission Checklist\n",
    "1. Save file to confirm all changes are on disk\n",
    "2. Run *Kernel > Restart & Run All* to execute all code from top to bottom\n",
    "3. Save file again to write any new output to disk\n",
    "4. Select *File > Download as > HTML*.\n",
    "5. Open in Google Chrome and print to PDF on A3 paper in portrait orientation.\n",
    "6. Submit to Gradescope"
   ]
  }
 ],
 "metadata": {
  "kernelspec": {
   "display_name": "Python 3",
   "language": "python",
   "name": "python3"
  },
  "language_info": {
   "codemirror_mode": {
    "name": "ipython",
    "version": 3
   },
   "file_extension": ".py",
   "mimetype": "text/x-python",
   "name": "python",
   "nbconvert_exporter": "python",
   "pygments_lexer": "ipython3",
   "version": "3.8.5"
  }
 },
 "nbformat": 4,
 "nbformat_minor": 4
}
