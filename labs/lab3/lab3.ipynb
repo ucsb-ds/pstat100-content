{
 "cells": [
  {
   "cell_type": "code",
   "execution_count": null,
   "metadata": {},
   "outputs": [],
   "source": [
    "import pandas as pd\n",
    "import numpy as np\n",
    "import altair as alt"
   ]
  },
  {
   "cell_type": "markdown",
   "metadata": {},
   "source": [
    "# Lab 3: Data visualization\n",
    "\n",
    "Data visualizations are graphics that represent quantitative or qualitative data. In PSTAT100 you'll be using the python visualization library Altair, which is built around the pandas dataframe. Altair creates visualizations by mapping columns of a dataframe to the various elements of a graphic: axes, geometric objects, and aesthetics.\n",
    "\n",
    "Visualizations are immensely useful tools in exploratory analysis as well as presentation, and are thus an essential tool for the data scientist. Visualizations can help an analyst identify and understand structure and patterns in a dataset at a high level and act as a guide for how to proceed with an analysis. Additionally, they can be an extremely effective means for conveying results to a general audience.\n",
    "\n",
    "Constructing effective visualization is usually an iterative process: plot-think-revise-plot-think-revise-plot-think-revise. In exploratory visualization often it is useful to produce a large quantity of plots in order to look at data from multiple angles; in this context, speed is helpful and details can be overlooked. By contrast, presentation graphics are typically highly refined versions of one or two exploratory plots that serve as communication tools; developing them involves attention to fine detail.\n",
    "\n",
    "---\n",
    "\n",
    "### Objectives\n",
    "\n",
    "In this lab you'll become familiar with the basic functionality of Altair -- that is, the basic kinds of graphics it generates and *how* to construct these graphics from a dataframe -- and get a taste of the process of constructing good graphics. \n",
    "\n",
    "In general, plots are constructed by:\n",
    "1. creating a *chart*\n",
    "2. specifying *marks and encodings*\n",
    "3. adding various *aesthetics*, and \n",
    "4. resolving display issues through *customization*.\n",
    "\n",
    "**Technical tutorial**. You'll get an introduction to each of these steps:\n",
    "* Creating a chart object from a dataframe\n",
    "* Encodings: mapping columns to graphical elements\n",
    "* Marks: geometric objects displayed on a plot (*e.g.*, points, lines, polygons)\n",
    "* Aesthetics: display attributes of geometric objects (*e.g.*, color, shape, transparency)\n",
    "* Customization: adjusting axes, labels, scales.\n",
    "\n",
    "**Visualization process**. In addition, our goal is to model for you the process of constructing a good visualization through iterative revisions.\n",
    "* Identifying and fixing display problems\n",
    "* Discerning informative from non-informative graphical elements\n",
    "* Designing efficient displays\n",
    "\n",
    "---\n",
    "\n",
    "## Background: elements of graphics\n",
    "\n",
    "To understand why Altair (and other common visualization libraries like ggplot in R) works the way it does, it is helpful to have a framework for characterizing the elements of a graphic. Broadly speaking, graphics consist of sets of **axes**, **geometric objects** plotted on those axes, **aesthetic attributes** of geometric objects, and **text** used to label axes, objects, or aesthetics. \n",
    "\n",
    "Altair constructs plots by mapping columns of a dataframe to each of these elements. A set of such mappings is referred to as an *encoding*, and the elements of a graphic that a dataframe column can be mapped to are called *encoding channels*.\n",
    "\n",
    "#### Axes\n",
    "\n",
    "Axes establish a reference system for a graphic: they define a space within which the graphic will be constructed. Usually these are coordinate systems defined at a particular scale, like Cartesian coordinates on the region (0, 100) x (0, 100), or polar coordinates on the unit circle, or geographic coordinates for the globe.\n",
    "\n",
    "In Altair, axes are automatically determined based on encodings, but are customizable to an extent.\n",
    "\n",
    "#### Geometric objects\n",
    "\n",
    "Geometric objects are any objects superimposed on a set of axes: points, lines, polygons, circles, bars, arcs, curves, and the like. Often, visualizations are characterized according to the type of object used to display data -- for example, the *scatterplot* consists of points, a *bar plot* consists of bars, a *line plot* consists of one or more lines, and so on.\n",
    "\n",
    "In Altair, geometric objects are called *marks*.\n",
    "\n",
    "#### Aesthetic attributes\n",
    "\n",
    "The word 'aesthetics' is used in a variety of ways in relation to graphics; you will see this in your reading. For us, 'aesthetic attirbutes' will refer to attributes of geometric objects like color. The primary aesthetics in statistical graphics are color, opacity, shape, and size. \n",
    "\n",
    "In Altair, aesthetic attributes are called *mark properties*.\n",
    "\n",
    "#### Text\n",
    "\n",
    "Text is used in graphics to label axes, geometric objects, and legends for aesthetic mappings. Text specification is usually a step in customization for presentation graphics, but often skipped in exploratory graphics. Carefully chosen text is very important in this context, because it provides essential information that a general reader needs to interpret a plot.\n",
    "\n",
    "In Altair, text is usually controlled as part of encoding specification.\n",
    "\n",
    "---"
   ]
  },
  {
   "cell_type": "markdown",
   "metadata": {},
   "source": [
    "## 0. Dataset: GDP and life expectancy\n",
    "\n",
    "We'll be illustrating Altair functionality and visualization process using a dataset comprising observations of life expectancies at birth for men, women, and the general population, along with GDP per capita and total population for 158 countries at approximately five-year intervals from 2000 to 2019.\n",
    "\n",
    "* Observational units: countries.\n",
    "* Variables: country, year, life expectancy at birth (men, women, all), GDP per capita, total population, region (continent), and subregion.\n",
    "\n",
    "The data come from merging several smaller datasets, mostly collected from [World Bank Open Data](https://data.worldbank.org/). The result is essentially a convenience sample, but descriptive analyses without inference are nonetheless interesting and suggestive.\n",
    "\n",
    "Your focus won't be on acquainting yourself with the data carefully or on tidying. The cell below imports and merges component datasets. "
   ]
  },
  {
   "cell_type": "code",
   "execution_count": null,
   "metadata": {},
   "outputs": [],
   "source": [
    "# import and format country regional information\n",
    "countryinfo = pd.read_csv(\n",
    "    'data/country-info.csv'\n",
    ").iloc[:, [2, 5, 6]].rename(\n",
    "    columns = {'alpha-3': 'Country Code'}\n",
    ")\n",
    "\n",
    "# import and format gdp per capita\n",
    "gdp = pd.read_csv(\n",
    "    'data/gdp-per-capita.csv', encoding = 'latin1'\n",
    ").drop(columns = ['Indicator Name', 'Indicator Code']).melt(\n",
    "    id_vars = ['Country Name', 'Country Code'],\n",
    "    var_name = 'Year',\n",
    "    value_name = 'GDP per capita'\n",
    ").astype({'Year': 'int64'})\n",
    "\n",
    "# import life expectancies\n",
    "life = pd.read_csv('data/life-expectancy.csv')\n",
    "\n",
    "# import population data\n",
    "pop = pd.read_csv(\n",
    "    'data/population.csv', encoding = 'latin1'\n",
    ").melt(\n",
    "    id_vars = ['Country Name', 'Country Code'],\n",
    "    var_name = 'Year',\n",
    "    value_name = 'Population'\n",
    ").astype({'Year': 'int64'}).drop(columns = 'Country Name')\n",
    "\n",
    "# merge\n",
    "merge1 = pd.merge(life, gdp, how = 'left', on = ['Country Name', 'Year'])\n",
    "merge2 = pd.merge(merge1, countryinfo, how = 'left', on = ['Country Code'])\n",
    "merge3 = pd.merge(merge2, pop, how = 'left', on = ['Country Code', 'Year'])\n",
    "\n",
    "# final data\n",
    "data = merge3.dropna().drop(\n",
    "    columns = 'Country Code'\n",
    ")"
   ]
  },
  {
   "cell_type": "code",
   "execution_count": null,
   "metadata": {},
   "outputs": [],
   "source": [
    "data.head()"
   ]
  },
  {
   "cell_type": "markdown",
   "metadata": {},
   "source": [
    "## 1. A starting point: scatterplot of life expectancy against GDP per capita\n",
    "\n",
    "Here you'll see how marks and encodings work in a basic sense, along with some examples of how to adjust encodings. \n",
    "\n",
    "The following cell constructs a scatterplot of life expectancy at birth against GDP per capita; each point corresponds to one country in one year. The syntax works as follows:\n",
    "* `alt.Chart()` begins by constructing a 'chart' object constructed from the dataframe;\n",
    "* the result is passed to `.mark_circle()`, which specifies a geometric object (circles) to add to the chart;\n",
    "* the result is passed to `.encode()`, which specifies which columns should be used to determine the coordinates of the circles."
   ]
  },
  {
   "cell_type": "code",
   "execution_count": null,
   "metadata": {},
   "outputs": [],
   "source": [
    "# basic scatterplot\n",
    "alt.Chart(data).mark_circle().encode(\n",
    "    x = 'GDP per capita',\n",
    "    y = 'All'\n",
    ")"
   ]
  },
  {
   "cell_type": "markdown",
   "metadata": {},
   "source": [
    "### Q1 (a). Different marks\n",
    "\n",
    "The cell below is a copy of the previous cell. Have a look at the [documentation on marks](https://altair-viz.github.io/user_guide/marks.html) for a list of the possible mark types. Try out a few alternatives to see what they look like! Once you're satisfied, change the mark to points. What is the difference between points and circles, according to the documentation?"
   ]
  },
  {
   "cell_type": "code",
   "execution_count": null,
   "metadata": {},
   "outputs": [],
   "source": [
    "# basic scatterplot\n",
    "alt.Chart(data).mark_circle().encode( # your turn here\n",
    "    x = 'GDP per capita',\n",
    "    y = 'All'\n",
    ")"
   ]
  },
  {
   "cell_type": "markdown",
   "metadata": {},
   "source": [
    "#### Answer\n",
    "Points can have many shapes; circles can not."
   ]
  },
  {
   "cell_type": "markdown",
   "metadata": {},
   "source": [
    "### Axis adjustments with `alt.X()` and `alt.Y()`"
   ]
  },
  {
   "cell_type": "markdown",
   "metadata": {},
   "source": [
    "An initial problem that would be good to resolve before continuing is that the y axis label isn't informative. Let's change that by wrapping the column to encode in `alt.Y()` and specifying the title manually. "
   ]
  },
  {
   "cell_type": "code",
   "execution_count": null,
   "metadata": {},
   "outputs": [],
   "source": [
    "# change axis label\n",
    "alt.Chart(data).mark_circle().encode(\n",
    "    x = 'GDP per capita',\n",
    "    y = alt.Y('All', title = 'Life expectancy at birth')\n",
    ")"
   ]
  },
  {
   "cell_type": "markdown",
   "metadata": {},
   "source": [
    "`alt.Y()` and `alt.X()` are helper functions that modify encoding specifications. The cell below adjusts the scale of the y axis as well; since above there are no life expectancies below 30, starting the y axis at 0 adds whitespace."
   ]
  },
  {
   "cell_type": "code",
   "execution_count": null,
   "metadata": {},
   "outputs": [],
   "source": [
    "# don't start y axis at zero\n",
    "alt.Chart(data).mark_circle().encode(\n",
    "    x = 'GDP per capita',\n",
    "    y = alt.Y('All', title = 'Life expectancy at birth', scale = alt.Scale(zero = False))\n",
    ")"
   ]
  },
  {
   "cell_type": "markdown",
   "metadata": {},
   "source": [
    "In the plot above, there are a lot of points squished together near $x = 0$. It will make it easier to see the pattern of scatter in that region to adjust the x axis so that values are not displayed on a linear scale. Using `alt.Scale()` allows for efficient axis rescaling; the cell below puts GDP per capita on a log scale. "
   ]
  },
  {
   "cell_type": "code",
   "execution_count": null,
   "metadata": {},
   "outputs": [],
   "source": [
    "# log scale for x axis\n",
    "alt.Chart(data).mark_circle().encode(\n",
    "    x = alt.X('GDP per capita', scale = alt.Scale(type = 'log')),\n",
    "    y = alt.Y('All', title = 'Life expectancy at birth', scale = alt.Scale(zero = False))\n",
    ")"
   ]
  },
  {
   "cell_type": "markdown",
   "metadata": {},
   "source": [
    "### Q1 (b). Changing axis scale\n",
    "\n",
    "Try a different scale by modifying the `type = ...` argument of `alt.Scale` in the cell below. Look at the [altair documentation](https://altair-viz.github.io/user_guide/generated/core/altair.Scale.html) for a list of the possible types."
   ]
  },
  {
   "cell_type": "code",
   "execution_count": null,
   "metadata": {},
   "outputs": [],
   "source": [
    "# try another axis scale\n",
    "alt.Chart(data).mark_circle().encode(\n",
    "    x = alt.X('GDP per capita', scale = alt.Scale(type = 'log')), # your turn here\n",
    "    y = alt.Y('All', title = 'Life expectancy at birth', scale = alt.Scale(zero = False))\n",
    ")"
   ]
  },
  {
   "cell_type": "markdown",
   "metadata": {},
   "source": [
    "---\n",
    "## 2. Using aesthetic attributes to display other variables\n",
    "\n",
    "Now that you have a basic plot, you can start experimenting with aesthetic attributes. Here you'll see examples of how to add aesthetics, and how to use them effectively to display information from other variables in the dataset.\n",
    "\n",
    "Let's start simple. The points are a little too on top of one another. Opacity (or transparency) can be added as an aesthetic to the mark to help visually identify tightly clustered points better. The cell below does this by *specifying a global value for the aesthetic at the mark level*."
   ]
  },
  {
   "cell_type": "code",
   "execution_count": null,
   "metadata": {
    "tags": []
   },
   "outputs": [],
   "source": [
    "# change opacity globally to fixed value\n",
    "alt.Chart(data).mark_circle(opacity = 0.5).encode(\n",
    "    x = alt.X('GDP per capita', scale = alt.Scale(type = 'log')),\n",
    "    y = alt.Y('All', title = 'Life expectancy at birth', scale = alt.Scale(zero = False))\n",
    ")"
   ]
  },
  {
   "cell_type": "markdown",
   "metadata": {},
   "source": [
    "If instead of simply modifying an aesthetic, we want to use it to display variable information, we could instead specify the attribute *through an encoding*, as below:"
   ]
  },
  {
   "cell_type": "code",
   "execution_count": null,
   "metadata": {
    "tags": []
   },
   "outputs": [],
   "source": [
    "# use opacity as an encoding channel\n",
    "alt.Chart(data).mark_circle().encode(\n",
    "    x = alt.X('GDP per capita', scale = alt.Scale(type = 'log')),\n",
    "    y = alt.Y('All', title = 'Life expectancy at birth', scale = alt.Scale(zero = False)),\n",
    "    opacity = 'Year'\n",
    ")"
   ]
  },
  {
   "cell_type": "markdown",
   "metadata": {},
   "source": [
    "Notice that there's not actually any data for 2005. Isn't it odd, then, that the legend includes an opacity value for that year? This is because the variable year is automatically treated as quantitative due to its data type (integer). If we want to instead have a unique value of opacity for each year (*i.e.*, use a discrete scale), we can coerce the data type *within Altair* by putting an `:N` (for nominal) after the column name."
   ]
  },
  {
   "cell_type": "code",
   "execution_count": null,
   "metadata": {
    "tags": []
   },
   "outputs": [],
   "source": [
    "# use opacity as an encoding channel\n",
    "alt.Chart(data).mark_circle().encode(\n",
    "    x = alt.X('GDP per capita', scale = alt.Scale(type = 'log')),\n",
    "    y = alt.Y('All', title = 'Life expectancy at birth', scale = alt.Scale(zero = False)),\n",
    "    opacity = 'Year:N' # change here -- treat year as nominal\n",
    ")"
   ]
  },
  {
   "cell_type": "markdown",
   "metadata": {},
   "source": [
    "This displays more recent data in darker shades. Nice, but not especially informative. Let's try encoding year with color instead."
   ]
  },
  {
   "cell_type": "markdown",
   "metadata": {},
   "source": [
    "### Q2 (a). Color encoding\n",
    "\n",
    "Map year (as nominal) to color."
   ]
  },
  {
   "cell_type": "code",
   "execution_count": null,
   "metadata": {
    "tags": []
   },
   "outputs": [],
   "source": [
    "# map year to color\n",
    "..."
   ]
  },
  {
   "cell_type": "markdown",
   "metadata": {},
   "source": [
    "Pretty, but there's not a clear pattern, so the color aesthetic for year doesn't make the plot any more informative. This **doesn't** mean that year is unimportant; just that color probably isn't the best choice to show year. \n",
    "\n",
    "Let's try to find a color variable that does add information to the plot. When region is mapped to color, there is a clear(er) pattern consisting of sets of overlapping clusters. This communicates visually that there's some similarity in the relationship between GDP and life-expectancy among countries in the same region."
   ]
  },
  {
   "cell_type": "code",
   "execution_count": null,
   "metadata": {
    "tags": []
   },
   "outputs": [],
   "source": [
    "# map region to color\n",
    "alt.Chart(data).mark_circle(opacity = 0.5).encode(\n",
    "    x = alt.X('GDP per capita', scale = alt.Scale(type = 'log')),\n",
    "    y = alt.Y('All', title = 'Life expectancy at birth', scale = alt.Scale(zero = False)),\n",
    "    color = 'region'\n",
    ")"
   ]
  },
  {
   "cell_type": "markdown",
   "metadata": {},
   "source": [
    "That's a little more interesting. Let's add another variable: map population to size, so that points are displayed in proportion to the country's total population."
   ]
  },
  {
   "cell_type": "code",
   "execution_count": null,
   "metadata": {
    "tags": []
   },
   "outputs": [],
   "source": [
    "# map population to size\n",
    "alt.Chart(data).mark_circle(opacity = 0.5).encode(\n",
    "    x = alt.X('GDP per capita', scale = alt.Scale(type = 'log')),\n",
    "    y = alt.Y('All', title = 'Life expectancy at birth', scale = alt.Scale(zero = False)),\n",
    "    color = 'region',\n",
    "    size = 'Population'\n",
    ")"
   ]
  },
  {
   "cell_type": "markdown",
   "metadata": {},
   "source": [
    "Great, but highly populous countries in Asia are so much larger than countries in other regions that, when size is displayed on a linear scale, too many data points are hardly visible. Just like the axes were rescaled using `alt.X()` and `alt.Scale()`, other encoding channels can be rescaled, too. Below, size is put on a square root scale."
   ]
  },
  {
   "cell_type": "code",
   "execution_count": null,
   "metadata": {
    "tags": []
   },
   "outputs": [],
   "source": [
    "# rescale size\n",
    "alt.Chart(data).mark_circle(opacity = 0.5).encode(\n",
    "    x = alt.X('GDP per capita', scale = alt.Scale(type = 'log')),\n",
    "    y = alt.Y('All', title = 'Life expectancy at birth', scale = alt.Scale(zero = False)),\n",
    "    color = 'region',\n",
    "    size = alt.Size('Population', scale = alt.Scale(type = 'sqrt')) # change here\n",
    ")"
   ]
  },
  {
   "cell_type": "markdown",
   "metadata": {},
   "source": [
    "Not only does this add information, but it makes the regional clusters a little more visible!"
   ]
  },
  {
   "cell_type": "markdown",
   "metadata": {},
   "source": [
    "## 3. Faceting\n",
    "\n",
    "Your previous graphic looks pretty good, and is nearly presentation-quality. However, it still doesn't display year information. As a result, each country appears multiple times in the same plot.\n",
    "\n",
    "*Faceting* is another term for making a panel of plots. This can be used to make separate plots for each year, so that every obeservational unit (country) only appears once on each plot, and possibly an effect of year will be evident.  "
   ]
  },
  {
   "cell_type": "code",
   "execution_count": null,
   "metadata": {
    "tags": []
   },
   "outputs": [],
   "source": [
    "# facet by year\n",
    "alt.Chart(data).mark_circle(opacity = 0.5).encode(\n",
    "    x = alt.X('GDP per capita', scale = alt.Scale(type = 'log')),\n",
    "    y = alt.Y('All', title = 'Life expectancy at birth', scale = alt.Scale(zero = False)),\n",
    "    color = 'region',\n",
    "    size = alt.Size('Population', scale = alt.Scale(type = 'sqrt'))\n",
    ").facet(\n",
    "    column = 'Year'\n",
    ")"
   ]
  },
  {
   "cell_type": "markdown",
   "metadata": {},
   "source": [
    "### Q3 (a) Now each panel is too big. \n",
    "\n",
    "Reize the individual facets using `.properties(width = ..., height = ...)`. This has to be done *before* faceting. Try a few values before settling on a size that you like."
   ]
  },
  {
   "cell_type": "code",
   "execution_count": null,
   "metadata": {
    "tags": []
   },
   "outputs": [],
   "source": [
    "# resize facets\n",
    "alt.Chart(data).mark_circle(opacity = 0.5).encode(\n",
    "    x = alt.X('GDP per capita', scale = alt.Scale(type = 'log')),\n",
    "    y = alt.Y('All', title = 'Life expectancy at birth', scale = alt.Scale(zero = False)),\n",
    "    color = 'region',\n",
    "    size = alt.Size('Population', scale = alt.Scale(type = 'sqrt'))\n",
    ").properties(\n",
    "    # your turn here\n",
    ").facet(\n",
    "    column = 'Year'\n",
    ")"
   ]
  },
  {
   "cell_type": "markdown",
   "metadata": {},
   "source": [
    "Looks like life expecancy is increasing over time! Can we also display the life expectancies for each sex separately? To do this, we'll need to rearrange the dataframe a little -- untidy it so that we have one variable that indicates sex, and another that indicates life expectancy."
   ]
  },
  {
   "cell_type": "markdown",
   "metadata": {},
   "source": [
    "### Q3 (b). Melt for plotting purposes\n",
    "\n",
    "Drop the `All` column and melt the `Male`, and `Female` columns of `data` so that:\n",
    "* the values appear in a column called `Life expectancy at birth`;\n",
    "* the variable names appear in a column called `Group`.\n",
    "\n",
    "Store the result as `plot_df` and print the first few rows. It may be helpful to check the [pandas documentation on melt](https://pandas.pydata.org/docs/reference/api/pandas.DataFrame.melt.html?highlight=melt#pandas.DataFrame.melt)."
   ]
  },
  {
   "cell_type": "code",
   "execution_count": null,
   "metadata": {},
   "outputs": [],
   "source": [
    "# melt\n",
    "plot_df = ...\n",
    "\n",
    "# print first few rows\n"
   ]
  },
  {
   "cell_type": "markdown",
   "metadata": {},
   "source": [
    "You will need to complete the part above correctly before moving on. The first several rows of `plot_df` should match the following:"
   ]
  },
  {
   "cell_type": "code",
   "execution_count": null,
   "metadata": {},
   "outputs": [],
   "source": [
    "# check result\n",
    "pd.read_csv('data/plotdf-check.csv')"
   ]
  },
  {
   "cell_type": "markdown",
   "metadata": {},
   "source": [
    "Now you can use the `Group` variable you defined to facet by both year and sex. This is shown below:"
   ]
  },
  {
   "cell_type": "code",
   "execution_count": null,
   "metadata": {
    "tags": []
   },
   "outputs": [],
   "source": [
    "# facet by both year and sex\n",
    "alt.Chart(plot_df[plot_df['Group'] != 'All']).mark_circle(opacity = 0.5).encode(\n",
    "    x = alt.X('GDP per capita', scale = alt.Scale(type = 'log')),\n",
    "    y = alt.Y('Life expectancy at birth:Q', scale = alt.Scale(zero = False)), \n",
    "    color = 'region',\n",
    "    size = alt.Size('Population', scale = alt.Scale(type = 'sqrt'))\n",
    ").properties(\n",
    "    width = 250, \n",
    "    height = 250\n",
    ").facet(\n",
    "    column = 'Year',\n",
    "    row = 'Group'\n",
    ")"
   ]
  },
  {
   "cell_type": "markdown",
   "metadata": {},
   "source": [
    "### Q3 (c). Adjusting facet layout\n",
    "\n",
    "It's a little hard to line up the patterns visually between sexes because they are aligned on GDP per capita, not life expectancy -- so we can't really tell without moving our eyes back and forth and checking the axis ticks whether there's much difference in life expectancy rates by sex. Switching the row/column layout gives a better result. Modify the cell below so that facet columns correspond to sex and facet rows correspond to years."
   ]
  },
  {
   "cell_type": "code",
   "execution_count": null,
   "metadata": {
    "tags": []
   },
   "outputs": [],
   "source": [
    "# facet by both year and sex\n",
    "alt.Chart(plot_df[plot_df['Group'] != 'All']).mark_circle(opacity = 0.5).encode(\n",
    "    x = alt.X('GDP per capita', scale = alt.Scale(type = 'log')),\n",
    "    y = alt.Y('Life expectancy at birth:Q', scale = alt.Scale(zero = False)), \n",
    "    color = 'region',\n",
    "    size = alt.Size('Population', scale = alt.Scale(type = 'sqrt'))\n",
    ").properties(\n",
    "    width = 250, \n",
    "    height = 250\n",
    ").facet(\n",
    "    column = 'Year', # your turn here\n",
    "    row = 'Group' # your turn here\n",
    ")"
   ]
  },
  {
   "cell_type": "markdown",
   "metadata": {},
   "source": [
    "So life expectancy is a bit lower for men on average. But from the plot it's hard to tell if some countries reverse this pattern, since you can't really tell which country is which. Also, the panel is a bit cumbersome. Take a moment to consider how you might improve these issues, and then move on to our suggestion below."
   ]
  },
  {
   "cell_type": "markdown",
   "metadata": {},
   "source": [
    "### Q3 (d). Data transformation and re-plotting\n",
    "\n",
    "A simple data transformation can help give a clearer and more concise picture of how life expectancy differs by sex. Perform the following steps:\n",
    "* append a new variable `Difference` to `data` that gives the difference between female and male (F - M) life expectancies in each country and year;\n",
    "* modify the your plot in Q3 (b) (general life expectancy against GDP per capita by year) to instead plot the difference in life expectancies at birth against GDP per capita by year.\n",
    "\n",
    "When modifying the example, be sure to change the axis label appropriately."
   ]
  },
  {
   "cell_type": "code",
   "execution_count": null,
   "metadata": {},
   "outputs": [],
   "source": [
    "# define new variable for difference\n",
    "\n",
    "# plot difference vs gdp by year\n"
   ]
  },
  {
   "cell_type": "markdown",
   "metadata": {},
   "source": [
    "### Q3 (e). Interpretation\n",
    "\n",
    "Select a graphic for presentation and reproduce it below. State in one sentence why you chose this graphic, and summarize in 1-2 sentences what is shown in the graphic."
   ]
  },
  {
   "cell_type": "code",
   "execution_count": null,
   "metadata": {},
   "outputs": [],
   "source": [
    "# plot here"
   ]
  },
  {
   "cell_type": "markdown",
   "metadata": {},
   "source": [
    "#### Answer\n",
    "*Type your answer here.*"
   ]
  },
  {
   "cell_type": "markdown",
   "metadata": {},
   "source": [
    "## 4. Your turn\n",
    "\n",
    "Now that you've seen basic functionality of Altair, explore the data further! Construct any plot of your choosing. It does not need to be fancy or elaborate -- this is just an opportunity to work from scratch and play a little while you're primed on plot construction. However, it should be well-sized, appropriately labeled, and visually clean. Some possibilities you could consider are:\n",
    "* line plots of life expectancy over time based on the dataset `life`;\n",
    "* scatterplots of life expectancy against population;\n",
    "* aggregating over year or subregion before plotting.\n",
    "\n",
    "Please produce a graphic and a brief (1-2 sentence) description of what it shows. "
   ]
  },
  {
   "cell_type": "code",
   "execution_count": null,
   "metadata": {},
   "outputs": [],
   "source": [
    "# scratch work here"
   ]
  },
  {
   "cell_type": "code",
   "execution_count": null,
   "metadata": {},
   "outputs": [],
   "source": [
    "# final plot"
   ]
  },
  {
   "cell_type": "markdown",
   "metadata": {},
   "source": [
    "#### Description"
   ]
  },
  {
   "cell_type": "markdown",
   "metadata": {
    "tags": []
   },
   "source": [
    "---\n",
    "## Submission Checklist\n",
    "1. Save file to confirm all changes are on disk\n",
    "2. Run *Kernel > Restart & Run All* to execute all code from top to bottom\n",
    "3. Save file again to write any new output to disk\n",
    "4. Select *File > Download as > HTML*.\n",
    "5. Open in Google Chrome and print to PDF.\n",
    "6. Submit to Gradescope"
   ]
  }
 ],
 "metadata": {
  "kernelspec": {
   "display_name": "Python 3",
   "language": "python",
   "name": "python3"
  },
  "language_info": {
   "codemirror_mode": {
    "name": "ipython",
    "version": 3
   },
   "file_extension": ".py",
   "mimetype": "text/x-python",
   "name": "python",
   "nbconvert_exporter": "python",
   "pygments_lexer": "ipython3",
   "version": "3.8.5"
  }
 },
 "nbformat": 4,
 "nbformat_minor": 4
}
