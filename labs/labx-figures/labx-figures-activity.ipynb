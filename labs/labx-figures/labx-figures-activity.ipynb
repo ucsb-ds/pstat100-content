{
 "cells": [
  {
   "cell_type": "markdown",
   "metadata": {},
   "source": [
    "# Creating figures and tables\n",
    "\n",
    "This activity is a brief exercise in exporting figures and tables from a code notebook for inclusion in a report notebook so that they can be displayed without showing codes. Pretend throughout that this document is your report.\n",
    "\n",
    "You'll see this process explained, and then do it on your own and practice writing a figure caption.\n",
    "\n",
    "You'll also see some examples of good practice for naming your charts in the code notebook so that they are consistent with the figure names in the report notebook.\n",
    "\n",
    "#### Objectives\n",
    "\n",
    "* Export Altair charts as images.\n",
    "* Place figures in a directory that can be referenced from a report notebook.\n",
    "* Display images in markdown cells.\n",
    "* Render tables in markdown for copy-paste into a report notebook.\n",
    "* Practice writing captions.\n",
    "\n",
    "#### Before you get started\n",
    "\n",
    "Open the code notebook. You'll notice that there are two cells that install libraries right at the beginning. \n",
    "\n",
    "1. Run each `pip install ...` cell only once and then comment out those codes.\n",
    "2. Restart the kernel and run all cells."
   ]
  },
  {
   "cell_type": "markdown",
   "metadata": {
    "lineWrapping": true,
    "tags": []
   },
   "source": [
    "---\n",
    "## Examples\n",
    "\n",
    "First you'll see how to render and reference figures; then how to render tables.\n",
    "\n",
    "### Figures\n",
    "\n",
    "The steps shown here for rendering Altair charts as images for reference in a report notebook are admittedly hacky. However, the current version of Altair saver, which will likely provide a cleaner solution in future, is currently very buggy. So we'll circumvent it for the time being.\n",
    "\n",
    "We'll walk you through the process for the first figure of sea temperatures, which we'll reference as 'Figure 1' in this document. The steps for rendering this chart from the code notebook are as follows:\n",
    "\n",
    "1. Navigate to the cell where the chart is displayed (under the header Figure 1).\n",
    "2. Find the '...' icon to open a save menu; save as an .svg file (these have better resolution). This will initiate a download.\n",
    "3. Rename the downloaded file `fig1-temp.svg`.\n",
    "4. In your file navigator on JupyterHub, find the folder for this activity and navigate to 'figures'.\n",
    "5. Upload the file to the *figures* subdirectory. \n",
    "\n",
    "Then, the figure can be displayed by including the following html line in any markdown cell:\n",
    "\n",
    "```<center><img src = 'figures/fig1.svg' style = 'width:400px'></center>```\n",
    "\n",
    "Note that the home directory for the path input to `src = ...` is wherever the notebook in which the cell containing this line lives. If the path is misspecified, your notebook will simply display a broken image icon.\n",
    "\n",
    "The size of the figure can be changed by adjusting the width. Usually, smaller figures can be shown at around 200 pixels, and larger ones up to 700-800. The height will be auto-scaled to maintain the image's aspect ratio.\n",
    "\n",
    "The cell below shows the figure along with a caption."
   ]
  },
  {
   "cell_type": "markdown",
   "metadata": {
    "lineWrapping": true,
    "tags": []
   },
   "source": [
    "<center><img src = 'figures/fig1.svg' style = 'width:400px'></center>\n",
    "\n",
    "> **Figure 1**: reconstructed sea surface temperature over time between the present and 15,000 years ago. The shaded region indicates the time window with unusually large flucutations in sea surface temperature. "
   ]
  },
  {
   "cell_type": "markdown",
   "metadata": {},
   "source": [
    "#### On figure captions\n",
    "\n",
    "Figure captions should be mostly descriptive (rather than interpretive) and accomplish two key tasks:\n",
    "\n",
    "1. Describe every graphical element that appears in the figure.\n",
    "2. Direct the reader's attention to the most important feature(s) of the figure.\n",
    "\n",
    "They should also be as concise as possible. Here are a few guidelines:\n",
    "* begin your description with the axes ('temperature ofer time');\n",
    "* add context ('reconstructed sea surface temperature' and 'time between the present and 15000 years ago');\n",
    "* if necessary, explain the core geometric object (line plot in this case);\n",
    "* describe any secondary geometric objects (trend line in black, shaded region in orange);\n",
    "* describe any remaining aesthetic elements (none here);\n",
    "* call attention to important features ('time window with unusually large fluctuations in temperature').\n",
    "\n",
    "Even if these elements seem painfully obvious to you, they should still be described clearly. Better to provide too much clarity than too little."
   ]
  },
  {
   "cell_type": "markdown",
   "metadata": {},
   "source": [
    "### Q1 Correct my caption!\n",
    "\n",
    "What did I fail to describe clearly? Improve my figure caption by adding descriptions of graphical elements that are not mentioned."
   ]
  },
  {
   "cell_type": "markdown",
   "metadata": {},
   "source": [
    "#### Edit below \n",
    "\n",
    "> **Figure 1**: reconstructed sea surface temperature over time between the present and 15,000 years ago. The shaded region indicates the time window with unusually large flucutations in sea surface temperature. "
   ]
  },
  {
   "cell_type": "markdown",
   "metadata": {},
   "source": [
    "### Tables\n",
    "\n",
    "Tables are comparatively much easier. Navigate to the code notebook and find the header 'Table 1'. The brief code cell under that header prints the dataframe in markdown format that can be directly copied and then pasted into the report notebook.\n",
    "\n",
    "| Row   |   Depth |   Age |    A_curv |    A_octon |   ActinSpp |   A_nodul |   CoscinSpp |   CyclotSpp |   Rop_tess |   StephanSpp |\n",
    "|---:|--------:|------:|----------:|-----------:|-----------:|----------:|------------:|------------:|-----------:|-------------:|\n",
    "|  0 |    0    |  1.33 | 0.0248756 | 0.00995025 |   0.159204 | 0.0696517 |    0.104478 |    0.109453 | 0.00497512 |   0.00497512 |\n",
    "|  1 |    0.05 |  1.37 | 0.04      | 0.01       |   0.155    | 0.08      |    0.1      |    0.08     | 0.035      |   0.01       |\n",
    "|  2 |    0.1  |  1.42 | 0.04      | 0.03       |   0.165    | 0.09      |    0.145    |    0.035    | 0.005      |   0.005      |\n",
    "|  3 |    0.15 |  1.46 | 0.055     | 0.005      |   0.105    | 0.005     |    0.06     |    0.14     | 0.125      |   0.015      |\n",
    "|  4 |    0.2  |  1.51 | 0.0366667 | 0.00333333 |   0.126667 | 0.01      |    0.06     |    0.08     | 0.01       |   0          |\n",
    "\n",
    "> **Table 1**: five example rows of the diatom relative abundance data. The sediment core depth and radiocarbon-dated age are shown in the first two columns after the row index, and the remaining columns show the proportions of diatoms counted at the corresponding sediment core depth belonging to each taxon of interest.\n",
    "\n",
    "\n",
    "#### On table captions\n",
    "\n",
    "Table captions should also be primarily descriptive and accomplish a few key tasks:\n",
    "1. State the information shown in the table. \n",
    "2. Describe clearly the layout and entries of the table.\n",
    "3. Direct the reader's attention to any important features of the entries of the table.\n",
    "\n",
    "Here are a few guidelines for writing table captions:\n",
    "* start with the purpose of the table (this one shows 'five example rows');\n",
    "* add any context needed ('of the diatom relative abundance data');\n",
    "* describe the layout ('... in the first two columns, and the remaining columns show ...');\n",
    "* describe the entries ('proportions of diatoms counted in each taxon of interest');\n",
    "* highlight any important features (none here)."
   ]
  },
  {
   "cell_type": "markdown",
   "metadata": {},
   "source": [
    "---\n",
    "## Your turn\n",
    "\n",
    "Navigate to the code notebook, render Figure 2, and then display the figure here in the cell below along with an appropriate caption."
   ]
  },
  {
   "cell_type": "markdown",
   "metadata": {
    "lineWrapping": true,
    "tags": []
   },
   "source": [
    "<center><img src = ... style = ...></center>\n",
    "\n",
    "> **Figure 2**: "
   ]
  }
 ],
 "metadata": {
  "kernelspec": {
   "display_name": "Python 3",
   "language": "python",
   "name": "python3"
  },
  "language_info": {
   "codemirror_mode": {
    "name": "ipython",
    "version": 3
   },
   "file_extension": ".py",
   "mimetype": "text/x-python",
   "name": "python",
   "nbconvert_exporter": "python",
   "pygments_lexer": "ipython3",
   "version": "3.8.5"
  }
 },
 "nbformat": 4,
 "nbformat_minor": 4
}
