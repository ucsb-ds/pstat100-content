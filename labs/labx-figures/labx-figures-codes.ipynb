{
 "cells": [
  {
   "cell_type": "markdown",
   "metadata": {},
   "source": [
    "# Creating figures and tables: source codes\n",
    "\n",
    "This notebook contains codes used in the 'creating figures and tables' activity."
   ]
  },
  {
   "cell_type": "markdown",
   "metadata": {},
   "source": [
    "#### Update pandas version\n",
    "\n",
    "Run each of the next two cells only once in sequence. Then comment them out and restart the kernel. This will update the pandas version available to you to the most recent one, which is needed for rendering tables in markdown using `.to_markdown()`."
   ]
  },
  {
   "cell_type": "code",
   "execution_count": 1,
   "metadata": {
    "tags": []
   },
   "outputs": [],
   "source": [
    "# pip install pandas==1.2.4"
   ]
  },
  {
   "cell_type": "code",
   "execution_count": 2,
   "metadata": {},
   "outputs": [],
   "source": [
    "# pip install tabulate"
   ]
  },
  {
   "cell_type": "code",
   "execution_count": 3,
   "metadata": {},
   "outputs": [],
   "source": [
    "import numpy as np\n",
    "import pandas as pd\n",
    "import altair as alt\n",
    "from sklearn.decomposition import PCA"
   ]
  },
  {
   "cell_type": "markdown",
   "metadata": {},
   "source": [
    "### Data\n",
    "\n",
    "Import and tidy diatom relative abundance data."
   ]
  },
  {
   "cell_type": "code",
   "execution_count": 4,
   "metadata": {},
   "outputs": [],
   "source": [
    "# import diatom data\n",
    "diatoms_raw = pd.read_csv('data/barron-diatoms.csv')\n",
    "diatoms_raw.head(5)\n",
    "\n",
    "# replace NaNs by 0\n",
    "diatoms_mod1 = diatoms_raw.fillna(0)\n",
    "diatoms_mod1.loc[4:5, :]\n",
    "\n",
    "# set depth, age to indices and drop num.counted\n",
    "diatoms_mod2 = diatoms_mod1.set_index(['Depth', 'Age'])\n",
    "\n",
    "# store sample sizes\n",
    "sampsize = diatoms_mod2['Num.counted']\n",
    "\n",
    "# divide\n",
    "diatoms_mod3 = diatoms_mod2.div(sampsize, axis = 0)\n",
    "\n",
    "# drop num.counted and reset index\n",
    "diatoms = diatoms_mod3.drop(columns = 'Num.counted').reset_index()"
   ]
  },
  {
   "cell_type": "markdown",
   "metadata": {},
   "source": [
    "### Figure 1\n",
    "\n",
    "Sea surface temperature plot to include with introduction."
   ]
  },
  {
   "cell_type": "code",
   "execution_count": 5,
   "metadata": {},
   "outputs": [
    {
     "data": {
      "text/html": [
       "\n",
       "<div id=\"altair-viz-a3fbb0e1d6264e84ad266b1614250fe9\"></div>\n",
       "<script type=\"text/javascript\">\n",
       "  (function(spec, embedOpt){\n",
       "    let outputDiv = document.currentScript.previousElementSibling;\n",
       "    if (outputDiv.id !== \"altair-viz-a3fbb0e1d6264e84ad266b1614250fe9\") {\n",
       "      outputDiv = document.getElementById(\"altair-viz-a3fbb0e1d6264e84ad266b1614250fe9\");\n",
       "    }\n",
       "    const paths = {\n",
       "      \"vega\": \"https://cdn.jsdelivr.net/npm//vega@5?noext\",\n",
       "      \"vega-lib\": \"https://cdn.jsdelivr.net/npm//vega-lib?noext\",\n",
       "      \"vega-lite\": \"https://cdn.jsdelivr.net/npm//vega-lite@4.8.1?noext\",\n",
       "      \"vega-embed\": \"https://cdn.jsdelivr.net/npm//vega-embed@6?noext\",\n",
       "    };\n",
       "\n",
       "    function loadScript(lib) {\n",
       "      return new Promise(function(resolve, reject) {\n",
       "        var s = document.createElement('script');\n",
       "        s.src = paths[lib];\n",
       "        s.async = true;\n",
       "        s.onload = () => resolve(paths[lib]);\n",
       "        s.onerror = () => reject(`Error loading script: ${paths[lib]}`);\n",
       "        document.getElementsByTagName(\"head\")[0].appendChild(s);\n",
       "      });\n",
       "    }\n",
       "\n",
       "    function showError(err) {\n",
       "      outputDiv.innerHTML = `<div class=\"error\" style=\"color:red;\">${err}</div>`;\n",
       "      throw err;\n",
       "    }\n",
       "\n",
       "    function displayChart(vegaEmbed) {\n",
       "      vegaEmbed(outputDiv, spec, embedOpt)\n",
       "        .catch(err => showError(`Javascript Error: ${err.message}<br>This usually means there's a typo in your chart specification. See the javascript console for the full traceback.`));\n",
       "    }\n",
       "\n",
       "    if(typeof define === \"function\" && define.amd) {\n",
       "      requirejs.config({paths});\n",
       "      require([\"vega-embed\"], displayChart, err => showError(`Error loading script: ${err.message}`));\n",
       "    } else if (typeof vegaEmbed === \"function\") {\n",
       "      displayChart(vegaEmbed);\n",
       "    } else {\n",
       "      loadScript(\"vega\")\n",
       "        .then(() => loadScript(\"vega-lite\"))\n",
       "        .then(() => loadScript(\"vega-embed\"))\n",
       "        .catch(showError)\n",
       "        .then(() => displayChart(vegaEmbed));\n",
       "    }\n",
       "  })({\"config\": {\"view\": {\"continuousWidth\": 400, \"continuousHeight\": 300}}, \"layer\": [{\"data\": {\"name\": \"data-3a58caeda919fa504e554b7173d0eec4\"}, \"mark\": \"line\", \"encoding\": {\"x\": {\"type\": \"quantitative\", \"field\": \"Age\", \"title\": \"Thousands of years before present\"}, \"y\": {\"type\": \"quantitative\", \"field\": \"SST\"}}}, {\"data\": {\"name\": \"data-6cea38239315c3d997ab47994b5133ac\"}, \"mark\": {\"type\": \"area\", \"color\": \"orange\", \"opacity\": 0.2}, \"encoding\": {\"x\": {\"type\": \"quantitative\", \"field\": \"upr\", \"title\": \"Thousands of years before present\"}, \"x2\": {\"field\": \"lwr\"}, \"y\": {\"type\": \"quantitative\", \"field\": \"SST\"}}}, {\"data\": {\"name\": \"data-3a58caeda919fa504e554b7173d0eec4\"}, \"mark\": {\"type\": \"line\", \"color\": \"black\"}, \"encoding\": {\"x\": {\"type\": \"quantitative\", \"field\": \"Age\", \"title\": \"Thousands of years before present\"}, \"y\": {\"type\": \"quantitative\", \"field\": \"SST\"}}, \"transform\": [{\"loess\": \"SST\", \"on\": \"Age\", \"bandwidth\": 0.2}]}], \"$schema\": \"https://vega.github.io/schema/vega-lite/v4.8.1.json\", \"datasets\": {\"data-3a58caeda919fa504e554b7173d0eec4\": [{\"Age\": 0.16, \"SST\": 11.7}, {\"Age\": 0.16, \"SST\": 11.6}, {\"Age\": 0.29, \"SST\": 11.5}, {\"Age\": 0.29, \"SST\": 11.4}, {\"Age\": 0.55, \"SST\": 11.3}, {\"Age\": 0.68, \"SST\": 11.4}, {\"Age\": 0.82, \"SST\": 11.6}, {\"Age\": 0.95, \"SST\": 11.3}, {\"Age\": 1.21, \"SST\": 11.5}, {\"Age\": 1.34, \"SST\": 11.5}, {\"Age\": 1.47, \"SST\": 11.7}, {\"Age\": 1.61, \"SST\": 11.6}, {\"Age\": 1.87, \"SST\": 11.5}, {\"Age\": 1.87, \"SST\": 11.4}, {\"Age\": 2.0, \"SST\": 11.3}, {\"Age\": 2.0, \"SST\": 11.2}, {\"Age\": 2.13, \"SST\": 10.9}, {\"Age\": 2.26, \"SST\": 11.5}, {\"Age\": 2.53, \"SST\": 11.8}, {\"Age\": 2.66, \"SST\": 11.9}, {\"Age\": 2.79, \"SST\": 12.1}, {\"Age\": 2.92, \"SST\": 11.6}, {\"Age\": 3.18, \"SST\": 12.2}, {\"Age\": 3.32, \"SST\": 11.3}, {\"Age\": 3.45, \"SST\": 10.5}, {\"Age\": 3.58, \"SST\": 10.8}, {\"Age\": 3.58, \"SST\": 10.8}, {\"Age\": 3.58, \"SST\": 10.8}, {\"Age\": 3.84, \"SST\": 11.0}, {\"Age\": 3.97, \"SST\": 10.7}, {\"Age\": 4.11, \"SST\": 11.0}, {\"Age\": 4.24, \"SST\": 10.6}, {\"Age\": 4.5, \"SST\": 11.2}, {\"Age\": 4.63, \"SST\": 10.4}, {\"Age\": 4.76, \"SST\": 10.6}, {\"Age\": 4.89, \"SST\": 10.4}, {\"Age\": 5.18, \"SST\": 10.5}, {\"Age\": 5.29, \"SST\": 10.5}, {\"Age\": 5.42, \"SST\": 10.6}, {\"Age\": 5.52, \"SST\": 10.6}, {\"Age\": 5.52, \"SST\": 10.8}, {\"Age\": 5.73, \"SST\": 10.8}, {\"Age\": 5.83, \"SST\": 10.7}, {\"Age\": 5.94, \"SST\": 10.8}, {\"Age\": 6.05, \"SST\": 10.8}, {\"Age\": 6.26, \"SST\": 10.4}, {\"Age\": 6.37, \"SST\": 10.2}, {\"Age\": 6.49, \"SST\": 9.8}, {\"Age\": 6.58, \"SST\": 10.1}, {\"Age\": 6.79, \"SST\": 10.4}, {\"Age\": 6.92, \"SST\": 10.2}, {\"Age\": 6.92, \"SST\": 10.2}, {\"Age\": 7.0, \"SST\": 10.7}, {\"Age\": 7.11, \"SST\": 10.6}, {\"Age\": 7.32, \"SST\": 10.4}, {\"Age\": 7.43, \"SST\": 10.4}, {\"Age\": 7.54, \"SST\": 10.9}, {\"Age\": 7.73, \"SST\": 10.9}, {\"Age\": 7.84, \"SST\": 10.6}, {\"Age\": 7.94, \"SST\": 11.5}, {\"Age\": 8.05, \"SST\": 10.8}, {\"Age\": 8.2, \"SST\": 10.2}, {\"Age\": 8.39, \"SST\": 11.3}, {\"Age\": 8.49, \"SST\": 11.3}, {\"Age\": 8.6, \"SST\": 11.8}, {\"Age\": 8.71, \"SST\": 11.3}, {\"Age\": 8.92, \"SST\": 11.6}, {\"Age\": 8.92, \"SST\": 11.8}, {\"Age\": 9.03, \"SST\": 11.7}, {\"Age\": 9.13, \"SST\": 11.7}, {\"Age\": 9.26, \"SST\": 11.5}, {\"Age\": 9.37, \"SST\": 11.9}, {\"Age\": 9.56, \"SST\": 11.8}, {\"Age\": 9.66, \"SST\": 11.1}, {\"Age\": 9.77, \"SST\": 12.7}, {\"Age\": 9.97, \"SST\": 12.8}, {\"Age\": 10.05, \"SST\": 13.2}, {\"Age\": 10.17, \"SST\": 11.6}, {\"Age\": 10.22, \"SST\": 12.0}, {\"Age\": 10.35, \"SST\": 11.9}, {\"Age\": 10.4, \"SST\": 11.9}, {\"Age\": 10.52, \"SST\": 11.6}, {\"Age\": 10.58, \"SST\": 11.7}, {\"Age\": 10.66, \"SST\": 11.3}, {\"Age\": 10.72, \"SST\": 11.5}, {\"Age\": 10.77, \"SST\": 11.0}, {\"Age\": 10.83, \"SST\": 10.8}, {\"Age\": 10.99, \"SST\": 10.3}, {\"Age\": 11.07, \"SST\": 11.2}, {\"Age\": 11.15, \"SST\": 13.1}, {\"Age\": 11.31, \"SST\": 13.1}, {\"Age\": 11.31, \"SST\": 11.9}, {\"Age\": 11.41, \"SST\": 11.7}, {\"Age\": 11.49, \"SST\": 11.1}, {\"Age\": 11.57, \"SST\": 9.5}, {\"Age\": 11.57, \"SST\": 9.6}, {\"Age\": 11.73, \"SST\": 8.4}, {\"Age\": 11.8, \"SST\": 8.0}, {\"Age\": 11.96, \"SST\": 8.0}, {\"Age\": 12.13, \"SST\": 7.7}, {\"Age\": 12.21, \"SST\": 7.6}, {\"Age\": 12.28, \"SST\": 7.5}, {\"Age\": 12.36, \"SST\": 7.6}, {\"Age\": 12.52, \"SST\": 7.6}, {\"Age\": 12.52, \"SST\": 7.5}, {\"Age\": 12.6, \"SST\": 7.3}, {\"Age\": 12.68, \"SST\": 7.4}, {\"Age\": 12.84, \"SST\": 8.1}, {\"Age\": 12.92, \"SST\": 8.5}, {\"Age\": 13.01, \"SST\": 9.4}, {\"Age\": 13.09, \"SST\": 10.8}, {\"Age\": 13.17, \"SST\": 10.0}, {\"Age\": 13.33, \"SST\": 10.3}, {\"Age\": 13.41, \"SST\": 10.3}, {\"Age\": 13.49, \"SST\": 10.4}, {\"Age\": 13.57, \"SST\": 12.9}, {\"Age\": 13.73, \"SST\": 10.4}, {\"Age\": 13.81, \"SST\": 10.7}, {\"Age\": 13.89, \"SST\": 9.0}, {\"Age\": 13.97, \"SST\": 10.3}, {\"Age\": 14.13, \"SST\": 9.7}, {\"Age\": 14.21, \"SST\": 9.0}, {\"Age\": 14.3, \"SST\": 9.3}, {\"Age\": 14.38, \"SST\": 11.1}, {\"Age\": 14.62, \"SST\": 12.1}, {\"Age\": 14.7, \"SST\": 10.8}, {\"Age\": 14.78, \"SST\": 8.5}, {\"Age\": 14.94, \"SST\": 11.3}], \"data-6cea38239315c3d997ab47994b5133ac\": [{\"SST\": 0.0, \"upr\": 11, \"lwr\": 15}, {\"SST\": 0.1414141414141414, \"upr\": 11, \"lwr\": 15}, {\"SST\": 0.2828282828282828, \"upr\": 11, \"lwr\": 15}, {\"SST\": 0.4242424242424242, \"upr\": 11, \"lwr\": 15}, {\"SST\": 0.5656565656565656, \"upr\": 11, \"lwr\": 15}, {\"SST\": 0.7070707070707071, \"upr\": 11, \"lwr\": 15}, {\"SST\": 0.8484848484848484, \"upr\": 11, \"lwr\": 15}, {\"SST\": 0.9898989898989898, \"upr\": 11, \"lwr\": 15}, {\"SST\": 1.1313131313131313, \"upr\": 11, \"lwr\": 15}, {\"SST\": 1.2727272727272727, \"upr\": 11, \"lwr\": 15}, {\"SST\": 1.4141414141414141, \"upr\": 11, \"lwr\": 15}, {\"SST\": 1.5555555555555556, \"upr\": 11, \"lwr\": 15}, {\"SST\": 1.6969696969696968, \"upr\": 11, \"lwr\": 15}, {\"SST\": 1.8383838383838382, \"upr\": 11, \"lwr\": 15}, {\"SST\": 1.9797979797979797, \"upr\": 11, \"lwr\": 15}, {\"SST\": 2.121212121212121, \"upr\": 11, \"lwr\": 15}, {\"SST\": 2.2626262626262625, \"upr\": 11, \"lwr\": 15}, {\"SST\": 2.404040404040404, \"upr\": 11, \"lwr\": 15}, {\"SST\": 2.5454545454545454, \"upr\": 11, \"lwr\": 15}, {\"SST\": 2.686868686868687, \"upr\": 11, \"lwr\": 15}, {\"SST\": 2.8282828282828283, \"upr\": 11, \"lwr\": 15}, {\"SST\": 2.9696969696969697, \"upr\": 11, \"lwr\": 15}, {\"SST\": 3.111111111111111, \"upr\": 11, \"lwr\": 15}, {\"SST\": 3.2525252525252526, \"upr\": 11, \"lwr\": 15}, {\"SST\": 3.3939393939393936, \"upr\": 11, \"lwr\": 15}, {\"SST\": 3.535353535353535, \"upr\": 11, \"lwr\": 15}, {\"SST\": 3.6767676767676765, \"upr\": 11, \"lwr\": 15}, {\"SST\": 3.818181818181818, \"upr\": 11, \"lwr\": 15}, {\"SST\": 3.9595959595959593, \"upr\": 11, \"lwr\": 15}, {\"SST\": 4.101010101010101, \"upr\": 11, \"lwr\": 15}, {\"SST\": 4.242424242424242, \"upr\": 11, \"lwr\": 15}, {\"SST\": 4.383838383838384, \"upr\": 11, \"lwr\": 15}, {\"SST\": 4.525252525252525, \"upr\": 11, \"lwr\": 15}, {\"SST\": 4.666666666666666, \"upr\": 11, \"lwr\": 15}, {\"SST\": 4.808080808080808, \"upr\": 11, \"lwr\": 15}, {\"SST\": 4.949494949494949, \"upr\": 11, \"lwr\": 15}, {\"SST\": 5.090909090909091, \"upr\": 11, \"lwr\": 15}, {\"SST\": 5.232323232323232, \"upr\": 11, \"lwr\": 15}, {\"SST\": 5.373737373737374, \"upr\": 11, \"lwr\": 15}, {\"SST\": 5.515151515151515, \"upr\": 11, \"lwr\": 15}, {\"SST\": 5.656565656565657, \"upr\": 11, \"lwr\": 15}, {\"SST\": 5.797979797979798, \"upr\": 11, \"lwr\": 15}, {\"SST\": 5.9393939393939394, \"upr\": 11, \"lwr\": 15}, {\"SST\": 6.08080808080808, \"upr\": 11, \"lwr\": 15}, {\"SST\": 6.222222222222222, \"upr\": 11, \"lwr\": 15}, {\"SST\": 6.363636363636363, \"upr\": 11, \"lwr\": 15}, {\"SST\": 6.505050505050505, \"upr\": 11, \"lwr\": 15}, {\"SST\": 6.646464646464646, \"upr\": 11, \"lwr\": 15}, {\"SST\": 6.787878787878787, \"upr\": 11, \"lwr\": 15}, {\"SST\": 6.929292929292929, \"upr\": 11, \"lwr\": 15}, {\"SST\": 7.07070707070707, \"upr\": 11, \"lwr\": 15}, {\"SST\": 7.212121212121212, \"upr\": 11, \"lwr\": 15}, {\"SST\": 7.353535353535353, \"upr\": 11, \"lwr\": 15}, {\"SST\": 7.494949494949495, \"upr\": 11, \"lwr\": 15}, {\"SST\": 7.636363636363636, \"upr\": 11, \"lwr\": 15}, {\"SST\": 7.777777777777778, \"upr\": 11, \"lwr\": 15}, {\"SST\": 7.919191919191919, \"upr\": 11, \"lwr\": 15}, {\"SST\": 8.06060606060606, \"upr\": 11, \"lwr\": 15}, {\"SST\": 8.202020202020202, \"upr\": 11, \"lwr\": 15}, {\"SST\": 8.343434343434343, \"upr\": 11, \"lwr\": 15}, {\"SST\": 8.484848484848484, \"upr\": 11, \"lwr\": 15}, {\"SST\": 8.626262626262626, \"upr\": 11, \"lwr\": 15}, {\"SST\": 8.767676767676768, \"upr\": 11, \"lwr\": 15}, {\"SST\": 8.909090909090908, \"upr\": 11, \"lwr\": 15}, {\"SST\": 9.05050505050505, \"upr\": 11, \"lwr\": 15}, {\"SST\": 9.191919191919192, \"upr\": 11, \"lwr\": 15}, {\"SST\": 9.333333333333332, \"upr\": 11, \"lwr\": 15}, {\"SST\": 9.474747474747474, \"upr\": 11, \"lwr\": 15}, {\"SST\": 9.616161616161616, \"upr\": 11, \"lwr\": 15}, {\"SST\": 9.757575757575758, \"upr\": 11, \"lwr\": 15}, {\"SST\": 9.898989898989898, \"upr\": 11, \"lwr\": 15}, {\"SST\": 10.04040404040404, \"upr\": 11, \"lwr\": 15}, {\"SST\": 10.181818181818182, \"upr\": 11, \"lwr\": 15}, {\"SST\": 10.323232323232324, \"upr\": 11, \"lwr\": 15}, {\"SST\": 10.464646464646464, \"upr\": 11, \"lwr\": 15}, {\"SST\": 10.606060606060606, \"upr\": 11, \"lwr\": 15}, {\"SST\": 10.747474747474747, \"upr\": 11, \"lwr\": 15}, {\"SST\": 10.88888888888889, \"upr\": 11, \"lwr\": 15}, {\"SST\": 11.03030303030303, \"upr\": 11, \"lwr\": 15}, {\"SST\": 11.171717171717171, \"upr\": 11, \"lwr\": 15}, {\"SST\": 11.313131313131313, \"upr\": 11, \"lwr\": 15}, {\"SST\": 11.454545454545453, \"upr\": 11, \"lwr\": 15}, {\"SST\": 11.595959595959595, \"upr\": 11, \"lwr\": 15}, {\"SST\": 11.737373737373737, \"upr\": 11, \"lwr\": 15}, {\"SST\": 11.878787878787879, \"upr\": 11, \"lwr\": 15}, {\"SST\": 12.020202020202019, \"upr\": 11, \"lwr\": 15}, {\"SST\": 12.16161616161616, \"upr\": 11, \"lwr\": 15}, {\"SST\": 12.303030303030303, \"upr\": 11, \"lwr\": 15}, {\"SST\": 12.444444444444445, \"upr\": 11, \"lwr\": 15}, {\"SST\": 12.585858585858585, \"upr\": 11, \"lwr\": 15}, {\"SST\": 12.727272727272727, \"upr\": 11, \"lwr\": 15}, {\"SST\": 12.868686868686869, \"upr\": 11, \"lwr\": 15}, {\"SST\": 13.01010101010101, \"upr\": 11, \"lwr\": 15}, {\"SST\": 13.15151515151515, \"upr\": 11, \"lwr\": 15}, {\"SST\": 13.292929292929292, \"upr\": 11, \"lwr\": 15}, {\"SST\": 13.434343434343434, \"upr\": 11, \"lwr\": 15}, {\"SST\": 13.575757575757574, \"upr\": 11, \"lwr\": 15}, {\"SST\": 13.717171717171716, \"upr\": 11, \"lwr\": 15}, {\"SST\": 13.858585858585858, \"upr\": 11, \"lwr\": 15}, {\"SST\": 14.0, \"upr\": 11, \"lwr\": 15}]}}, {\"mode\": \"vega-lite\"});\n",
       "</script>"
      ],
      "text/plain": [
       "alt.LayerChart(...)"
      ]
     },
     "execution_count": 5,
     "metadata": {},
     "output_type": "execute_result"
    }
   ],
   "source": [
    "# import sea surface temp reconstruction\n",
    "seatemps = pd.read_csv('data/barron-sst.csv')\n",
    "\n",
    "# line plot of time series\n",
    "line = alt.Chart(seatemps).mark_line().encode(\n",
    "    x = alt.X('Age', title = 'Thousands of years before present'),\n",
    "    y = 'SST'\n",
    ")\n",
    "\n",
    "# highlight region with large variations\n",
    "highlight = alt.Chart(\n",
    "    pd.DataFrame(\n",
    "        {'SST': np.linspace(0, 14, 100), \n",
    "         'upr': np.repeat(11, 100), \n",
    "         'lwr': np.repeat(15, 100)}\n",
    "    )\n",
    ").mark_area(opacity = 0.2, color = 'orange').encode(\n",
    "    y = 'SST',\n",
    "    x = alt.X('upr', title = 'Thousands of years before present'),\n",
    "    x2 = 'lwr'\n",
    ")\n",
    "\n",
    "# add smooth trend\n",
    "smooth = line.transform_loess(\n",
    "    on = 'Age',\n",
    "    loess = 'SST',\n",
    "    bandwidth = 0.2\n",
    ").mark_line(color = 'black')\n",
    "\n",
    "# layer\n",
    "fig1_temp = line + highlight + smooth\n",
    "\n",
    "# display\n",
    "fig1_temp"
   ]
  },
  {
   "cell_type": "markdown",
   "metadata": {},
   "source": [
    "To save this figure, click the '...' icon and save in the format of your choice. (SVG tends to preserve resolution quite well; some of the other file formats are grainy.) This will initiate a download. Then, re-upload the file into your 'figures' directory.\n",
    "\n",
    "Good practices:\n",
    "* store your figure as its own chart in your code notebook (here named `fig1_temp`);\n",
    "* name the chart in correspondence with the figure name it will be given in the report.\n",
    "\n",
    "A naming convention that works for me is '`fig` + [figure number] + `_` + [descriptive name]'."
   ]
  },
  {
   "cell_type": "markdown",
   "metadata": {},
   "source": [
    "### Table 1\n",
    "\n",
    "Example rows to include in report with data description.\n",
    "\n",
    "Good practices:\n",
    "* store your table exactly as you want it to appear as its own dataframe;\n",
    "* name the dataframe in correspondence with the table name it will be given in the report.\n",
    "\n",
    "A naming convention that works for me is '`tbl` + [table number] + `_` + [descriptive name]'. If you were to export a table as a .csv, give it the same name."
   ]
  },
  {
   "cell_type": "code",
   "execution_count": 6,
   "metadata": {},
   "outputs": [
    {
     "name": "stdout",
     "output_type": "stream",
     "text": [
      "|    |   Depth |   Age |    A_curv |    A_octon |   ActinSpp |   A_nodul |   CoscinSpp |   CyclotSpp |   Rop_tess |   StephanSpp |\n",
      "|---:|--------:|------:|----------:|-----------:|-----------:|----------:|------------:|------------:|-----------:|-------------:|\n",
      "|  0 |    0    |  1.33 | 0.0248756 | 0.00995025 |   0.159204 | 0.0696517 |    0.104478 |    0.109453 | 0.00497512 |   0.00497512 |\n",
      "|  1 |    0.05 |  1.37 | 0.04      | 0.01       |   0.155    | 0.08      |    0.1      |    0.08     | 0.035      |   0.01       |\n",
      "|  2 |    0.1  |  1.42 | 0.04      | 0.03       |   0.165    | 0.09      |    0.145    |    0.035    | 0.005      |   0.005      |\n",
      "|  3 |    0.15 |  1.46 | 0.055     | 0.005      |   0.105    | 0.005     |    0.06     |    0.14     | 0.125      |   0.015      |\n",
      "|  4 |    0.2  |  1.51 | 0.0366667 | 0.00333333 |   0.126667 | 0.01      |    0.06     |    0.08     | 0.01       |   0          |\n"
     ]
    }
   ],
   "source": [
    "# render for report\n",
    "tbl1_datarows = diatoms.head()\n",
    "\n",
    "print(tbl1_datarows.to_markdown())"
   ]
  },
  {
   "cell_type": "markdown",
   "metadata": {},
   "source": [
    "### Figure 2\n",
    "\n",
    "Means plus/minus 2 standard deviations of relative abundances for each taxon."
   ]
  },
  {
   "cell_type": "code",
   "execution_count": null,
   "metadata": {},
   "outputs": [
    {
     "data": {
      "text/html": [
       "\n",
       "<div id=\"altair-viz-341b46645c59484ca57688e953a487da\"></div>\n",
       "<script type=\"text/javascript\">\n",
       "  (function(spec, embedOpt){\n",
       "    let outputDiv = document.currentScript.previousElementSibling;\n",
       "    if (outputDiv.id !== \"altair-viz-341b46645c59484ca57688e953a487da\") {\n",
       "      outputDiv = document.getElementById(\"altair-viz-341b46645c59484ca57688e953a487da\");\n",
       "    }\n",
       "    const paths = {\n",
       "      \"vega\": \"https://cdn.jsdelivr.net/npm//vega@5?noext\",\n",
       "      \"vega-lib\": \"https://cdn.jsdelivr.net/npm//vega-lib?noext\",\n",
       "      \"vega-lite\": \"https://cdn.jsdelivr.net/npm//vega-lite@4.8.1?noext\",\n",
       "      \"vega-embed\": \"https://cdn.jsdelivr.net/npm//vega-embed@6?noext\",\n",
       "    };\n",
       "\n",
       "    function loadScript(lib) {\n",
       "      return new Promise(function(resolve, reject) {\n",
       "        var s = document.createElement('script');\n",
       "        s.src = paths[lib];\n",
       "        s.async = true;\n",
       "        s.onload = () => resolve(paths[lib]);\n",
       "        s.onerror = () => reject(`Error loading script: ${paths[lib]}`);\n",
       "        document.getElementsByTagName(\"head\")[0].appendChild(s);\n",
       "      });\n",
       "    }\n",
       "\n",
       "    function showError(err) {\n",
       "      outputDiv.innerHTML = `<div class=\"error\" style=\"color:red;\">${err}</div>`;\n",
       "      throw err;\n",
       "    }\n",
       "\n",
       "    function displayChart(vegaEmbed) {\n",
       "      vegaEmbed(outputDiv, spec, embedOpt)\n",
       "        .catch(err => showError(`Javascript Error: ${err.message}<br>This usually means there's a typo in your chart specification. See the javascript console for the full traceback.`));\n",
       "    }\n",
       "\n",
       "    if(typeof define === \"function\" && define.amd) {\n",
       "      requirejs.config({paths});\n",
       "      require([\"vega-embed\"], displayChart, err => showError(`Error loading script: ${err.message}`));\n",
       "    } else if (typeof vegaEmbed === \"function\") {\n",
       "      displayChart(vegaEmbed);\n",
       "    } else {\n",
       "      loadScript(\"vega\")\n",
       "        .then(() => loadScript(\"vega-lite\"))\n",
       "        .then(() => loadScript(\"vega-embed\"))\n",
       "        .catch(showError)\n",
       "        .then(() => displayChart(vegaEmbed));\n",
       "    }\n",
       "  })({\"config\": {\"view\": {\"continuousWidth\": 400, \"continuousHeight\": 300}, \"facet\": {\"spacing\": 0}}, \"data\": {\"name\": \"data-8d286228d08c394473703980b79bdbc8\"}, \"facet\": {\"row\": {\"type\": \"nominal\", \"field\": \"taxon\", \"header\": {\"labelAlign\": \"left\", \"labelAngle\": 0}, \"title\": null}}, \"spec\": {\"layer\": [{\"mark\": \"point\", \"encoding\": {\"color\": {\"type\": \"nominal\", \"field\": \"Age\", \"title\": \"Before 11KyrBP\"}, \"x\": {\"type\": \"quantitative\", \"field\": \"mean\", \"title\": \"Average relative abundance\"}, \"y\": {\"type\": \"nominal\", \"axis\": null, \"field\": \"Age\", \"title\": \"\"}}}, {\"mark\": \"errorbar\", \"encoding\": {\"color\": {\"type\": \"nominal\", \"field\": \"Age\", \"title\": \"Before 11KyrBP\"}, \"x\": {\"type\": \"quantitative\", \"field\": \"lwr\", \"title\": \"Average relative abundance\"}, \"x2\": {\"field\": \"upr\"}, \"y\": {\"type\": \"nominal\", \"axis\": null, \"field\": \"Age\", \"title\": \"\"}}, \"transform\": [{\"calculate\": \"datum.mean - 2*datum.std\", \"as\": \"lwr\"}, {\"calculate\": \"datum.mean + 2*datum.std\", \"as\": \"upr\"}]}]}, \"$schema\": \"https://vega.github.io/schema/vega-lite/v4.8.1.json\", \"datasets\": {\"data-8d286228d08c394473703980b79bdbc8\": [{\"taxon\": \"A_curv\", \"Age\": false, \"mean\": 0.031995565704057295, \"std\": 0.015517674469373272}, {\"taxon\": \"A_curv\", \"Age\": true, \"mean\": 0.02239106402436998, \"std\": 0.022789693597957125}, {\"taxon\": \"A_nodul\", \"Age\": false, \"mean\": 0.02153708234901375, \"std\": 0.028199491617666425}, {\"taxon\": \"A_nodul\", \"Age\": true, \"mean\": 0.1857415230312903, \"std\": 0.08462197985852793}, {\"taxon\": \"A_octon\", \"Age\": false, \"mean\": 0.0206504348465665, \"std\": 0.018038019525741193}, {\"taxon\": \"A_octon\", \"Age\": true, \"mean\": 0.013006335993103866, \"std\": 0.010686912458613208}, {\"taxon\": \"ActinSpp\", \"Age\": false, \"mean\": 0.1407475072953593, \"std\": 0.05086314905921569}, {\"taxon\": \"ActinSpp\", \"Age\": true, \"mean\": 0.12526274949580676, \"std\": 0.058708712775673896}, {\"taxon\": \"CoscinSpp\", \"Age\": false, \"mean\": 0.08369219575831727, \"std\": 0.03304166559749568}, {\"taxon\": \"CoscinSpp\", \"Age\": true, \"mean\": 0.09082501138809751, \"std\": 0.028478151538273478}, {\"taxon\": \"CyclotSpp\", \"Age\": false, \"mean\": 0.08446528930880685, \"std\": 0.042809424542629704}, {\"taxon\": \"CyclotSpp\", \"Age\": true, \"mean\": 0.03942496787355395, \"std\": 0.01841299553471341}, {\"taxon\": \"Rop_tess\", \"Age\": false, \"mean\": 0.08418050368476597, \"std\": 0.08022076469660824}, {\"taxon\": \"Rop_tess\", \"Age\": true, \"mean\": 0.008367203897777401, \"std\": 0.021061102584187873}, {\"taxon\": \"StephanSpp\", \"Age\": false, \"mean\": 0.003222116539109151, \"std\": 0.009142907293745069}, {\"taxon\": \"StephanSpp\", \"Age\": true, \"mean\": 0.0007470241572280425, \"std\": 0.0017716498900289417}]}}, {\"mode\": \"vega-lite\"});\n",
       "</script>"
      ],
      "text/plain": [
       "alt.FacetChart(...)"
      ]
     },
     "execution_count": 7,
     "metadata": {},
     "output_type": "execute_result"
    }
   ],
   "source": [
    "# summary statistics conditional on age > 11\n",
    "grouped_summary = diatoms.iloc[:, 2:10].groupby(\n",
    "    diatoms.Age > 11\n",
    ").aggregate(\n",
    "    ['mean', 'std']\n",
    ").transpose().melt(\n",
    "    ignore_index = False\n",
    ").reset_index().pivot(\n",
    "    index = ['level_0', 'Age'],\n",
    "    columns = 'level_1',\n",
    "    values = 'value'\n",
    ").reset_index().rename(\n",
    "    columns = {'level_0': 'taxon'}\n",
    ")\n",
    "\n",
    "# means before and after 11k yrs bp\n",
    "points = alt.Chart(grouped_summary).mark_point().encode(\n",
    "    x = alt.X('mean', title = 'Average relative abundance'),\n",
    "    y = alt.Y('Age', title = '', axis = None),\n",
    "    color = alt.Color('Age', title = 'Before 11KyrBP')\n",
    ")\n",
    "\n",
    "# variability about means\n",
    "bars = alt.Chart(grouped_summary).transform_calculate(\n",
    "    lwr = 'datum.mean - 2*datum.std',\n",
    "    upr = 'datum.mean + 2*datum.std'\n",
    ").mark_errorbar().encode(\n",
    "    x = alt.X('lwr:Q', title = 'Average relative abundance'), \n",
    "    x2 = 'upr:Q',\n",
    "    y = alt.Y('Age', title = '', axis = None),\n",
    "    color = alt.Color('Age', title = 'Before 11KyrBP')\n",
    ")\n",
    "\n",
    "# layer\n",
    "fig2 = (points + bars).facet(\n",
    "    row = alt.Row('taxon', \n",
    "                  title = None, \n",
    "                  header = alt.Header(labelAngle = 0, \n",
    "                                      labelAlign = 'left'))\n",
    ").configure_facet(spacing = 0)\n",
    "\n",
    "# display\n",
    "fig2"
   ]
  }
 ],
 "metadata": {
  "kernelspec": {
   "display_name": "Python 3",
   "language": "python",
   "name": "python3"
  },
  "language_info": {
   "codemirror_mode": {
    "name": "ipython",
    "version": 3
   },
   "file_extension": ".py",
   "mimetype": "text/x-python",
   "name": "python",
   "nbconvert_exporter": "python",
   "pygments_lexer": "ipython3",
   "version": "3.8.5"
  }
 },
 "nbformat": 4,
 "nbformat_minor": 4
}
