{
 "cells": [
  {
   "cell_type": "markdown",
   "metadata": {
    "slideshow": {
     "slide_type": "slide"
    },
    "tags": []
   },
   "source": [
    "# Data Science Concepts and Analysis\n",
    "\n",
    "### Week 8: Case study\n",
    "\n",
    "* Data analysis and storytelling\n",
    "* Adaptation of HW3 into project-like format"
   ]
  },
  {
   "cell_type": "markdown",
   "metadata": {
    "slideshow": {
     "slide_type": "subslide"
    },
    "tags": []
   },
   "source": [
    "## This week: case study\n",
    "\n",
    "**Objective**: demonstrate presentation of a data analysis. "
   ]
  },
  {
   "cell_type": "markdown",
   "metadata": {
    "slideshow": {
     "slide_type": "fragment"
    },
    "tags": []
   },
   "source": [
    "* **Data analysis and storytelling**\n",
    "    + Revisiting the lifecycle: what you know about data analysis\n",
    "    + Presentables should focus on story, not the gory details"
   ]
  },
  {
   "cell_type": "markdown",
   "metadata": {
    "slideshow": {
     "slide_type": "fragment"
    },
    "tags": []
   },
   "source": [
    "* **Adaptation of HW3**\n",
    "     + Basic organizational principles for preparing presentables\n",
    "     + What's the story I want to tell?\n",
    "     + Selecting figures and tables to tell the story\n",
    "     + Preparing a report"
   ]
  },
  {
   "cell_type": "markdown",
   "metadata": {
    "slideshow": {
     "slide_type": "slide"
    },
    "tags": []
   },
   "source": [
    "# Data analysis and storytelling\n",
    "+ Revisiting the lifecycle: what you already know about data analysis projects\n",
    "+ Presentables should focus on story, not the gory details"
   ]
  },
  {
   "cell_type": "markdown",
   "metadata": {
    "slideshow": {
     "slide_type": "subslide"
    },
    "tags": []
   },
   "source": [
    "## Revisiting the lifecycle\n",
    "\n",
    "The 'data science lifecycle' introduced at the beginning of the course was really just a framework for understanding how to approach a project involving data analysis.\n",
    "\n",
    "<img src = 'figures/cycle-diagram.png' style = 'width:350px'>"
   ]
  },
  {
   "cell_type": "markdown",
   "metadata": {
    "slideshow": {
     "slide_type": "fragment"
    },
    "tags": []
   },
   "source": [
    "By now, you've seen several example tasks at each stage and how to move through the cycle; the homeworks model this process."
   ]
  },
  {
   "cell_type": "markdown",
   "metadata": {
    "slideshow": {
     "slide_type": "subslide"
    },
    "tags": []
   },
   "source": [
    "## Where does that exit arrow go?\n",
    "\n",
    "Once you've completed an analysis, then what?"
   ]
  },
  {
   "cell_type": "markdown",
   "metadata": {
    "slideshow": {
     "slide_type": "fragment"
    },
    "tags": []
   },
   "source": [
    "* Documenting work done.\n",
    "    + Organize so that you or someone else could resume/revisit/repeat.\n",
    "    + More like a completed homework assignment without all the questions and answers."
   ]
  },
  {
   "cell_type": "markdown",
   "metadata": {
    "slideshow": {
     "slide_type": "fragment"
    },
    "tags": []
   },
   "source": [
    "* Preparing presentables that showcase the work's highlights.\n",
    "    + Usually exclude the vast majority of work done."
   ]
  },
  {
   "cell_type": "markdown",
   "metadata": {
    "slideshow": {
     "slide_type": "subslide"
    },
    "tags": []
   },
   "source": [
    "## Preparing presentables\n",
    "\n",
    "**Presentables** are slide presentations, posters, reports, articles, or other multimedia, that are created to be shown to a general audience. These should focus on conveying an accessible story."
   ]
  },
  {
   "cell_type": "markdown",
   "metadata": {
    "slideshow": {
     "slide_type": "fragment"
    },
    "tags": []
   },
   "source": [
    "A **simple strategy** is to design them around a small handful of figures and tables."
   ]
  },
  {
   "cell_type": "markdown",
   "metadata": {
    "slideshow": {
     "slide_type": "fragment"
    },
    "tags": []
   },
   "source": [
    "* Select and polish the figures and tables that display key findings."
   ]
  },
  {
   "cell_type": "markdown",
   "metadata": {
    "slideshow": {
     "slide_type": "fragment"
    },
    "tags": []
   },
   "source": [
    "* Then reverse-engineer: what background information is absolutely necessary for those key findings to make sense?"
   ]
  },
  {
   "cell_type": "markdown",
   "metadata": {
    "slideshow": {
     "slide_type": "fragment"
    },
    "tags": []
   },
   "source": [
    "* Everything else can be 'supplementary information': appendices, a technical report, a public repository, etc."
   ]
  },
  {
   "cell_type": "markdown",
   "metadata": {
    "slideshow": {
     "slide_type": "slide"
    },
    "tags": []
   },
   "source": [
    "# Adaptation of HW3\n",
    "+ Organizational principles\n",
    "+ What's the story I want to tell?\n",
    "+ Selecting figures and tables to tell the story\n",
    "+ Preparing a report"
   ]
  },
  {
   "cell_type": "markdown",
   "metadata": {
    "slideshow": {
     "slide_type": "subslide"
    },
    "tags": []
   },
   "source": [
    "## Basic organizational principles\n",
    "\n",
    "An approach I highly recommend is to **keep (at least) two separate files**:\n",
    "\n",
    "* one for source codes and analysis;\n",
    "* one for the presentable.\n",
    "\n",
    "Others could be used for draft/scratch/supplementary work. For example, if data tidying is really lengthy, it may be helpful to keep all tidying operations in a single file."
   ]
  },
  {
   "cell_type": "markdown",
   "metadata": {
    "slideshow": {
     "slide_type": "subslide"
    },
    "tags": []
   },
   "source": [
    "## What's the story?\n",
    "\n",
    "Let's reflect on HW3 -- actually have a look over everything in it -- and try to pick out just one thing we were up to."
   ]
  },
  {
   "cell_type": "markdown",
   "metadata": {
    "slideshow": {
     "slide_type": "fragment"
    },
    "tags": []
   },
   "source": [
    "**Diatom community composition appeared to change coincident with a climate shift**."
   ]
  },
  {
   "cell_type": "markdown",
   "metadata": {
    "slideshow": {
     "slide_type": "fragment"
    },
    "tags": []
   },
   "source": [
    "The main result here was the last figure on the homework.\n",
    "\n",
    "<img src = 'figures/fig3-precursor.svg' style = 'width:600px'>"
   ]
  },
  {
   "cell_type": "markdown",
   "metadata": {
    "slideshow": {
     "slide_type": "fragment"
    },
    "tags": []
   },
   "source": [
    "*So my goal is to get the reader to this figure*."
   ]
  },
  {
   "cell_type": "markdown",
   "metadata": {
    "slideshow": {
     "slide_type": "subslide"
    },
    "tags": []
   },
   "source": [
    "## Figure 1: the climate event\n",
    "\n",
    "> **Figure 1**: reconstructed sea surface temperature over time between the present and 15,000 years ago. The shaded region indicates the time window with unusually large flucutations in sea surface temperature. \n",
    "\n",
    "<img src = 'figures/fig1.svg' style = 'width:400px'>"
   ]
  },
  {
   "cell_type": "markdown",
   "metadata": {
    "slideshow": {
     "slide_type": "subslide"
    },
    "tags": []
   },
   "source": [
    "## Figure 2: taxon-by-taxon shifts\n",
    "\n",
    "> **Figure 2**: Average relative abundance and variability by taxon before and after the climate shift, approximated at 11,000 years ago. Points indicate average values during each era; the error bars represent two standard deviations in either direction over the same time period.\n",
    "\n",
    "<img src = 'figures/fig2.svg' style = 'width:500px'>"
   ]
  },
  {
   "cell_type": "markdown",
   "metadata": {
    "slideshow": {
     "slide_type": "subslide"
    },
    "tags": []
   },
   "source": [
    "## Figure 3: community shifts\n",
    "\n",
    "> **Figure 3**: center panel, scatterplot of Nodulifer/other composition measure (x axis) and complex community measure (y axis), with points colored according to the climate shift; univariate distributions of each measure shown in panels adjacent to the scatterplot; far right, principal component loadings indicating the taxonomic composition of each measure.\n",
    "\n",
    "<img src = 'figures/fig3.svg' style = 'width:700px'>"
   ]
  },
  {
   "cell_type": "markdown",
   "metadata": {
    "slideshow": {
     "slide_type": "subslide"
    },
    "tags": []
   },
   "source": [
    "## Figure 4: recovering community shifts\n",
    "\n",
    "> **Figure 4**: scatterplot of Nodulifer/other composition measure (x axis) and complex community measure (y axis), with points colored according to the inferred cluster label based on relative abundance data. The square points indicate observations for which the inferred cluster did not match the classification according to the climate shift; there are 18 such points.\n",
    "\n",
    "<img src = 'figures/fig4.svg' style = 'width:500px'>"
   ]
  },
  {
   "cell_type": "markdown",
   "metadata": {
    "slideshow": {
     "slide_type": "subslide"
    },
    "tags": []
   },
   "source": [
    "## Preparing the report\n",
    "\n",
    "From there, the rest was simply filling in the narrative."
   ]
  },
  {
   "cell_type": "markdown",
   "metadata": {
    "slideshow": {
     "slide_type": "fragment"
    },
    "tags": []
   },
   "source": [
    "* Background information, project introduction, data description.\n",
    "    + Just enough for the reader to follow what I was investigating."
   ]
  },
  {
   "cell_type": "markdown",
   "metadata": {
    "slideshow": {
     "slide_type": "fragment"
    },
    "tags": []
   },
   "source": [
    "* Figure-by-figure explanation of results.\n",
    "    + Describe first -- what is shown.\n",
    "    + Observe second -- what I see."
   ]
  },
  {
   "cell_type": "markdown",
   "metadata": {
    "slideshow": {
     "slide_type": "fragment"
    },
    "tags": []
   },
   "source": [
    "* Summary discussion.\n",
    "    + Reiterate results.\n",
    "    + Add interpretations/caveats.\n",
    "    + Suggest next steps, if any."
   ]
  },
  {
   "cell_type": "markdown",
   "metadata": {
    "slideshow": {
     "slide_type": "fragment"
    },
    "tags": []
   },
   "source": [
    "Let's have a look..."
   ]
  }
 ],
 "metadata": {
  "kernelspec": {
   "display_name": "Python 3",
   "language": "python",
   "name": "python3"
  },
  "language_info": {
   "codemirror_mode": {
    "name": "ipython",
    "version": 3
   },
   "file_extension": ".py",
   "mimetype": "text/x-python",
   "name": "python",
   "nbconvert_exporter": "python",
   "pygments_lexer": "ipython3",
   "version": "3.8.5"
  }
 },
 "nbformat": 4,
 "nbformat_minor": 4
}
