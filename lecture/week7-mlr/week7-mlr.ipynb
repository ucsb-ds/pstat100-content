{
 "cells": [
  {
   "cell_type": "code",
   "execution_count": 1,
   "metadata": {
    "slideshow": {
     "slide_type": "skip"
    },
    "tags": []
   },
   "outputs": [
    {
     "data": {
      "text/plain": [
       "DataTransformerRegistry.enable('default')"
      ]
     },
     "execution_count": 1,
     "metadata": {},
     "output_type": "execute_result"
    }
   ],
   "source": [
    "import numpy as np\n",
    "import pandas as pd\n",
    "import altair as alt\n",
    "import sklearn.linear_model as lm\n",
    "from sklearn.preprocessing import add_dummy_feature\n",
    "from sklearn.metrics import r2_score\n",
    "alt.data_transformers.disable_max_rows()"
   ]
  },
  {
   "cell_type": "markdown",
   "metadata": {
    "slideshow": {
     "slide_type": "slide"
    },
    "tags": []
   },
   "source": [
    "# Data Science Concepts and Analysis\n",
    "\n",
    "### Week 7: Linear models\n",
    "\n",
    "* Review of the simple linear model\n",
    "* Multiple linear regression: linear models with many variables\n",
    "* Case study: urban tree cover"
   ]
  },
  {
   "cell_type": "markdown",
   "metadata": {
    "slideshow": {
     "slide_type": "subslide"
    },
    "tags": []
   },
   "source": [
    "## This week: multiple linear regression\n",
    "\n",
    "**Objective**: extend the simple linear model to multiple explanatory variables."
   ]
  },
  {
   "cell_type": "markdown",
   "metadata": {
    "slideshow": {
     "slide_type": "fragment"
    },
    "tags": []
   },
   "source": [
    "* **Review of the simple linear model**\n",
    "    + The simple linear model in matrix form\n",
    "    + Estimation and uncertainty quantification\n",
    "    + Parameter interpretation"
   ]
  },
  {
   "cell_type": "markdown",
   "metadata": {
    "slideshow": {
     "slide_type": "fragment"
    },
    "tags": []
   },
   "source": [
    "* **Multiple linear regression**\n",
    "    + The linear model in matrix form\n",
    "    + Estimation and uncertainty quantification"
   ]
  },
  {
   "cell_type": "markdown",
   "metadata": {
    "slideshow": {
     "slide_type": "fragment"
    },
    "tags": []
   },
   "source": [
    "* **Case study: urban tree cover**\n",
    "     + Background\n",
    "     + Model 1: summer temperatures, tree cover, and income\n",
    "         - model fitting calculations, step by step\n",
    "         - model visualization\n",
    "         - interpretation of results\n",
    "     + Model 2: adding population density\n",
    "        - categorical variable encodings\n",
    "        - results and interpretation"
   ]
  },
  {
   "cell_type": "markdown",
   "metadata": {
    "slideshow": {
     "slide_type": "slide"
    },
    "tags": []
   },
   "source": [
    "## Review of the simple linear model\n",
    "\n",
    "+ The simple linear model in matrix form\n",
    "+ Estimation and uncertainty quantification\n",
    "+ Parameter interpretation"
   ]
  },
  {
   "cell_type": "markdown",
   "metadata": {},
   "source": []
  },
  {
   "cell_type": "markdown",
   "metadata": {
    "slideshow": {
     "slide_type": "subslide"
    },
    "tags": []
   },
   "source": [
    "## The simple linear model\n",
    "\n",
    "The **simple linear model** describes a quantitative variable $y$ as a linear function of another variable $x$ and a random error for $n$ observations:\n",
    "\n",
    "$$y_i = \\beta_0 + \\beta_1 x_i + \\epsilon_i \\quad\\begin{cases} i = 1, \\dots, n \\\\\\epsilon_i \\sim N\\left(0,\\sigma^2\\right)\\end{cases}$$"
   ]
  },
  {
   "cell_type": "markdown",
   "metadata": {
    "slideshow": {
     "slide_type": "fragment"
    },
    "tags": []
   },
   "source": [
    "* $y_i$ is the _**response variable**_\n",
    "* $x_i$ is the _**explanatory variable**_\n",
    "* $\\epsilon_i$ is the _**error**_\n",
    "* $\\beta_0, \\beta_1, \\sigma^2$ are the _**model parameters**_\n",
    "    + $\\beta_0$ is the _**intercept**_\n",
    "    + $\\beta_1$ is the _**coefficient**_\n",
    "    + $\\sigma^2$ is the _**error variance**_"
   ]
  },
  {
   "cell_type": "markdown",
   "metadata": {
    "slideshow": {
     "slide_type": "subslide"
    },
    "tags": []
   },
   "source": [
    "## Estimation\n",
    "\n",
    "The parameters $\\beta_0, \\beta_1$ are estimated by **ordinary least squares** (OLS), which are best under many conditions."
   ]
  },
  {
   "cell_type": "markdown",
   "metadata": {
    "slideshow": {
     "slide_type": "fragment"
    },
    "tags": []
   },
   "source": [
    "The OLS estimates have a closed form:\n",
    "\n",
    "$$\\hat{\\beta} = \\left[\\begin{array}{c}\\hat{\\beta}_0 \\\\ \\hat{\\beta}_1 \\end{array}\\right] = \\left(\\mathbf{X'X}\\right)^{-1}\\mathbf{X'y}$$"
   ]
  },
  {
   "cell_type": "markdown",
   "metadata": {
    "slideshow": {
     "slide_type": "fragment"
    },
    "tags": []
   },
   "source": [
    "An estimate of the error variance is:\n",
    "\n",
    "$$\\hat{\\sigma}^2 \n",
    "    = \\frac{1}{n - 2} \\sum_{i = 1}^n \\left(y_i - \\hat{\\beta}_0 - \\hat{\\beta}_1 x_i\\right)^2 \n",
    "    = \\frac{1}{n - 2}\\underbrace{\\left(\\mathbf{y} - \\mathbf{X}\\hat{\\beta}\\right)'\\left(\\mathbf{y} - \\mathbf{X}\\hat{\\beta}\\right)}_\\text{measure of residual variation}$$"
   ]
  },
  {
   "cell_type": "markdown",
   "metadata": {
    "slideshow": {
     "slide_type": "subslide"
    },
    "tags": []
   },
   "source": [
    "## Uncertainty quantification\n",
    "\n",
    "Model **uncertainty** can be thought of in terms of the _**variation in parameter estimates**_: estimates that vary a lot from sample to sample are less certain."
   ]
  },
  {
   "cell_type": "markdown",
   "metadata": {
    "slideshow": {
     "slide_type": "fragment"
    },
    "tags": []
   },
   "source": [
    "The variances and covariances of the estimates have a closed form:\n",
    "\n",
    "$$\\mathbf{V} = \\left[\\begin{array}{cc} \n",
    "    \\text{var}\\hat{\\beta}_0 & \\text{cov}\\left(\\hat{\\beta}_0, \\hat{\\beta}_1\\right) \\\\ \n",
    "    \\text{cov}\\left(\\hat{\\beta}_0, \\hat{\\beta}_1\\right) &\\text{var}\\hat{\\beta}_1\n",
    "    \\end{array}\\right]\n",
    "   = \\sigma^2 \\left(\\mathbf{X'X}\\right)^{-1}$$\n",
    "   "
   ]
  },
  {
   "cell_type": "markdown",
   "metadata": {
    "slideshow": {
     "slide_type": "fragment"
    },
    "tags": []
   },
   "source": [
    "This matrix is estimated by plugging in $\\color{red}{\\hat{\\sigma}^2}$ (the estimate) for $\\sigma^2$:\n",
    "\n",
    "$$\\hat{\\mathbf{V}} \n",
    "    = \\left[\\begin{array}{cc} \n",
    "        \\color{blue}{\\hat{v}_{11}} & \\hat{v}_{12} \\\\ \n",
    "        \\hat{v}_{21} & \\color{blue}{\\hat{v}_{22}}\n",
    "        \\end{array}\\right]\n",
    "    = \\color{red}{\\hat{\\sigma}^2}\\left(\\mathbf{X'X}\\right)^{-1}$$"
   ]
  },
  {
   "cell_type": "markdown",
   "metadata": {
    "slideshow": {
     "slide_type": "fragment"
    },
    "tags": []
   },
   "source": [
    "The square roots of the diagonal elements give estimated standard deviations, which are known as *standard errors*:\n",
    "\n",
    "$$\\text{SE}(\\hat{\\beta}_0) = \\sqrt{\\color{blue}{\\hat{v}_{11}}} \n",
    "    \\qquad\\text{and}\\qquad \n",
    "    \\text{SE}(\\hat{\\beta}_1) = \\sqrt{\\color{blue}{\\hat{v}_{22}}}$$"
   ]
  },
  {
   "cell_type": "markdown",
   "metadata": {
    "slideshow": {
     "slide_type": "fragment"
    },
    "tags": []
   },
   "source": [
    "*For about 95% of samples, estimates will vary within about 2 standard errors.*"
   ]
  },
  {
   "cell_type": "markdown",
   "metadata": {
    "slideshow": {
     "slide_type": "subslide"
    },
    "tags": []
   },
   "source": [
    "## Parameter interpretations\n",
    "\n",
    "Parameter interpretations are based on the observation that under the model:\n",
    "\n",
    "$$\\mathbb{E}y_i \n",
    "    = \\mathbb{E}\\left(\\beta_0 + \\beta_1 x_i + \\epsilon_i\\right) \n",
    "    = \\beta_0 + \\beta_1 x_i + \\mathbb{E}\\left(\\epsilon_i\\right)\n",
    "    = \\beta_0 + \\beta_1 x_i$$"
   ]
  },
  {
   "cell_type": "markdown",
   "metadata": {
    "slideshow": {
     "slide_type": "fragment"
    },
    "tags": []
   },
   "source": [
    "* (Intercept) [at $x_i = 0$] the mean [response variable] is estimated to be [$\\hat{\\beta}_0$ units].\n",
    "\n",
    "$$x_i = 0 \\quad\\Longrightarrow\\quad \\mathbb{E}y_i = \\beta_0 + \\beta_1 (0) = \\beta_0$$"
   ]
  },
  {
   "cell_type": "markdown",
   "metadata": {
    "slideshow": {
     "slide_type": "fragment"
    },
    "tags": []
   },
   "source": [
    "* (Slope) Every [one-unit increase in $x_i$] is associated with an estimated change in mean [response variable] of [$\\hat{\\beta}_1$ units].\n",
    "\n",
    "$$\\text{increment $x$} \\quad\\Longrightarrow\\quad \\beta_0 + \\beta_1 (x_i + 1) = \\beta_0 + \\beta_1 x_i + \\beta_1 = \\mathbb{E}y_i + \\beta_1$$"
   ]
  },
  {
   "cell_type": "code",
   "execution_count": 2,
   "metadata": {
    "slideshow": {
     "slide_type": "skip"
    },
    "tags": []
   },
   "outputs": [],
   "source": [
    "# import grade-aggregated seda data from hw2\n",
    "seda = pd.read_csv('data/seda.csv')\n",
    "\n",
    "# filter to math and remove NaNs\n",
    "regdata = seda[seda.subject == 'math'].dropna()\n",
    "regdata.head()\n",
    "\n",
    "# save explanatory variable and response variable separately as arrays\n",
    "x = add_dummy_feature(regdata[['log_income']], value = 1)\n",
    "y = regdata.gap.values\n",
    "\n",
    "# configure regression module\n",
    "slr = lm.LinearRegression(fit_intercept = False)\n",
    "\n",
    "# fit slr model\n",
    "slr.fit(x, y)\n",
    "\n",
    "# fitted values\n",
    "regdata['fitted'] = slr.predict(x)\n",
    "\n",
    "# residuals\n",
    "resid = y - regdata.fitted\n",
    "\n",
    "# residual variance\n",
    "n, p = x.shape\n",
    "sigmasqhat = (n - 1)*resid.var()/(n - p)\n",
    "\n",
    "# coefficient variances/covariances\n",
    "coef_vcov = np.linalg.inv(x.transpose().dot(x))*(sigmasqhat)\n",
    "\n",
    "# coefficient standard errors\n",
    "coef_se = np.sqrt(coef_vcov.diagonal())\n",
    "\n",
    "# summary table\n",
    "coef_summary = pd.DataFrame(\n",
    "    {'estimate': slr.coef_,\n",
    "     'standard error': coef_se},\n",
    "    index = ['intercept', 'log median income']\n",
    ")\n",
    "\n",
    "# fitted std errors\n",
    "regdata['fit_se'] = np.sqrt(x.dot(np.linalg.inv(x.transpose().dot(x))).dot(x.transpose()).diagonal()*sigmasqhat)\n",
    "\n",
    "# simple scatterplot of math gap vs district income\n",
    "base = alt.Chart(regdata).encode(\n",
    "    x = alt.X('log_income', scale = alt.Scale(zero = False))\n",
    ")\n",
    "\n",
    "# plot\n",
    "scatter = base.mark_point().encode(y = 'gap')\n",
    "line = base.mark_line(color = 'red').encode(y = 'fitted')\n",
    "band = base.transform_calculate(\n",
    "    lwr = 'datum.fitted - 2*datum.fit_se',\n",
    "    upr = 'datum.fitted + 2*datum.fit_se'\n",
    ").mark_errorband(color = 'grey').encode(y = 'lwr:Q', y2 = 'upr:Q')"
   ]
  },
  {
   "cell_type": "markdown",
   "metadata": {
    "slideshow": {
     "slide_type": "subslide"
    },
    "tags": []
   },
   "source": [
    "## Example from last time\n",
    "\n",
    "Last time we fit a simple linear model to the SEDA math gap data. 'Fitting' the model means computing the estimates. "
   ]
  },
  {
   "cell_type": "code",
   "execution_count": 3,
   "metadata": {
    "slideshow": {
     "slide_type": "fragment"
    },
    "tags": []
   },
   "outputs": [
    {
     "data": {
      "text/html": [
       "\n",
       "<div id=\"altair-viz-ef400a10feb448e8afd8e47b6e43634b\"></div>\n",
       "<script type=\"text/javascript\">\n",
       "  (function(spec, embedOpt){\n",
       "    let outputDiv = document.currentScript.previousElementSibling;\n",
       "    if (outputDiv.id !== \"altair-viz-ef400a10feb448e8afd8e47b6e43634b\") {\n",
       "      outputDiv = document.getElementById(\"altair-viz-ef400a10feb448e8afd8e47b6e43634b\");\n",
       "    }\n",
       "    const paths = {\n",
       "      \"vega\": \"https://cdn.jsdelivr.net/npm//vega@5?noext\",\n",
       "      \"vega-lib\": \"https://cdn.jsdelivr.net/npm//vega-lib?noext\",\n",
       "      \"vega-lite\": \"https://cdn.jsdelivr.net/npm//vega-lite@4.8.1?noext\",\n",
       "      \"vega-embed\": \"https://cdn.jsdelivr.net/npm//vega-embed@6?noext\",\n",
       "    };\n",
       "\n",
       "    function loadScript(lib) {\n",
       "      return new Promise(function(resolve, reject) {\n",
       "        var s = document.createElement('script');\n",
       "        s.src = paths[lib];\n",
       "        s.async = true;\n",
       "        s.onload = () => resolve(paths[lib]);\n",
       "        s.onerror = () => reject(`Error loading script: ${paths[lib]}`);\n",
       "        document.getElementsByTagName(\"head\")[0].appendChild(s);\n",
       "      });\n",
       "    }\n",
       "\n",
       "    function showError(err) {\n",
       "      outputDiv.innerHTML = `<div class=\"error\" style=\"color:red;\">${err}</div>`;\n",
       "      throw err;\n",
       "    }\n",
       "\n",
       "    function displayChart(vegaEmbed) {\n",
       "      vegaEmbed(outputDiv, spec, embedOpt)\n",
       "        .catch(err => showError(`Javascript Error: ${err.message}<br>This usually means there's a typo in your chart specification. See the javascript console for the full traceback.`));\n",
       "    }\n",
       "\n",
       "    if(typeof define === \"function\" && define.amd) {\n",
       "      requirejs.config({paths});\n",
       "      require([\"vega-embed\"], displayChart, err => showError(`Error loading script: ${err.message}`));\n",
       "    } else if (typeof vegaEmbed === \"function\") {\n",
       "      displayChart(vegaEmbed);\n",
       "    } else {\n",
       "      loadScript(\"vega\")\n",
       "        .then(() => loadScript(\"vega-lite\"))\n",
       "        .then(() => loadScript(\"vega-embed\"))\n",
       "        .catch(showError)\n",
       "        .then(() => displayChart(vegaEmbed));\n",
       "    }\n",
       "  })({\"config\": {\"view\": {\"continuousWidth\": 400, \"continuousHeight\": 300}}, \"layer\": [{\"mark\": \"point\", \"encoding\": {\"x\": {\"type\": \"quantitative\", \"field\": \"log_income\", \"scale\": {\"zero\": false}}, \"y\": {\"type\": \"quantitative\", \"field\": \"gap\"}}}, {\"mark\": {\"type\": \"line\", \"color\": \"red\"}, \"encoding\": {\"x\": {\"type\": \"quantitative\", \"field\": \"log_income\", \"scale\": {\"zero\": false}}, \"y\": {\"type\": \"quantitative\", \"field\": \"fitted\"}}}, {\"mark\": {\"type\": \"errorband\", \"color\": \"grey\"}, \"encoding\": {\"x\": {\"type\": \"quantitative\", \"field\": \"log_income\", \"scale\": {\"zero\": false}}, \"y\": {\"type\": \"quantitative\", \"field\": \"lwr\"}, \"y2\": {\"field\": \"upr\"}}, \"transform\": [{\"calculate\": \"datum.fitted - 2*datum.fit_se\", \"as\": \"lwr\"}, {\"calculate\": \"datum.fitted + 2*datum.fit_se\", \"as\": \"upr\"}]}], \"data\": {\"name\": \"data-6939581f4dc00656a1690b05fbe42987\"}, \"height\": 200, \"width\": 300, \"$schema\": \"https://vega.github.io/schema/vega-lite/v4.8.1.json\", \"datasets\": {\"data-6939581f4dc00656a1690b05fbe42987\": [{\"id\": 600001, \"log_income\": 11.39204788208008, \"subject\": \"math\", \"gap\": -0.5628551662829374, \"fitted\": 0.02291673642169134, \"fit_se\": 0.006291390373052174}, {\"id\": 600006, \"log_income\": 11.6072359085083, \"subject\": \"math\", \"gap\": 0.06116342190257066, \"fitted\": 0.048966744893368164, \"fit_se\": 0.008246475691855498}, {\"id\": 600011, \"log_income\": 10.704569816589359, \"subject\": \"math\", \"gap\": -0.0154174278222427, \"fitted\": -0.06030726877684667, \"fit_se\": 0.005984877326274394}, {\"id\": 600013, \"log_income\": 11.399662017822273, \"subject\": \"math\", \"gap\": 0.0544540398929237, \"fitted\": 0.023838480553467045, \"fit_se\": 0.006353393571666624}, {\"id\": 600014, \"log_income\": 10.826107025146479, \"subject\": \"math\", \"gap\": 0.02052645482492604, \"fitted\": -0.04559434368947879, \"fit_se\": 0.0051803796787990766}, {\"id\": 600015, \"log_income\": 10.31087493896484, \"subject\": \"math\", \"gap\": -0.007544880658130966, \"fitted\": -0.1079667741294621, \"fit_se\": 0.009662653522324868}, {\"id\": 600016, \"log_income\": 11.06938362121582, \"subject\": \"math\", \"gap\": 0.0010630632106341854, \"fitted\": -0.01614401834490864, \"fit_se\": 0.0046157249477853084}, {\"id\": 600017, \"log_income\": 10.78744506835938, \"subject\": \"math\", \"gap\": -0.03274515703134464, \"fitted\": -0.050274642675219416, \"fit_se\": 0.005407799641873803}, {\"id\": 600019, \"log_income\": 11.74435329437256, \"subject\": \"math\", \"gap\": 0.07716571194728603, \"fitted\": 0.06556575889366445, \"fit_se\": 0.009637996254999984}, {\"id\": 600020, \"log_income\": 11.808919906616213, \"subject\": \"math\", \"gap\": 0.06863051725191906, \"fitted\": 0.07338199673855073, \"fit_se\": 0.010316793255906322}, {\"id\": 600022, \"log_income\": 10.24083518981934, \"subject\": \"math\", \"gap\": -0.02764383469182576, \"fitted\": -0.1164455732935179, \"fit_se\": 0.010400028435560048}, {\"id\": 600025, \"log_income\": 11.814537048339838, \"subject\": \"math\", \"gap\": 0.1771433945732876, \"fitted\": 0.07406199084377985, \"fit_se\": 0.010376411886290089}, {\"id\": 600026, \"log_income\": 10.66465950012207, \"subject\": \"math\", \"gap\": 0.04098797867845636, \"fitted\": -0.0651386903914084, \"fit_se\": 0.006298584642127033}, {\"id\": 600027, \"log_income\": 11.061327934265142, \"subject\": \"math\", \"gap\": -0.0651920766867334, \"fitted\": -0.01711921532400429, \"fit_se\": 0.004606766969201813}, {\"id\": 600028, \"log_income\": 11.37741756439209, \"subject\": \"math\", \"gap\": -0.003690209421696861, \"fitted\": 0.02114563462740726, \"fit_se\": 0.00617420251081451}, {\"id\": 600029, \"log_income\": 11.30858516693115, \"subject\": \"math\", \"gap\": -0.01258636102890008, \"fitted\": 0.01281299378885481, \"fit_se\": 0.0056616039297344364}, {\"id\": 600032, \"log_income\": 11.52828598022461, \"subject\": \"math\", \"gap\": 0.0748073136212217, \"fitted\": 0.03940930652300212, \"fit_se\": 0.0074878385346159645}, {\"id\": 600033, \"log_income\": 10.54428291320801, \"subject\": \"math\", \"gap\": -0.15526762675456127, \"fitted\": -0.07971111415007326, \"fit_se\": 0.007348542251179852}, {\"id\": 600034, \"log_income\": 11.37455272674561, \"subject\": \"math\", \"gap\": -0.012477677528710044, \"fitted\": 0.020798826088849198, \"fit_se\": 0.006151565392736661}, {\"id\": 600035, \"log_income\": 10.48046398162842, \"subject\": \"math\", \"gap\": -0.09673279388923736, \"fitted\": -0.08743684004614805, \"fit_se\": 0.0079527668654172}, {\"id\": 600036, \"log_income\": 11.14308834075928, \"subject\": \"math\", \"gap\": -0.047145227522666866, \"fitted\": -0.007221549003194827, \"fit_se\": 0.004786024669358915}, {\"id\": 600037, \"log_income\": 10.7682523727417, \"subject\": \"math\", \"gap\": -0.10069349377110932, \"fitted\": -0.052598052075517376, \"fit_se\": 0.0055313119093956505}, {\"id\": 600039, \"log_income\": 10.822449684143072, \"subject\": \"math\", \"gap\": -0.08299738389207774, \"fitted\": -0.046037090275819814, \"fit_se\": 0.005200592759043623}, {\"id\": 600040, \"log_income\": 10.75186824798584, \"subject\": \"math\", \"gap\": -0.018013623990234786, \"fitted\": -0.05458146442319989, \"fit_se\": 0.0056418585794398065}, {\"id\": 600043, \"log_income\": 11.503466606140142, \"subject\": \"math\", \"gap\": 0.0889811312050415, \"fitted\": 0.03640474852833253, \"fit_se\": 0.007257855553496168}, {\"id\": 600044, \"log_income\": 11.302478790283198, \"subject\": \"math\", \"gap\": -0.007289306665646675, \"fitted\": 0.012073774390588321, \"fit_se\": 0.005619583269398968}, {\"id\": 600045, \"log_income\": 10.65819263458252, \"subject\": \"math\", \"gap\": -0.024750693682199662, \"fitted\": -0.06592154947927997, \"fit_se\": 0.006351269369626867}, {\"id\": 600046, \"log_income\": 10.87400436401367, \"subject\": \"math\", \"gap\": -0.12985348348654446, \"fitted\": -0.039796037417650476, \"fit_se\": 0.004943145702772132}, {\"id\": 600047, \"log_income\": 11.245462417602539, \"subject\": \"math\", \"gap\": -0.05012790791032372, \"fitted\": 0.005171545600219707, \"fit_se\": 0.00525911565292536}, {\"id\": 600048, \"log_income\": 10.982802391052251, \"subject\": \"math\", \"gap\": -0.0600511874339514, \"fitted\": -0.026625278927506768, \"fit_se\": 0.004622835269353031}, {\"id\": 600049, \"log_income\": 11.030333518981928, \"subject\": \"math\", \"gap\": -0.05841457220755422, \"fitted\": -0.020871305038771437, \"fit_se\": 0.004590664862503406}, {\"id\": 600051, \"log_income\": 10.74984073638916, \"subject\": \"math\", \"gap\": -0.02184406504107823, \"fitted\": -0.05482690881500285, \"fit_se\": 0.005655851222437028}, {\"id\": 600052, \"log_income\": 10.59512329101563, \"subject\": \"math\", \"gap\": 0.03967350522900909, \"fitted\": -0.07355653252871375, \"fit_se\": 0.0068886485330085494}, {\"id\": 600060, \"log_income\": 11.1112060546875, \"subject\": \"math\", \"gap\": -0.0038724285437013992, \"fitted\": -0.011081121657174897, \"fit_se\": 0.0046932308944220135}, {\"id\": 600061, \"log_income\": 10.780407905578608, \"subject\": \"math\", \"gap\": -0.17397074276900298, \"fitted\": -0.05112654021384411, \"fit_se\": 0.005452311098539576}, {\"id\": 600062, \"log_income\": 10.97074890136719, \"subject\": \"math\", \"gap\": 0.058387972866716174, \"fitted\": -0.028084437755351077, \"fit_se\": 0.004641821593771496}, {\"id\": 600063, \"log_income\": 10.86381149291992, \"subject\": \"math\", \"gap\": 0.11936118696407128, \"fitted\": -0.04102995541369414, \"fit_se\": 0.004989175290507068}, {\"id\": 600064, \"log_income\": 10.41744613647461, \"subject\": \"math\", \"gap\": -0.029196438951285875, \"fitted\": -0.09506558885421024, \"fit_se\": 0.008573038497288814}, {\"id\": 600065, \"log_income\": 10.572991371154787, \"subject\": \"math\", \"gap\": -0.0766652729704644, \"fitted\": -0.07623575548288564, \"fit_se\": 0.007086230996084779}, {\"id\": 600067, \"log_income\": 10.65362548828125, \"subject\": \"math\", \"gap\": -0.012544991470803913, \"fitted\": -0.0664744343298651, \"fit_se\": 0.006388768755171975}, {\"id\": 600068, \"log_income\": 11.179920196533198, \"subject\": \"math\", \"gap\": -0.10357098881409303, \"fitted\": -0.002762796483996466, \"fit_se\": 0.0049271888214199614}, {\"id\": 600069, \"log_income\": 11.18924808502197, \"subject\": \"math\", \"gap\": 0.011668545825799986, \"fitted\": -0.0016335906532229938, \"fit_se\": 0.004968383711944405}, {\"id\": 600153, \"log_income\": 10.85792636871338, \"subject\": \"math\", \"gap\": -0.06659595302421402, \"fitted\": -0.04174239066384211, \"fit_se\": 0.005016882218561542}, {\"id\": 600158, \"log_income\": 10.80752468109131, \"subject\": \"math\", \"gap\": -0.058394425528769875, \"fitted\": -0.04784386578462296, \"fit_se\": 0.005285958089568889}, {\"id\": 600159, \"log_income\": 10.71937465667725, \"subject\": \"math\", \"gap\": 0.058784185127675324, \"fitted\": -0.05851503983124573, \"fit_se\": 0.005873920528908757}, {\"id\": 600160, \"log_income\": 10.975931167602539, \"subject\": \"math\", \"gap\": 0.006848855456433535, \"fitted\": -0.027457088355042458, \"fit_se\": 0.0046331291939368455}, {\"id\": 601331, \"log_income\": 10.588629722595213, \"subject\": \"math\", \"gap\": -0.20101477129455966, \"fitted\": -0.07434262418618665, \"fit_se\": 0.006946177114597989}, {\"id\": 601332, \"log_income\": 10.656843185424801, \"subject\": \"math\", \"gap\": -0.08283806271960484, \"fitted\": -0.06608490969301561, \"fit_se\": 0.006362324409393054}, {\"id\": 601414, \"log_income\": 11.14364528656006, \"subject\": \"math\", \"gap\": -0.016262172450401402, \"fitted\": -0.00715412683724348, \"fit_se\": 0.0047878943272100655}, {\"id\": 601620, \"log_income\": 11.15050506591797, \"subject\": \"math\", \"gap\": -0.0474117262182389, \"fitted\": -0.006323702796680042, \"fit_se\": 0.004811604516456114}, {\"id\": 601680, \"log_income\": 10.976290702819819, \"subject\": \"math\", \"gap\": -0.10242158828608494, \"fitted\": -0.027413564114351807, \"fit_se\": 0.004632555691329217}, {\"id\": 601710, \"log_income\": 10.71150207519531, \"subject\": \"math\", \"gap\": -0.13635069917789455, \"fitted\": -0.05946807061879711, \"fit_se\": 0.005932535831515765}, {\"id\": 601770, \"log_income\": 11.397366523742681, \"subject\": \"math\", \"gap\": 0.031411578980590084, \"fitted\": 0.023560595016745456, \"fit_se\": 0.006334629710482098}, {\"id\": 601860, \"log_income\": 11.29012966156006, \"subject\": \"math\", \"gap\": -0.1165690798723334, \"fitted\": 0.010578826399312069, \"fit_se\": 0.005536516089945021}, {\"id\": 601950, \"log_income\": 10.88011074066162, \"subject\": \"math\", \"gap\": -0.07221808385130507, \"fitted\": -0.03905681801938443, \"fit_se\": 0.004916783548777083}, {\"id\": 602100, \"log_income\": 11.3067626953125, \"subject\": \"math\", \"gap\": -0.0979513126988094, \"fitted\": 0.012592370913626638, \"fit_se\": 0.005648998499642412}, {\"id\": 602160, \"log_income\": 11.36062431335449, \"subject\": \"math\", \"gap\": 0.04845870951380207, \"fitted\": 0.019112694695489596, \"fit_se\": 0.006043013456614483}, {\"id\": 602220, \"log_income\": 10.34849262237549, \"subject\": \"math\", \"gap\": -0.325738992187407, \"fitted\": -0.10341289170487866, \"fit_se\": 0.009273044004365651}, {\"id\": 602310, \"log_income\": 11.121335983276367, \"subject\": \"math\", \"gap\": -0.0800931763019906, \"fitted\": -0.009854823289475068, \"fit_se\": 0.004719638649859622}, {\"id\": 602360, \"log_income\": 10.70630741119385, \"subject\": \"math\", \"gap\": -0.13112566354424254, \"fitted\": -0.0600969208549913, \"fit_se\": 0.005971694831076375}, {\"id\": 602430, \"log_income\": 10.997007369995119, \"subject\": \"math\", \"gap\": -0.10299565691375184, \"fitted\": -0.024905667349001348, \"fit_se\": 0.004606042174271639}, {\"id\": 602450, \"log_income\": 10.9269437789917, \"subject\": \"math\", \"gap\": -0.07987293001281696, \"fitted\": -0.03338735273591564, \"fit_se\": 0.004746470442307757}, {\"id\": 602610, \"log_income\": 10.96921634674072, \"subject\": \"math\", \"gap\": 0.0030260667953038232, \"fitted\": -0.02826996416063232, \"fit_se\": 0.004644544476164427}, {\"id\": 602730, \"log_income\": 10.64942264556885, \"subject\": \"math\", \"gap\": -0.4415080420371197, \"fitted\": -0.066983217695187, \"fit_se\": 0.006423485966498987}, {\"id\": 602760, \"log_income\": 10.51495933532715, \"subject\": \"math\", \"gap\": 0.07417147134564414, \"fitted\": -0.08326093736698481, \"fit_se\": 0.007622813860976398}, {\"id\": 602850, \"log_income\": 11.07356739044189, \"subject\": \"math\", \"gap\": -0.11726738448777475, \"fitted\": -0.01563754395787309, \"fit_se\": 0.004621147665728774}, {\"id\": 602970, \"log_income\": 11.355020523071287, \"subject\": \"math\", \"gap\": 0.06524656576949313, \"fitted\": 0.01843431687506003, \"fit_se\": 0.00600006535482234}, {\"id\": 603000, \"log_income\": 10.29889392852783, \"subject\": \"math\", \"gap\": 0.06514645403895565, \"fitted\": -0.10941715883981895, \"fit_se\": 0.009787743462341021}, {\"id\": 603060, \"log_income\": 11.209935188293462, \"subject\": \"math\", \"gap\": -0.08922573185587268, \"fitted\": 0.0008707271957841822, \"fit_se\": 0.0050671486880859}, {\"id\": 603180, \"log_income\": 10.65876483917236, \"subject\": \"math\", \"gap\": -0.0884674396618079, \"fitted\": -0.06585228013070021, \"fit_se\": 0.00634658805699331}, {\"id\": 603270, \"log_income\": 10.464963912963867, \"subject\": \"math\", \"gap\": -0.10916649469498617, \"fitted\": -0.08931323125027402, \"fit_se\": 0.008103359558395378}, {\"id\": 603300, \"log_income\": 11.15180206298828, \"subject\": \"math\", \"gap\": 0.006641351496372944, \"fitted\": -0.006166692273231744, \"fit_se\": 0.004816228397047912}, {\"id\": 603420, \"log_income\": 10.76620674133301, \"subject\": \"math\", \"gap\": -0.05390029859412086, \"fitted\": -0.052845689996691814, \"fit_se\": 0.005544863589728383}, {\"id\": 603480, \"log_income\": 10.96713924407959, \"subject\": \"math\", \"gap\": -0.01946449273980344, \"fitted\": -0.028521411895978677, \"fit_se\": 0.0046483454291928366}, {\"id\": 603600, \"log_income\": 10.99164295196533, \"subject\": \"math\", \"gap\": -0.041059155813896665, \"fitted\": -0.02555506749194203, \"fit_se\": 0.00461167001985921}, {\"id\": 603630, \"log_income\": 10.50872707366943, \"subject\": \"math\", \"gap\": -0.06651303248348125, \"fitted\": -0.08401539602193919, \"fit_se\": 0.007681867212981836}, {\"id\": 603690, \"log_income\": 10.94316959381104, \"subject\": \"math\", \"gap\": -0.01115309461013072, \"fitted\": -0.03142310490800648, \"fit_se\": 0.004701308059741943}, {\"id\": 603750, \"log_income\": 10.956613540649409, \"subject\": \"math\", \"gap\": 0.053547590018734735, \"fitted\": -0.02979562156311366, \"fit_se\": 0.0046695518704250845}, {\"id\": 603840, \"log_income\": 10.54803943634033, \"subject\": \"math\", \"gap\": -0.19454513107206256, \"fitted\": -0.07925636087664412, \"fit_se\": 0.0073138548220885195}, {\"id\": 603870, \"log_income\": 10.93431091308594, \"subject\": \"math\", \"gap\": -0.03659034083902342, \"fitted\": -0.03249550987294425, \"fit_se\": 0.004725049940209748}, {\"id\": 604020, \"log_income\": 10.56750583648682, \"subject\": \"math\", \"gap\": -0.08761207947381916, \"fitted\": -0.07689981763794185, \"fit_se\": 0.007135845952271085}, {\"id\": 604080, \"log_income\": 10.85445022583008, \"subject\": \"math\", \"gap\": 0.0093909987965006, \"fitted\": -0.04216320195646728, \"fit_se\": 0.005033629508400147}, {\"id\": 604110, \"log_income\": 10.97986698150635, \"subject\": \"math\", \"gap\": -0.17157626600747405, \"fitted\": -0.026980630685724094, \"fit_se\": 0.004627060564167238}, {\"id\": 604200, \"log_income\": 11.305715560913091, \"subject\": \"math\", \"gap\": -0.08850181411430649, \"fitted\": 0.012465608005725493, \"fit_se\": 0.005641780431695715}, {\"id\": 604230, \"log_income\": 10.73458290100098, \"subject\": \"math\", \"gap\": -0.10474030049370883, \"fitted\": -0.056673975994895986, \"fit_se\": 0.005763271369560531}, {\"id\": 604260, \"log_income\": 10.203962326049801, \"subject\": \"math\", \"gap\": -0.02339674958912754, \"fitted\": -0.12090929011603291, \"fit_se\": 0.01079359881530178}, {\"id\": 604290, \"log_income\": 11.071105003356928, \"subject\": \"math\", \"gap\": -0.03287779852517686, \"fitted\": -0.015935633054596776, \"fit_se\": 0.0046178924854680704}, {\"id\": 604350, \"log_income\": 10.932029724121088, \"subject\": \"math\", \"gap\": -0.3801917246970609, \"fitted\": -0.032771663675951856, \"fit_se\": 0.004731521071874236}, {\"id\": 604380, \"log_income\": 10.95612049102783, \"subject\": \"math\", \"gap\": -0.016003696836174173, \"fitted\": -0.029855308651806745, \"fit_se\": 0.004670624447146175}, {\"id\": 604440, \"log_income\": 10.928466796875, \"subject\": \"math\", \"gap\": 0.02169855180697129, \"fitted\": -0.033202980819777794, \"fit_se\": 0.004741918450060665}, {\"id\": 604530, \"log_income\": 11.76071834564209, \"subject\": \"math\", \"gap\": 0.0032606447437577386, \"fitted\": 0.06754686226306084, \"fit_se\": 0.009808848498929663}, {\"id\": 604620, \"log_income\": 11.404809951782232, \"subject\": \"math\", \"gap\": -0.0287961506511344, \"fitted\": 0.024461673792860905, \"fit_se\": 0.006395693904958399}, {\"id\": 604650, \"log_income\": 11.33811664581299, \"subject\": \"math\", \"gap\": 0.09727554029380996, \"fitted\": 0.016387984869084216, \"fit_se\": 0.005873153240956502}, {\"id\": 604740, \"log_income\": 11.20608901977539, \"subject\": \"math\", \"gap\": 0.16726819246615054, \"fitted\": 0.00040512172440965166, \"fit_se\": 0.005048032610485509}, {\"id\": 604800, \"log_income\": 11.52030658721924, \"subject\": \"math\", \"gap\": 0.01551346434048006, \"fitted\": 0.03844334545705008, \"fit_se\": 0.007413406349196022}, {\"id\": 604830, \"log_income\": 11.441366195678713, \"subject\": \"math\", \"gap\": 0.043581648450709054, \"fitted\": 0.02888706157582699, \"fit_se\": 0.006704350838865427}, {\"id\": 605040, \"log_income\": 10.904138565063482, \"subject\": \"math\", \"gap\": -0.15566542348760196, \"fitted\": -0.03614808262358271, \"fit_se\": 0.004822191499116237}, {\"id\": 605240, \"log_income\": 11.09250545501709, \"subject\": \"math\", \"gap\": -0.017560039848659198, \"fitted\": -0.013344959417693092, \"fit_se\": 0.004652220398824478}, {\"id\": 605580, \"log_income\": 10.89144229888916, \"subject\": \"math\", \"gap\": -0.04280914801802162, \"fitted\": -0.03768505401966582, \"fit_se\": 0.004870331392000299}, {\"id\": 605610, \"log_income\": 11.244852066040039, \"subject\": \"math\", \"gap\": -0.11113406301205292, \"fitted\": 0.005097658295067475, \"fit_se\": 0.005255592511511837}, {\"id\": 605790, \"log_income\": 10.59117698669434, \"subject\": \"math\", \"gap\": -0.055344754193078514, \"fitted\": -0.07403426013608949, \"fit_se\": 0.006923565249199429}, {\"id\": 605880, \"log_income\": 11.35425662994385, \"subject\": \"math\", \"gap\": 0.05188728596863547, \"fitted\": 0.0183418422947057, \"fit_se\": 0.0059942438664930715}, {\"id\": 605910, \"log_income\": 11.452816009521479, \"subject\": \"math\", \"gap\": -0.04048457851492242, \"fitted\": 0.030273141240917845, \"fit_se\": 0.006803812158450616}, {\"id\": 606030, \"log_income\": 10.94722270965576, \"subject\": \"math\", \"gap\": 0.2337481053512508, \"fitted\": -0.030932447022230303, \"fit_se\": 0.004691187776990281}, {\"id\": 606060, \"log_income\": 11.51896286010742, \"subject\": \"math\", \"gap\": 0.014968387355854394, \"fitted\": 0.038280677936800345, \"fit_se\": 0.007400917062860915}, {\"id\": 606090, \"log_income\": 11.06002807617188, \"subject\": \"math\", \"gap\": 0.15084350788854567, \"fitted\": -0.01727657219419587, \"fit_se\": 0.004605505071241841}, {\"id\": 606270, \"log_income\": 11.49044895172119, \"subject\": \"math\", \"gap\": 0.0071429122540816814, \"fitted\": 0.03482887084812991, \"fit_se\": 0.007139107284511665}, {\"id\": 606330, \"log_income\": 11.20751953125, \"subject\": \"math\", \"gap\": 0.1845850294663677, \"fitted\": 0.0005782950958603816, \"fit_se\": 0.0050551029854470665}, {\"id\": 606360, \"log_income\": 10.98889827728271, \"subject\": \"math\", \"gap\": -0.06901011001641065, \"fitted\": -0.025887329467299214, \"fit_se\": 0.004614885064767296}, {\"id\": 606390, \"log_income\": 11.049389839172358, \"subject\": \"math\", \"gap\": -0.06939783344141437, \"fitted\": -0.018564404833218973, \"fit_se\": 0.004597102344988593}, {\"id\": 606450, \"log_income\": 11.106101989746088, \"subject\": \"math\", \"gap\": 0.0072674745430312765, \"fitted\": -0.011699004246511713, \"fit_se\": 0.004681033701709476}, {\"id\": 606480, \"log_income\": 11.61931324005127, \"subject\": \"math\", \"gap\": 0.14546691959395922, \"fitted\": 0.05042878994406963, \"fit_se\": 0.00836567765904245}, {\"id\": 606570, \"log_income\": 10.844579696655268, \"subject\": \"math\", \"gap\": -0.08034196196296046, \"fitted\": -0.043358098219478336, \"fit_se\": 0.005082700696271462}, {\"id\": 606580, \"log_income\": 10.355353355407713, \"subject\": \"math\", \"gap\": -0.5814828555561955, \"fitted\": -0.10258235221540124, \"fit_se\": 0.009202533853287193}, {\"id\": 606720, \"log_income\": 10.46442985534668, \"subject\": \"math\", \"gap\": -0.3095175752442767, \"fitted\": -0.08937788264228241, \"fit_se\": 0.008108572476699702}, {\"id\": 606750, \"log_income\": 11.50054931640625, \"subject\": \"math\", \"gap\": -0.2412211578855027, \"fitted\": 0.03605159029948668, \"fit_se\": 0.0072311275286662665}, {\"id\": 606780, \"log_income\": 11.588208198547358, \"subject\": \"math\", \"gap\": -0.1508853032661025, \"fitted\": 0.04666330815524411, \"fit_se\": 0.008060247518400636}, {\"id\": 606810, \"log_income\": 10.931192398071287, \"subject\": \"math\", \"gap\": -0.05624470308607602, \"fitted\": -0.03287302782270718, \"fit_se\": 0.004733932809890241}, {\"id\": 606870, \"log_income\": 10.864718437194819, \"subject\": \"math\", \"gap\": -0.035262135048290635, \"fitted\": -0.04092016349619487, \"fit_se\": 0.004984978401424035}, {\"id\": 606900, \"log_income\": 10.529008865356447, \"subject\": \"math\", \"gap\": -0.0457354272093903, \"fitted\": -0.08156014396151012, \"fit_se\": 0.007490648720144131}, {\"id\": 606990, \"log_income\": 10.31087112426758, \"subject\": \"math\", \"gap\": -0.13452084169153644, \"fitted\": -0.1079672359251187, \"fit_se\": 0.009662693276480002}, {\"id\": 607020, \"log_income\": 11.211328506469732, \"subject\": \"math\", \"gap\": -0.15145985453261215, \"fitted\": 0.0010393980595770902, \"fit_se\": 0.0050741568336082}, {\"id\": 607140, \"log_income\": 11.5600757598877, \"subject\": \"math\", \"gap\": 0.049318448129489455, \"fitted\": 0.04325768063229529, \"fit_se\": 0.0077886981447159494}, {\"id\": 607170, \"log_income\": 11.00523281097412, \"subject\": \"math\", \"gap\": -0.08351901103655214, \"fitted\": -0.023909920463159873, \"fit_se\": 0.004599104304795835}, {\"id\": 607200, \"log_income\": 11.42918300628662, \"subject\": \"math\", \"gap\": -0.0351553657968011, \"fitted\": 0.02741220169563774, \"fit_se\": 0.006599932579172849}, {\"id\": 607440, \"log_income\": 11.52195072174072, \"subject\": \"math\", \"gap\": 0.04339471552014231, \"fitted\": 0.03864237938530368, \"fit_se\": 0.007428705588497728}, {\"id\": 607470, \"log_income\": 11.435107231140142, \"subject\": \"math\", \"gap\": 0.012336984350950098, \"fitted\": 0.028129370351273275, \"fit_se\": 0.006650521002488672}, {\"id\": 607500, \"log_income\": 11.4057035446167, \"subject\": \"math\", \"gap\": 0.12691278504171544, \"fitted\": 0.02456984942555973, \"fit_se\": 0.00640306718226378}, {\"id\": 607530, \"log_income\": 11.332958221435552, \"subject\": \"math\", \"gap\": 0.07724062036719748, \"fitted\": 0.015763521691633198, \"fit_se\": 0.005835242626763743}, {\"id\": 607560, \"log_income\": 11.150611877441412, \"subject\": \"math\", \"gap\": -0.19903775409999847, \"fitted\": -0.00631077251827783, \"fit_se\": 0.00481198362174681}, {\"id\": 607680, \"log_income\": 10.48043155670166, \"subject\": \"math\", \"gap\": -0.05542715370185713, \"fitted\": -0.08744076530923439, \"fit_se\": 0.007953080447208539}, {\"id\": 607740, \"log_income\": 11.496713638305659, \"subject\": \"math\", \"gap\": 0.1078901097270461, \"fitted\": 0.03558725476616931, \"fit_se\": 0.007196086651858515}, {\"id\": 607800, \"log_income\": 11.525289535522461, \"subject\": \"math\", \"gap\": -0.02650831625152236, \"fitted\": 0.039046566034270036, \"fit_se\": 0.007459834254947388}, {\"id\": 607840, \"log_income\": 10.95613765716553, \"subject\": \"math\", \"gap\": 0.1245028069351783, \"fitted\": -0.02985323057134881, \"fit_se\": 0.004670586985525054}, {\"id\": 607900, \"log_income\": 11.11501407623291, \"subject\": \"math\", \"gap\": 0.021443287305106508, \"fitted\": -0.010620134142373061, \"fit_se\": 0.004702816444428026}, {\"id\": 607950, \"log_income\": 11.01016330718994, \"subject\": \"math\", \"gap\": -0.06819356705691783, \"fitted\": -0.023313049576226375, \"fit_se\": 0.0045959304957756235}, {\"id\": 607970, \"log_income\": 10.95059204101563, \"subject\": \"math\", \"gap\": -0.018046665096114856, \"fitted\": -0.030524566008005793, \"fit_se\": 0.004683132723957305}, {\"id\": 607980, \"log_income\": 10.76376438140869, \"subject\": \"math\", \"gap\": -0.03175966622591038, \"fitted\": -0.053141354666215834, \"fit_se\": 0.005561138456313826}, {\"id\": 608070, \"log_income\": 11.10404109954834, \"subject\": \"math\", \"gap\": -0.08091576358257714, \"fitted\": -0.01194848935031434, \"fit_se\": 0.004676321227175456}, {\"id\": 608130, \"log_income\": 10.804821968078608, \"subject\": \"math\", \"gap\": -0.04537929268828116, \"fitted\": -0.048171048007751516, \"fit_se\": 0.005301899812342647}, {\"id\": 608190, \"log_income\": 11.19982051849365, \"subject\": \"math\", \"gap\": 0.033481240482134744, \"fitted\": -0.0003537239892876798, \"fit_se\": 0.00501760732380937}, {\"id\": 608250, \"log_income\": 10.73739528656006, \"subject\": \"math\", \"gap\": 0.09211865008692227, \"fitted\": -0.056333517146623935, \"fit_se\": 0.005743194893087991}, {\"id\": 608370, \"log_income\": 10.768506050109858, \"subject\": \"math\", \"gap\": 0.08274981495297383, \"fitted\": -0.05256734266431429, \"fit_se\": 0.005529636457681327}, {\"id\": 608460, \"log_income\": 11.32937526702881, \"subject\": \"math\", \"gap\": -0.06989955472622936, \"fitted\": 0.015329780120605818, \"fit_se\": 0.005809143069319517}, {\"id\": 608520, \"log_income\": 10.70603561401367, \"subject\": \"math\", \"gap\": -0.06481246579660012, \"fitted\": -0.060129823795567416, \"fit_se\": 0.005973754099068777}, {\"id\": 608580, \"log_income\": 10.794724464416499, \"subject\": \"math\", \"gap\": -0.3558119239587337, \"fitted\": -0.049393421112365, \"fit_se\": 0.005362730237802904}, {\"id\": 608610, \"log_income\": 11.161722183227539, \"subject\": \"math\", \"gap\": -0.01342639310015262, \"fitted\": -0.0049657926666777374, \"fit_se\": 0.004853056823188202}, {\"id\": 608700, \"log_income\": 11.22645854949951, \"subject\": \"math\", \"gap\": 0.1620783322548717, \"fitted\": 0.002870995084953698, \"fit_se\": 0.005153047754072763}, {\"id\": 608760, \"log_income\": 11.31033420562744, \"subject\": \"math\", \"gap\": 0.05622650359973223, \"fitted\": 0.013024727097681765, \"fit_se\": 0.005673752326522215}, {\"id\": 608970, \"log_income\": 11.02069759368896, \"subject\": \"math\", \"gap\": -0.3707941087135658, \"fitted\": -0.022037800868863533, \"fit_se\": 0.0045916310352591555}, {\"id\": 609030, \"log_income\": 11.18609046936035, \"subject\": \"math\", \"gap\": -0.006891740780125083, \"fitted\": -0.0020158420084719353, \"fit_se\": 0.004954201240399666}, {\"id\": 609070, \"log_income\": 10.40225028991699, \"subject\": \"math\", \"gap\": -0.05950492145068994, \"fitted\": -0.09690515185467463, \"fit_se\": 0.008725563123512806}, {\"id\": 609120, \"log_income\": 10.60669994354248, \"subject\": \"math\", \"gap\": -0.1499666815361435, \"fitted\": -0.07215509815802079, \"fit_se\": 0.00678703938736055}, {\"id\": 609330, \"log_income\": 11.1414213180542, \"subject\": \"math\", \"gap\": 0.05258237426252617, \"fitted\": -0.007423353705392266, \"fit_se\": 0.0047804785209179836}, {\"id\": 609390, \"log_income\": 10.847535133361822, \"subject\": \"math\", \"gap\": -0.08968708735105242, \"fitted\": -0.04300032203405979, \"fit_se\": 0.005067774806424662}, {\"id\": 609450, \"log_income\": 10.96478748321533, \"subject\": \"math\", \"gap\": 0.07683170754399643, \"fitted\": -0.02880610891864377, \"fit_se\": 0.00465280223556648}, {\"id\": 609480, \"log_income\": 10.51679039001465, \"subject\": \"math\", \"gap\": 0.11172733456128647, \"fitted\": -0.0830392754515279, \"fit_se\": 0.007605512829002015}, {\"id\": 609570, \"log_income\": 10.7446813583374, \"subject\": \"math\", \"gap\": -0.24015322348232224, \"fitted\": -0.05545148744136874, \"fit_se\": 0.005691759833881464}, {\"id\": 609620, \"log_income\": 10.76178646087646, \"subject\": \"math\", \"gap\": -0.12907705546362286, \"fitted\": -0.053380795714475404, \"fit_se\": 0.0055743936665791395}, {\"id\": 609640, \"log_income\": 11.48041343688965, \"subject\": \"math\", \"gap\": 0.06777909128605983, \"fitted\": 0.03361400192294628, \"fit_se\": 0.0070484986969185665}, {\"id\": 609690, \"log_income\": 10.48290157318115, \"subject\": \"math\", \"gap\": -0.10174438603230702, \"fitted\": -0.08714175262119639, \"fit_se\": 0.007929210636350312}, {\"id\": 609780, \"log_income\": 10.56534671783447, \"subject\": \"math\", \"gap\": -0.15671577226383385, \"fitted\": -0.07716119397991883, \"fit_se\": 0.00715544193090312}, {\"id\": 609850, \"log_income\": 11.296873092651367, \"subject\": \"math\", \"gap\": -0.037314679011285004, \"fitted\": 0.011395165672330565, \"fit_se\": 0.005581554454711776}, {\"id\": 609870, \"log_income\": 11.43126583099365, \"subject\": \"math\", \"gap\": -0.014988227139491531, \"fitted\": 0.02766434212447, \"fit_se\": 0.006617677625193222}, {\"id\": 609940, \"log_income\": 11.03556346893311, \"subject\": \"math\", \"gap\": 0.02341570192998648, \"fitted\": -0.020238183192746284, \"fit_se\": 0.00459132810944596}, {\"id\": 609990, \"log_income\": 10.77201843261719, \"subject\": \"math\", \"gap\": -0.103468525835884, \"fitted\": -0.052142144312944616, \"fit_se\": 0.005506554456488669}, {\"id\": 610050, \"log_income\": 11.090588569641108, \"subject\": \"math\", \"gap\": 0.0023882798151765327, \"fitted\": -0.013577011735437905, \"fit_se\": 0.004648592493189251}, {\"id\": 610260, \"log_income\": 11.315530776977539, \"subject\": \"math\", \"gap\": -0.10294287499770956, \"fitted\": 0.013653808231705478, \"fit_se\": 0.005710137274773831}, {\"id\": 610290, \"log_income\": 11.87545108795166, \"subject\": \"math\", \"gap\": 0.20383003960939675, \"fitted\": 0.08143605934689568, \"fit_se\": 0.011028009630788689}, {\"id\": 610350, \"log_income\": 10.45875263214111, \"subject\": \"math\", \"gap\": -0.1424358701305942, \"fitted\": -0.09006515002911364, \"fit_se\": 0.008164084813436962}, {\"id\": 610380, \"log_income\": 10.716076850891108, \"subject\": \"math\", \"gap\": 0.05196675729675202, \"fitted\": -0.0589142621768981, \"fit_se\": 0.005898365857522468}, {\"id\": 610440, \"log_income\": 11.357935905456538, \"subject\": \"math\", \"gap\": 0.026622168756610824, \"fitted\": 0.018787244206076137, \"fit_se\": 0.006022356136353395}, {\"id\": 610620, \"log_income\": 10.97438335418701, \"subject\": \"math\", \"gap\": -0.0345588050572377, \"fitted\": -0.027644461942952336, \"fit_se\": 0.004635641998671269}, {\"id\": 610740, \"log_income\": 11.78586483001709, \"subject\": \"math\", \"gap\": 0.158146624664225, \"fitted\": 0.07059101923533606, \"fit_se\": 0.010072999750514964}, {\"id\": 610770, \"log_income\": 10.63516139984131, \"subject\": \"math\", \"gap\": 0.05366346580803925, \"fitted\": -0.06870964075963659, \"fit_se\": 0.006542739316197177}, {\"id\": 610890, \"log_income\": 10.56217861175537, \"subject\": \"math\", \"gap\": -0.06292026054158514, \"fitted\": -0.07754471527322515, \"fit_se\": 0.007184263391992309}, {\"id\": 611040, \"log_income\": 11.22630500793457, \"subject\": \"math\", \"gap\": 0.10203745886208487, \"fitted\": 0.0028524078097513783, \"fit_se\": 0.005152221925783573}, {\"id\": 611110, \"log_income\": 10.847033500671392, \"subject\": \"math\", \"gap\": -0.04156603444157888, \"fitted\": -0.04306104816298184, \"fit_se\": 0.005070294280490862}, {\"id\": 611220, \"log_income\": 11.46977710723877, \"subject\": \"math\", \"gap\": 0.13235588406908674, \"fitted\": 0.0323264001817527, \"fit_se\": 0.006953394294788554}, {\"id\": 611280, \"log_income\": 11.1735782623291, \"subject\": \"math\", \"gap\": -0.13505785984025104, \"fitted\": -0.0035305317640943468, \"fit_se\": 0.004900405448453774}, {\"id\": 611460, \"log_income\": 11.076852798461909, \"subject\": \"math\", \"gap\": -0.06042515254364598, \"fitted\": -0.015239822448107843, \"fit_se\": 0.004625773586558207}, {\"id\": 611490, \"log_income\": 11.316378593444819, \"subject\": \"math\", \"gap\": 0.03840184960936428, \"fitted\": 0.013756442316517958, \"fit_se\": 0.005716114347977179}, {\"id\": 611520, \"log_income\": 11.10385990142822, \"subject\": \"math\", \"gap\": -0.12920389923844575, \"fitted\": -0.011970424644031752, \"fit_se\": 0.0046759127619112}, {\"id\": 611550, \"log_income\": 10.25580215454102, \"subject\": \"math\", \"gap\": -0.1687555844881851, \"fitted\": -0.1146337180324859, \"fit_se\": 0.010241272937387356}, {\"id\": 611730, \"log_income\": 11.05514907836914, \"subject\": \"math\", \"gap\": -0.09517103050623488, \"fitted\": -0.017867208839757787, \"fit_se\": 0.004601224981589175}, {\"id\": 611760, \"log_income\": 10.25946998596191, \"subject\": \"math\", \"gap\": -0.2386130465224036, \"fitted\": -0.11418970150808727, \"fit_se\": 0.01020246098986132}, {\"id\": 611850, \"log_income\": 11.230640411376948, \"subject\": \"math\", \"gap\": -0.035835066539471085, \"fitted\": 0.0033772385741608346, \"fit_se\": 0.005175735032667059}, {\"id\": 611910, \"log_income\": 10.69304847717285, \"subject\": \"math\", \"gap\": -0.09676606474969504, \"fitted\": -0.061702007110511436, \"fit_se\": 0.006073325738045164}, {\"id\": 611940, \"log_income\": 10.807186126708979, \"subject\": \"math\", \"gap\": -0.20045265739804186, \"fitted\": -0.04788485014920063, \"fit_se\": 0.005287947041625834}, {\"id\": 612030, \"log_income\": 10.58292388916016, \"subject\": \"math\", \"gap\": -0.02526813490722753, \"fitted\": -0.07503335504044584, \"fit_se\": 0.006997034182332372}, {\"id\": 612090, \"log_income\": 10.70604515075684, \"subject\": \"math\", \"gap\": -0.0014874888071157, \"fitted\": -0.0601286693064238, \"fit_se\": 0.005973681826705265}, {\"id\": 612180, \"log_income\": 11.00555992126465, \"subject\": \"math\", \"gap\": -0.09025447270707514, \"fitted\": -0.023870321485554458, \"fit_se\": 0.004598870845428796}, {\"id\": 612210, \"log_income\": 11.397056579589838, \"subject\": \"math\", \"gap\": 0.18453708130234245, \"fitted\": 0.023523074119596643, \"fit_se\": 0.006332100843702293}, {\"id\": 612330, \"log_income\": 11.14853286743164, \"subject\": \"math\", \"gap\": -0.004277362765455017, \"fitted\": -0.006562451151453708, \"fit_se\": 0.004804659081937778}, {\"id\": 612630, \"log_income\": 11.4141321182251, \"subject\": \"math\", \"gap\": -0.1156242248995257, \"fitted\": 0.025590186930147807, \"fit_se\": 0.006473051716406675}, {\"id\": 612690, \"log_income\": 10.87874507904053, \"subject\": \"math\", \"gap\": -0.104002618297591, \"fitted\": -0.03922214086466225, \"fit_se\": 0.00492259933734862}, {\"id\": 612750, \"log_income\": 11.6002254486084, \"subject\": \"math\", \"gap\": 0.08456631628337953, \"fitted\": 0.04811807992434547, \"fit_se\": 0.008177633778246197}, {\"id\": 612810, \"log_income\": 10.69765377044678, \"subject\": \"math\", \"gap\": 0.0272325440926675, \"fitted\": -0.06114450430335405, \"fit_se\": 0.006037756760618713}, {\"id\": 612880, \"log_income\": 10.985865592956538, \"subject\": \"math\", \"gap\": -0.004362892929081737, \"fitted\": -0.02625445701477469, \"fit_se\": 0.004618700922553406}, {\"id\": 612930, \"log_income\": 11.01731014251709, \"subject\": \"math\", \"gap\": -0.016514062680618842, \"fitted\": -0.022447875412458407, \"fit_se\": 0.004592644354787964}, {\"id\": 612960, \"log_income\": 11.46750259399414, \"subject\": \"math\", \"gap\": 0.03624632298529167, \"fitted\": 0.03205105452114587, \"fit_se\": 0.006933184536711736}, {\"id\": 613080, \"log_income\": 11.505367279052727, \"subject\": \"math\", \"gap\": 0.05414350199255262, \"fitted\": 0.03663483821453184, \"fit_se\": 0.007275304844654105}, {\"id\": 613140, \"log_income\": 11.66652202606201, \"subject\": \"math\", \"gap\": -0.026982625326275062, \"fitted\": 0.056143742099772354, \"fit_se\": 0.00883841009964307}, {\"id\": 613170, \"log_income\": 10.718451499938961, \"subject\": \"math\", \"gap\": 0.021207117448245487, \"fitted\": -0.058626794380289615, \"fit_se\": 0.0058807476227331875}, {\"id\": 613290, \"log_income\": 10.64805316925049, \"subject\": \"math\", \"gap\": -0.12744624540123978, \"fitted\": -0.06714900233612253, \"fit_se\": 0.006434841114305931}, {\"id\": 613360, \"log_income\": 11.20431518554688, \"subject\": \"math\", \"gap\": -0.10338952710155967, \"fitted\": 0.0001903867438113327, \"fit_se\": 0.005039330671599592}, {\"id\": 613470, \"log_income\": 10.65078830718994, \"subject\": \"math\", \"gap\": 0.026704434885777503, \"fitted\": -0.06681789484990919, \"fit_se\": 0.00641218327742646}, {\"id\": 613500, \"log_income\": 10.926639556884773, \"subject\": \"math\", \"gap\": 0.022476382127065705, \"fitted\": -0.033424180939576775, \"fit_se\": 0.0047473873895167926}, {\"id\": 613800, \"log_income\": 10.9782543182373, \"subject\": \"math\", \"gap\": -0.12628487017402995, \"fitted\": -0.02717585479980711, \"fit_se\": 0.004629491336998391}, {\"id\": 613840, \"log_income\": 10.55922985076904, \"subject\": \"math\", \"gap\": -0.08278441650200702, \"fitted\": -0.07790168331624248, \"fit_se\": 0.0072111613000192185}, {\"id\": 613890, \"log_income\": 11.253870010375982, \"subject\": \"math\", \"gap\": 0.06430121299281924, \"fitted\": 0.006189343228693467, \"fit_se\": 0.005308410703655926}, {\"id\": 613920, \"log_income\": 10.921507835388178, \"subject\": \"math\", \"gap\": -0.08708197522026684, \"fitted\": -0.03404541154742913, \"fit_se\": 0.0047632388997796565}, {\"id\": 613980, \"log_income\": 11.16941547393799, \"subject\": \"math\", \"gap\": 0.3353742670962667, \"fitted\": -0.00403446627501558, \"fit_se\": 0.004883373259581779}, {\"id\": 614010, \"log_income\": 11.021912574768072, \"subject\": \"math\", \"gap\": 0.4468750172894604, \"fitted\": -0.02189071895204342, \"fit_se\": 0.0045913529466908975}, {\"id\": 614070, \"log_income\": 10.67499256134033, \"subject\": \"math\", \"gap\": -0.019639492923111245, \"fitted\": -0.06388780140496264, \"fit_se\": 0.006215434468210002}, {\"id\": 614220, \"log_income\": 11.30447769165039, \"subject\": \"math\", \"gap\": -0.0637993923395595, \"fitted\": 0.01231575531496265, \"fit_se\": 0.0056332708819375734}, {\"id\": 614250, \"log_income\": 10.73456382751465, \"subject\": \"math\", \"gap\": -0.04484074023052202, \"fitted\": -0.05667628497318211, \"fit_se\": 0.005763407945824625}, {\"id\": 614340, \"log_income\": 11.14864444732666, \"subject\": \"math\", \"gap\": -0.09137660731067072, \"fitted\": -0.006548943628480464, \"fit_se\": 0.0048050492674649}, {\"id\": 614370, \"log_income\": 11.09285068511963, \"subject\": \"math\", \"gap\": -0.06820386220148797, \"fitted\": -0.013303166910716202, \"fit_se\": 0.004652885253201577}, {\"id\": 614400, \"log_income\": 11.659921646118159, \"subject\": \"math\", \"gap\": 0.0173525511650608, \"fitted\": 0.05534472016389835, \"fit_se\": 0.008771705242461361}, {\"id\": 614520, \"log_income\": 10.774208068847662, \"subject\": \"math\", \"gap\": 0.1388257070554071, \"fitted\": -0.051877073605710144, \"fit_se\": 0.005492275366088964}, {\"id\": 614550, \"log_income\": 10.490236282348633, \"subject\": \"math\", \"gap\": -0.07799679288743548, \"fitted\": -0.08625383502131112, \"fit_se\": 0.007858543752107757}, {\"id\": 614700, \"log_income\": 11.12442874908447, \"subject\": \"math\", \"gap\": 0.10867883191895264, \"fitted\": -0.009480422460398819, \"fit_se\": 0.004728278402530694}, {\"id\": 614730, \"log_income\": 11.12547969818115, \"subject\": \"math\", \"gap\": 0.047390076720517565, \"fitted\": -0.009353197756839515, \"fit_se\": 0.004731275226803102}, {\"id\": 614790, \"log_income\": 11.101785659790039, \"subject\": \"math\", \"gap\": -0.0789353966476577, \"fitted\": -0.012221526032635044, \"fit_se\": 0.004671304601980695}, {\"id\": 614880, \"log_income\": 11.002537727355962, \"subject\": \"math\", \"gap\": -0.03048777787585309, \"fitted\": -0.024236179094972332, \"fit_se\": 0.004601151490778984}, {\"id\": 614940, \"log_income\": 10.70889663696289, \"subject\": \"math\", \"gap\": 0.022093945877435302, \"fitted\": -0.059783477052665734, \"fit_se\": 0.005952129156054918}, {\"id\": 614950, \"log_income\": 10.68125247955322, \"subject\": \"math\", \"gap\": -0.08553909976734847, \"fitted\": -0.06312999473149428, \"fit_se\": 0.00616569694563377}, {\"id\": 615090, \"log_income\": 10.59790420532227, \"subject\": \"math\", \"gap\": 0.11333884973580853, \"fitted\": -0.07321988349461361, \"fit_se\": 0.006864127589909801}, {\"id\": 615180, \"log_income\": 11.377695083618159, \"subject\": \"math\", \"gap\": -0.10347403085188993, \"fitted\": 0.021179230261467952, \"fit_se\": 0.006176400881625499}, {\"id\": 615240, \"log_income\": 10.990232467651367, \"subject\": \"math\", \"gap\": -0.031186108504575562, \"fitted\": -0.025725816436192206, \"fit_se\": 0.004613293898796239}, {\"id\": 615270, \"log_income\": 11.374792098999018, \"subject\": \"math\", \"gap\": 0.018616986661073538, \"fitted\": 0.020827803766337416, \"fit_se\": 0.00615345286879718}, {\"id\": 615390, \"log_income\": 11.128488540649409, \"subject\": \"math\", \"gap\": -0.04709937359685528, \"fitted\": -0.008988956432222084, \"fit_se\": 0.004740025321035195}, {\"id\": 615450, \"log_income\": 11.243062973022461, \"subject\": \"math\", \"gap\": -0.1328486151819874, \"fitted\": 0.0048810761318396345, \"fit_se\": 0.005245309065069017}, {\"id\": 615510, \"log_income\": 11.180026054382319, \"subject\": \"math\", \"gap\": 0.06807764189048743, \"fitted\": -0.002749981654509126, \"fit_se\": 0.004927644361167464}, {\"id\": 615690, \"log_income\": 11.31951236724854, \"subject\": \"math\", \"gap\": 0.12904644411234573, \"fitted\": 0.014135807448910631, \"fit_se\": 0.005738305790015507}, {\"id\": 615780, \"log_income\": 10.7064733505249, \"subject\": \"math\", \"gap\": -0.09179297278635602, \"fitted\": -0.06007683274390363, \"fit_se\": 0.005970438097817247}, {\"id\": 615840, \"log_income\": 11.281728744506841, \"subject\": \"math\", \"gap\": 0.1770111796085879, \"fitted\": 0.00956183691323953, \"fit_se\": 0.005481517820126373}, {\"id\": 616050, \"log_income\": 10.70053863525391, \"subject\": \"math\", \"gap\": -0.10820277611040187, \"fitted\": -0.06079527133759477, \"fit_se\": 0.006015620287479879}, {\"id\": 616080, \"log_income\": 10.8440113067627, \"subject\": \"math\", \"gap\": -0.2972551651168608, \"fitted\": -0.04342690577240016, \"fit_se\": 0.0050855938428367485}, {\"id\": 616260, \"log_income\": 10.64378356933594, \"subject\": \"math\", \"gap\": -0.05672601775346193, \"fitted\": -0.06766586712544598, \"fit_se\": 0.006470375973311149}, {\"id\": 616300, \"log_income\": 10.922289848327642, \"subject\": \"math\", \"gap\": -0.02298301132243165, \"fitted\": -0.03395074343770155, \"fit_se\": 0.0047607766201780465}, {\"id\": 616320, \"log_income\": 10.88682460784912, \"subject\": \"math\", \"gap\": -0.1317567318428518, \"fitted\": -0.038244057662709, \"fit_se\": 0.004888869543445183}, {\"id\": 616323, \"log_income\": 10.862607955932619, \"subject\": \"math\", \"gap\": 0.00015942469726622222, \"fitted\": -0.04117565194354089, \"fit_se\": 0.004994774883514487}, {\"id\": 616325, \"log_income\": 11.14845943450928, \"subject\": \"math\", \"gap\": -0.09531701146570797, \"fitted\": -0.006571340717854479, \"fit_se\": 0.004804402474200979}, {\"id\": 616470, \"log_income\": 10.82620334625244, \"subject\": \"math\", \"gap\": -0.09968062211673287, \"fitted\": -0.04558268334913396, \"fit_se\": 0.0051798511687125865}, {\"id\": 616570, \"log_income\": 10.92019844055176, \"subject\": \"math\", \"gap\": 0.1870084074526981, \"fitted\": -0.034203922906762774, \"fit_se\": 0.0047673991540687095}, {\"id\": 616650, \"log_income\": 11.18815422058105, \"subject\": \"math\", \"gap\": 0.1766362648163083, \"fitted\": -0.0017660105579260232, \"fit_se\": 0.004963443296509552}, {\"id\": 616680, \"log_income\": 10.67143630981445, \"subject\": \"math\", \"gap\": -0.09448588126479998, \"fitted\": -0.06431831040638958, \"fit_se\": 0.006243905914534336}, {\"id\": 616740, \"log_income\": 11.182422637939448, \"subject\": \"math\", \"gap\": -0.03625409338914511, \"fitted\": -0.0024598585328718947, \"fit_se\": 0.004938031547222504}, {\"id\": 616830, \"log_income\": 10.65896511077881, \"subject\": \"math\", \"gap\": -0.19671263590738328, \"fitted\": -0.06582803585869645, \"fit_se\": 0.006344950491557906}, {\"id\": 616920, \"log_income\": 10.61373043060303, \"subject\": \"math\", \"gap\": -0.08417203006245434, \"fitted\": -0.07130400876179732, \"fit_se\": 0.006725947158597476}, {\"id\": 617040, \"log_income\": 11.70725631713867, \"subject\": \"math\", \"gap\": 0.11261662327572038, \"fitted\": 0.06107491157628919, \"fit_se\": 0.009254052425745367}, {\"id\": 617160, \"log_income\": 10.89743423461914, \"subject\": \"math\", \"gap\": -0.002997234723867349, \"fitted\": -0.03695968849111586, \"fit_se\": 0.004847090391927341}, {\"id\": 617190, \"log_income\": 12.284985542297358, \"subject\": \"math\", \"gap\": 0.15836343841845815, \"fitted\": 0.13101305571712651, \"fit_se\": 0.015569487086781105}, {\"id\": 617220, \"log_income\": 10.915294647216802, \"subject\": \"math\", \"gap\": -0.13733191510637496, \"fitted\": -0.03479756122409561, \"fit_se\": 0.004783394228596294}, {\"id\": 617340, \"log_income\": 11.21354293823242, \"subject\": \"math\", \"gap\": -0.06997622234394914, \"fitted\": 0.0013074704385820368, \"fit_se\": 0.005085385340235726}, {\"id\": 617430, \"log_income\": 10.7208776473999, \"subject\": \"math\", \"gap\": -0.07477770673988034, \"fitted\": -0.05833309234230888, \"fit_se\": 0.005862831954142602}, {\"id\": 617490, \"log_income\": 11.165042877197273, \"subject\": \"math\", \"gap\": 0.02193911189546047, \"fitted\": -0.0045637995470826365, \"fit_se\": 0.0048659563602508294}, {\"id\": 617850, \"log_income\": 11.00162887573242, \"subject\": \"math\", \"gap\": -0.04799874398200105, \"fitted\": -0.024346201910301568, \"fit_se\": 0.00460189156610545}, {\"id\": 618030, \"log_income\": 11.37097930908203, \"subject\": \"math\", \"gap\": 0.0397093843335249, \"fitted\": 0.020366239006964326, \"fit_se\": 0.006123475481223516}, {\"id\": 618210, \"log_income\": 11.232141494750982, \"subject\": \"math\", \"gap\": 0.03653449392519236, \"fitted\": 0.0035589551652710494, \"fit_se\": 0.005183969843186231}, {\"id\": 618390, \"log_income\": 10.76605701446533, \"subject\": \"math\", \"gap\": -0.08778175525411078, \"fitted\": -0.05286381547623731, \"fit_se\": 0.005545858340384819}, {\"id\": 618510, \"log_income\": 10.83145332336426, \"subject\": \"math\", \"gap\": 0.0936189785749164, \"fitted\": -0.04494713707590936, \"fit_se\": 0.0051513448616378}, {\"id\": 618660, \"log_income\": 11.075770378112788, \"subject\": \"math\", \"gap\": 0.26627003571639185, \"fitted\": -0.015370856965838842, \"fit_se\": 0.004624213863766965}, {\"id\": 618690, \"log_income\": 10.73704433441162, \"subject\": \"math\", \"gap\": -0.02686038672462875, \"fitted\": -0.05637600234708695, \"fit_se\": 0.005745693484533701}, {\"id\": 618780, \"log_income\": 11.2252721786499, \"subject\": \"math\", \"gap\": -0.0216527251688632, \"fitted\": 0.002727376635563772, \"fit_se\": 0.0051466800731111845}, {\"id\": 618840, \"log_income\": 11.444478988647461, \"subject\": \"math\", \"gap\": -0.01587586529195812, \"fitted\": 0.02926388683210357, \"fit_se\": 0.0067312658792915755}, {\"id\": 618870, \"log_income\": 11.278306007385249, \"subject\": \"math\", \"gap\": -0.0668182846949148, \"fitted\": 0.009147490759813692, \"fit_se\": 0.005459471212897165}, {\"id\": 618990, \"log_income\": 11.141919136047358, \"subject\": \"math\", \"gap\": 0.0979783476127009, \"fitted\": -0.007363089372128151, \"fit_se\": 0.004782126888286968}, {\"id\": 619200, \"log_income\": 11.155489921569819, \"subject\": \"math\", \"gap\": 0.28248809941263797, \"fitted\": -0.005720251321632119, \"fit_se\": 0.004829618621501341}, {\"id\": 619260, \"log_income\": 11.01090717315674, \"subject\": \"math\", \"gap\": -0.1144436653875344, \"fitted\": -0.02322299942307171, \"fit_se\": 0.0045955158872827565}, {\"id\": 619320, \"log_income\": 10.75711727142334, \"subject\": \"math\", \"gap\": 0.07858643339914036, \"fitted\": -0.05394603359888994, \"fit_se\": 0.005605948610265398}, {\"id\": 619380, \"log_income\": 11.656041145324712, \"subject\": \"math\", \"gap\": 0.30034953208570897, \"fitted\": 0.05487495853161084, \"fit_se\": 0.00873257685414754}, {\"id\": 619440, \"log_income\": 10.67666435241699, \"subject\": \"math\", \"gap\": -0.09605773331751216, \"fitted\": -0.06368541945819395, \"fit_se\": 0.0062021037312775425}, {\"id\": 619490, \"log_income\": 10.63680744171143, \"subject\": \"math\", \"gap\": -0.18270332196697509, \"fitted\": -0.06851037593355369, \"fit_se\": 0.006528863165164459}, {\"id\": 619590, \"log_income\": 10.47102451324463, \"subject\": \"math\", \"gap\": 0.027984265219519508, \"fitted\": -0.08857955339989432, \"fit_se\": 0.00804431399962283}, {\"id\": 619620, \"log_income\": 10.824398040771479, \"subject\": \"math\", \"gap\": 0.2052003873284834, \"fitted\": -0.045801228143905304, \"fit_se\": 0.0051897895511334065}, {\"id\": 619680, \"log_income\": 10.708250045776367, \"subject\": \"math\", \"gap\": -0.09220427338006493, \"fitted\": -0.05986175141656158, \"fit_se\": 0.0059570064023510075}, {\"id\": 619700, \"log_income\": 10.58866119384766, \"subject\": \"math\", \"gap\": -0.08751584707669269, \"fitted\": -0.07433881437201406, \"fit_se\": 0.006945897396435617}, {\"id\": 619740, \"log_income\": 10.65216636657715, \"subject\": \"math\", \"gap\": -0.02686095643297852, \"fitted\": -0.06665107116874447, \"fit_se\": 0.0064007991761160146}, {\"id\": 619770, \"log_income\": 11.390966415405268, \"subject\": \"math\", \"gap\": -0.035489638563485124, \"fitted\": 0.02278581735287366, \"fit_se\": 0.006282639152634674}, {\"id\": 619800, \"log_income\": 10.97897338867188, \"subject\": \"math\", \"gap\": -0.1098619109967279, \"fitted\": -0.027088806318423142, \"fit_se\": 0.004628397901161249}, {\"id\": 619890, \"log_income\": 10.8064661026001, \"subject\": \"math\", \"gap\": -0.29562797633526544, \"fitted\": -0.04797201407949658, \"fit_se\": 0.005292184681599565}, {\"id\": 619950, \"log_income\": 10.50274562835693, \"subject\": \"math\", \"gap\": 0.4592545613893511, \"fitted\": -0.084739491612432, \"fit_se\": 0.007738782239896078}, {\"id\": 620070, \"log_income\": 10.3273811340332, \"subject\": \"math\", \"gap\": -0.2026382347007356, \"fitted\": -0.10596858432074918, \"fit_se\": 0.009491091808572886}, {\"id\": 620130, \"log_income\": 11.965158462524409, \"subject\": \"math\", \"gap\": 0.16187523585858282, \"fitted\": 0.09229576147057084, \"fit_se\": 0.012002161736738723}, {\"id\": 620190, \"log_income\": 11.128016471862788, \"subject\": \"math\", \"gap\": -0.02745220754090466, \"fitted\": -0.00904610364480063, \"fit_se\": 0.0047386358306963855}, {\"id\": 620250, \"log_income\": 11.0459623336792, \"subject\": \"math\", \"gap\": 0.01301455066214372, \"fitted\": -0.018979328231214287, \"fit_se\": 0.004595127668962417}, {\"id\": 620310, \"log_income\": 11.871962547302251, \"subject\": \"math\", \"gap\": 0.04472875284431816, \"fitted\": 0.08101374721838517, \"fit_se\": 0.010990457229390167}, {\"id\": 620370, \"log_income\": 11.61857795715332, \"subject\": \"math\", \"gap\": 0.12711195392466187, \"fitted\": 0.05033977883114393, \"fit_se\": 0.008358399120107447}, {\"id\": 620460, \"log_income\": 11.556004524230962, \"subject\": \"math\", \"gap\": -0.0279695482288858, \"fitted\": 0.04276482921714653, \"fit_se\": 0.007749798741036225}, {\"id\": 620640, \"log_income\": 10.84572124481201, \"subject\": \"math\", \"gap\": -0.0686465806364108, \"fitted\": -0.043219905869060105, \"fit_se\": 0.005076912115193167}, {\"id\": 620670, \"log_income\": 10.64437294006348, \"subject\": \"math\", \"gap\": -0.09961275589451507, \"fitted\": -0.06759451969640806, \"fit_se\": 0.006465458873251187}, {\"id\": 620730, \"log_income\": 11.22702693939209, \"subject\": \"math\", \"gap\": 0.05199784824103062, \"fitted\": 0.002939802637876854, \"fit_se\": 0.005156109287687127}, {\"id\": 620760, \"log_income\": 10.62559127807617, \"subject\": \"math\", \"gap\": -0.13135729962389792, \"fitted\": -0.06986817061464246, \"fit_se\": 0.006623976234118425}, {\"id\": 620790, \"log_income\": 11.114304542541499, \"subject\": \"math\", \"gap\": 0.03928744612515647, \"fitted\": -0.010706028134613188, \"fit_se\": 0.0047009990905723395}, {\"id\": 620850, \"log_income\": 10.51797962188721, \"subject\": \"math\", \"gap\": -0.09524296968355424, \"fitted\": -0.0828953106553949, \"fit_se\": 0.007594288226186968}, {\"id\": 620880, \"log_income\": 10.68942451477051, \"subject\": \"math\", \"gap\": -0.09974271380854774, \"fitted\": -0.06214071298485302, \"fit_se\": 0.006101512410178048}, {\"id\": 620910, \"log_income\": 11.63774299621582, \"subject\": \"math\", \"gap\": 0.1279379347753871, \"fitted\": 0.05265984021292658, \"fit_se\": 0.008548986460861184}, {\"id\": 621000, \"log_income\": 11.65863609313965, \"subject\": \"math\", \"gap\": 0.1075187721571144, \"fitted\": 0.055189095027422086, \"fit_se\": 0.008758735232865463}, {\"id\": 621090, \"log_income\": 10.86970996856689, \"subject\": \"math\", \"gap\": 0.2746256550303025, \"fitted\": -0.04031590387874595, \"fit_se\": 0.0049622326600529}, {\"id\": 621150, \"log_income\": 10.59484481811523, \"subject\": \"math\", \"gap\": -0.3073671201135128, \"fitted\": -0.07359024361169064, \"fit_se\": 0.006891107855212123}, {\"id\": 621210, \"log_income\": 10.934715270996088, \"subject\": \"math\", \"gap\": -0.12474307329741573, \"fitted\": -0.03244655953328168, \"fit_se\": 0.004723918080098525}, {\"id\": 621240, \"log_income\": 10.70925235748291, \"subject\": \"math\", \"gap\": -0.21393783802225164, \"fitted\": -0.05974041460763169, \"fit_se\": 0.005949448449220669}, {\"id\": 621330, \"log_income\": 10.94701385498047, \"subject\": \"math\", \"gap\": -0.04205088696370361, \"fitted\": -0.030957730334461697, \"fit_se\": 0.0046916978011157864}, {\"id\": 621360, \"log_income\": 10.88200378417969, \"subject\": \"math\", \"gap\": -0.1980544432139424, \"fitted\": -0.03882765192449744, \"fit_se\": 0.004908798597341796}, {\"id\": 621420, \"log_income\": 10.605142593383787, \"subject\": \"math\", \"gap\": -0.04947523840007264, \"fitted\": -0.07234362623507362, \"fit_se\": 0.006800635833781362}, {\"id\": 621450, \"log_income\": 10.56940650939941, \"subject\": \"math\", \"gap\": -0.11904838944523885, \"fitted\": -0.07666972795174187, \"fit_se\": 0.007118626980795269}, {\"id\": 621570, \"log_income\": 10.69369411468506, \"subject\": \"math\", \"gap\": 0.04183713049969087, \"fitted\": -0.061623848195529574, \"fit_se\": 0.006068322177544739}, {\"id\": 621690, \"log_income\": 10.93391227722168, \"subject\": \"math\", \"gap\": -0.02458080065596556, \"fitted\": -0.032543767519122024, \"fit_se\": 0.004726170268056512}, {\"id\": 621810, \"log_income\": 11.02978801727295, \"subject\": \"math\", \"gap\": -0.05062226012901233, \"fitted\": -0.020937341817750754, \"fit_se\": 0.004590643808702081}, {\"id\": 621870, \"log_income\": 10.364564895629881, \"subject\": \"math\", \"gap\": -0.15267624922931816, \"fitted\": -0.10146723115217271, \"fit_se\": 0.00910814515820851}, {\"id\": 621930, \"log_income\": 11.06593799591064, \"subject\": \"math\", \"gap\": 0.005924756190882102, \"fitted\": -0.016561135272276983, \"fit_se\": 0.00461165396266609}, {\"id\": 621990, \"log_income\": 11.063953399658198, \"subject\": \"math\", \"gap\": -0.04806467255013182, \"fitted\": -0.01680138446293622, \"fit_se\": 0.004609471509822353}, {\"id\": 622050, \"log_income\": 10.85398197174072, \"subject\": \"math\", \"gap\": -0.04001079863723807, \"fitted\": -0.04221988737338922, \"fit_se\": 0.005035906918379727}, {\"id\": 622110, \"log_income\": 11.60669422149658, \"subject\": \"math\", \"gap\": -0.02818884939865114, \"fitted\": 0.04890116991004545, \"fit_se\": 0.008241147068934824}, {\"id\": 622170, \"log_income\": 10.771573066711431, \"subject\": \"math\", \"gap\": -0.019698112268955504, \"fitted\": -0.0521960589559225, \"fit_se\": 0.005509469192777651}, {\"id\": 622230, \"log_income\": 10.98232841491699, \"subject\": \"math\", \"gap\": -0.010815849682978778, \"fitted\": -0.026682657037914836, \"fit_se\": 0.004623500086362958}, {\"id\": 622350, \"log_income\": 11.705814361572273, \"subject\": \"math\", \"gap\": 0.08139105572611416, \"fitted\": 0.060900352817867986, \"fit_se\": 0.009239228250397325}, {\"id\": 622380, \"log_income\": 11.941526412963867, \"subject\": \"math\", \"gap\": 0.02859372932928873, \"fitted\": 0.08943493737420516, \"fit_se\": 0.011744051062731619}, {\"id\": 622410, \"log_income\": 10.899681091308588, \"subject\": \"math\", \"gap\": -0.001360028810494135, \"fitted\": -0.03668769084902457, \"fit_se\": 0.004838615012067415}, {\"id\": 622500, \"log_income\": 10.96274185180664, \"subject\": \"math\", \"gap\": -0.07365927974927564, \"fitted\": -0.029053746839818206, \"fit_se\": 0.004656810901792894}, {\"id\": 622560, \"log_income\": 11.37424564361572, \"subject\": \"math\", \"gap\": 0.035715762830425886, \"fitted\": 0.02076165153844367, \"fit_se\": 0.0061491450745888}, {\"id\": 622590, \"log_income\": 11.22779655456543, \"subject\": \"math\", \"gap\": 0.12957455585740227, \"fitted\": 0.0030329699117175313, \"fit_se\": 0.005160265786542433}, {\"id\": 622650, \"log_income\": 12.09857654571533, \"subject\": \"math\", \"gap\": 0.21724289169273212, \"fitted\": 0.10844694913229569, \"fit_se\": 0.013475675802215883}, {\"id\": 622710, \"log_income\": 10.86708736419678, \"subject\": \"math\", \"gap\": -0.0762256892347952, \"fitted\": -0.04063338839307162, \"fit_se\": 0.004974108891030725}, {\"id\": 622740, \"log_income\": 10.76480960845947, \"subject\": \"math\", \"gap\": -0.04216580154876963, \"fitted\": -0.053014822656142435, \"fit_se\": 0.005554160897955455}, {\"id\": 622830, \"log_income\": 11.890589714050288, \"subject\": \"math\", \"gap\": 0.13199425678034488, \"fitted\": 0.08326869541250104, \"fit_se\": 0.011191276652978968}, {\"id\": 622860, \"log_income\": 10.63101387023926, \"subject\": \"math\", \"gap\": -0.28715113844091444, \"fitted\": -0.06921172808792941, \"fit_se\": 0.006577829427232757}, {\"id\": 622890, \"log_income\": 10.95967578887939, \"subject\": \"math\", \"gap\": -0.12534835348916734, \"fitted\": -0.0294249150992949, \"fit_se\": 0.0046630484960863555}, {\"id\": 622950, \"log_income\": 10.38605785369873, \"subject\": \"math\", \"gap\": 0.011420880296889336, \"fitted\": -0.09886535897058235, \"fit_se\": 0.008889220531129696}, {\"id\": 623010, \"log_income\": 11.28162384033203, \"subject\": \"math\", \"gap\": -0.06061288641873251, \"fitted\": 0.009549137532665508, \"fit_se\": 0.0054808389728897376}, {\"id\": 623040, \"log_income\": 10.53682708740234, \"subject\": \"math\", \"gap\": 0.4701341387076567, \"fitted\": -0.08061369376207517, \"fit_se\": 0.007417698654580926}, {\"id\": 623080, \"log_income\": 11.15554428100586, \"subject\": \"math\", \"gap\": -0.05757556873970866, \"fitted\": -0.005713670733516363, \"fit_se\": 0.004829818671053266}, {\"id\": 623130, \"log_income\": 10.970046043396001, \"subject\": \"math\", \"gap\": -0.115088523169565, \"fitted\": -0.028169523605189983, \"fit_se\": 0.004643061748045224}, {\"id\": 623160, \"log_income\": 10.71554660797119, \"subject\": \"math\", \"gap\": -0.11776989893746327, \"fitted\": -0.058978451773248564, \"fit_se\": 0.005902311008322193}, {\"id\": 623340, \"log_income\": 10.65713310241699, \"subject\": \"math\", \"gap\": -0.08708822408164983, \"fitted\": -0.06604981322306802, \"fit_se\": 0.006359947567212323}, {\"id\": 623430, \"log_income\": 10.90082263946533, \"subject\": \"math\", \"gap\": -0.017117270271284936, \"fitted\": -0.036549498498606336, \"fit_se\": 0.004834359393007234}, {\"id\": 623530, \"log_income\": 10.996461868286133, \"subject\": \"math\", \"gap\": -0.07006782166089717, \"fitted\": -0.02497170412798133, \"fit_se\": 0.004606574757726436}, {\"id\": 623610, \"log_income\": 11.053468704223633, \"subject\": \"math\", \"gap\": -0.04476812771118595, \"fitted\": -0.018070629826755225, \"fit_se\": 0.004599918004610028}, {\"id\": 623800, \"log_income\": 10.96275043487549, \"subject\": \"math\", \"gap\": 0.0247958153157045, \"fitted\": -0.02905270779958924, \"fit_se\": 0.004656793826113}, {\"id\": 623940, \"log_income\": 10.745962142944341, \"subject\": \"math\", \"gap\": 0.27158009329517946, \"fitted\": -0.05529643954946217, \"fit_se\": 0.005682805603492214}, {\"id\": 623970, \"log_income\": 10.949490547180181, \"subject\": \"math\", \"gap\": -0.1624015385581462, \"fitted\": -0.030657909504022918, \"fit_se\": 0.0046857301988413435}, {\"id\": 624000, \"log_income\": 11.1401424407959, \"subject\": \"math\", \"gap\": 0.07948075535904686, \"fitted\": -0.007578170699469089, \"fit_se\": 0.004776274677071392}, {\"id\": 624030, \"log_income\": 11.389345169067381, \"subject\": \"math\", \"gap\": -0.02110220471255077, \"fitted\": 0.022589554198563233, \"fit_se\": 0.006269546171609398}, {\"id\": 624090, \"log_income\": 10.679262161254881, \"subject\": \"math\", \"gap\": -0.061489088624303724, \"fitted\": -0.06337093661563942, \"fit_se\": 0.006181457792130979}, {\"id\": 624180, \"log_income\": 11.35574722290039, \"subject\": \"math\", \"gap\": -0.042076024072088436, \"fitted\": 0.018522288947757204, \"fit_se\": 0.0060056108116755495}, {\"id\": 624230, \"log_income\": 10.39142227172852, \"subject\": \"math\", \"gap\": -0.0867414639924893, \"fitted\": -0.09821595882764167, \"fit_se\": 0.008834876927901872}, {\"id\": 624300, \"log_income\": 10.77406692504883, \"subject\": \"math\", \"gap\": -0.29802248759095984, \"fitted\": -0.051894160045027116, \"fit_se\": 0.005493193223113107}, {\"id\": 624360, \"log_income\": 11.41404342651367, \"subject\": \"math\", \"gap\": -0.05475738230167626, \"fitted\": 0.02557945018111729, \"fit_se\": 0.006472311211905121}, {\"id\": 624390, \"log_income\": 10.51898574829102, \"subject\": \"math\", \"gap\": -0.12047081607730915, \"fitted\": -0.08277351205080796, \"fit_se\": 0.007584799321832241}, {\"id\": 624480, \"log_income\": 10.94382762908936, \"subject\": \"math\", \"gap\": 0.17811411247637174, \"fitted\": -0.03134344515713905, \"fit_se\": 0.004699633145542392}, {\"id\": 624500, \"log_income\": 11.645284652709961, \"subject\": \"math\", \"gap\": 0.02371472522590742, \"fitted\": 0.05357281022721505, \"fit_se\": 0.008624467770891864}, {\"id\": 624540, \"log_income\": 11.02867031097412, \"subject\": \"math\", \"gap\": 0.017616143625586174, \"fitted\": -0.021072647945311163, \"fit_se\": 0.004590629069931806}, {\"id\": 624570, \"log_income\": 12.00683116912842, \"subject\": \"math\", \"gap\": -0.06760908454265914, \"fitted\": 0.0973405326787602, \"fit_se\": 0.01245960399874393}, {\"id\": 624600, \"log_income\": 10.63531112670898, \"subject\": \"math\", \"gap\": -0.09087502624764413, \"fitted\": -0.06869151528009221, \"fit_se\": 0.0065414759320939165}, {\"id\": 624720, \"log_income\": 11.68694591522217, \"subject\": \"math\", \"gap\": -0.07480192689798051, \"fitted\": 0.058616196048432156, \"fit_se\": 0.009045981535606604}, {\"id\": 624750, \"log_income\": 10.87042808532715, \"subject\": \"math\", \"gap\": 0.0767112745835247, \"fitted\": -0.04022897084627686, \"fit_se\": 0.00495900969938695}, {\"id\": 624870, \"log_income\": 11.79873275756836, \"subject\": \"math\", \"gap\": 0.1578708279326006, \"fitted\": 0.07214877143599274, \"fit_se\": 0.010208887690465195}, {\"id\": 624900, \"log_income\": 11.523280143737788, \"subject\": \"math\", \"gap\": 0.016375227168204044, \"fitted\": 0.038803315171838104, \"fit_se\": 0.007441090576095873}, {\"id\": 624930, \"log_income\": 10.96881866455078, \"subject\": \"math\", \"gap\": -0.1466738576960992, \"fitted\": -0.028318106357895667, \"fit_se\": 0.004645262364426434}, {\"id\": 625130, \"log_income\": 10.67547225952148, \"subject\": \"math\", \"gap\": 0.00702834013168242, \"fitted\": -0.06382973060106978, \"fit_se\": 0.006211605861261127}, {\"id\": 625190, \"log_income\": 10.62337398529053, \"subject\": \"math\", \"gap\": -0.20212913502118665, \"fitted\": -0.07013658934039069, \"fit_se\": 0.006642932118767252}, {\"id\": 625230, \"log_income\": 10.57294750213623, \"subject\": \"math\", \"gap\": -0.10627618954603853, \"fitted\": -0.07624106613294379, \"fit_se\": 0.007086626793148942}, {\"id\": 625320, \"log_income\": 11.12540817260742, \"subject\": \"math\", \"gap\": 0.05718091535761734, \"fitted\": -0.009361856425412096, \"fit_se\": 0.004731070290464394}, {\"id\": 625350, \"log_income\": 10.60077285766602, \"subject\": \"math\", \"gap\": 0.06280051346127287, \"fitted\": -0.07287261316039784, \"fit_se\": 0.006838907079955307}, {\"id\": 625470, \"log_income\": 10.71633148193359, \"subject\": \"math\", \"gap\": -0.11607315209102967, \"fitted\": -0.058883437316779474, \"fit_se\": 0.005896472772534056}, {\"id\": 625500, \"log_income\": 11.65409851074219, \"subject\": \"math\", \"gap\": 0.12078701085825615, \"fitted\": 0.054639789093180235, \"fit_se\": 0.008713013669573522}, {\"id\": 625530, \"log_income\": 11.05036163330078, \"subject\": \"math\", \"gap\": -0.11143054240177933, \"fitted\": -0.018446762389546345, \"fit_se\": 0.0045977272789818275}, {\"id\": 625690, \"log_income\": 11.462146759033198, \"subject\": \"math\", \"gap\": 0.0635620732024483, \"fitted\": 0.031402693418433714, \"fit_se\": 0.006885778225596215}, {\"id\": 625740, \"log_income\": 11.793569564819341, \"subject\": \"math\", \"gap\": 0.02245567189383999, \"fitted\": 0.07152373101397047, \"fit_se\": 0.010154307016677688}, {\"id\": 625770, \"log_income\": 11.47891139984131, \"subject\": \"math\", \"gap\": 0.03832150582817926, \"fitted\": 0.03343216988292297, \"fit_se\": 0.007035009468578252}, {\"id\": 625800, \"log_income\": 10.94253635406494, \"subject\": \"math\", \"gap\": -0.11470462929669667, \"fitted\": -0.031499762987102775, \"fit_se\": 0.004702931491554152}, {\"id\": 625830, \"log_income\": 11.608763694763178, \"subject\": \"math\", \"gap\": -0.07996498966021942, \"fitted\": 0.049151694054077044, \"fit_se\": 0.008261512982685416}, {\"id\": 625860, \"log_income\": 10.51773643493652, \"subject\": \"math\", \"gap\": -0.019638582769952256, \"fitted\": -0.08292475012854239, \"fit_se\": 0.007596582778998047}, {\"id\": 626100, \"log_income\": 11.00420379638672, \"subject\": \"math\", \"gap\": -0.005718934672927678, \"fitted\": -0.024034489841689766, \"fit_se\": 0.004599859913541121}, {\"id\": 626190, \"log_income\": 10.68477535247803, \"subject\": \"math\", \"gap\": 0.009414980241341405, \"fitted\": -0.06270352644206789, \"fit_se\": 0.006137922877885411}, {\"id\": 626220, \"log_income\": 11.205430030822749, \"subject\": \"math\", \"gap\": -0.1165217875994832, \"fitted\": 0.0003253465246273457, \"fit_se\": 0.005044791332612568}, {\"id\": 626280, \"log_income\": 11.645337104797358, \"subject\": \"math\", \"gap\": 0.1541441618230518, \"fitted\": 0.05357915991750084, \"fit_se\": 0.008624993667814261}, {\"id\": 626370, \"log_income\": 11.33949375152588, \"subject\": \"math\", \"gap\": 0.0164044938626699, \"fitted\": 0.01655469310133406, \"fit_se\": 0.005883339924048466}, {\"id\": 626400, \"log_income\": 11.45173740386963, \"subject\": \"math\", \"gap\": -0.0112722435614933, \"fitted\": 0.03014256851884478, \"fit_se\": 0.006794389267294592}, {\"id\": 626490, \"log_income\": 10.858736991882319, \"subject\": \"math\", \"gap\": 0.05498245119989356, \"fitted\": -0.04164425908668745, \"fit_se\": 0.00501301738420171}, {\"id\": 626640, \"log_income\": 11.25199413299561, \"subject\": \"math\", \"gap\": -0.02089471126504926, \"fitted\": 0.005962255214264411, \"fit_se\": 0.005297289680849801}, {\"id\": 626670, \"log_income\": 10.62171459197998, \"subject\": \"math\", \"gap\": -0.026903705909460958, \"fitted\": -0.07033747045127381, \"fit_se\": 0.006657150914633212}, {\"id\": 626760, \"log_income\": 10.29199600219727, \"subject\": \"math\", \"gap\": 0.05799676756686945, \"fitted\": -0.11025220083695375, \"fit_se\": 0.009859968927645886}, {\"id\": 626910, \"log_income\": 11.46615505218506, \"subject\": \"math\", \"gap\": -0.0446905786890745, \"fitted\": 0.03188792520523953, \"fit_se\": 0.0069212328276065365}, {\"id\": 627030, \"log_income\": 10.8029203414917, \"subject\": \"math\", \"gap\": -0.16235011955471965, \"fitted\": -0.04840125314286592, \"fit_se\": 0.005313203299586496}, {\"id\": 627060, \"log_income\": 11.48861312866211, \"subject\": \"math\", \"gap\": 0.0034040629758944232, \"fitted\": 0.03460663168810174, \"fit_se\": 0.0071224699418967795}, {\"id\": 627120, \"log_income\": 11.099802017211909, \"subject\": \"math\", \"gap\": 0.05484436266816376, \"fitted\": -0.01246165977438074, \"fit_se\": 0.004667014421258391}, {\"id\": 627180, \"log_income\": 11.34290409088135, \"subject\": \"math\", \"gap\": -0.024202179160510345, \"fitted\": 0.016967538418872774, \"fit_se\": 0.0059086849676933395}, {\"id\": 627200, \"log_income\": 10.919124603271479, \"subject\": \"math\", \"gap\": -0.005070982239129528, \"fitted\": -0.03433391838426614, \"fit_se\": 0.00477084589949887}, {\"id\": 627240, \"log_income\": 11.38219738006592, \"subject\": \"math\", \"gap\": 0.023288212038276416, \"fitted\": 0.021724264585881503, \"fit_se\": 0.006212200118651098}, {\"id\": 627450, \"log_income\": 11.508749008178713, \"subject\": \"math\", \"gap\": 0.0439623167398509, \"fitted\": 0.037044220064642364, \"fit_se\": 0.007306419532507003}, {\"id\": 627480, \"log_income\": 11.38420295715332, \"subject\": \"math\", \"gap\": -0.11301924296875253, \"fitted\": 0.021967053652655277, \"fit_se\": 0.006228227843129821}, {\"id\": 627510, \"log_income\": 11.291540145874018, \"subject\": \"math\", \"gap\": 0.00674518755793, \"fitted\": 0.01074957534356158, \"fit_se\": 0.005545871633390676}, {\"id\": 627590, \"log_income\": 11.08601760864258, \"subject\": \"math\", \"gap\": -0.09447565975580713, \"fitted\": -0.014130358381679198, \"fit_se\": 0.004640378240833715}, {\"id\": 627690, \"log_income\": 11.094836235046392, \"subject\": \"math\", \"gap\": -0.05828319604867745, \"fitted\": -0.013062802271142093, \"fit_se\": 0.00465677693773086}, {\"id\": 627720, \"log_income\": 11.41255187988281, \"subject\": \"math\", \"gap\": 0.038088669276847134, \"fitted\": 0.02539888807915136, \"fit_se\": 0.006459870867730586}, {\"id\": 627750, \"log_income\": 11.04993534088135, \"subject\": \"math\", \"gap\": 0.0105512427901206, \"fitted\": -0.018498368054238323, \"fit_se\": 0.0045974496052498025}, {\"id\": 627780, \"log_income\": 10.94161128997803, \"subject\": \"math\", \"gap\": -0.09949766173456004, \"fitted\": -0.03161174843397396, \"fit_se\": 0.004705323549917591}, {\"id\": 627810, \"log_income\": 11.490291595458979, \"subject\": \"math\", \"gap\": -0.02191919013111698, \"fitted\": 0.03480982177726988, \"fit_se\": 0.0071376801510474285}, {\"id\": 627840, \"log_income\": 11.24956607818604, \"subject\": \"math\", \"gap\": -0.0449879830477556, \"fitted\": 0.005668322278455484, \"fit_se\": 0.0052829990731290246}, {\"id\": 627850, \"log_income\": 11.655191421508787, \"subject\": \"math\", \"gap\": 0.30483532867776164, \"fitted\": 0.05477209354896817, \"fit_se\": 0.008724017693916515}, {\"id\": 627900, \"log_income\": 10.48760414123535, \"subject\": \"math\", \"gap\": 0.2119726823776361, \"fitted\": -0.08657247402478063, \"fit_se\": 0.007883866102843556}, {\"id\": 627930, \"log_income\": 11.09743022918701, \"subject\": \"math\", \"gap\": -0.08538149338158771, \"fitted\": -0.01274878122424572, \"fit_se\": 0.004662034984671065}, {\"id\": 628050, \"log_income\": 11.038951873779302, \"subject\": \"math\", \"gap\": -0.040707977806202944, \"fitted\": -0.019827993200236538, \"fit_se\": 0.004592203761469994}, {\"id\": 628080, \"log_income\": 11.34000301361084, \"subject\": \"math\", \"gap\": -0.09378109949191596, \"fitted\": 0.01661634282157043, \"fit_se\": 0.005887114001063707}, {\"id\": 628140, \"log_income\": 11.26025676727295, \"subject\": \"math\", \"gap\": 0.00010094196107375276, \"fitted\": 0.006962504607763265, \"fit_se\": 0.005346792954519214}, {\"id\": 628170, \"log_income\": 10.901524543762212, \"subject\": \"math\", \"gap\": 0.16518411240098468, \"fitted\": -0.036464528097680304, \"fit_se\": 0.004831759658385335}, {\"id\": 628250, \"log_income\": 10.93373394012451, \"subject\": \"math\", \"gap\": -0.017597432878037438, \"fitted\": -0.03256535646609637, \"fit_se\": 0.004726672908082359}, {\"id\": 628270, \"log_income\": 11.11480045318604, \"subject\": \"math\", \"gap\": -0.06365689281625497, \"fitted\": -0.01064599469917571, \"fit_se\": 0.0047022677780351714}, {\"id\": 628320, \"log_income\": 11.37454414367676, \"subject\": \"math\", \"gap\": 0.05716598685440377, \"fitted\": 0.02079778704862001, \"fit_se\": 0.006151497727820036}, {\"id\": 628470, \"log_income\": 10.82835865020752, \"subject\": \"math\", \"gap\": -0.062259279471418474, \"fitted\": -0.04532176880281469, \"fit_se\": 0.005168076820922654}, {\"id\": 628530, \"log_income\": 10.690958023071287, \"subject\": \"math\", \"gap\": -0.3169826238567291, \"fitted\": -0.061955071130658235, \"fit_se\": 0.006089564001456396}, {\"id\": 628650, \"log_income\": 11.34449577331543, \"subject\": \"math\", \"gap\": 0.029640687749261225, \"fitted\": 0.01716022265683992, \"fit_se\": 0.005920571244331269}, {\"id\": 628680, \"log_income\": 11.60761070251465, \"subject\": \"math\", \"gap\": 0.08773911289280747, \"fitted\": 0.04901211631668856, \"fit_se\": 0.008250163478984983}, {\"id\": 628710, \"log_income\": 11.25060272216797, \"subject\": \"math\", \"gap\": -0.0025385301680702853, \"fitted\": 0.005793815248299694, \"fit_se\": 0.005289085963436903}, {\"id\": 628860, \"log_income\": 12.11853694915771, \"subject\": \"math\", \"gap\": 0.09249184324201727, \"fitted\": 0.11086329490860458, \"fit_se\": 0.013698168659789135}, {\"id\": 628950, \"log_income\": 10.32896327972412, \"subject\": \"math\", \"gap\": 0.025692685824652485, \"fitted\": -0.10577705457192454, \"fit_se\": 0.009474696016944206}, {\"id\": 629100, \"log_income\": 10.567770004272461, \"subject\": \"math\", \"gap\": 0.049756306322611854, \"fitted\": -0.07686783828868116, \"fit_se\": 0.007133450985268085}, {\"id\": 629220, \"log_income\": 11.02501106262207, \"subject\": \"math\", \"gap\": -0.10387512859999427, \"fitted\": -0.021515625429481933, \"fit_se\": 0.004590847854858433}, {\"id\": 629280, \"log_income\": 11.01890182495117, \"subject\": \"math\", \"gap\": 0.01459796703275891, \"fitted\": -0.02225519117449104, \"fit_se\": 0.0045921245961921915}, {\"id\": 629370, \"log_income\": 11.26383304595947, \"subject\": \"math\", \"gap\": 0.07737707561192372, \"fitted\": 0.0073954380363898675, \"fit_se\": 0.0053686307916804635}, {\"id\": 629400, \"log_income\": 10.64610290527344, \"subject\": \"math\", \"gap\": -0.09463828019167056, \"fitted\": -0.06738509536586701, \"fit_se\": 0.0064510478054126295}, {\"id\": 629430, \"log_income\": 10.64743137359619, \"subject\": \"math\", \"gap\": 0.12459381810167595, \"fitted\": -0.06722427502824702, \"fit_se\": 0.006440003668702903}, {\"id\": 629490, \"log_income\": 11.01515197753906, \"subject\": \"math\", \"gap\": -0.05072794426341599, \"fitted\": -0.022709136305520516, \"fit_se\": 0.004593472561299079}, {\"id\": 629540, \"log_income\": 10.48556327819824, \"subject\": \"math\", \"gap\": -0.07752608307035648, \"fitted\": -0.0868195347013836, \"fit_se\": 0.007903528884303455}, {\"id\": 629550, \"log_income\": 10.64986515045166, \"subject\": \"math\", \"gap\": -0.12571478933103958, \"fitted\": -0.06692964939895196, \"fit_se\": 0.00641982135943664}, {\"id\": 629580, \"log_income\": 10.77500057220459, \"subject\": \"math\", \"gap\": -0.08771373243843097, \"fitted\": -0.05178113555792718, \"fit_se\": 0.005487128328607505}, {\"id\": 629610, \"log_income\": 11.830212593078608, \"subject\": \"math\", \"gap\": 0.14345905390394942, \"fitted\": 0.07595962464813688, \"fit_se\": 0.010543224412825736}, {\"id\": 629640, \"log_income\": 10.5523681640625, \"subject\": \"math\", \"gap\": 0.052151752804249864, \"fitted\": -0.0787323382546341, \"fit_se\": 0.007274016012394734}, {\"id\": 629670, \"log_income\": 10.457460403442381, \"subject\": \"math\", \"gap\": -0.08544821655182441, \"fitted\": -0.09022158330799046, \"fit_se\": 0.008176744917986463}, {\"id\": 629700, \"log_income\": 11.782663345336909, \"subject\": \"math\", \"gap\": 0.18774695090218446, \"fitted\": 0.07020345723002874, \"fit_se\": 0.010039265069443562}, {\"id\": 629820, \"log_income\": 10.691887855529787, \"subject\": \"math\", \"gap\": -0.04885229139095528, \"fitted\": -0.061842508439214905, \"fit_se\": 0.0060823341433820476}, {\"id\": 629850, \"log_income\": 10.807604789733892, \"subject\": \"math\", \"gap\": -0.03367370699660858, \"fitted\": -0.047834168075821415, \"fit_se\": 0.005285487799801741}, {\"id\": 629910, \"log_income\": 10.32394409179688, \"subject\": \"math\", \"gap\": -0.12000790785149565, \"fitted\": -0.106384662207887, \"fit_se\": 0.009526739672742701}, {\"id\": 629940, \"log_income\": 11.225320816040039, \"subject\": \"math\", \"gap\": -0.012020911178270042, \"fitted\": 0.002733264530193402, \"fit_se\": 0.005146940528418552}, {\"id\": 630030, \"log_income\": 10.985940933227539, \"subject\": \"math\", \"gap\": -0.0376410095405883, \"fitted\": -0.026245336550544396, \"fit_se\": 0.004618602781061521}, {\"id\": 630180, \"log_income\": 10.69553279876709, \"subject\": \"math\", \"gap\": -0.05829530910088401, \"fitted\": -0.06140126268875856, \"fit_se\": 0.006054103003793457}, {\"id\": 630230, \"log_income\": 11.188451766967768, \"subject\": \"math\", \"gap\": 0.04102330109463409, \"fitted\": -0.0017299904966643354, \"fit_se\": 0.004964784298209974}, {\"id\": 630330, \"log_income\": 12.145792007446287, \"subject\": \"math\", \"gap\": 0.07227381954468297, \"fitted\": 0.11416270943039875, \"fit_se\": 0.014002708758731766}, {\"id\": 630360, \"log_income\": 10.92064380645752, \"subject\": \"math\", \"gap\": -0.12665769363702192, \"fitted\": -0.03415000826378467, \"fit_se\": 0.004765978867290452}, {\"id\": 630450, \"log_income\": 11.3443660736084, \"subject\": \"math\", \"gap\": 0.2086565538465384, \"fitted\": 0.017144521604495422, \"fit_se\": 0.005919601326859456}, {\"id\": 630480, \"log_income\": 10.79421806335449, \"subject\": \"math\", \"gap\": -0.0367468110994325, \"fitted\": -0.049454724485858303, \"fit_se\": 0.005365832975429093}, {\"id\": 630510, \"log_income\": 11.345254898071287, \"subject\": \"math\", \"gap\": -0.006152874965622776, \"fitted\": 0.017252119992622994, \"fit_se\": 0.005926252915424653}, {\"id\": 630600, \"log_income\": 10.972143173217768, \"subject\": \"math\", \"gap\": -0.0409606746419948, \"fitted\": -0.02791565144264463, \"fit_se\": 0.004639404696752673}, {\"id\": 630630, \"log_income\": 10.19949531555176, \"subject\": \"math\", \"gap\": -0.09341680428266552, \"fitted\": -0.12145005283061594, \"fit_se\": 0.010841502684929082}, {\"id\": 630660, \"log_income\": 11.3892822265625, \"subject\": \"math\", \"gap\": 0.04807506136350111, \"fitted\": 0.02258193457021962, \"fit_se\": 0.006269038490346218}, {\"id\": 630720, \"log_income\": 11.26859855651855, \"subject\": \"math\", \"gap\": -0.027066447147396498, \"fitted\": 0.007972336261149016, \"fit_se\": 0.005398109617773151}, {\"id\": 630780, \"log_income\": 10.94486904144287, \"subject\": \"math\", \"gap\": 0.018320950346188882, \"fitted\": -0.031217374942723808, \"fit_se\": 0.004697007616571141}, {\"id\": 630840, \"log_income\": 10.52738952636719, \"subject\": \"math\", \"gap\": -0.0462211826546891, \"fitted\": -0.08175617621799236, \"fit_se\": 0.007505812566289832}, {\"id\": 630930, \"log_income\": 11.0463285446167, \"subject\": \"math\", \"gap\": 0.10371398223162398, \"fitted\": -0.018934995848123082, \"fit_se\": 0.004595321583961409}, {\"id\": 630990, \"log_income\": 11.369260787963867, \"subject\": \"math\", \"gap\": 0.0467865331519244, \"fitted\": 0.020158200063395082, \"fit_se\": 0.006110024933977165}, {\"id\": 631050, \"log_income\": 10.3121395111084, \"subject\": \"math\", \"gap\": -0.10133130039883917, \"fitted\": -0.10781368886909903, \"fit_se\": 0.009649477651046212}, {\"id\": 631170, \"log_income\": 10.788354873657232, \"subject\": \"math\", \"gap\": 0.025337309465513103, \"fitted\": -0.05016450441097686, \"fit_se\": 0.005402112032655627}, {\"id\": 631180, \"log_income\": 11.41273975372314, \"subject\": \"math\", \"gap\": 0.0764950484284497, \"fitted\": 0.025421631515268217, \"fit_se\": 0.006461436502110607}, {\"id\": 631290, \"log_income\": 10.926368713378912, \"subject\": \"math\", \"gap\": 0.22369749924778234, \"fitted\": -0.03345696843123824, \"fit_se\": 0.004748205882707959}, {\"id\": 631320, \"log_income\": 10.911935806274409, \"subject\": \"math\", \"gap\": -0.05837996400360612, \"fitted\": -0.03520417230026318, \"fit_se\": 0.004794725172325953}, {\"id\": 631470, \"log_income\": 11.996277809143072, \"subject\": \"math\", \"gap\": 0.062439917482441584, \"fitted\": 0.09606297499311145, \"fit_se\": 0.012343496559497787}, {\"id\": 631530, \"log_income\": 11.54542827606201, \"subject\": \"math\", \"gap\": 0.1005556449476024, \"fitted\": 0.04148450075755328, \"fit_se\": 0.007649241842262108}, {\"id\": 631710, \"log_income\": 11.30910873413086, \"subject\": \"math\", \"gap\": 0.10111133021788406, \"fitted\": 0.012876375242805826, \"fit_se\": 0.0056652352891894365}, {\"id\": 631740, \"log_income\": 11.499926567077642, \"subject\": \"math\", \"gap\": 0.4041125892669181, \"fitted\": 0.0359762021584491, \"fit_se\": 0.007225430530644008}, {\"id\": 631860, \"log_income\": 10.967273712158198, \"subject\": \"math\", \"gap\": 0.10537266282340076, \"fitted\": -0.028505133599062926, \"fit_se\": 0.004648095514722976}, {\"id\": 631980, \"log_income\": 10.52536487579346, \"subject\": \"math\", \"gap\": 0.03680779167369018, \"fitted\": -0.08200127426305204, \"fit_se\": 0.007524797612570589}, {\"id\": 632040, \"log_income\": 10.69771575927734, \"subject\": \"math\", \"gap\": -0.0049447192490498365, \"fitted\": -0.06113700012392509, \"fit_se\": 0.0060372799214542}, {\"id\": 632070, \"log_income\": 11.10781002044678, \"subject\": \"math\", \"gap\": -0.07431575087319531, \"fitted\": -0.011492235240998738, \"fit_se\": 0.004685032092259176}, {\"id\": 632130, \"log_income\": 11.46835231781006, \"subject\": \"math\", \"gap\": -0.0455609116129497, \"fitted\": 0.032153919503787876, \"fit_se\": 0.006940729249790883}, {\"id\": 632160, \"log_income\": 11.87339401245117, \"subject\": \"math\", \"gap\": 0.09660559148080533, \"fitted\": 0.08118703603874922, \"fit_se\": 0.0110058629757819}, {\"id\": 632270, \"log_income\": 10.534586906433107, \"subject\": \"math\", \"gap\": -0.01959258302444846, \"fitted\": -0.08088488326176657, \"fit_se\": 0.007438556594088727}, {\"id\": 632310, \"log_income\": 11.48742008209229, \"subject\": \"math\", \"gap\": 0.06301310432629194, \"fitted\": 0.03446220509631237, \"fit_se\": 0.0071116725987813365}, {\"id\": 632370, \"log_income\": 10.85610771179199, \"subject\": \"math\", \"gap\": -0.12161681693179208, \"fitted\": -0.041962551743413457, \"fit_se\": 0.005025609002546471}, {\"id\": 632430, \"log_income\": 10.00669479370117, \"subject\": \"math\", \"gap\": -0.031261649464761364, \"fitted\": -0.14478989803908937, \"fit_se\": 0.012946237617158395}, {\"id\": 632550, \"log_income\": 11.116196632385249, \"subject\": \"math\", \"gap\": -0.08728317737448263, \"fitted\": -0.01047697748864107, \"fit_se\": 0.004705877153226092}, {\"id\": 632610, \"log_income\": 10.86399745941162, \"subject\": \"math\", \"gap\": -0.1011942255788908, \"fitted\": -0.041007442875405475, \"fit_se\": 0.004988313132427561}, {\"id\": 632640, \"log_income\": 11.210470199584961, \"subject\": \"math\", \"gap\": 0.08047018753925758, \"fitted\": 0.0009354940367061193, \"fit_se\": 0.005069834494410165}, {\"id\": 632710, \"log_income\": 11.414674758911133, \"subject\": \"math\", \"gap\": -0.019959798870845112, \"fitted\": 0.025655877362384505, \"fit_se\": 0.006477584195680305}, {\"id\": 632730, \"log_income\": 10.44730281829834, \"subject\": \"math\", \"gap\": -0.0555231552451998, \"fitted\": -0.09145122969420494, \"fit_se\": 0.008276570990105616}, {\"id\": 632760, \"log_income\": 11.149654388427727, \"subject\": \"math\", \"gap\": -0.06131853820372073, \"fitted\": -0.00642668322823714, \"fit_se\": 0.004808596026007761}, {\"id\": 632880, \"log_income\": 11.23608684539795, \"subject\": \"math\", \"gap\": 0.0425845999797817, \"fitted\": 0.004036567323731699, \"fit_se\": 0.005205841060269852}, {\"id\": 633110, \"log_income\": 10.941515922546392, \"subject\": \"math\", \"gap\": 0.04201787992435239, \"fitted\": -0.03162329332540348, \"fit_se\": 0.0047055715351132605}, {\"id\": 633150, \"log_income\": 11.070116996765142, \"subject\": \"math\", \"gap\": -0.012775901329908624, \"fitted\": -0.01605523812981091, \"fit_se\": 0.00461663752027351}, {\"id\": 633240, \"log_income\": 10.81605529785156, \"subject\": \"math\", \"gap\": -0.12343243376141633, \"fitted\": -0.04681117524620548, \"fit_se\": 0.005236606094132055}, {\"id\": 633270, \"log_income\": 10.51522541046143, \"subject\": \"math\", \"gap\": 0.16061765965877373, \"fitted\": -0.08322872711989482, \"fit_se\": 0.007620298411762504}, {\"id\": 633390, \"log_income\": 10.99088573455811, \"subject\": \"math\", \"gap\": -0.032197415831202315, \"fitted\": -0.025646733929895804, \"fit_se\": 0.004612534347962881}, {\"id\": 633480, \"log_income\": 11.39918804168701, \"subject\": \"math\", \"gap\": 0.020203583846184345, \"fitted\": 0.023781102443058533, \"fit_se\": 0.00634951419583307}, {\"id\": 633510, \"log_income\": 10.8344669342041, \"subject\": \"math\", \"gap\": 0.143239806147561, \"fitted\": -0.04458231850672023, \"fit_se\": 0.005135250186384457}, {\"id\": 633570, \"log_income\": 10.902528762817381, \"subject\": \"math\", \"gap\": -0.049541538806559336, \"fitted\": -0.036342960390922885, \"fit_se\": 0.004828062654312547}, {\"id\": 633600, \"log_income\": 11.21811103820801, \"subject\": \"math\", \"gap\": -0.041920730758413065, \"fitted\": 0.0018604707380818208, \"fit_se\": 0.005108895730616556}, {\"id\": 633660, \"log_income\": 12.258456230163569, \"subject\": \"math\", \"gap\": 0.37623814714068615, \"fitted\": 0.12780149781911532, \"fit_se\": 0.015269542825622939}, {\"id\": 633720, \"log_income\": 10.46949100494385, \"subject\": \"math\", \"gap\": -0.8171846824670843, \"fitted\": -0.08876519525408932, \"fit_se\": 0.008059234714286531}, {\"id\": 633750, \"log_income\": 11.08856773376465, \"subject\": \"math\", \"gap\": -0.0251373415170624, \"fitted\": -0.013821647984839647, \"fit_se\": 0.004644884930352643}, {\"id\": 633840, \"log_income\": 10.850364685058588, \"subject\": \"math\", \"gap\": -0.07802593695906519, \"fitted\": -0.04265778510533158, \"fit_se\": 0.005053670528382345}, {\"id\": 633860, \"log_income\": 11.365918159484858, \"subject\": \"math\", \"gap\": 0.02901106370036786, \"fitted\": 0.019753551618771237, \"fit_se\": 0.0060839726406541434}, {\"id\": 633900, \"log_income\": 11.098511695861822, \"subject\": \"math\", \"gap\": -0.07674388611629003, \"fitted\": -0.012617862155428039, \"fit_se\": 0.00466428514145778}, {\"id\": 633930, \"log_income\": 10.86946964263916, \"subject\": \"math\", \"gap\": -0.04565057173327612, \"fitted\": -0.04034499700514904, \"fit_se\": 0.004963314047702941}, {\"id\": 634170, \"log_income\": 10.59104633331299, \"subject\": \"math\", \"gap\": -0.0858364178055562, \"fitted\": -0.07405007663734886, \"fit_se\": 0.006924723647892292}, {\"id\": 634230, \"log_income\": 11.4408597946167, \"subject\": \"math\", \"gap\": -0.0649468533847429, \"fitted\": 0.02882575820233302, \"fit_se\": 0.006699981155704195}, {\"id\": 634290, \"log_income\": 11.94400405883789, \"subject\": \"math\", \"gap\": -0.02563126737449445, \"fitted\": 0.08973487365355792, \"fit_se\": 0.011771065372214746}, {\"id\": 634320, \"log_income\": 11.0738000869751, \"subject\": \"math\", \"gap\": 0.0029465281216164985, \"fitted\": -0.015609374422782762, \"fit_se\": 0.0046214646798148065}, {\"id\": 634410, \"log_income\": 11.462697982788091, \"subject\": \"math\", \"gap\": -0.07943937359156936, \"fitted\": 0.03146942289090071, \"fit_se\": 0.00689064539524262}, {\"id\": 634425, \"log_income\": 10.977879524230962, \"subject\": \"math\", \"gap\": -0.09429268799942016, \"fitted\": -0.027221226223125727, \"fit_se\": 0.004630067365262237}, {\"id\": 634440, \"log_income\": 10.66418075561523, \"subject\": \"math\", \"gap\": -0.07152441364645054, \"fitted\": -0.06519664574638773, \"fit_se\": 0.006302468107284754}, {\"id\": 634590, \"log_income\": 11.45671272277832, \"subject\": \"math\", \"gap\": 0.022366827944203062, \"fitted\": 0.030744865504750196, \"fit_se\": 0.0068379451859163914}, {\"id\": 634620, \"log_income\": 10.93325710296631, \"subject\": \"math\", \"gap\": -0.03531188149615282, \"fitted\": -0.03262308092324617, \"fit_se\": 0.004728021236947213}, {\"id\": 634680, \"log_income\": 11.07417297363281, \"subject\": \"math\", \"gap\": -0.07560700359812045, \"fitted\": -0.015564233897291668, \"fit_se\": 0.004621976062925302}, {\"id\": 634710, \"log_income\": 11.100622177124018, \"subject\": \"math\", \"gap\": -0.019697815299711468, \"fitted\": -0.012362373708082242, \"fit_se\": 0.004668774390054072}, {\"id\": 634800, \"log_income\": 10.94037628173828, \"subject\": \"math\", \"gap\": -0.0041331662897399184, \"fitted\": -0.03176125477799352, \"fit_se\": 0.004708554911034783}, {\"id\": 634860, \"log_income\": 11.80625915527344, \"subject\": \"math\", \"gap\": 0.12235235912309765, \"fitted\": 0.07305989426765236, \"fit_se\": 0.01028858240720938}, {\"id\": 634880, \"log_income\": 11.20806217193604, \"subject\": \"math\", \"gap\": -0.012071307625990142, \"fitted\": 0.0006439855280979678, \"fit_se\": 0.005057797275075685}, {\"id\": 634920, \"log_income\": 11.64130306243896, \"subject\": \"math\", \"gap\": -0.005382802494258326, \"fitted\": 0.053090811010009675, \"fit_se\": 0.008584584587902655}, {\"id\": 635010, \"log_income\": 10.991394996643072, \"subject\": \"math\", \"gap\": -0.2315758030693011, \"fitted\": -0.025585084209659215, \"fit_se\": 0.004611951146874289}, {\"id\": 635040, \"log_income\": 11.6079044342041, \"subject\": \"math\", \"gap\": 0.06822378415345494, \"fitted\": 0.049047674582292755, \"fit_se\": 0.008253054169988915}, {\"id\": 635070, \"log_income\": 10.12707042694092, \"subject\": \"math\", \"gap\": -0.1854137604631358, \"fitted\": -0.13021758972933806, \"fit_se\": 0.01162423375486374}, {\"id\": 635090, \"log_income\": 11.29161739349365, \"subject\": \"math\", \"gap\": 0.06908274593969073, \"fitted\": 0.010758926705620508, \"fit_se\": 0.005546385003306927}, {\"id\": 635130, \"log_income\": 11.88188076019287, \"subject\": \"math\", \"gap\": 0.05572789367381821, \"fitted\": 0.08221441592710943, \"fit_se\": 0.011097291920682364}, {\"id\": 635220, \"log_income\": 10.8338623046875, \"subject\": \"math\", \"gap\": -0.0721919118540825, \"fitted\": -0.04465551311838656, \"fit_se\": 0.005138463471187839}, {\"id\": 635250, \"log_income\": 11.014756202697749, \"subject\": \"math\", \"gap\": -0.1156890094088614, \"fitted\": -0.02275704760495567, \"fit_se\": 0.004593639857347537}, {\"id\": 635310, \"log_income\": 10.944607734680181, \"subject\": \"math\", \"gap\": -0.05070201898498514, \"fitted\": -0.031249007945241436, \"fit_se\": 0.004697663497832204}, {\"id\": 635430, \"log_income\": 11.609155654907232, \"subject\": \"math\", \"gap\": 0.03507353322982496, \"fitted\": 0.04919914355785582, \"fit_se\": 0.00826537283934154}, {\"id\": 635590, \"log_income\": 11.068631172180181, \"subject\": \"math\", \"gap\": -0.1151565199977943, \"fitted\": -0.016235107538290938, \"fit_se\": 0.004614805444106241}, {\"id\": 635700, \"log_income\": 11.400479316711431, \"subject\": \"math\", \"gap\": 0.005062233887357798, \"fitted\": 0.02393742027302226, \"fit_se\": 0.006360089037355448}, {\"id\": 635790, \"log_income\": 11.007166862487788, \"subject\": \"math\", \"gap\": -0.08771346622753509, \"fitted\": -0.0236757900649589, \"fit_se\": 0.004597771201681051}, {\"id\": 635880, \"log_income\": 11.24282932281494, \"subject\": \"math\", \"gap\": 0.08702202895162821, \"fitted\": 0.004852791147835767, \"fit_se\": 0.005243970909480531}, {\"id\": 635910, \"log_income\": 12.0103931427002, \"subject\": \"math\", \"gap\": 0.21092352962264355, \"fitted\": 0.09777173437367304, \"fit_se\": 0.01249883127719105}, {\"id\": 635970, \"log_income\": 11.53569221496582, \"subject\": \"math\", \"gap\": 0.03862946824827351, \"fitted\": 0.040305882791459746, \"fit_se\": 0.007557325731841347}, {\"id\": 636030, \"log_income\": 11.07845973968506, \"subject\": \"math\", \"gap\": -0.01956910995952187, \"fitted\": -0.01504529102751051, \"fit_se\": 0.004628153639769603}, {\"id\": 636100, \"log_income\": 10.50708103179932, \"subject\": \"math\", \"gap\": -0.1196842066933032, \"fitted\": -0.08421466084802098, \"fit_se\": 0.007697506686442653}, {\"id\": 636180, \"log_income\": 11.159399032592768, \"subject\": \"math\", \"gap\": -0.007962001290100898, \"fitted\": -0.005247026221914419, \"fit_se\": 0.004844201734690323}, {\"id\": 636210, \"log_income\": 10.54062747955322, \"subject\": \"math\", \"gap\": -0.02865983378683235, \"fitted\": -0.08015362983858765, \"fit_se\": 0.007382397150454018}, {\"id\": 636270, \"log_income\": 10.55338191986084, \"subject\": \"math\", \"gap\": -0.07732000735245333, \"fitted\": -0.07860961605873262, \"fit_se\": 0.007264706770581432}, {\"id\": 636670, \"log_income\": 11.208995819091802, \"subject\": \"math\", \"gap\": 0.0437796806765319, \"fitted\": 0.0007570100151981229, \"fit_se\": 0.005062448706781581}, {\"id\": 636800, \"log_income\": 10.96838665008545, \"subject\": \"math\", \"gap\": -0.023304893010325223, \"fitted\": -0.02837040471607355, \"fit_se\": 0.004646047513547511}, {\"id\": 636805, \"log_income\": 11.1001615524292, \"subject\": \"math\", \"gap\": -0.12104680180425065, \"fitted\": -0.012418135533688757, \"fit_se\": 0.004667783535931678}, {\"id\": 636820, \"log_income\": 10.78579521179199, \"subject\": \"math\", \"gap\": -0.0538621921454576, \"fitted\": -0.05047436929696025, \"fit_se\": 0.00541815308236226}, {\"id\": 636840, \"log_income\": 11.36925506591797, \"subject\": \"math\", \"gap\": 0.019626771268141985, \"fitted\": 0.020157507369909622, \"fit_se\": 0.006109980212367003}, {\"id\": 636970, \"log_income\": 10.89075183868408, \"subject\": \"math\", \"gap\": -0.08070018377401864, \"fitted\": -0.0377686390336196, \"fit_se\": 0.0048730687689761115}, {\"id\": 636990, \"log_income\": 11.6788158416748, \"subject\": \"math\", \"gap\": 0.1012980457790328, \"fitted\": 0.05763199405401953, \"fit_se\": 0.008963148084766243}, {\"id\": 637050, \"log_income\": 10.878440856933588, \"subject\": \"math\", \"gap\": -0.12381665384536605, \"fitted\": -0.039258969068324934, \"fit_se\": 0.00492390119371991}, {\"id\": 637110, \"log_income\": 11.137866020202642, \"subject\": \"math\", \"gap\": 0.14512794261863965, \"fitted\": -0.007853747257903887, \"fit_se\": 0.0047689016250395296}, {\"id\": 637200, \"log_income\": 11.174379348754881, \"subject\": \"math\", \"gap\": -0.012754227201474788, \"fitted\": -0.0034335546760819735, \"fit_se\": 0.0049037332033468805}, {\"id\": 637230, \"log_income\": 10.68099498748779, \"subject\": \"math\", \"gap\": -0.04732608836013188, \"fitted\": -0.06316116593835575, \"fit_se\": 0.006167733157389266}, {\"id\": 637290, \"log_income\": 11.222060203552251, \"subject\": \"math\", \"gap\": 0.05083611376208507, \"fitted\": 0.002338544692200628, \"fit_se\": 0.005129593721600672}, {\"id\": 637320, \"log_income\": 11.1331090927124, \"subject\": \"math\", \"gap\": 0.12803414376654698, \"fitted\": -0.008429606442435622, \"fit_se\": 0.004753951183351073}, {\"id\": 637350, \"log_income\": 10.94503879547119, \"subject\": \"math\", \"gap\": 0.0935921162745302, \"fitted\": -0.031196825035978426, \"fit_se\": 0.00469658257671141}, {\"id\": 637380, \"log_income\": 10.76536273956299, \"subject\": \"math\", \"gap\": 0.04349163365798698, \"fitted\": -0.05294786228584769, \"fit_se\": 0.005550476016037895}, {\"id\": 637500, \"log_income\": 11.375057220458979, \"subject\": \"math\", \"gap\": 0.17377536793108966, \"fitted\": 0.02085989856451298, \"fit_se\": 0.00615554422850071}, {\"id\": 637530, \"log_income\": 11.404099464416499, \"subject\": \"math\", \"gap\": -0.10956770077947957, \"fitted\": 0.024375664351705684, \"fit_se\": 0.006389837917470938}, {\"id\": 637560, \"log_income\": 10.97421932220459, \"subject\": \"math\", \"gap\": -0.02451038900344268, \"fitted\": -0.027664319156211814, \"fit_se\": 0.004635912465168569}, {\"id\": 637590, \"log_income\": 10.58515644073486, \"subject\": \"math\", \"gap\": -0.31515144041688364, \"fitted\": -0.0747630891320692, \"fit_se\": 0.0069771012729141}, {\"id\": 637620, \"log_income\": 10.844959259033198, \"subject\": \"math\", \"gap\": -0.0362700475330151, \"fitted\": -0.04331214955158669, \"fit_se\": 0.0050807727448205185}, {\"id\": 637710, \"log_income\": 11.79182434082031, \"subject\": \"math\", \"gap\": -0.053241646336678994, \"fitted\": 0.07131245950079967, \"fit_se\": 0.01013587502224536}, {\"id\": 637770, \"log_income\": 10.87067699432373, \"subject\": \"math\", \"gap\": 0.0130339844049109, \"fitted\": -0.0401988386796448, \"fit_se\": 0.004957895493410207}, {\"id\": 637830, \"log_income\": 11.29226875305176, \"subject\": \"math\", \"gap\": 0.09544797346620816, \"fitted\": 0.010837778314088053, \"fit_se\": 0.005550717897240423}, {\"id\": 637890, \"log_income\": 10.58898639678955, \"subject\": \"math\", \"gap\": -0.017330179127998342, \"fitted\": -0.07429944629223795, \"fit_se\": 0.00694300748717708}, {\"id\": 637950, \"log_income\": 10.87020683288574, \"subject\": \"math\", \"gap\": -0.1309278188089282, \"fitted\": -0.040255754994395154, \"fit_se\": 0.004960001365412581}, {\"id\": 638010, \"log_income\": 10.52779388427734, \"subject\": \"math\", \"gap\": -0.09068441667604757, \"fitted\": -0.08170722587832957, \"fit_se\": 0.007502024348507729}, {\"id\": 638130, \"log_income\": 10.52229022979736, \"subject\": \"math\", \"gap\": 0.009700309356933856, \"fitted\": -0.0823734815627577, \"fit_se\": 0.007553682726902827}, {\"id\": 638220, \"log_income\": 11.23283100128174, \"subject\": \"math\", \"gap\": -0.0241663612973131, \"fitted\": 0.0036424247303099566, \"fit_se\": 0.0051877684526547355}, {\"id\": 638250, \"log_income\": 11.029520034790039, \"subject\": \"math\", \"gap\": 0.011547015501145615, \"fitted\": -0.02096978296266916, \"fit_se\": 0.0045906367961821536}, {\"id\": 638340, \"log_income\": 10.94961643218994, \"subject\": \"math\", \"gap\": -0.006975140127246193, \"fitted\": -0.030642670247336135, \"fit_se\": 0.0046854315791716545}, {\"id\": 638430, \"log_income\": 10.4230432510376, \"subject\": \"math\", \"gap\": -0.34294809883201416, \"fitted\": -0.09438801917618056, \"fit_se\": 0.008517128798470653}, {\"id\": 638460, \"log_income\": 11.68134212493896, \"subject\": \"math\", \"gap\": 0.041039105294430514, \"fitted\": 0.0579378182280017, \"fit_se\": 0.008988858474994435}, {\"id\": 638550, \"log_income\": 10.78019332885742, \"subject\": \"math\", \"gap\": -0.1541781130808717, \"fitted\": -0.051152516219561184, \"fit_se\": 0.005453682641419127}, {\"id\": 638670, \"log_income\": 11.034836769103999, \"subject\": \"math\", \"gap\": -0.0604376810287936, \"fitted\": -0.020326155265444568, \"fit_se\": 0.004591185969339638}, {\"id\": 638700, \"log_income\": 10.64688014984131, \"subject\": \"math\", \"gap\": -0.11195984381822667, \"fitted\": -0.06729100450071224, \"fit_se\": 0.006444583867254656}, {\"id\": 638770, \"log_income\": 11.18696594238281, \"subject\": \"math\", \"gap\": -0.012150591471468923, \"fitted\": -0.001909859905143918, \"fit_se\": 0.004958109242979203}, {\"id\": 638880, \"log_income\": 10.96443843841553, \"subject\": \"math\", \"gap\": -0.05438784144541596, \"fitted\": -0.028848363221277262, \"fit_se\": 0.00465347755147321}, {\"id\": 638980, \"log_income\": 11.01671504974365, \"subject\": \"math\", \"gap\": 0.08990706159322373, \"fitted\": -0.022519915534982005, \"fit_se\": 0.004592858536148672}, {\"id\": 639000, \"log_income\": 11.23572635650635, \"subject\": \"math\", \"gap\": 0.03239457889706682, \"fitted\": 0.0039929276341261755, \"fit_se\": 0.005203829074620399}, {\"id\": 639060, \"log_income\": 10.53962802886963, \"subject\": \"math\", \"gap\": -0.02698889906471672, \"fitted\": -0.08027462030077404, \"fit_se\": 0.007391670737360647}, {\"id\": 639180, \"log_income\": 10.34969329833984, \"subject\": \"math\", \"gap\": -0.0461543611243971, \"fitted\": -0.10326754152177497, \"fit_se\": 0.009260691528303682}, {\"id\": 639300, \"log_income\": 10.36467361450195, \"subject\": \"math\", \"gap\": 0.07464645634849347, \"fitted\": -0.10145406997594275, \"fit_se\": 0.009107033100935278}, {\"id\": 639420, \"log_income\": 11.317378997802727, \"subject\": \"math\", \"gap\": -0.01327705342764551, \"fitted\": 0.013877548227618997, \"fit_se\": 0.005723181788413875}, {\"id\": 639630, \"log_income\": 11.389756202697749, \"subject\": \"math\", \"gap\": -0.07298882943085565, \"fitted\": 0.022639312680626356, \"fit_se\": 0.006272862651949532}, {\"id\": 639870, \"log_income\": 10.78854370117188, \"subject\": \"math\", \"gap\": -0.10522955197933126, \"fitted\": -0.050141645525945355, \"fit_se\": 0.005400933528672815}, {\"id\": 639940, \"log_income\": 10.55925178527832, \"subject\": \"math\", \"gap\": -0.3864919821711635, \"fitted\": -0.07789902799121307, \"fit_se\": 0.007210960964575294}, {\"id\": 640150, \"log_income\": 11.26981639862061, \"subject\": \"math\", \"gap\": -0.008206839998826442, \"fitted\": 0.00811976452471197, \"fit_se\": 0.0054057117754946395}, {\"id\": 640200, \"log_income\": 10.90684509277344, \"subject\": \"math\", \"gap\": 0.4496839829107644, \"fitted\": -0.035820438604798444, \"fit_se\": 0.004812474546412666}, {\"id\": 640230, \"log_income\": 11.39100170135498, \"subject\": \"math\", \"gap\": -0.05827614137351785, \"fitted\": 0.022790088962703514, \"fit_se\": 0.006282924466590067}, {\"id\": 640300, \"log_income\": 10.75364685058594, \"subject\": \"math\", \"gap\": -0.09785413462442724, \"fitted\": -0.054366152198029205, \"fit_se\": 0.0056296394491811}, {\"id\": 640320, \"log_income\": 11.71383857727051, \"subject\": \"math\", \"gap\": 0.041881609183792017, \"fitted\": 0.06187173998279172, \"fit_se\": 0.009321819982538573}, {\"id\": 640380, \"log_income\": 10.997201919555659, \"subject\": \"math\", \"gap\": 0.04231059344635826, \"fitted\": -0.024882115770484825, \"fit_se\": 0.004605854409286752}, {\"id\": 640590, \"log_income\": 11.176501274108892, \"subject\": \"math\", \"gap\": -0.02654066371585892, \"fitted\": -0.0031766808417623693, \"fit_se\": 0.004912625443237791}, {\"id\": 640650, \"log_income\": 10.957045555114751, \"subject\": \"math\", \"gap\": -0.03798998330781793, \"fitted\": -0.029743323204934446, \"fit_se\": 0.004668617869952057}, {\"id\": 640680, \"log_income\": 10.82048225402832, \"subject\": \"math\", \"gap\": -0.05685407414011285, \"fitted\": -0.04627526138602245, \"fit_se\": 0.0052115826732957215}, {\"id\": 640740, \"log_income\": 11.00911808013916, \"subject\": \"math\", \"gap\": -0.10486009082048828, \"fitted\": -0.02343958158629955, \"fit_se\": 0.004596541542174428}, {\"id\": 640980, \"log_income\": 11.1361608505249, \"subject\": \"math\", \"gap\": 0.00786368307702704, \"fitted\": -0.00806016991667402, \"fit_se\": 0.00476347126757331}, {\"id\": 641040, \"log_income\": 10.68410110473633, \"subject\": \"math\", \"gap\": -0.1211288650916594, \"fitted\": -0.06278514882447839, \"fit_se\": 0.006143226386954649}, {\"id\": 641130, \"log_income\": 10.25436687469482, \"subject\": \"math\", \"gap\": -0.34464612344870565, \"fitted\": -0.11480746864850921, \"fit_se\": 0.010256470761110819}, {\"id\": 641160, \"log_income\": 10.83622074127197, \"subject\": \"math\", \"gap\": -0.057107069422642, \"fitted\": -0.04437000795332158, \"fit_se\": 0.005125974828319572}, {\"id\": 641190, \"log_income\": 11.09000492095947, \"subject\": \"math\", \"gap\": 0.005559813638201197, \"fitted\": -0.01364766647098925, \"fit_se\": 0.004647509337707061}, {\"id\": 641250, \"log_income\": 11.3107385635376, \"subject\": \"math\", \"gap\": 0.044423547569408896, \"fitted\": 0.013073677437345665, \"fit_se\": 0.005676567955579356}, {\"id\": 641280, \"log_income\": 11.42573070526123, \"subject\": \"math\", \"gap\": 0.0858183402675868, \"fitted\": 0.026994276625870173, \"fit_se\": 0.0065706184139946435}, {\"id\": 641400, \"log_income\": 10.46611595153809, \"subject\": \"math\", \"gap\": -0.09635339559246828, \"fitted\": -0.08917376896179863, \"fit_se\": 0.008092119948155221}, {\"id\": 641460, \"log_income\": 10.67307090759277, \"subject\": \"math\", \"gap\": 0.07798834502774757, \"fitted\": -0.06412043096727849, \"fit_se\": 0.0062308000816206095}, {\"id\": 641580, \"log_income\": 10.97952365875244, \"subject\": \"math\", \"gap\": -0.06601869212697825, \"fitted\": -0.02702219229487257, \"fit_se\": 0.0046275715582269955}, {\"id\": 641610, \"log_income\": 11.643558502197273, \"subject\": \"math\", \"gap\": 0.0810315647986326, \"fitted\": 0.053363847692331934, \"fit_se\": 0.008607168068249155}, {\"id\": 641790, \"log_income\": 11.33915042877197, \"subject\": \"math\", \"gap\": -0.01175313908426522, \"fitted\": 0.016513131492185584, \"fit_se\": 0.005880797726359884}, {\"id\": 641880, \"log_income\": 10.7632474899292, \"subject\": \"math\", \"gap\": -0.16263082971913, \"fitted\": -0.05320392797776652, \"fit_se\": 0.005564595980281826}, {\"id\": 641980, \"log_income\": 10.58536052703857, \"subject\": \"math\", \"gap\": 0.3771379754069968, \"fitted\": -0.07473838306440905, \"fit_se\": 0.0069752812857058685}, {\"id\": 642000, \"log_income\": 11.23658561706543, \"subject\": \"math\", \"gap\": -0.05230896362714167, \"fitted\": 0.0040969471059106866, \"fit_se\": 0.005208629328306417}, {\"id\": 642060, \"log_income\": 10.61154747009277, \"subject\": \"math\", \"gap\": -0.2066383061651228, \"fitted\": -0.07156827132663168, \"fit_se\": 0.0067448654509893}, {\"id\": 642120, \"log_income\": 11.30177593231201, \"subject\": \"math\", \"gap\": -0.10435212990218136, \"fitted\": 0.011988688540749193, \"fit_se\": 0.00561478619150712}, {\"id\": 642140, \"log_income\": 11.18789291381836, \"subject\": \"math\", \"gap\": -0.011743330028291102, \"fitted\": -0.0017976435604436514, \"fit_se\": 0.004962267386920747}, {\"id\": 642150, \"log_income\": 10.9603967666626, \"subject\": \"math\", \"gap\": -0.016178981757379318, \"fitted\": -0.029337635720082744, \"fit_se\": 0.004661557053809372}, {\"id\": 642180, \"log_income\": 10.48174667358398, \"subject\": \"math\", \"gap\": 0.0716534941960606, \"fitted\": -0.0872815612564144, \"fit_se\": 0.007940366902858686}, {\"id\": 642330, \"log_income\": 10.97226333618164, \"subject\": \"math\", \"gap\": -0.11277967939879227, \"fitted\": -0.027901104879441974, \"fit_se\": 0.004639199092623408}, {\"id\": 642450, \"log_income\": 11.014652252197273, \"subject\": \"math\", \"gap\": -0.03723821140248115, \"fitted\": -0.022769631536613044, \"fit_se\": 0.004593684589808115}, {\"id\": 642540, \"log_income\": 10.93482780456543, \"subject\": \"math\", \"gap\": -0.026393826469937626, \"fitted\": -0.032432936561393566, \"fit_se\": 0.0047236038966639105}, {\"id\": 642710, \"log_income\": 10.68513584136963, \"subject\": \"math\", \"gap\": -0.0550730483903995, \"fitted\": -0.06265988675246237, \"fit_se\": 0.006135089721461323}, {\"id\": 642810, \"log_income\": 10.49714088439941, \"subject\": \"math\", \"gap\": -0.04404719140420086, \"fitted\": -0.08541798488177599, \"fit_se\": 0.00779232003743676}, {\"id\": 642930, \"log_income\": 11.216064453125, \"subject\": \"math\", \"gap\": -0.0192208629117164, \"fitted\": 0.0016127173679927331, \"fit_se\": 0.005098305102307953}, {\"id\": 642960, \"log_income\": 10.5961446762085, \"subject\": \"math\", \"gap\": -0.03155196630932895, \"fitted\": -0.07343288674149817, \"fit_se\": 0.006879634219130649}, {\"id\": 643080, \"log_income\": 10.98653984069824, \"subject\": \"math\", \"gap\": -0.0994453670243322, \"fitted\": -0.026172834632363973, \"fit_se\": 0.004617828676837029}, {\"id\": 643140, \"log_income\": 12.14197826385498, \"subject\": \"math\", \"gap\": 0.32116485050226706, \"fitted\": 0.11370102922211123, \"fit_se\": 0.013960045752549216}, {\"id\": 643170, \"log_income\": 10.30096912384033, \"subject\": \"math\", \"gap\": 0.09473494001292077, \"fitted\": -0.10916594200230101, \"fit_se\": 0.009766044110941481}, {\"id\": 643200, \"log_income\": 11.11839294433594, \"subject\": \"math\", \"gap\": -0.1138453370610058, \"fitted\": -0.010211098639006044, \"fit_se\": 0.004711666864164328}, {\"id\": 643380, \"log_income\": 10.572469711303713, \"subject\": \"math\", \"gap\": 0.00906890296934675, \"fitted\": -0.07629890603900802, \"fit_se\": 0.007090938573914688}, {\"id\": 643470, \"log_income\": 10.824331283569341, \"subject\": \"math\", \"gap\": 0.047520116620492166, \"fitted\": -0.04580930956790508, \"fit_se\": 0.005190158379846042}, {\"id\": 643560, \"log_income\": 10.96833324432373, \"subject\": \"math\", \"gap\": -0.0029592131813298804, \"fitted\": -0.028376869855274434, \"fit_se\": 0.004646144956022659}, {\"id\": 684500, \"log_income\": 11.43335628509521, \"subject\": \"math\", \"gap\": 0.09159045896323097, \"fitted\": 0.02791740614461613, \"fit_se\": 0.006635532160589254}, {\"id\": 691134, \"log_income\": 10.47535991668701, \"subject\": \"math\", \"gap\": -0.2391313843294752, \"fitted\": -0.08805472263548464, \"fit_se\": 0.008002203917587176}, {\"id\": 691135, \"log_income\": 10.99540424346924, \"subject\": \"math\", \"gap\": -0.09589237590026252, \"fitted\": -0.0250997369739403, \"fit_se\": 0.004607632967883196}, {\"id\": 691136, \"log_income\": 11.22889518737793, \"subject\": \"math\", \"gap\": -0.04029631088506988, \"fitted\": 0.0031659670609915924, \"fit_se\": 0.005166221295970368}]}}, {\"mode\": \"vega-lite\"});\n",
       "</script>"
      ],
      "text/plain": [
       "alt.LayerChart(...)"
      ]
     },
     "execution_count": 3,
     "metadata": {},
     "output_type": "execute_result"
    }
   ],
   "source": [
    "(scatter + line + band).properties(width = 300, height = 200)"
   ]
  },
  {
   "cell_type": "code",
   "execution_count": 4,
   "metadata": {
    "slideshow": {
     "slide_type": "fragment"
    },
    "tags": []
   },
   "outputs": [
    {
     "data": {
      "text/html": [
       "<div>\n",
       "<style scoped>\n",
       "    .dataframe tbody tr th:only-of-type {\n",
       "        vertical-align: middle;\n",
       "    }\n",
       "\n",
       "    .dataframe tbody tr th {\n",
       "        vertical-align: top;\n",
       "    }\n",
       "\n",
       "    .dataframe thead th {\n",
       "        text-align: right;\n",
       "    }\n",
       "</style>\n",
       "<table border=\"1\" class=\"dataframe\">\n",
       "  <thead>\n",
       "    <tr style=\"text-align: right;\">\n",
       "      <th></th>\n",
       "      <th>estimate</th>\n",
       "      <th>standard error</th>\n",
       "    </tr>\n",
       "  </thead>\n",
       "  <tbody>\n",
       "    <tr>\n",
       "      <th>intercept</th>\n",
       "      <td>-1.356170</td>\n",
       "      <td>0.130697</td>\n",
       "    </tr>\n",
       "    <tr>\n",
       "      <th>log median income</th>\n",
       "      <td>0.121057</td>\n",
       "      <td>0.011843</td>\n",
       "    </tr>\n",
       "  </tbody>\n",
       "</table>\n",
       "</div>"
      ],
      "text/plain": [
       "                   estimate  standard error\n",
       "intercept         -1.356170        0.130697\n",
       "log median income  0.121057        0.011843"
      ]
     },
     "execution_count": 4,
     "metadata": {},
     "output_type": "execute_result"
    }
   ],
   "source": [
    "coef_summary"
   ]
  },
  {
   "cell_type": "markdown",
   "metadata": {
    "slideshow": {
     "slide_type": "slide"
    },
    "tags": []
   },
   "source": [
    "## Multiple linear regression\n",
    "+ The linear model in matrix form\n",
    "+ Estimation and uncertainty quantification"
   ]
  },
  {
   "cell_type": "markdown",
   "metadata": {
    "slideshow": {
     "slide_type": "subslide"
    },
    "tags": []
   },
   "source": [
    "## Extending the simple linear model\n",
    "\n",
    "The simple linear model was:\n",
    "\n",
    "$$y_i = \\beta_0 + \\beta_1 x_i + \\epsilon_i \\quad\\begin{cases} i = 1, \\dots, n \\\\\\epsilon_i \\sim N\\left(0,\\sigma^2\\right)\\end{cases}\n",
    "    \\qquad\\text{(simple linear model)}$$\n",
    "\n",
    "It's called 'simple' because it only has a single explanatory variable $x_i$."
   ]
  },
  {
   "cell_type": "markdown",
   "metadata": {
    "slideshow": {
     "slide_type": "fragment"
    },
    "tags": []
   },
   "source": [
    "The **linear model** is a direct extension of the simple linear model to $p - 1$ variables $x_{i1}, \\dots, x_{i, p - 1}$:\n",
    "\n",
    "$$y_i = \\beta_0 + \\beta_1 x_{i1} + \\cdots + \\beta_{p - 1} x_{i, p - 1} + \\epsilon_i \\qquad\\begin{cases} \\epsilon_i \\sim N(0, \\sigma^2) \\\\ i = 1, \\dots, n\\end{cases}\n",
    "    \\qquad\\text{(linear model)}$$"
   ]
  },
  {
   "cell_type": "markdown",
   "metadata": {
    "slideshow": {
     "slide_type": "fragment"
    },
    "tags": []
   },
   "source": [
    "**Other names:** this is sometimes also called the *multiple regression model* or *multiple linear model*."
   ]
  },
  {
   "cell_type": "markdown",
   "metadata": {
    "slideshow": {
     "slide_type": "subslide"
    },
    "tags": []
   },
   "source": [
    "## The linear model in matrix form\n",
    "\n",
    "The linear model is often written observation-wise in *indexed* form as above: $i$ indexes the observations. However, it's much more concise in matrix form:\n",
    "\n",
    "$$\\mathbf{y} = \\mathbf{X}\\beta + \\epsilon$$"
   ]
  },
  {
   "cell_type": "markdown",
   "metadata": {
    "slideshow": {
     "slide_type": "fragment"
    },
    "tags": []
   },
   "source": [
    "This is shorthand for:\n",
    "\n",
    "$$\\mathbf{y}: \\left[\\begin{array}{c} y_1 \\\\ y_2 \\\\ \\vdots \\\\ y_n \\end{array}\\right] \\; = \\;\n",
    "    \\mathbf{X}: \\left[\\begin{array}{cccc} \n",
    "        1 &x_{11} &\\cdots &x_{1, p - 1} \\\\\n",
    "        1 &x_{21} &\\cdots &x_{2, p - 1} \\\\\n",
    "        \\vdots &\\vdots &\\ddots &\\vdots \\\\\n",
    "        1 &x_{n1} &\\cdots &x_{n, p - 1}\n",
    "        \\end{array}\\right] \\; \\times \\;\n",
    "    \\beta: \\left[\\begin{array}{c} \\beta_0 \\\\ \\beta_1 \\\\ \\vdots \\\\ \\beta_{p - 1} \\end{array} \\right] \\; + \\;\n",
    "    \\epsilon: \\left[\\begin{array}{c} \\epsilon_1 \\\\ \\epsilon_2 \\\\ \\vdots \\\\ \\epsilon_n \\end{array}\\right]$$   "
   ]
  },
  {
   "cell_type": "markdown",
   "metadata": {
    "slideshow": {
     "slide_type": "fragment"
    },
    "tags": []
   },
   "source": [
    "Carrying out the arithmetic on the right-hand side:\n",
    "\n",
    "$$\\left[\\begin{array}{c} y_1 \\\\ y_2 \\\\ \\vdots \\\\ y_n \\end{array}\\right]_{\\;n \\times 1} \\quad = \\quad\n",
    "    \\left[\\begin{array}{c} \n",
    "        \\beta_0 + \\beta_1 x_{11} + \\cdots + \\beta_{p - 1} x_{1, p - 1} + \\epsilon_1 \\\\\n",
    "        \\beta_0 + \\beta_1 x_{21} + \\cdots + \\beta_{p - 1} x_{2, p - 1} + \\epsilon_2 \\\\\n",
    "        \\vdots \\\\\n",
    "        \\beta_0 + \\beta_1 x_{n1} + \\cdots + \\beta_{p - 1} x_{n, p - 1} + \\epsilon_n\n",
    "        \\end{array}\\right]_{\\;n \\times 1}$$   \n",
    "\n",
    "This is exactly the model relationship, written for each $i$."
   ]
  },
  {
   "cell_type": "markdown",
   "metadata": {
    "slideshow": {
     "slide_type": "subslide"
    },
    "tags": []
   },
   "source": [
    "## Good news!\n",
    "\n",
    "Estimation and uncertainty quantification are **exactly the same as in the simple linear model**."
   ]
  },
  {
   "cell_type": "markdown",
   "metadata": {
    "slideshow": {
     "slide_type": "fragment"
    },
    "tags": []
   },
   "source": [
    "The OLS estimates are:\n",
    "\n",
    "$$\\hat{\\beta} = \\left[\\begin{array}{c}\\hat{\\beta}_0 \\\\ \\vdots \\\\ \\hat{\\beta}_{p - 1} \\end{array}\\right] = \\left(\\mathbf{X'X}\\right)^{-1}\\mathbf{X'y}$$"
   ]
  },
  {
   "cell_type": "markdown",
   "metadata": {
    "slideshow": {
     "slide_type": "fragment"
    },
    "tags": []
   },
   "source": [
    "An estimate of the error variance is:\n",
    "\n",
    "$$\\hat{\\sigma}^2 \n",
    "    = \\frac{1}{n - p} \\sum_{i = 1}^n \\left(y_i - \\hat{\\beta}_0 - \\hat{\\beta}_1 x_{i1} - \\cdots - \\hat{\\beta}_{p - 1}x_{i, p - 1}\\right)^2 \n",
    "    = \\frac{1}{n - p}\\underbrace{\\left(\\mathbf{y} - \\mathbf{X}\\hat{\\beta}\\right)'\\left(\\mathbf{y} - \\mathbf{X}\\hat{\\beta}\\right)}_\\text{measure of residual variation}$$"
   ]
  },
  {
   "cell_type": "markdown",
   "metadata": {
    "slideshow": {
     "slide_type": "fragment"
    },
    "tags": []
   },
   "source": [
    "*The simple linear model was the special case with $p = 2$*."
   ]
  },
  {
   "cell_type": "markdown",
   "metadata": {
    "slideshow": {
     "slide_type": "subslide"
    },
    "tags": []
   },
   "source": [
    "## Uncertainty quantification\n",
    "\n",
    "In the case of the multiple linear model, the variances and covariances are a $p \\times p$ (instead of $2\\times 2$) matrix:\n",
    "\n",
    "$$\\mathbf{V} = \\left[\\begin{array}{cccc} \n",
    "    \\text{var}\\hat{\\beta}_0 \n",
    "        &\\text{cov}\\left(\\hat{\\beta}_0, \\hat{\\beta}_1\\right) \n",
    "        &\\cdots &\\text{cov}\\left(\\hat{\\beta}_0, \\hat{\\beta}_{p - 1}\\right) \\\\ \n",
    "    \\text{cov}\\left(\\hat{\\beta}_0, \\hat{\\beta}_1\\right) \n",
    "        &\\text{var}\\hat{\\beta}_1\n",
    "        &\\cdots &\\text{cov}\\left(\\hat{\\beta}_1, \\hat{\\beta}_{p - 1}\\right) \\\\\n",
    "    \\vdots &\\vdots &\\ddots &\\vdots \\\\\n",
    "    \\text{cov}\\left(\\hat{\\beta}_0, \\hat{\\beta}_{p - 1}\\right)\n",
    "        &\\text{cov}\\left(\\hat{\\beta}_1, \\hat{\\beta}_{p - 1}\\right)\n",
    "        &\\cdots\n",
    "        &\\text{var}\\hat{\\beta}_{p - 1}\n",
    "    \\end{array}\\right]\n",
    "   = \\sigma^2 \\left(\\mathbf{X'X}\\right)^{-1}$$\n",
    "   "
   ]
  },
  {
   "cell_type": "markdown",
   "metadata": {
    "slideshow": {
     "slide_type": "fragment"
    },
    "tags": []
   },
   "source": [
    "This matrix is again estimated by plugging in $\\color{red}{\\hat{\\sigma}^2}$ (the estimate) for $\\sigma^2$:\n",
    "\n",
    "$$\\hat{\\mathbf{V}} \n",
    "    = \\left[\\begin{array}{cccc} \n",
    "        \\color{blue}{\\hat{v}_{11}} & \\hat{v}_{12} & \\cdots & \\hat{v}_{1p} \\\\ \n",
    "        \\hat{v}_{21} & \\color{blue}{\\hat{v}_{22}} & \\cdots & \\hat{v}_{2p} \\\\\n",
    "        \\vdots &\\vdots &\\ddots &\\vdots \\\\\n",
    "        \\hat{v}_{p1} & \\hat{v}_{p2} &\\cdots &\\color{blue}{\\hat{v}_{pp}} \\\\\n",
    "        \\end{array}\\right]\n",
    "    = \\color{red}{\\hat{\\sigma}^2}\\left(\\mathbf{X'X}\\right)^{-1}$$"
   ]
  },
  {
   "cell_type": "markdown",
   "metadata": {
    "slideshow": {
     "slide_type": "fragment"
    },
    "tags": []
   },
   "source": [
    "The square roots of the diagonal elements give *standard errors*:\n",
    "\n",
    "$$\\text{SE}(\\hat{\\beta}_0) = \\sqrt{\\color{blue}{\\hat{v}_{11}}} \n",
    "    \\;,\\quad\n",
    "    \\text{SE}(\\hat{\\beta}_1) = \\sqrt{\\color{blue}{\\hat{v}_{22}}} \n",
    "    \\;,\\quad \\cdots \\quad\n",
    "    \\text{SE}(\\hat{\\beta}_{p - 1}) = \\sqrt{\\color{blue}{\\hat{v}_{pp}}}$$"
   ]
  },
  {
   "cell_type": "markdown",
   "metadata": {
    "slideshow": {
     "slide_type": "subslide"
    },
    "tags": []
   },
   "source": [
    "## Even better news!\n",
    "\n",
    "All the computations in `sklearn` are exactly the same.\n",
    "\n",
    "So let's have a look at some examples."
   ]
  },
  {
   "cell_type": "markdown",
   "metadata": {
    "slideshow": {
     "slide_type": "slide"
    },
    "tags": []
   },
   "source": [
    "## Case study: urban tree cover\n",
    "\n",
    "* Background\n",
    "* Model 1: summer temperatures, tree cover, and income\n",
    "    + model fitting calculations, step by step\n",
    "    + model visualization\n",
    "    + interpretation of results\n",
    "* Model 2: adding population density\n",
    "    + categorical variable encodings\n",
    "    + results and interpretation"
   ]
  },
  {
   "cell_type": "markdown",
   "metadata": {
    "slideshow": {
     "slide_type": "subslide"
    },
    "tags": []
   },
   "source": [
    "## Urban tree cover data\n",
    "\n",
    "The following are data on urban tree cover in the San Diego area:"
   ]
  },
  {
   "cell_type": "code",
   "execution_count": 5,
   "metadata": {
    "slideshow": {
     "slide_type": "skip"
    },
    "tags": []
   },
   "outputs": [],
   "source": [
    "np.random.seed(51421)\n",
    "trees = pd.read_csv('data/utc-sd.csv').sample(n = 2000).rename(\n",
    "    columns = {'fc_in_BG_g': 'tree_cover', 'IncPr': 'mean_income', 'SurfaceTem': 'mean_summer_temp'}\n",
    ")\n",
    "\n",
    "trees['income_level'] = trees.IncomeGrp.astype('category').cat.rename_categories({1: 'very low', 2: 'low', 3: 'medium', 4: 'high'})\n",
    "trees['pop_density'] = trees.PopDensGrp.astype('category').cat.rename_categories({1: 'very low', 2: 'low', 3: 'medium', 4: 'high'})\n",
    "\n",
    "trees = trees.drop(columns = ['TreeTarget', 'IncomeGrp', 'PopDensGrp'])\n",
    "\n",
    "trees = trees[trees.mean_summer_temp > 0]"
   ]
  },
  {
   "cell_type": "code",
   "execution_count": 6,
   "metadata": {},
   "outputs": [
    {
     "data": {
      "text/html": [
       "<div>\n",
       "<style scoped>\n",
       "    .dataframe tbody tr th:only-of-type {\n",
       "        vertical-align: middle;\n",
       "    }\n",
       "\n",
       "    .dataframe tbody tr th {\n",
       "        vertical-align: top;\n",
       "    }\n",
       "\n",
       "    .dataframe thead th {\n",
       "        text-align: right;\n",
       "    }\n",
       "</style>\n",
       "<table border=\"1\" class=\"dataframe\">\n",
       "  <thead>\n",
       "    <tr style=\"text-align: right;\">\n",
       "      <th></th>\n",
       "      <th>Name</th>\n",
       "      <th>census_block_GEOID</th>\n",
       "      <th>tree_cover</th>\n",
       "      <th>mean_summer_temp</th>\n",
       "      <th>mean_income</th>\n",
       "      <th>income_level</th>\n",
       "      <th>pop_density</th>\n",
       "    </tr>\n",
       "  </thead>\n",
       "  <tbody>\n",
       "    <tr>\n",
       "      <th>11013</th>\n",
       "      <td>San Diego, CA</td>\n",
       "      <td>6.073010e+13</td>\n",
       "      <td>0.158259</td>\n",
       "      <td>31.986364</td>\n",
       "      <td>40951</td>\n",
       "      <td>medium</td>\n",
       "      <td>high</td>\n",
       "    </tr>\n",
       "    <tr>\n",
       "      <th>18997</th>\n",
       "      <td>San Diego, CA</td>\n",
       "      <td>6.073020e+13</td>\n",
       "      <td>0.013488</td>\n",
       "      <td>34.068851</td>\n",
       "      <td>51502</td>\n",
       "      <td>high</td>\n",
       "      <td>very low</td>\n",
       "    </tr>\n",
       "    <tr>\n",
       "      <th>8786</th>\n",
       "      <td>San Diego, CA</td>\n",
       "      <td>6.073010e+13</td>\n",
       "      <td>0.052844</td>\n",
       "      <td>37.098611</td>\n",
       "      <td>28454</td>\n",
       "      <td>low</td>\n",
       "      <td>low</td>\n",
       "    </tr>\n",
       "    <tr>\n",
       "      <th>11163</th>\n",
       "      <td>San Diego, CA</td>\n",
       "      <td>6.073000e+13</td>\n",
       "      <td>0.217973</td>\n",
       "      <td>33.213636</td>\n",
       "      <td>40229</td>\n",
       "      <td>medium</td>\n",
       "      <td>medium</td>\n",
       "    </tr>\n",
       "  </tbody>\n",
       "</table>\n",
       "</div>"
      ],
      "text/plain": [
       "                Name  census_block_GEOID  tree_cover  mean_summer_temp  \\\n",
       "11013  San Diego, CA        6.073010e+13    0.158259         31.986364   \n",
       "18997  San Diego, CA        6.073020e+13    0.013488         34.068851   \n",
       "8786   San Diego, CA        6.073010e+13    0.052844         37.098611   \n",
       "11163  San Diego, CA        6.073000e+13    0.217973         33.213636   \n",
       "\n",
       "       mean_income income_level pop_density  \n",
       "11013        40951       medium        high  \n",
       "18997        51502         high    very low  \n",
       "8786         28454          low         low  \n",
       "11163        40229       medium      medium  "
      ]
     },
     "execution_count": 6,
     "metadata": {},
     "output_type": "execute_result"
    }
   ],
   "source": [
    "trees.head(4)"
   ]
  },
  {
   "cell_type": "markdown",
   "metadata": {},
   "source": [
    "Source: McDonald RI, Biswas T, Sachar C, Housman I, Boucher TM, Balk D, et al. (2021) The tree cover and temperature disparity in US urbanized areas: Quantifying the association with income across 5,723 communities. PLoS ONE 16(4): e0249715. [doi:10.1371/journal.pone.0249715](https://journals.plos.org/plosone/article?id=10.1371/journal.pone.0249715)."
   ]
  },
  {
   "cell_type": "markdown",
   "metadata": {
    "slideshow": {
     "slide_type": "subslide"
    },
    "tags": []
   },
   "source": [
    "## Observational units\n",
    "\n",
    "The **observational units** are census blocks. "
   ]
  },
  {
   "cell_type": "markdown",
   "metadata": {
    "slideshow": {
     "slide_type": "fragment"
    },
    "tags": []
   },
   "source": [
    "Census blocks are pretty small, about the size of a city block. To get an idea of the geographic scale, here's a map of census tracts in San Francisco. Each tract contains several census blocks:\n",
    "\n",
    "<img src = 'figures/sf-census-tracts.jpg' style = 'width:400px'>"
   ]
  },
  {
   "cell_type": "markdown",
   "metadata": {
    "slideshow": {
     "slide_type": "fragment"
    },
    "tags": []
   },
   "source": [
    "The data comprise observations on a random sample of 1,998 census blocks in San Diego."
   ]
  },
  {
   "cell_type": "markdown",
   "metadata": {
    "slideshow": {
     "slide_type": "subslide"
    },
    "tags": []
   },
   "source": [
    "## Tree cover and summer temperatures\n",
    "\n",
    "Tree canopy mitigates temperature in urban areas.\n",
    "\n",
    "<img src = 'figures/fig1-tempcover.png' style = 'width:500px'>"
   ]
  },
  {
   "cell_type": "code",
   "execution_count": 7,
   "metadata": {
    "slideshow": {
     "slide_type": "skip"
    },
    "tags": []
   },
   "outputs": [],
   "source": [
    "# source code\n",
    "fig1 = alt.Chart(trees).mark_circle(opacity = 0.6).encode(\n",
    "    x = alt.X('tree_cover', scale = alt.Scale(type = 'pow', exponent = 1/2, zero = False)),\n",
    "    y = alt.Y('mean_summer_temp', scale = alt.Scale(zero = False)),\n",
    "    color = alt.Color('mean_income', scale = alt.Scale(scheme = 'redblue', reverse = True, type = 'log'))\n",
    ")\n",
    "\n",
    "# fig1.properties(width = 500, height = 350)"
   ]
  },
  {
   "cell_type": "markdown",
   "metadata": {
    "slideshow": {
     "slide_type": "fragment"
    },
    "tags": []
   },
   "source": [
    "For this reason, urban forestry projects have been advocated as a strategy for mitigating the effects of climate change."
   ]
  },
  {
   "cell_type": "markdown",
   "metadata": {
    "slideshow": {
     "slide_type": "subslide"
    },
    "tags": []
   },
   "source": [
    "## Modeling objectives\n",
    "\n",
    "Here we'll try to quantify the association between temperature, tree cover, income, and population density using multiple regression."
   ]
  },
  {
   "cell_type": "markdown",
   "metadata": {
    "slideshow": {
     "slide_type": "fragment"
    },
    "tags": []
   },
   "source": [
    "Let's start with a MLR model with just two explanatory variables, tree cover and income:\n",
    "\n",
    "$$\\underbrace{\\text{temp}_i}_{y_i} \n",
    "    = \\beta_0 + \\beta_1 \\underbrace{\\text{cover}_i}_{x_{i1}} + \\beta_2 \\underbrace{\\text{income}_i}_{x_{i2}} + \\epsilon_i \n",
    "    \\qquad i = 1, \\dots, 1998$$ "
   ]
  },
  {
   "cell_type": "code",
   "execution_count": 8,
   "metadata": {},
   "outputs": [
    {
     "data": {
      "text/html": [
       "<div>\n",
       "<style scoped>\n",
       "    .dataframe tbody tr th:only-of-type {\n",
       "        vertical-align: middle;\n",
       "    }\n",
       "\n",
       "    .dataframe tbody tr th {\n",
       "        vertical-align: top;\n",
       "    }\n",
       "\n",
       "    .dataframe thead th {\n",
       "        text-align: right;\n",
       "    }\n",
       "</style>\n",
       "<table border=\"1\" class=\"dataframe\">\n",
       "  <thead>\n",
       "    <tr style=\"text-align: right;\">\n",
       "      <th></th>\n",
       "      <th>tree_cover</th>\n",
       "      <th>mean_income</th>\n",
       "    </tr>\n",
       "  </thead>\n",
       "  <tbody>\n",
       "    <tr>\n",
       "      <th>11013</th>\n",
       "      <td>0.158259</td>\n",
       "      <td>40951</td>\n",
       "    </tr>\n",
       "    <tr>\n",
       "      <th>18997</th>\n",
       "      <td>0.013488</td>\n",
       "      <td>51502</td>\n",
       "    </tr>\n",
       "    <tr>\n",
       "      <th>8786</th>\n",
       "      <td>0.052844</td>\n",
       "      <td>28454</td>\n",
       "    </tr>\n",
       "  </tbody>\n",
       "</table>\n",
       "</div>"
      ],
      "text/plain": [
       "       tree_cover  mean_income\n",
       "11013    0.158259        40951\n",
       "18997    0.013488        51502\n",
       "8786     0.052844        28454"
      ]
     },
     "execution_count": 8,
     "metadata": {},
     "output_type": "execute_result"
    }
   ],
   "source": [
    "y = trees.mean_summer_temp.values\n",
    "x_df = trees[['tree_cover', 'mean_income']]\n",
    "x_df.head(3)"
   ]
  },
  {
   "cell_type": "markdown",
   "metadata": {
    "slideshow": {
     "slide_type": "subslide"
    },
    "tags": []
   },
   "source": [
    "## Explanatory variable matrix\n",
    "\n",
    "We'll need to create an explanatory variable matrix of the form:\n",
    "\n",
    "$$\\mathbf{X} = \\left[\\begin{array}{ccc}\n",
    "    1 &\\text{cover}_1 &\\text{income}_1 \\\\\n",
    "    1 &\\text{cover}_2 &\\text{income}_2 \\\\\n",
    "    \\vdots &\\vdots &\\vdots \\\\\n",
    "    1 &\\text{cover}_{1998} &\\text{income}_{1998} \n",
    "    \\end{array}\\right]$$"
   ]
  },
  {
   "cell_type": "markdown",
   "metadata": {
    "slideshow": {
     "slide_type": "fragment"
    },
    "tags": []
   },
   "source": [
    "So we just need to add a column of ones to `x_df`:"
   ]
  },
  {
   "cell_type": "code",
   "execution_count": 9,
   "metadata": {},
   "outputs": [
    {
     "data": {
      "text/plain": [
       "array([[1.00000000e+00, 1.58258747e-01, 4.09510000e+04],\n",
       "       [1.00000000e+00, 1.34878570e-02, 5.15020000e+04],\n",
       "       [1.00000000e+00, 5.28437900e-02, 2.84540000e+04]])"
      ]
     },
     "execution_count": 9,
     "metadata": {},
     "output_type": "execute_result"
    }
   ],
   "source": [
    "# add column of ones (for intercept)\n",
    "x_mx = add_dummy_feature(x_df, value = 1)\n",
    "\n",
    "# preview\n",
    "x_mx[0:3]"
   ]
  },
  {
   "cell_type": "markdown",
   "metadata": {
    "slideshow": {
     "slide_type": "subslide"
    },
    "tags": []
   },
   "source": [
    "## Model fitting\n",
    "\n",
    "Since we've added an intercept column, the fitting module should be configured **not** to fit an intercept separately."
   ]
  },
  {
   "cell_type": "code",
   "execution_count": 10,
   "metadata": {},
   "outputs": [
    {
     "data": {
      "text/plain": [
       "array([ 3.65559763e+01, -3.14810456e+00, -5.02075353e-05])"
      ]
     },
     "execution_count": 10,
     "metadata": {},
     "output_type": "execute_result"
    }
   ],
   "source": [
    "# fit first model\n",
    "mlr = lm.LinearRegression(fit_intercept = False)\n",
    "mlr.fit(x_mx, y)\n",
    "mlr.coef_"
   ]
  },
  {
   "cell_type": "markdown",
   "metadata": {
    "slideshow": {
     "slide_type": "subslide"
    },
    "tags": []
   },
   "source": [
    "## Error variance estimate\n",
    "\n",
    "Next we'll calclulate $\\hat{\\sigma}^2$. For this we need the fitted values:\n",
    "\n",
    "$$\\hat{\\mathbf{y}} = \\mathbf{X}\\hat{\\beta}$$"
   ]
  },
  {
   "cell_type": "markdown",
   "metadata": {
    "slideshow": {
     "slide_type": "fragment"
    },
    "tags": []
   },
   "source": [
    "And residuals:\n",
    "\n",
    "$$\\mathbf{e} = \\left(\\mathbf{y} - \\mathbf{X}\\hat{\\beta}\\right) = \\mathbf{y} - \\hat{\\mathbf{y}}$$"
   ]
  },
  {
   "cell_type": "code",
   "execution_count": 11,
   "metadata": {
    "slideshow": {
     "slide_type": "fragment"
    },
    "tags": []
   },
   "outputs": [],
   "source": [
    "# fitted values and residuals\n",
    "fitted = mlr.predict(x_mx)\n",
    "resid = y - fitted"
   ]
  },
  {
   "cell_type": "markdown",
   "metadata": {
    "slideshow": {
     "slide_type": "fragment"
    },
    "tags": []
   },
   "source": [
    "Then the error variance estimate is:\n",
    "\n",
    "$$\\hat{\\sigma}^2 \n",
    "= \\frac{1}{n - p}\\left(\\mathbf{y} - \\mathbf{X}\\hat{\\beta}\\right)'\\left(\\mathbf{y} - \\mathbf{X}\\hat{\\beta}\\right)\n",
    "= \\frac{1}{n - p}\\mathbf{e'e}\n",
    "= \\frac{n - 1}{n - p}S^2_e$$"
   ]
  },
  {
   "cell_type": "code",
   "execution_count": 12,
   "metadata": {
    "slideshow": {
     "slide_type": "fragment"
    },
    "tags": []
   },
   "outputs": [
    {
     "data": {
      "text/plain": [
       "2.729420783462529"
      ]
     },
     "execution_count": 12,
     "metadata": {},
     "output_type": "execute_result"
    }
   ],
   "source": [
    "# error variance estimate\n",
    "n, p = x_mx.shape\n",
    "sigmasqhat = resid.var()*(n - 1)/(n - p)\n",
    "sigmasqhat"
   ]
  },
  {
   "cell_type": "markdown",
   "metadata": {
    "slideshow": {
     "slide_type": "subslide"
    },
    "tags": []
   },
   "source": [
    "## Uncertainty quantification\n",
    "\n",
    "Lastly, we'll compute the coefficient estimate standard errors:\n",
    "\n",
    "$$\\sqrt{\\hat{v}_{jj}} \\quad\\text{from}\\quad \\hat{\\mathbf{V}} = \\hat{\\sigma}^2\\left(\\mathbf{X'X}\\right)^{-1}$$"
   ]
  },
  {
   "cell_type": "code",
   "execution_count": 13,
   "metadata": {
    "slideshow": {
     "slide_type": "fragment"
    },
    "tags": []
   },
   "outputs": [
    {
     "data": {
      "text/plain": [
       "array([[ 6.72240283e-03, -6.63125605e-03, -1.25915361e-07],\n",
       "       [-6.63125605e-03,  2.23049324e-01, -2.70769667e-07],\n",
       "       [-1.25915361e-07, -2.70769667e-07,  3.80729809e-12]])"
      ]
     },
     "execution_count": 13,
     "metadata": {},
     "output_type": "execute_result"
    }
   ],
   "source": [
    "xtx = x_mx.transpose().dot(x_mx) # X'X\n",
    "xtxinv = np.linalg.inv(xtx) # (X'X)^{-1}\n",
    "vhat = sigmasqhat*xtxinv # V\n",
    "vhat"
   ]
  },
  {
   "cell_type": "code",
   "execution_count": 14,
   "metadata": {
    "slideshow": {
     "slide_type": "fragment"
    },
    "tags": []
   },
   "outputs": [
    {
     "data": {
      "text/plain": [
       "array([8.19902606e-02, 4.72280980e-01, 1.95122989e-06])"
      ]
     },
     "execution_count": 14,
     "metadata": {},
     "output_type": "execute_result"
    }
   ],
   "source": [
    "coef_se = np.sqrt(vhat.diagonal()) # (v_jj)^{1/2}\n",
    "coef_se"
   ]
  },
  {
   "cell_type": "markdown",
   "metadata": {
    "slideshow": {
     "slide_type": "subslide"
    },
    "tags": []
   },
   "source": [
    "## Quality of fit: $R^2$\n",
    "\n",
    "There are many metrics that measure fit quality. The most common is the **proportion of variation explained by the model**, which is _**denoted by $R^2$**_:\n",
    "\n",
    "$$R^2 \n",
    "    = \\frac{\\text{reduction in variation}}{\\text{total variation}}\n",
    "    = \\frac{\\mathbf{\\tilde{y}'\\tilde{y}} - \\mathbf{e'e}}{\\mathbf{\\tilde{y}'\\tilde{y}}} \n",
    "    \\qquad \\text{where} \\qquad\n",
    "    \\mathbf{\\tilde{y}} = \\mathbf{y} - \\bar{\\mathbf{y}}$$"
   ]
  },
  {
   "cell_type": "code",
   "execution_count": 15,
   "metadata": {
    "slideshow": {
     "slide_type": "fragment"
    },
    "tags": []
   },
   "outputs": [
    {
     "data": {
      "text/plain": [
       "0.30684982283103096"
      ]
     },
     "execution_count": 15,
     "metadata": {},
     "output_type": "execute_result"
    }
   ],
   "source": [
    "# 'by hand'\n",
    "y_ctr = y - y.mean()\n",
    "(y_ctr.transpose().dot(y_ctr) - resid.transpose().dot(resid))/(y_ctr.transpose().dot(y_ctr))"
   ]
  },
  {
   "cell_type": "code",
   "execution_count": 16,
   "metadata": {
    "slideshow": {
     "slide_type": "fragment"
    },
    "tags": []
   },
   "outputs": [
    {
     "data": {
      "text/plain": [
       "0.3068498228310309"
      ]
     },
     "execution_count": 16,
     "metadata": {},
     "output_type": "execute_result"
    }
   ],
   "source": [
    "# using sklearn.metrics.r2_score\n",
    "r2_score(y, fitted)"
   ]
  },
  {
   "cell_type": "markdown",
   "metadata": {
    "slideshow": {
     "slide_type": "fragment"
    },
    "tags": []
   },
   "source": [
    "**Interpretation**: 30% of variation in mean summer temperature is explained by tree cover and income."
   ]
  },
  {
   "cell_type": "markdown",
   "metadata": {
    "slideshow": {
     "slide_type": "subslide"
    },
    "tags": []
   },
   "source": [
    "## Reporting model fit\n",
    "\n",
    "Now we've computed relevant quantities -- estimates and standard errors -- but we have yet to report these in an organized fashion. \n",
    "\n",
    "Typically, these are displayed in a table."
   ]
  },
  {
   "cell_type": "code",
   "execution_count": 17,
   "metadata": {
    "slideshow": {
     "slide_type": "fragment"
    },
    "tags": []
   },
   "outputs": [
    {
     "data": {
      "text/html": [
       "<div>\n",
       "<style scoped>\n",
       "    .dataframe tbody tr th:only-of-type {\n",
       "        vertical-align: middle;\n",
       "    }\n",
       "\n",
       "    .dataframe tbody tr th {\n",
       "        vertical-align: top;\n",
       "    }\n",
       "\n",
       "    .dataframe thead th {\n",
       "        text-align: right;\n",
       "    }\n",
       "</style>\n",
       "<table border=\"1\" class=\"dataframe\">\n",
       "  <thead>\n",
       "    <tr style=\"text-align: right;\">\n",
       "      <th></th>\n",
       "      <th>estimate</th>\n",
       "      <th>standard error</th>\n",
       "    </tr>\n",
       "  </thead>\n",
       "  <tbody>\n",
       "    <tr>\n",
       "      <th>interept</th>\n",
       "      <td>36.555976</td>\n",
       "      <td>0.081990</td>\n",
       "    </tr>\n",
       "    <tr>\n",
       "      <th>cover</th>\n",
       "      <td>-3.148105</td>\n",
       "      <td>0.472281</td>\n",
       "    </tr>\n",
       "    <tr>\n",
       "      <th>income</th>\n",
       "      <td>-0.000050</td>\n",
       "      <td>0.000002</td>\n",
       "    </tr>\n",
       "    <tr>\n",
       "      <th>error variance</th>\n",
       "      <td>2.729421</td>\n",
       "      <td>NaN</td>\n",
       "    </tr>\n",
       "  </tbody>\n",
       "</table>\n",
       "</div>"
      ],
      "text/plain": [
       "                 estimate  standard error\n",
       "interept        36.555976        0.081990\n",
       "cover           -3.148105        0.472281\n",
       "income          -0.000050        0.000002\n",
       "error variance   2.729421             NaN"
      ]
     },
     "execution_count": 17,
     "metadata": {},
     "output_type": "execute_result"
    }
   ],
   "source": [
    "mlr_summary = pd.DataFrame(\n",
    "    {'estimate': np.append(mlr.coef_, sigmasqhat), \n",
    "     'standard error': np.append(coef_se, float('nan'))},\n",
    "    index = ['interept', 'cover', 'income', 'error variance']\n",
    ")\n",
    "\n",
    "mlr_summary"
   ]
  },
  {
   "cell_type": "markdown",
   "metadata": {
    "slideshow": {
     "slide_type": "fragment"
    },
    "tags": []
   },
   "source": [
    "Along with $R^2$:"
   ]
  },
  {
   "cell_type": "code",
   "execution_count": 18,
   "metadata": {},
   "outputs": [
    {
     "data": {
      "text/plain": [
       "0.3068498228310309"
      ]
     },
     "execution_count": 18,
     "metadata": {},
     "output_type": "execute_result"
    }
   ],
   "source": [
    "r2_score(y, fitted)"
   ]
  },
  {
   "cell_type": "markdown",
   "metadata": {
    "slideshow": {
     "slide_type": "subslide"
    },
    "tags": []
   },
   "source": [
    "## Visualization\n",
    "\n",
    "Here are trend lines and error bands for three values of income (10th, 50th, and 90th percentiles).\n",
    "\n",
    "<img src = 'figures/fig2-modelviz.png' style = 'width:700px'>\n",
    "\n",
    "The error bands represent the variation of the lines -- how much they might change if we sampled different census blocks. (**Not** the variation of temperatures.)"
   ]
  },
  {
   "cell_type": "code",
   "execution_count": 19,
   "metadata": {
    "slideshow": {
     "slide_type": "skip"
    },
    "tags": []
   },
   "outputs": [],
   "source": [
    "# make univariate grids\n",
    "tree_grid = np.linspace(trees.tree_cover.min(), trees.tree_cover.max(), 100)\n",
    "income_grid = trees.mean_income.quantile([0.1, 0.5, 0.9]).values\n",
    "\n",
    "# make mesh grid -- all combinations of univariate grid values\n",
    "tx, ix = np.meshgrid(tree_grid, income_grid)\n",
    "x_grid_mx = np.vstack([np.repeat(1, 300), tx.reshape(300), ix.reshape(300)]).transpose()\n",
    "grid_df = pd.DataFrame(x_grid_mx, columns = ['intercept', 'tree_cover', 'mean_income'])\n",
    "\n",
    "# add predictions and standard errors\n",
    "grid_df['mean_summer_temp'] = mlr.predict(x_grid_mx)\n",
    "grid_df['fit_se'] = np.sqrt(sigmasqhat*(x_grid_mx.dot(xtxinv).dot(x_grid_mx.transpose()).diagonal()))\n",
    "\n",
    "# base layer\n",
    "base = alt.Chart(grid_df).encode(\n",
    "    x = alt.X('tree_cover',  scale = alt.Scale(type = 'pow', exponent = 1/2, zero = False)),\n",
    "    color = alt.Color('mean_income', scale = alt.Scale(scheme = 'orangered', reverse = True, type = 'log'))\n",
    ")\n",
    "\n",
    "# regression lines\n",
    "lines = base.mark_line().encode(\n",
    "    y = alt.Y('mean_summer_temp', scale = alt.Scale(zero = False))\n",
    ")\n",
    "\n",
    "# uncertainty bands\n",
    "bands = base.transform_calculate(\n",
    "    upr = 'datum.mean_summer_temp + 2*datum.fit_se',\n",
    "    lwr = 'datum.mean_summer_temp - 2*datum.fit_se'\n",
    ").mark_errorband(opacity = 0.3).encode(\n",
    "    y = alt.Y('lwr:Q', title = 'mean_summer_temp'),\n",
    "    y2 = 'upr:Q'\n",
    ")\n",
    "\n",
    "# model visualization\n",
    "fig2 = fig1.mark_point(opacity = 0.2) + bands + lines\n",
    "\n",
    "# fig2.properties(width = 800, height = 500)"
   ]
  },
  {
   "cell_type": "markdown",
   "metadata": {
    "slideshow": {
     "slide_type": "subslide"
    },
    "tags": []
   },
   "source": [
    "## Interpretation\n",
    "\n",
    "So what have we learned from this exercise?"
   ]
  },
  {
   "cell_type": "code",
   "execution_count": 20,
   "metadata": {
    "slideshow": {
     "slide_type": "fragment"
    },
    "tags": []
   },
   "outputs": [
    {
     "data": {
      "text/html": [
       "<div>\n",
       "<style scoped>\n",
       "    .dataframe tbody tr th:only-of-type {\n",
       "        vertical-align: middle;\n",
       "    }\n",
       "\n",
       "    .dataframe tbody tr th {\n",
       "        vertical-align: top;\n",
       "    }\n",
       "\n",
       "    .dataframe thead th {\n",
       "        text-align: right;\n",
       "    }\n",
       "</style>\n",
       "<table border=\"1\" class=\"dataframe\">\n",
       "  <thead>\n",
       "    <tr style=\"text-align: right;\">\n",
       "      <th></th>\n",
       "      <th>estimate</th>\n",
       "      <th>standard error</th>\n",
       "    </tr>\n",
       "  </thead>\n",
       "  <tbody>\n",
       "    <tr>\n",
       "      <th>interept</th>\n",
       "      <td>36.555976</td>\n",
       "      <td>0.081990</td>\n",
       "    </tr>\n",
       "    <tr>\n",
       "      <th>cover</th>\n",
       "      <td>-3.148105</td>\n",
       "      <td>0.472281</td>\n",
       "    </tr>\n",
       "    <tr>\n",
       "      <th>income</th>\n",
       "      <td>-0.000050</td>\n",
       "      <td>0.000002</td>\n",
       "    </tr>\n",
       "    <tr>\n",
       "      <th>error variance</th>\n",
       "      <td>2.729421</td>\n",
       "      <td>NaN</td>\n",
       "    </tr>\n",
       "  </tbody>\n",
       "</table>\n",
       "</div>"
      ],
      "text/plain": [
       "                 estimate  standard error\n",
       "interept        36.555976        0.081990\n",
       "cover           -3.148105        0.472281\n",
       "income          -0.000050        0.000002\n",
       "error variance   2.729421             NaN"
      ]
     },
     "execution_count": 20,
     "metadata": {},
     "output_type": "execute_result"
    }
   ],
   "source": [
    "mlr_summary"
   ]
  },
  {
   "cell_type": "markdown",
   "metadata": {
    "slideshow": {
     "slide_type": "fragment"
    },
    "tags": []
   },
   "source": [
    "* Among census blocks in San Diego, a 1% increase in tree canopy cover is associated with a decrease in average summer temperatures of 3.15 degrees Celsius, after accounting for mean income of the census block."
   ]
  },
  {
   "cell_type": "markdown",
   "metadata": {
    "slideshow": {
     "slide_type": "fragment"
    },
    "tags": []
   },
   "source": [
    "* Among census blocks in San Diego, a $10K increase in mean income is associated with a decrease in average summer temperatures of 0.5 degrees Celsius, after accounting for tree canopy cover."
   ]
  },
  {
   "cell_type": "markdown",
   "metadata": {
    "slideshow": {
     "slide_type": "fragment"
    },
    "tags": []
   },
   "source": [
    "* There's still lots of unexplained local variation in average summer temperatures; low $R^2$."
   ]
  },
  {
   "cell_type": "markdown",
   "metadata": {
    "slideshow": {
     "slide_type": "subslide"
    },
    "tags": []
   },
   "source": [
    "## Explaining associations\n",
    "\n",
    "There are various mechanisms by which tree canopy reduces temperatures: providing shade; improving air quality. But what explains the weaker association between income and temperature?"
   ]
  },
  {
   "cell_type": "markdown",
   "metadata": {
    "slideshow": {
     "slide_type": "fragment"
    },
    "tags": []
   },
   "source": [
    "Well, one possibility is that property values are higher near the ocean.\n",
    "\n",
    "<img src = 'figures/sd-income-temp-map.png' style = 'width:600px'>"
   ]
  },
  {
   "cell_type": "markdown",
   "metadata": {
    "slideshow": {
     "slide_type": "fragment"
    },
    "tags": []
   },
   "source": [
    "So income may simply be a proxy for distance to the ocean; and temperatures are cooler near the ocean. This is an excellent example of **confounding**!"
   ]
  },
  {
   "cell_type": "markdown",
   "metadata": {
    "slideshow": {
     "slide_type": "subslide"
    },
    "tags": []
   },
   "source": [
    "## Confounding\n",
    "\n",
    "In statistical jargon, we'd say that proximity to the ocean is a *confounding factor*: "
   ]
  },
  {
   "cell_type": "markdown",
   "metadata": {
    "slideshow": {
     "slide_type": "fragment"
    },
    "tags": []
   },
   "source": [
    "* it is correlated with higher incomes (the explanatory variable);"
   ]
  },
  {
   "cell_type": "markdown",
   "metadata": {
    "slideshow": {
     "slide_type": "fragment"
    },
    "tags": []
   },
   "source": [
    "* it is also correlated with lower temperatures (the response);"
   ]
  },
  {
   "cell_type": "markdown",
   "metadata": {
    "slideshow": {
     "slide_type": "fragment"
    },
    "tags": []
   },
   "source": [
    "* and so it 'explains away' the apparent association."
   ]
  },
  {
   "cell_type": "markdown",
   "metadata": {
    "slideshow": {
     "slide_type": "fragment"
    },
    "tags": []
   },
   "source": [
    "<img src = 'figures/confounding.svg' style = 'width:500px'>"
   ]
  },
  {
   "cell_type": "markdown",
   "metadata": {
    "slideshow": {
     "slide_type": "fragment"
    },
    "tags": []
   },
   "source": [
    "This kind of phenomenon only affects interpretation; *we should still keep income in the model*."
   ]
  },
  {
   "cell_type": "markdown",
   "metadata": {
    "slideshow": {
     "slide_type": "subslide"
    },
    "tags": []
   },
   "source": [
    "## MLR with categorical variables\n",
    "\n",
    "What if we also incorporated the population density factor (a categorical variable)?"
   ]
  },
  {
   "cell_type": "code",
   "execution_count": 21,
   "metadata": {},
   "outputs": [
    {
     "data": {
      "text/html": [
       "<div>\n",
       "<style scoped>\n",
       "    .dataframe tbody tr th:only-of-type {\n",
       "        vertical-align: middle;\n",
       "    }\n",
       "\n",
       "    .dataframe tbody tr th {\n",
       "        vertical-align: top;\n",
       "    }\n",
       "\n",
       "    .dataframe thead th {\n",
       "        text-align: right;\n",
       "    }\n",
       "</style>\n",
       "<table border=\"1\" class=\"dataframe\">\n",
       "  <thead>\n",
       "    <tr style=\"text-align: right;\">\n",
       "      <th></th>\n",
       "      <th>Name</th>\n",
       "      <th>census_block_GEOID</th>\n",
       "      <th>tree_cover</th>\n",
       "      <th>mean_summer_temp</th>\n",
       "      <th>mean_income</th>\n",
       "      <th>income_level</th>\n",
       "      <th>pop_density</th>\n",
       "    </tr>\n",
       "  </thead>\n",
       "  <tbody>\n",
       "    <tr>\n",
       "      <th>11013</th>\n",
       "      <td>San Diego, CA</td>\n",
       "      <td>6.073010e+13</td>\n",
       "      <td>0.158259</td>\n",
       "      <td>31.986364</td>\n",
       "      <td>40951</td>\n",
       "      <td>medium</td>\n",
       "      <td>high</td>\n",
       "    </tr>\n",
       "    <tr>\n",
       "      <th>18997</th>\n",
       "      <td>San Diego, CA</td>\n",
       "      <td>6.073020e+13</td>\n",
       "      <td>0.013488</td>\n",
       "      <td>34.068851</td>\n",
       "      <td>51502</td>\n",
       "      <td>high</td>\n",
       "      <td>very low</td>\n",
       "    </tr>\n",
       "    <tr>\n",
       "      <th>8786</th>\n",
       "      <td>San Diego, CA</td>\n",
       "      <td>6.073010e+13</td>\n",
       "      <td>0.052844</td>\n",
       "      <td>37.098611</td>\n",
       "      <td>28454</td>\n",
       "      <td>low</td>\n",
       "      <td>low</td>\n",
       "    </tr>\n",
       "    <tr>\n",
       "      <th>11163</th>\n",
       "      <td>San Diego, CA</td>\n",
       "      <td>6.073000e+13</td>\n",
       "      <td>0.217973</td>\n",
       "      <td>33.213636</td>\n",
       "      <td>40229</td>\n",
       "      <td>medium</td>\n",
       "      <td>medium</td>\n",
       "    </tr>\n",
       "  </tbody>\n",
       "</table>\n",
       "</div>"
      ],
      "text/plain": [
       "                Name  census_block_GEOID  tree_cover  mean_summer_temp  \\\n",
       "11013  San Diego, CA        6.073010e+13    0.158259         31.986364   \n",
       "18997  San Diego, CA        6.073020e+13    0.013488         34.068851   \n",
       "8786   San Diego, CA        6.073010e+13    0.052844         37.098611   \n",
       "11163  San Diego, CA        6.073000e+13    0.217973         33.213636   \n",
       "\n",
       "       mean_income income_level pop_density  \n",
       "11013        40951       medium        high  \n",
       "18997        51502         high    very low  \n",
       "8786         28454          low         low  \n",
       "11163        40229       medium      medium  "
      ]
     },
     "execution_count": 21,
     "metadata": {},
     "output_type": "execute_result"
    }
   ],
   "source": [
    "trees.head(4)"
   ]
  },
  {
   "cell_type": "markdown",
   "metadata": {
    "slideshow": {
     "slide_type": "fragment"
    },
    "tags": []
   },
   "source": [
    "Well, it might be natural to think we could just append this column as another variable $x_{i3}$:\n",
    "\n",
    "$$\\underbrace{\\text{temp}_i}_{y_i} \n",
    "    = \\beta_0 + \n",
    "        \\beta_1 \\underbrace{\\text{cover}_i}_{x_{i1}} + \n",
    "        \\beta_2 \\underbrace{\\text{income}_i}_{x_{i2}} + \n",
    "        \\beta_3 \\underbrace{\\text{density}_i}_{x_{i3}} + \\epsilon_i \n",
    "    \\qquad i = 1, \\dots, 1998$$ \n",
    "    "
   ]
  },
  {
   "cell_type": "markdown",
   "metadata": {
    "slideshow": {
     "slide_type": "fragment"
    },
    "tags": []
   },
   "source": [
    "But this doesn't quite make sense, because the *values* of $\\text{density}_i$ would be *words*! So...\n",
    "\n",
    "$$\\beta_3 \\times \\text{low} = \\; ?$$"
   ]
  },
  {
   "cell_type": "markdown",
   "metadata": {
    "slideshow": {
     "slide_type": "fragment"
    },
    "tags": []
   },
   "source": [
    "So we'll need to represent the categorical variable differently to include it in the model."
   ]
  },
  {
   "cell_type": "markdown",
   "metadata": {
    "slideshow": {
     "slide_type": "subslide"
    },
    "tags": []
   },
   "source": [
    "## Indicator variable encoding\n",
    "\n",
    "The solution to this issue is to **encode each level** of the categorical variable using an _**indicator**_: a function whose value is zero or one to indicate a condition. "
   ]
  },
  {
   "cell_type": "markdown",
   "metadata": {
    "slideshow": {
     "slide_type": "fragment"
    },
    "tags": []
   },
   "source": [
    "If we want to indicate whether a census block is of low population density, we can use the indicator:\n",
    "\n",
    "$$I(\\text{density $=$ low}) = \\begin{cases} 1 \\text{ if population density is low} \\\\ 0 \\text{ otherwise}\\end{cases}$$"
   ]
  },
  {
   "cell_type": "markdown",
   "metadata": {
    "slideshow": {
     "slide_type": "fragment"
    },
    "tags": []
   },
   "source": [
    "We can encode the levels of `pop_density` using a collection of indicators:"
   ]
  },
  {
   "cell_type": "code",
   "execution_count": 22,
   "metadata": {},
   "outputs": [
    {
     "data": {
      "text/html": [
       "<div>\n",
       "<style scoped>\n",
       "    .dataframe tbody tr th:only-of-type {\n",
       "        vertical-align: middle;\n",
       "    }\n",
       "\n",
       "    .dataframe tbody tr th {\n",
       "        vertical-align: top;\n",
       "    }\n",
       "\n",
       "    .dataframe thead th {\n",
       "        text-align: right;\n",
       "    }\n",
       "</style>\n",
       "<table border=\"1\" class=\"dataframe\">\n",
       "  <thead>\n",
       "    <tr style=\"text-align: right;\">\n",
       "      <th></th>\n",
       "      <th>pop_density</th>\n",
       "      <th>low</th>\n",
       "      <th>medium</th>\n",
       "      <th>high</th>\n",
       "    </tr>\n",
       "  </thead>\n",
       "  <tbody>\n",
       "    <tr>\n",
       "      <th>11013</th>\n",
       "      <td>high</td>\n",
       "      <td>0</td>\n",
       "      <td>0</td>\n",
       "      <td>1</td>\n",
       "    </tr>\n",
       "    <tr>\n",
       "      <th>18997</th>\n",
       "      <td>very low</td>\n",
       "      <td>0</td>\n",
       "      <td>0</td>\n",
       "      <td>0</td>\n",
       "    </tr>\n",
       "    <tr>\n",
       "      <th>8786</th>\n",
       "      <td>low</td>\n",
       "      <td>1</td>\n",
       "      <td>0</td>\n",
       "      <td>0</td>\n",
       "    </tr>\n",
       "    <tr>\n",
       "      <th>11163</th>\n",
       "      <td>medium</td>\n",
       "      <td>0</td>\n",
       "      <td>1</td>\n",
       "      <td>0</td>\n",
       "    </tr>\n",
       "  </tbody>\n",
       "</table>\n",
       "</div>"
      ],
      "text/plain": [
       "      pop_density  low  medium  high\n",
       "11013        high    0       0     1\n",
       "18997    very low    0       0     0\n",
       "8786          low    1       0     0\n",
       "11163      medium    0       1     0"
      ]
     },
     "execution_count": 22,
     "metadata": {},
     "output_type": "execute_result"
    }
   ],
   "source": [
    "density_encoded = pd.get_dummies(trees.pop_density, drop_first = True)\n",
    "pd.concat([trees[['pop_density']], density_encoded], axis = 1).head(4)"
   ]
  },
  {
   "cell_type": "markdown",
   "metadata": {
    "slideshow": {
     "slide_type": "fragment"
    },
    "tags": []
   },
   "source": [
    "This captures all the information about the categorical variable in quantitative terms."
   ]
  },
  {
   "cell_type": "markdown",
   "metadata": {
    "slideshow": {
     "slide_type": "subslide"
    },
    "tags": []
   },
   "source": [
    "## The MLR model with indicators\n",
    "\n",
    "The model with the encoded population density variable is:\n",
    "\n",
    "$$\\underbrace{\\text{temp}_i}_{y_i} \n",
    "    = \\beta_0 + \n",
    "        \\beta_1 \\underbrace{\\text{cover}_i}_{x_{i1}} + \n",
    "        \\beta_2 \\underbrace{\\text{income}_i}_{x_{i2}} + \n",
    "        \\beta_3 \\underbrace{\\text{low}_i}_{x_{i3}} + \n",
    "        \\beta_4 \\underbrace{\\text{med}_i}_{x_{i4}} + \n",
    "        \\beta_5 \\underbrace{\\text{high}_i}_{x_{i5}} + \n",
    "        \\epsilon_i \n",
    "    \\qquad i = 1, \\dots, 1998$$ \n",
    "    "
   ]
  },
  {
   "cell_type": "markdown",
   "metadata": {
    "slideshow": {
     "slide_type": "fragment"
    },
    "tags": []
   },
   "source": [
    "The *effect* of doing this is to allow the model to have different intercepts for each population density group.\n",
    "\n",
    "$$\\text{density $=$ very low} \n",
    "    \\quad\\Longrightarrow\\quad \n",
    "    \\mathbb{E}\\text{temp}_i \n",
    "        = \\underbrace{\\beta_0}_\\text{intercept} + \\beta_1\\text{cover}_i + \\beta_2\\text{income}_i \\\\\n",
    "  \\text{density $=$ low} \n",
    "    \\quad\\Longrightarrow\\quad \n",
    "    \\mathbb{E}\\text{temp}_i \n",
    "        = \\underbrace{\\beta_0 + \\beta_3}_\\text{intercept} + \\beta_1\\text{cover}_i + \\beta_2\\text{income}_i \\\\\n",
    "  \\text{density $=$ med} \n",
    "    \\quad\\Longrightarrow\\quad \n",
    "    \\mathbb{E}\\text{temp}_i \n",
    "        = \\underbrace{\\beta_0 + \\beta_4}_\\text{intercept} + \\beta_1\\text{cover}_i + \\beta_2\\text{income}_i \\\\\n",
    "  \\text{density $=$ high} \n",
    "    \\quad\\Longrightarrow\\quad \n",
    "    \\mathbb{E}\\text{temp}_i \n",
    "        = \\underbrace{\\beta_0 + \\beta_5}_\\text{intercept} + \\beta_1\\text{cover}_i + \\beta_2\\text{income}_i$$"
   ]
  },
  {
   "cell_type": "markdown",
   "metadata": {
    "slideshow": {
     "slide_type": "subslide"
    },
    "tags": []
   },
   "source": [
    "## In matrix form\n",
    "\n",
    "The explanatory variable matrix $\\mathbf{X}$ for this full model ('full' because it includes all variables) will be of the form:\n",
    "\n",
    "$$\\mathbf{X} = \\left[\\begin{array}{c:ccccc}\n",
    "    1 &\\text{cover}_{1} &\\text{income}_{1} &\\text{low}_1 &\\text{med}_1 &\\text{high}_1 \\\\\n",
    "    1 &\\text{cover}_{2} &\\text{income}_{2} &\\text{low}_2 &\\text{med}_2 &\\text{high}_2 \\\\\n",
    "    \\vdots &\\vdots &\\vdots &\\vdots &\\vdots &\\vdots \\\\\n",
    "    1 &\\text{cover}_{1998} &\\text{income}_{1998} &\\text{low}_{1998} &\\text{med}_{1998} &\\text{high}_{1998} \n",
    "    \\end{array}\\right]$$"
   ]
  },
  {
   "cell_type": "markdown",
   "metadata": {
    "slideshow": {
     "slide_type": "fragment"
    },
    "tags": []
   },
   "source": [
    "Here's everything to the right of the dashed partition:"
   ]
  },
  {
   "cell_type": "code",
   "execution_count": 23,
   "metadata": {},
   "outputs": [
    {
     "data": {
      "text/html": [
       "<div>\n",
       "<style scoped>\n",
       "    .dataframe tbody tr th:only-of-type {\n",
       "        vertical-align: middle;\n",
       "    }\n",
       "\n",
       "    .dataframe tbody tr th {\n",
       "        vertical-align: top;\n",
       "    }\n",
       "\n",
       "    .dataframe thead th {\n",
       "        text-align: right;\n",
       "    }\n",
       "</style>\n",
       "<table border=\"1\" class=\"dataframe\">\n",
       "  <thead>\n",
       "    <tr style=\"text-align: right;\">\n",
       "      <th></th>\n",
       "      <th>tree_cover</th>\n",
       "      <th>mean_income</th>\n",
       "      <th>low</th>\n",
       "      <th>medium</th>\n",
       "      <th>high</th>\n",
       "    </tr>\n",
       "  </thead>\n",
       "  <tbody>\n",
       "    <tr>\n",
       "      <th>11013</th>\n",
       "      <td>0.158259</td>\n",
       "      <td>40951</td>\n",
       "      <td>0</td>\n",
       "      <td>0</td>\n",
       "      <td>1</td>\n",
       "    </tr>\n",
       "    <tr>\n",
       "      <th>18997</th>\n",
       "      <td>0.013488</td>\n",
       "      <td>51502</td>\n",
       "      <td>0</td>\n",
       "      <td>0</td>\n",
       "      <td>0</td>\n",
       "    </tr>\n",
       "    <tr>\n",
       "      <th>8786</th>\n",
       "      <td>0.052844</td>\n",
       "      <td>28454</td>\n",
       "      <td>1</td>\n",
       "      <td>0</td>\n",
       "      <td>0</td>\n",
       "    </tr>\n",
       "    <tr>\n",
       "      <th>11163</th>\n",
       "      <td>0.217973</td>\n",
       "      <td>40229</td>\n",
       "      <td>0</td>\n",
       "      <td>1</td>\n",
       "      <td>0</td>\n",
       "    </tr>\n",
       "  </tbody>\n",
       "</table>\n",
       "</div>"
      ],
      "text/plain": [
       "       tree_cover  mean_income  low  medium  high\n",
       "11013    0.158259        40951    0       0     1\n",
       "18997    0.013488        51502    0       0     0\n",
       "8786     0.052844        28454    1       0     0\n",
       "11163    0.217973        40229    0       1     0"
      ]
     },
     "execution_count": 23,
     "metadata": {},
     "output_type": "execute_result"
    }
   ],
   "source": [
    "x_full_df = pd.concat([x_df, density_encoded], axis = 1)\n",
    "x_full_df.head(4)"
   ]
  },
  {
   "cell_type": "markdown",
   "metadata": {
    "slideshow": {
     "slide_type": "subslide"
    },
    "tags": []
   },
   "source": [
    "## Fit summary\n",
    "\n",
    "The remaining calculations are all the same as before. (You can see the source code for these slides if you're interested in reviewing the details.)\n",
    "\n",
    "Here is the model fit summary:"
   ]
  },
  {
   "cell_type": "code",
   "execution_count": 24,
   "metadata": {
    "slideshow": {
     "slide_type": "skip"
    },
    "tags": []
   },
   "outputs": [],
   "source": [
    "# fit model\n",
    "x_full_mx = add_dummy_feature(x_full_df)\n",
    "mlr_full = lm.LinearRegression(fit_intercept = False)\n",
    "mlr_full.fit(x_full_mx, y)\n",
    "\n",
    "# store dimensions of explanatory variable matrix\n",
    "n, p_full = x_full_mx.shape\n",
    "\n",
    "# compute residual variance\n",
    "sigmasqhat_full = ((n - 1)/(n - p_full)) * (y - mlr_full.predict(x_full_mx)).var()\n",
    "\n",
    "# compute standard errors\n",
    "vhat_full = np.linalg.inv(x_full_mx.transpose().dot(x_full_mx)) * sigmasqhat_full\n",
    "coef_full_se = np.sqrt(vhat_full.diagonal())\n",
    "\n",
    "# construct coefficient table\n",
    "mlr_full_summary = pd.DataFrame(\n",
    "    data = {'estimate': np.append(mlr_full.coef_, sigmasqhat_full), \n",
    "            'standard error': np.append(coef_full_se, float('nan'))},\n",
    "    index= ['intercept', 'cover', 'income', 'low density', 'medium density', 'high density', 'error variance']\n",
    ")"
   ]
  },
  {
   "cell_type": "code",
   "execution_count": 25,
   "metadata": {
    "tags": []
   },
   "outputs": [
    {
     "data": {
      "text/html": [
       "<div>\n",
       "<style scoped>\n",
       "    .dataframe tbody tr th:only-of-type {\n",
       "        vertical-align: middle;\n",
       "    }\n",
       "\n",
       "    .dataframe tbody tr th {\n",
       "        vertical-align: top;\n",
       "    }\n",
       "\n",
       "    .dataframe thead th {\n",
       "        text-align: right;\n",
       "    }\n",
       "</style>\n",
       "<table border=\"1\" class=\"dataframe\">\n",
       "  <thead>\n",
       "    <tr style=\"text-align: right;\">\n",
       "      <th></th>\n",
       "      <th>estimate</th>\n",
       "      <th>standard error</th>\n",
       "    </tr>\n",
       "  </thead>\n",
       "  <tbody>\n",
       "    <tr>\n",
       "      <th>intercept</th>\n",
       "      <td>36.593462</td>\n",
       "      <td>0.114941</td>\n",
       "    </tr>\n",
       "    <tr>\n",
       "      <th>cover</th>\n",
       "      <td>-3.177783</td>\n",
       "      <td>0.492391</td>\n",
       "    </tr>\n",
       "    <tr>\n",
       "      <th>income</th>\n",
       "      <td>-0.000051</td>\n",
       "      <td>0.000002</td>\n",
       "    </tr>\n",
       "    <tr>\n",
       "      <th>low density</th>\n",
       "      <td>0.151946</td>\n",
       "      <td>0.095099</td>\n",
       "    </tr>\n",
       "    <tr>\n",
       "      <th>medium density</th>\n",
       "      <td>-0.128064</td>\n",
       "      <td>0.107888</td>\n",
       "    </tr>\n",
       "    <tr>\n",
       "      <th>high density</th>\n",
       "      <td>-0.149409</td>\n",
       "      <td>0.132829</td>\n",
       "    </tr>\n",
       "    <tr>\n",
       "      <th>error variance</th>\n",
       "      <td>2.719294</td>\n",
       "      <td>NaN</td>\n",
       "    </tr>\n",
       "  </tbody>\n",
       "</table>\n",
       "</div>"
      ],
      "text/plain": [
       "                 estimate  standard error\n",
       "intercept       36.593462        0.114941\n",
       "cover           -3.177783        0.492391\n",
       "income          -0.000051        0.000002\n",
       "low density      0.151946        0.095099\n",
       "medium density  -0.128064        0.107888\n",
       "high density    -0.149409        0.132829\n",
       "error variance   2.719294             NaN"
      ]
     },
     "execution_count": 25,
     "metadata": {},
     "output_type": "execute_result"
    }
   ],
   "source": [
    "# print\n",
    "mlr_full_summary"
   ]
  },
  {
   "cell_type": "markdown",
   "metadata": {
    "slideshow": {
     "slide_type": "fragment"
    },
    "tags": []
   },
   "source": [
    "* Estimates for the cover and income coefficients are about the same."
   ]
  },
  {
   "cell_type": "markdown",
   "metadata": {
    "slideshow": {
     "slide_type": "fragment"
    },
    "tags": []
   },
   "source": [
    "* The population density variable changes the intercept by about $\\pm 0.15$ degrees Celsius, depending on the density level."
   ]
  },
  {
   "cell_type": "markdown",
   "metadata": {
    "slideshow": {
     "slide_type": "fragment"
    },
    "tags": []
   },
   "source": [
    "* So the association between temperature and population density appears negligible."
   ]
  },
  {
   "cell_type": "markdown",
   "metadata": {
    "slideshow": {
     "slide_type": "subslide"
    },
    "tags": []
   },
   "source": [
    "## Model visualization\n",
    "\n",
    "The estimated trends and error bands for the same three income levels and each level of population density are shown below, without the data scatter:\n",
    "\n",
    "<img src = 'figures/fig3-fullmodel.png' style = 'width:800px'>"
   ]
  },
  {
   "cell_type": "code",
   "execution_count": 26,
   "metadata": {
    "jupyter": {
     "source_hidden": true
    },
    "slideshow": {
     "slide_type": "skip"
    },
    "tags": []
   },
   "outputs": [],
   "source": [
    "# make univariate grids\n",
    "tree_grid = np.linspace(trees.tree_cover.min(), trees.tree_cover.max(), 100)\n",
    "income_grid = trees.mean_income.quantile([0.1, 0.5, 0.9]).values\n",
    "dens_grid = trees.pop_density.cat.categories.values\n",
    "\n",
    "# make mesh grid -- all combinations of univariate grid values\n",
    "tx, ix, dx = np.meshgrid(tree_grid, income_grid, dens_grid)\n",
    "x_grid_mx = np.vstack([np.repeat(1, 1200), tx.reshape(1200), ix.reshape(1200), dx.reshape(1200)]).transpose()\n",
    "grid_df = pd.DataFrame(x_grid_mx, columns = ['intercept', 'tree_cover', 'mean_income', 'pop_density'])\n",
    "grid_mx = pd.concat(\n",
    "    [grid_df, pd.get_dummies(grid_df.pop_density, drop_first = True)],\n",
    "    axis = 1\n",
    ").drop(columns = 'pop_density').astype('float64').values\n",
    "\n",
    "# add predictions and standard errors\n",
    "grid_df['mean_summer_temp'] = mlr_full.predict(grid_mx)\n",
    "grid_df['fit_se'] = np.sqrt(grid_mx.dot(vhat_full).dot(grid_mx.transpose()).diagonal())\n",
    "grid_df['density_order'] = grid_df.pop_density.replace({'very low': 1, 'low': 2, 'medium': 3, 'high': 4})\n",
    "\n",
    "# base layer\n",
    "base = alt.Chart(grid_df).encode(\n",
    "    x = alt.X('tree_cover',  scale = alt.Scale(type = 'pow', exponent = 1/2, zero = False)),\n",
    "    color = alt.Color('mean_income', scale = alt.Scale(scheme = 'orangered', reverse = True, type = 'log'))\n",
    ")\n",
    "\n",
    "# regression lines\n",
    "lines = base.mark_line().encode(\n",
    "    y = alt.Y('mean_summer_temp', scale = alt.Scale(zero = False)),\n",
    "    strokeDash = 'pop_density'\n",
    ")\n",
    "\n",
    "# uncertainty bands\n",
    "bands = base.transform_calculate(\n",
    "    upr = 'datum.mean_summer_temp + 2*datum.fit_se',\n",
    "    lwr = 'datum.mean_summer_temp - 2*datum.fit_se'\n",
    ").mark_errorband(opacity = 0.3).encode(\n",
    "    y = alt.Y('lwr:Q', title = 'mean_summer_temp'),\n",
    "    y2 = 'upr:Q'\n",
    ")\n",
    "\n",
    "# model visualization\n",
    "fig3 = bands + lines\n",
    "\n",
    "# fig3.properties(\n",
    "#     width = 125,\n",
    "#     height = 200\n",
    "# ).facet(\n",
    "#     column = alt.Column('pop_density', \n",
    "#                         sort = {'field': 'density_order',\n",
    "#                                 'order': 'descending'})\n",
    "# )"
   ]
  },
  {
   "cell_type": "markdown",
   "metadata": {
    "slideshow": {
     "slide_type": "subslide"
    },
    "tags": []
   },
   "source": [
    "## Comments on scope of inference\n",
    "\n",
    "The data in this case study are from a *random sample* of census blocks in the San Diego urban area."
   ]
  },
  {
   "cell_type": "markdown",
   "metadata": {
    "slideshow": {
     "slide_type": "fragment"
    },
    "tags": []
   },
   "source": [
    "They are therefore representative of *all* census blocks in the San Diego urban area (population)."
   ]
  },
  {
   "cell_type": "markdown",
   "metadata": {
    "slideshow": {
     "slide_type": "fragment"
    },
    "tags": []
   },
   "source": [
    "So the results are generliazable, meaning:\n",
    "* The model approximates the *actual* associations between summer temperatures, tree cover, income, and population density in the region."
   ]
  },
  {
   "cell_type": "markdown",
   "metadata": {
    "slideshow": {
     "slide_type": "slide"
    },
    "tags": []
   },
   "source": [
    "## Summary\n",
    "\n",
    "This week focused on extending the simple linear model to multiple explanatory variables."
   ]
  },
  {
   "cell_type": "markdown",
   "metadata": {
    "slideshow": {
     "slide_type": "fragment"
    },
    "tags": []
   },
   "source": [
    "* The **linear model** represents a quantitative response variable $y_i$ as a linear function of several explanatory variables and a random error:\n",
    "\n",
    "$$y_i = \\beta_0 + \\beta_1 x_{i1} + \\cdots + \\beta_{p - 1} x_{i, p - 1} + \\epsilon_i$$"
   ]
  },
  {
   "cell_type": "markdown",
   "metadata": {
    "slideshow": {
     "slide_type": "fragment"
    },
    "tags": []
   },
   "source": [
    "* When represented in matrix form $\\mathbf{y} = \\mathbf{X}\\beta + \\epsilon$, all calculations are the same as in the simple linear model.\n",
    "    + OLS estimates: $\\left(\\mathbf{X'X}\\right)^{-1}\\mathbf{X'y}$\n",
    "    + Error variance: $\\hat{\\sigma}^2 = \\frac{1}{n - p}\\left(\\mathbf{y} - \\mathbf{X}\\hat{\\beta}\\right)'\\left(\\mathbf{y} - \\mathbf{X}\\hat{\\beta}\\right)$\n",
    "    + Uncertainty quantification: $\\hat{\\mathbf{V}} = \\hat{\\sigma}^2\\left(\\mathbf{X'X}\\right)^{-1}$\n",
    "    "
   ]
  },
  {
   "cell_type": "markdown",
   "metadata": {
    "slideshow": {
     "slide_type": "fragment"
    },
    "tags": []
   },
   "source": [
    "* Model fitting and interpretation was illustrated in a case study of urban tree cover in San Diego.\n",
    "    + Estimation and uncertainty quantification calculations\n",
    "    + Model visualization\n",
    "    + Encoding categorical variables\n",
    "    + Parameter interpretation"
   ]
  }
 ],
 "metadata": {
  "kernelspec": {
   "display_name": "Python 3",
   "language": "python",
   "name": "python3"
  },
  "language_info": {
   "codemirror_mode": {
    "name": "ipython",
    "version": 3
   },
   "file_extension": ".py",
   "mimetype": "text/x-python",
   "name": "python",
   "nbconvert_exporter": "python",
   "pygments_lexer": "ipython3",
   "version": "3.8.5"
  }
 },
 "nbformat": 4,
 "nbformat_minor": 4
}
