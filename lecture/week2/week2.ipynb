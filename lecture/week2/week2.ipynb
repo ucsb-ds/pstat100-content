{
 "cells": [
  {
   "cell_type": "code",
   "execution_count": 1,
   "metadata": {
    "slideshow": {
     "slide_type": "skip"
    },
    "tags": []
   },
   "outputs": [],
   "source": [
    "import pandas as pd\n",
    "import numpy as np\n",
    "import altair as alt"
   ]
  },
  {
   "cell_type": "markdown",
   "metadata": {
    "slideshow": {
     "slide_type": "slide"
    },
    "tags": []
   },
   "source": [
    "# Data Science Concepts and Analysis\n",
    "\n",
    "### Week 2: Sampling, Missingness, and Bias\n",
    "\n",
    "* Sampling and statistical bias\n",
    "* Case study: voter fraud\n",
    "* The missing data problem"
   ]
  },
  {
   "cell_type": "markdown",
   "metadata": {
    "slideshow": {
     "slide_type": "subslide"
    },
    "tags": []
   },
   "source": [
    "## This week: collect and acquaint\n",
    "\n",
    "**Objective**: Enable you to critically assess data quality based on how it was collected."
   ]
  },
  {
   "cell_type": "markdown",
   "metadata": {
    "slideshow": {
     "slide_type": "fragment"
    },
    "tags": []
   },
   "source": [
    "* **Sampling and statistical bias**\n",
    "    + Sampling terminology\n",
    "    + Common sampling scenarios\n",
    "    + Sampling mechanisms\n",
    "    + Statistical bias"
   ]
  },
  {
   "cell_type": "markdown",
   "metadata": {
    "slideshow": {
     "slide_type": "fragment"
    },
    "tags": []
   },
   "source": [
    "* **The missing data problem**\n",
    "    + Missingness modulates sampling design\n",
    "    + Types of missingness: MCAR, MAR, and MNAR\n",
    "    + Pitfalls and simple fixes"
   ]
  },
  {
   "cell_type": "markdown",
   "metadata": {
    "slideshow": {
     "slide_type": "fragment"
    },
    "tags": []
   },
   "source": [
    "* **Case study: voter fraud**\n",
    "    + Steven Miller's analysis of 'Voter Integrity Fund' surveys\n",
    "    + Sources of bias\n",
    "    + Ethical issues"
   ]
  },
  {
   "cell_type": "markdown",
   "metadata": {
    "slideshow": {
     "slide_type": "slide"
    },
    "tags": []
   },
   "source": [
    "# Sampling and statistical bias"
   ]
  },
  {
   "cell_type": "markdown",
   "metadata": {
    "slideshow": {
     "slide_type": "fragment"
    },
    "tags": []
   },
   "source": [
    "* Sampling terminology\n",
    "    + Population\n",
    "    + Sampling frame\n",
    "    + Sample"
   ]
  },
  {
   "cell_type": "markdown",
   "metadata": {
    "slideshow": {
     "slide_type": "fragment"
    },
    "tags": []
   },
   "source": [
    "* Common sampling scenarios\n",
    "    + Census\n",
    "    + Simple random sample\n",
    "    + 'Typical' sample\n",
    "    + 'Administrative data'"
   ]
  },
  {
   "cell_type": "markdown",
   "metadata": {
    "slideshow": {
     "slide_type": "fragment"
    },
    "tags": []
   },
   "source": [
    "* Sampling mechanisms\n",
    "    + Census\n",
    "    + Random sampling\n",
    "    + Probability sampling\n",
    "    + Nonrandom sampling"
   ]
  },
  {
   "cell_type": "markdown",
   "metadata": {
    "slideshow": {
     "slide_type": "fragment"
    },
    "tags": []
   },
   "source": [
    "* Statistical bias\n",
    "    + Definition\n",
    "    + Sampling design and bias"
   ]
  },
  {
   "cell_type": "markdown",
   "metadata": {
    "slideshow": {
     "slide_type": "subslide"
    },
    "tags": []
   },
   "source": [
    "## Sampling terminology\n",
    "\n",
    "Here we'll introduce standard statistical terminology to describe data collection.\n",
    "\n",
    "All data are collected somehow. A **sampling design** is a _**way of selecting observational units for measurement**_. It can be construed as a particular relationship between:\n",
    "\n",
    "* a **population** (all entities of interest);\n",
    "* a **sampling frame** (all entities that are possible to measure); and\n",
    "* a **sample** (a specific collection of entities)."
   ]
  },
  {
   "cell_type": "markdown",
   "metadata": {
    "slideshow": {
     "slide_type": "fragment"
    },
    "tags": []
   },
   "source": [
    "<img src=\"figures/terminology.jpg\" style=\"width:1000px\">"
   ]
  },
  {
   "cell_type": "markdown",
   "metadata": {
    "slideshow": {
     "slide_type": "subslide"
    },
    "tags": []
   },
   "source": [
    "## Population\n",
    "\n",
    "Last week, we introduced the terminology **observational unit** to mean _**a certain (usually physical) entity measured for a study**_ -- using this terminology, datasets consist of observations made on observational units.\n",
    "\n",
    "In less technical terms, all data are data *on* some kind of thing, such as countries, species, locations, and the like. "
   ]
  },
  {
   "cell_type": "markdown",
   "metadata": {
    "slideshow": {
     "slide_type": "fragment"
    },
    "tags": []
   },
   "source": [
    "A statistical **population** is the _**collection of all units of interest**_. For example:\n",
    "* all countries (GDP data);\n",
    "* all mammal species (Allison 1976);\n",
    "* all babies born in the US (babynames data)\n",
    "* all locations in a region (SB weather data);\n",
    "* all adult U.S. residents (BRFSS data)."
   ]
  },
  {
   "cell_type": "markdown",
   "metadata": {
    "slideshow": {
     "slide_type": "fragment"
    },
    "tags": []
   },
   "source": [
    "<img src=\"figures/population.png\" style=\"width:300px\">"
   ]
  },
  {
   "cell_type": "markdown",
   "metadata": {
    "slideshow": {
     "slide_type": "subslide"
    },
    "tags": []
   },
   "source": [
    "## Sampling frame\n",
    "\n",
    "There are usually some units in a population that can't be measured due to practical constraints -- for instance, many adult U.S. residents don't have phones or addresses."
   ]
  },
  {
   "cell_type": "markdown",
   "metadata": {
    "slideshow": {
     "slide_type": "fragment"
    },
    "tags": []
   },
   "source": [
    "For this reason, it is useful to introduce the concept of a **sampling frame**, which refers to _**the collection of all units in a population that can be observed for a study**_. For example:\n",
    "\n",
    "* all countries reporting economic output between 1961 and 2019;\n",
    "* all nonendagered mammals that die of natural causes in monitored areas;\n",
    "* all babies with birth certificates from U.S. hospitals born between 1990 and 2018;\n",
    "* all locations where it is possible to install weather monitors;\n",
    "* all adult U.S. residents with phone numbers in 2019."
   ]
  },
  {
   "cell_type": "markdown",
   "metadata": {
    "slideshow": {
     "slide_type": "fragment"
    },
    "tags": []
   },
   "source": [
    "<img src=\"figures/frame.png\" style=\"width:300px\">"
   ]
  },
  {
   "cell_type": "markdown",
   "metadata": {
    "slideshow": {
     "slide_type": "subslide"
    },
    "tags": []
   },
   "source": [
    "## Sample\n",
    "\n",
    "Finally, it's rarely feasible to measure every observable unit due to limited data collection resources -- for instance, states don't have the time or money to call every phone number every year."
   ]
  },
  {
   "cell_type": "markdown",
   "metadata": {
    "slideshow": {
     "slide_type": "fragment"
    },
    "tags": []
   },
   "source": [
    "A **sample** is _**a collection of units in the sampling frame actually selected for study**_. For instance:\n",
    "\n",
    "* 234 countries;\n",
    "* 62 mammal species;\n",
    "* 13,684,689 babies born in CA;\n",
    "* 1 weather station location at SB airport;\n",
    "* 418,268 adult U.S. residents."
   ]
  },
  {
   "cell_type": "markdown",
   "metadata": {
    "slideshow": {
     "slide_type": "fragment"
    },
    "tags": []
   },
   "source": [
    "<img src=\"figures/sample.png\" style=\"width:300px\">"
   ]
  },
  {
   "cell_type": "markdown",
   "metadata": {
    "slideshow": {
     "slide_type": "subslide"
    },
    "tags": []
   },
   "source": [
    "## Sampling scenarios\n",
    "\n",
    "We can now imagine a few common sampling scenarios by varying the relationship between population, frame, and sample. "
   ]
  },
  {
   "cell_type": "markdown",
   "metadata": {
    "slideshow": {
     "slide_type": "fragment"
    },
    "tags": []
   },
   "source": [
    "Let's introduce some notation. Denote an observational unit by $U_i$, and let:\n",
    "\n",
    "\\begin{alignat*}{2}\n",
    "\\mathcal{U} &= \\{U_i\\}_{i \\in I} &&\\quad(\\text{universe}) \\\\\n",
    "P &= \\{U_1, \\dots, U_N\\} &&\\quad(\\text{population}) \\\\\n",
    "    F &= \\{U_j: j \\in J \\subset I\\} &&\\quad(\\text{frame})\\\\\n",
    "    S &\\subseteq F &&\\quad(\\text{sample})\n",
    "\\end{alignat*}"
   ]
  },
  {
   "cell_type": "markdown",
   "metadata": {
    "slideshow": {
     "slide_type": "subslide"
    },
    "tags": []
   },
   "source": [
    "## Sampling scenarios: population census\n",
    "\n",
    "\n",
    "Perhaps the simplest scenario is a **population census**, where the entire population is observed. In this case:\n",
    "\n",
    "$$S = F = P$$\n",
    "\n",
    "<img src=\"figures/census.jpg\" style=\"width:250px\">"
   ]
  },
  {
   "cell_type": "markdown",
   "metadata": {
    "slideshow": {
     "slide_type": "fragment"
    },
    "tags": []
   },
   "source": [
    "*From a census, all properties of the population are definitevely **known**.*\n",
    "* No need to model census data!"
   ]
  },
  {
   "cell_type": "markdown",
   "metadata": {
    "slideshow": {
     "slide_type": "subslide"
    },
    "tags": []
   },
   "source": [
    "## Sampling scenarios: simple random sample\n",
    "\n",
    "\n",
    "The statistical gold standard is the **simple random sample** (SRS) in which units are selected at random from the population. In this case:\n",
    "\n",
    "$$S \\subset F = P$$\n",
    "\n",
    "<img src=\"figures/random-sample.jpg\" style=\"width:400px\">"
   ]
  },
  {
   "cell_type": "markdown",
   "metadata": {
    "slideshow": {
     "slide_type": "fragment"
    },
    "tags": []
   },
   "source": [
    "*From a SRS, sample properties are **reflective** of population properties.*\n",
    "* Can safely extrapolate from the sample to the population."
   ]
  },
  {
   "cell_type": "markdown",
   "metadata": {
    "slideshow": {
     "slide_type": "subslide"
    },
    "tags": []
   },
   "source": [
    "## Sampling scenarios: typical sample\n",
    "\n",
    "\n",
    "More common in practice is a SRS from a sampling frame that overlaps but does not cover the population. In this case:\n",
    "\n",
    "$$S \\subset F \\quad\\text{and}\\quad F \\cap P \\neq \\emptyset$$\n",
    "\n",
    "<img src=\"figures/typical-sample.jpg\" style=\"width:400px\">"
   ]
  },
  {
   "cell_type": "markdown",
   "metadata": {
    "slideshow": {
     "slide_type": "fragment"
    },
    "tags": []
   },
   "source": [
    "*In this scenario, sample properties are **reflective of the frame**.*\n",
    "* Can extrapolate to a subpopulation, but not the full population."
   ]
  },
  {
   "cell_type": "markdown",
   "metadata": {
    "slideshow": {
     "slide_type": "subslide"
    },
    "tags": []
   },
   "source": [
    "## Sampling scenarios: administrative data\n",
    "\n",
    "\n",
    "Also common is **administrative data** in which all units are selected from a convenient frame that partly covers the population. In this case:\n",
    "\n",
    "$$S = F \\quad\\text{and}\\quad F\\cap P \\neq \\emptyset$$\n",
    "\n",
    "<img src=\"figures/admin-data.jpg\" style=\"width:400px\">"
   ]
  },
  {
   "cell_type": "markdown",
   "metadata": {
    "slideshow": {
     "slide_type": "fragment"
    },
    "tags": []
   },
   "source": [
    "*Administrative data are **singular**; they do not represent any broader group.*\n",
    "* No reliable extrapolation is possible."
   ]
  },
  {
   "cell_type": "markdown",
   "metadata": {
    "slideshow": {
     "slide_type": "subslide"
    },
    "tags": []
   },
   "source": [
    "## Extrapolation: generalizing from samples\n",
    "\n",
    "The relationships among the population, frame, and sample determine the **scope of inference**: the _**extent to which conclusions based on the sample are generalizable**_. "
   ]
  },
  {
   "cell_type": "markdown",
   "metadata": {
    "slideshow": {
     "slide_type": "fragment"
    },
    "tags": []
   },
   "source": [
    "A good sampling design can ensure that the statistical properties of the sample are expected to match those of the population. If so, it is sound to generalize:\n",
    "\n",
    "* the sample is said to be *representative* of the population \n",
    "* and the scope of inference is *broad*."
   ]
  },
  {
   "cell_type": "markdown",
   "metadata": {
    "slideshow": {
     "slide_type": "fragment"
    },
    "tags": []
   },
   "source": [
    "A poor sampling design will produce samples that distort the statistical properties of the population. If so, it is not sound to generalize:\n",
    "\n",
    "* sample statistics are subjet to bias\n",
    "* and the scope of inference is *narrow*."
   ]
  },
  {
   "cell_type": "markdown",
   "metadata": {
    "slideshow": {
     "slide_type": "subslide"
    },
    "tags": []
   },
   "source": [
    "## Characterizing sampling designs\n",
    "\n",
    "The sampling scenarios above can be differentiated along two key attributes:"
   ]
  },
  {
   "cell_type": "markdown",
   "metadata": {
    "slideshow": {
     "slide_type": "fragment"
    },
    "tags": []
   },
   "source": [
    "1. The overlap between the sampling frame and the population. \n",
    "    + frame $=$ population\n",
    "    + frame $\\subset$ population \n",
    "    + frame $\\cap$ population $\\neq \\emptyset$\n",
    "    "
   ]
  },
  {
   "cell_type": "markdown",
   "metadata": {
    "slideshow": {
     "slide_type": "fragment"
    },
    "tags": []
   },
   "source": [
    "2. The mechanism of obtaining a sample from the sampling frame.\n",
    "    + census\n",
    "    + random sample \n",
    "    + probability sample \n",
    "    + nonrandom (convenience) sample"
   ]
  },
  {
   "cell_type": "markdown",
   "metadata": {
    "slideshow": {
     "slide_type": "fragment"
    },
    "tags": []
   },
   "source": [
    "*If you can articulate these two points, you have fully characterized the sampling design.*"
   ]
  },
  {
   "cell_type": "markdown",
   "metadata": {
    "slideshow": {
     "slide_type": "subslide"
    },
    "tags": []
   },
   "source": [
    "## Inclusion probabilities\n",
    "\n",
    "In order to describe sampling mechanisms precisely, we need a little terminology.\n",
    "\n",
    "For any way of drawing a sample from a frame, each unit has some **inclusion probability** -- _**the probability of being included in the sample**_."
   ]
  },
  {
   "cell_type": "markdown",
   "metadata": {
    "slideshow": {
     "slide_type": "fragment"
    },
    "tags": []
   },
   "source": [
    "Let's suppose that the frame $F$ comprises $N$ units, and denote the inclusion probabilities by:\n",
    "\n",
    "$$p_i = P(\\text{unit } i \\text{ is included in the sample})$$"
   ]
  },
  {
   "cell_type": "markdown",
   "metadata": {
    "slideshow": {
     "slide_type": "fragment"
    },
    "tags": []
   },
   "source": [
    "The inclusion probability of each unit is usually determined by the physical procedure of collecting data, rather than fixed *a priori*."
   ]
  },
  {
   "cell_type": "markdown",
   "metadata": {
    "slideshow": {
     "slide_type": "subslide"
    },
    "tags": []
   },
   "source": [
    "## Sampling mechanisms\n",
    "\n",
    "**Sampling mechanisms** are _**methods of drawing samples**_ and are categorized into four types based on inclusion probabilities."
   ]
  },
  {
   "cell_type": "markdown",
   "metadata": {
    "slideshow": {
     "slide_type": "fragment"
    },
    "tags": []
   },
   "source": [
    "* in a **census** every unit is included\n",
    "    + $p_i = 1$ for every unit $i = 1, \\dots, N$\n",
    "    "
   ]
  },
  {
   "cell_type": "markdown",
   "metadata": {
    "slideshow": {
     "slide_type": "fragment"
    },
    "tags": []
   },
   "source": [
    "* in a **random sample** every unit is equally likely to be included\n",
    "    + $p_i \\propto \\frac{1}{N}$ for every unit $i = 1, \\dots, N$"
   ]
  },
  {
   "cell_type": "markdown",
   "metadata": {
    "slideshow": {
     "slide_type": "fragment"
    },
    "tags": []
   },
   "source": [
    "* in a **probability sample** units have different inclusion probabilities\n",
    "    + $p_i \\neq p_j$ for at least one $i \\neq j$"
   ]
  },
  {
   "cell_type": "markdown",
   "metadata": {
    "slideshow": {
     "slide_type": "fragment"
    },
    "tags": []
   },
   "source": [
    "* in a **nonrandom sample** inclusion probabilities are indeterminate\n",
    "    + $p_i = \\;?$"
   ]
  },
  {
   "cell_type": "markdown",
   "metadata": {
    "slideshow": {
     "slide_type": "subslide"
    },
    "tags": []
   },
   "source": [
    "## Revisiting example datasets\n",
    "\n",
    "Let's characterize the sampling designs of some of our example datasets."
   ]
  },
  {
   "cell_type": "markdown",
   "metadata": {
    "slideshow": {
     "slide_type": "fragment"
    },
    "tags": []
   },
   "source": [
    "### GDP data\n",
    "\n",
    "Annual observations of GDP growth for 234 countries from 1961 - 2018.\n",
    "\n",
    "* Population: all countries existing between 1961-2019.\n",
    "* Frame: all countries reporting economic output for some year between 1961 and 2019.\n",
    "* Sample: equal to frame."
   ]
  },
  {
   "cell_type": "markdown",
   "metadata": {
    "slideshow": {
     "slide_type": "fragment"
    },
    "tags": []
   },
   "source": [
    "So:\n",
    "\n",
    "1. Overlap: frame partly overlaps population.\n",
    "2. Mechanism: sample is a census of the frame."
   ]
  },
  {
   "cell_type": "markdown",
   "metadata": {
    "slideshow": {
     "slide_type": "fragment"
    },
    "tags": []
   },
   "source": [
    "*This is administrative data.* \n",
    "\n",
    "Scope of inference: none."
   ]
  },
  {
   "cell_type": "markdown",
   "metadata": {
    "slideshow": {
     "slide_type": "subslide"
    },
    "tags": []
   },
   "source": [
    "## Revisiting example datasets\n",
    "\n",
    "Let's characterize the sampling designs of some of our example datasets."
   ]
  },
  {
   "cell_type": "markdown",
   "metadata": {
    "slideshow": {
     "slide_type": "fragment"
    },
    "tags": []
   },
   "source": [
    "### Mammal data\n",
    "\n",
    "Observations of average brain and body weights for 62 mammal species.\n",
    "\n",
    "* Population: all mammals.\n",
    "* Frame: all mammal species that die of natural causes in monitorerd areas.\n",
    "* Sample: individuals from 62 species sampled opportunistically."
   ]
  },
  {
   "cell_type": "markdown",
   "metadata": {
    "slideshow": {
     "slide_type": "fragment"
    },
    "tags": []
   },
   "source": [
    "So:\n",
    "\n",
    "1. Overlap: frame is a subset of population.\n",
    "2. Mechanism: convenience sampling."
   ]
  },
  {
   "cell_type": "markdown",
   "metadata": {
    "slideshow": {
     "slide_type": "fragment"
    },
    "tags": []
   },
   "source": [
    "*We didn't give this a name, but let's call it 'convenience data'.* \n",
    "\n",
    "Scope of inference: none."
   ]
  },
  {
   "cell_type": "markdown",
   "metadata": {
    "slideshow": {
     "slide_type": "subslide"
    },
    "tags": []
   },
   "source": [
    "## Revisiting example datasets\n",
    "\n",
    "Let's characterize the sampling designs of some of our example datasets."
   ]
  },
  {
   "cell_type": "markdown",
   "metadata": {
    "slideshow": {
     "slide_type": "fragment"
    },
    "tags": []
   },
   "source": [
    "### BRFSS data\n",
    "\n",
    "Phone surveys of 418K U.S. residents in 2019.\n",
    "\n",
    "* Population: all U.S. residents.\n",
    "* Frame: all adult U.S. residents with phone numbers.\n",
    "* Sample: 418K adult U.S. residents with phone numbers."
   ]
  },
  {
   "cell_type": "markdown",
   "metadata": {
    "slideshow": {
     "slide_type": "fragment"
    },
    "tags": []
   },
   "source": [
    "So:\n",
    "\n",
    "1. Overlap: frame is a subset of the population.\n",
    "2. Mechanism: probability sample.\n",
    "    + Randomly selected phone numbers were dialed in each state."
   ]
  },
  {
   "cell_type": "markdown",
   "metadata": {
    "slideshow": {
     "slide_type": "fragment"
    },
    "tags": []
   },
   "source": [
    "*This is a typical sample.*\n",
    "\n",
    "Scope of inference: adult residents with phone numbers."
   ]
  },
  {
   "cell_type": "markdown",
   "metadata": {
    "slideshow": {
     "slide_type": "subslide"
    },
    "tags": []
   },
   "source": [
    "## Revisiting example datasets\n",
    "\n",
    "Let's characterize the sampling designs of some of our example datasets."
   ]
  },
  {
   "cell_type": "markdown",
   "metadata": {
    "slideshow": {
     "slide_type": "fragment"
    },
    "tags": []
   },
   "source": [
    "### Your turn: baby names\n",
    "\n",
    "Records of given names of babies in CA from 1990 - 2018.\n",
    "\n",
    "* Population: \n",
    "* Frame: \n",
    "* Sample:\n",
    "\n",
    "So:\n",
    "\n",
    "1. Overlap: \n",
    "2. Mechanism: \n",
    "\n",
    "*This is __________________ data.*\n",
    "\n",
    "Scope of inference:"
   ]
  },
  {
   "cell_type": "markdown",
   "metadata": {
    "slideshow": {
     "slide_type": "subslide"
    },
    "tags": []
   },
   "source": [
    "## Revisiting example datasets\n",
    "\n",
    "Let's characterize the sampling designs of some of our example datasets."
   ]
  },
  {
   "cell_type": "markdown",
   "metadata": {
    "slideshow": {
     "slide_type": "fragment"
    },
    "tags": []
   },
   "source": [
    "### Your turn: SB weather data\n",
    "\n",
    "Daily records of min/max temperatures at SB airport from January to March 2021.\n",
    "\n",
    "* Population: \n",
    "* Frame: \n",
    "* Sample:\n",
    "\n",
    "So:\n",
    "\n",
    "1. Overlap: \n",
    "2. Mechanism: \n",
    "\n",
    "*This is __________________ data.*\n",
    "\n",
    "Scope of inference:"
   ]
  },
  {
   "cell_type": "markdown",
   "metadata": {
    "slideshow": {
     "slide_type": "subslide"
    },
    "tags": []
   },
   "source": [
    "## Statistical bias\n",
    "\n",
    "Statistical **bias** is the average difference between a sample property and a population property across all possible samples under a particular sampling design.\n",
    "* In short, arises from systematic over- or under-representation of units."
   ]
  },
  {
   "cell_type": "markdown",
   "metadata": {
    "slideshow": {
     "slide_type": "fragment"
    },
    "tags": []
   },
   "source": [
    "Bias is therefore determined by sampling design, *i.e.*, (i) the overlap between the frame and the population and (ii) the sampling mechanism."
   ]
  },
  {
   "cell_type": "markdown",
   "metadata": {
    "slideshow": {
     "slide_type": "fragment"
    },
    "tags": []
   },
   "source": [
    "When the frame is well-chosen and the mechanism involves a random selection process -- simple random samples or probability samples -- it is possible to quantify and correct bias."
   ]
  },
  {
   "cell_type": "markdown",
   "metadata": {
    "slideshow": {
     "slide_type": "fragment"
    },
    "tags": []
   },
   "source": [
    "*You will explore this in **Lab 2** in the context of estimating population means using sample means under different sampling mechanisms.*"
   ]
  },
  {
   "cell_type": "markdown",
   "metadata": {
    "slideshow": {
     "slide_type": "subslide"
    },
    "tags": []
   },
   "source": [
    "## Data quality\n",
    "\n",
    "It's easy to fall into value judgements about a dataset based on scope of inference and bias, but there's nothing inherently *better* or *worse* about the scenarios we've considered.\n",
    "* Our goal in all this is to create a framework for understanding the limitations of a given dataset so that we can make pragmatic choices about how to use it that align with the information it has to offer."
   ]
  },
  {
   "cell_type": "markdown",
   "metadata": {
    "slideshow": {
     "slide_type": "fragment"
    },
    "tags": []
   },
   "source": [
    "It may help to map the scenarios we've considered onto an 'informativeness' spectrum:\n",
    "\n",
    "<img src=\"figures/info-spectrum.png\" style=\"width:600px\">"
   ]
  },
  {
   "cell_type": "markdown",
   "metadata": {
    "slideshow": {
     "slide_type": "slide"
    },
    "tags": []
   },
   "source": [
    "# The missing data problem\n",
    "\n",
    "* Missingness modulates sampling design\n",
    "* Types of missingness: MCAR, MAR, and MNAR\n",
    "* Pitfalls and simple fixes"
   ]
  },
  {
   "cell_type": "markdown",
   "metadata": {
    "slideshow": {
     "slide_type": "subslide"
    },
    "tags": []
   },
   "source": [
    "## Missingness\n",
    "\n",
    "> The best-laid plans of mice and men often go awry."
   ]
  },
  {
   "cell_type": "markdown",
   "metadata": {
    "slideshow": {
     "slide_type": "fragment"
    },
    "tags": []
   },
   "source": [
    "**Missing data** arise when _**one or more variable measurements fail for a subset of observations**_."
   ]
  },
  {
   "cell_type": "markdown",
   "metadata": {
    "slideshow": {
     "slide_type": "fragment"
    },
    "tags": []
   },
   "source": [
    "This can happen for a variety of reasons, but is very common in pratice due to, for instance:\n",
    "* equipment failure;\n",
    "* sample contamination or loss;\n",
    "* respondents leaving questions blank;\n",
    "* attrition of study participants (dropping out)."
   ]
  },
  {
   "cell_type": "markdown",
   "metadata": {
    "slideshow": {
     "slide_type": "fragment"
    },
    "tags": []
   },
   "source": [
    "Missingness gets a bad rap. \n",
    "* It is often derided, downplayed, minimized, and overlooked.\n",
    "* There is publication bias against studies with lots of missing data.\n",
    "* Many researchers and data scientists ignore it by simply deleting affected observations. \n",
    "\n",
    "But it's a reality in most datasets, and deserves attention."
   ]
  },
  {
   "cell_type": "markdown",
   "metadata": {
    "slideshow": {
     "slide_type": "subslide"
    },
    "tags": []
   },
   "source": [
    "## Missing representations\n",
    "\n",
    "It is standard practice to record observations with missingness but enter a special symbol (`..`, `-`, `NA`, etcetera) for missing values."
   ]
  },
  {
   "cell_type": "markdown",
   "metadata": {
    "slideshow": {
     "slide_type": "fragment"
    },
    "tags": []
   },
   "source": [
    "In python, missing values are mapped to a special float:"
   ]
  },
  {
   "cell_type": "code",
   "execution_count": 2,
   "metadata": {
    "slideshow": {
     "slide_type": "fragment"
    },
    "tags": []
   },
   "outputs": [
    {
     "data": {
      "text/plain": [
       "nan"
      ]
     },
     "execution_count": 2,
     "metadata": {},
     "output_type": "execute_result"
    }
   ],
   "source": [
    "float('nan')"
   ]
  },
  {
   "cell_type": "markdown",
   "metadata": {},
   "source": [
    "Pandas has the ability to map specified entries to NaN when parsing data files."
   ]
  },
  {
   "cell_type": "markdown",
   "metadata": {
    "slideshow": {
     "slide_type": "subslide"
    },
    "tags": []
   },
   "source": [
    "## Missing representations\n",
    "\n",
    "Here is some made-up data with two missing values:"
   ]
  },
  {
   "cell_type": "code",
   "execution_count": 3,
   "metadata": {
    "tags": []
   },
   "outputs": [
    {
     "data": {
      "text/html": [
       "<div>\n",
       "<style scoped>\n",
       "    .dataframe tbody tr th:only-of-type {\n",
       "        vertical-align: middle;\n",
       "    }\n",
       "\n",
       "    .dataframe tbody tr th {\n",
       "        vertical-align: top;\n",
       "    }\n",
       "\n",
       "    .dataframe thead th {\n",
       "        text-align: right;\n",
       "    }\n",
       "</style>\n",
       "<table border=\"1\" class=\"dataframe\">\n",
       "  <thead>\n",
       "    <tr style=\"text-align: right;\">\n",
       "      <th></th>\n",
       "      <th>value</th>\n",
       "    </tr>\n",
       "    <tr>\n",
       "      <th>obs</th>\n",
       "      <th></th>\n",
       "    </tr>\n",
       "  </thead>\n",
       "  <tbody>\n",
       "    <tr>\n",
       "      <th>0</th>\n",
       "      <td>-0.9286936933427271</td>\n",
       "    </tr>\n",
       "    <tr>\n",
       "      <th>1</th>\n",
       "      <td>-0.3088381742999848</td>\n",
       "    </tr>\n",
       "    <tr>\n",
       "      <th>2</th>\n",
       "      <td>-</td>\n",
       "    </tr>\n",
       "    <tr>\n",
       "      <th>3</th>\n",
       "      <td>-1.4345064041945543</td>\n",
       "    </tr>\n",
       "    <tr>\n",
       "      <th>4</th>\n",
       "      <td>0.03958917896644836</td>\n",
       "    </tr>\n",
       "    <tr>\n",
       "      <th>5</th>\n",
       "      <td>-</td>\n",
       "    </tr>\n",
       "    <tr>\n",
       "      <th>6</th>\n",
       "      <td>-0.5316890502224456</td>\n",
       "    </tr>\n",
       "    <tr>\n",
       "      <th>7</th>\n",
       "      <td>1.4734842645335422</td>\n",
       "    </tr>\n",
       "  </tbody>\n",
       "</table>\n",
       "</div>"
      ],
      "text/plain": [
       "                   value\n",
       "obs                     \n",
       "0    -0.9286936933427271\n",
       "1    -0.3088381742999848\n",
       "2                      -\n",
       "3    -1.4345064041945543\n",
       "4    0.03958917896644836\n",
       "5                      -\n",
       "6    -0.5316890502224456\n",
       "7     1.4734842645335422"
      ]
     },
     "execution_count": 3,
     "metadata": {},
     "output_type": "execute_result"
    }
   ],
   "source": [
    "pd.read_csv('data/some_data.csv', index_col = 'obs')"
   ]
  },
  {
   "cell_type": "markdown",
   "metadata": {
    "slideshow": {
     "slide_type": "subslide"
    },
    "tags": []
   },
   "source": [
    "## Missing representations\n",
    "\n",
    "Pandas has the ability to map specified entries to NaN when parsing data files:"
   ]
  },
  {
   "cell_type": "code",
   "execution_count": 4,
   "metadata": {
    "slideshow": {
     "slide_type": "fragment"
    },
    "tags": []
   },
   "outputs": [
    {
     "data": {
      "text/html": [
       "<div>\n",
       "<style scoped>\n",
       "    .dataframe tbody tr th:only-of-type {\n",
       "        vertical-align: middle;\n",
       "    }\n",
       "\n",
       "    .dataframe tbody tr th {\n",
       "        vertical-align: top;\n",
       "    }\n",
       "\n",
       "    .dataframe thead th {\n",
       "        text-align: right;\n",
       "    }\n",
       "</style>\n",
       "<table border=\"1\" class=\"dataframe\">\n",
       "  <thead>\n",
       "    <tr style=\"text-align: right;\">\n",
       "      <th></th>\n",
       "      <th>value</th>\n",
       "    </tr>\n",
       "    <tr>\n",
       "      <th>obs</th>\n",
       "      <th></th>\n",
       "    </tr>\n",
       "  </thead>\n",
       "  <tbody>\n",
       "    <tr>\n",
       "      <th>0</th>\n",
       "      <td>-0.928694</td>\n",
       "    </tr>\n",
       "    <tr>\n",
       "      <th>1</th>\n",
       "      <td>-0.308838</td>\n",
       "    </tr>\n",
       "    <tr>\n",
       "      <th>2</th>\n",
       "      <td>NaN</td>\n",
       "    </tr>\n",
       "    <tr>\n",
       "      <th>3</th>\n",
       "      <td>-1.434506</td>\n",
       "    </tr>\n",
       "    <tr>\n",
       "      <th>4</th>\n",
       "      <td>0.039589</td>\n",
       "    </tr>\n",
       "    <tr>\n",
       "      <th>5</th>\n",
       "      <td>NaN</td>\n",
       "    </tr>\n",
       "    <tr>\n",
       "      <th>6</th>\n",
       "      <td>-0.531689</td>\n",
       "    </tr>\n",
       "    <tr>\n",
       "      <th>7</th>\n",
       "      <td>1.473484</td>\n",
       "    </tr>\n",
       "  </tbody>\n",
       "</table>\n",
       "</div>"
      ],
      "text/plain": [
       "        value\n",
       "obs          \n",
       "0   -0.928694\n",
       "1   -0.308838\n",
       "2         NaN\n",
       "3   -1.434506\n",
       "4    0.039589\n",
       "5         NaN\n",
       "6   -0.531689\n",
       "7    1.473484"
      ]
     },
     "execution_count": 4,
     "metadata": {},
     "output_type": "execute_result"
    }
   ],
   "source": [
    "some_data = pd.read_csv('data/some_data.csv', index_col = 'obs', na_values = '-')\n",
    "some_data"
   ]
  },
  {
   "cell_type": "markdown",
   "metadata": {
    "slideshow": {
     "slide_type": "subslide"
    },
    "tags": []
   },
   "source": [
    "## Calculations with NaNs\n",
    "\n",
    "NaNs halt calculations on numpy arrays."
   ]
  },
  {
   "cell_type": "code",
   "execution_count": 5,
   "metadata": {},
   "outputs": [
    {
     "data": {
      "text/plain": [
       "nan"
      ]
     },
     "execution_count": 5,
     "metadata": {},
     "output_type": "execute_result"
    }
   ],
   "source": [
    "# mean in numpy -- halt\n",
    "some_data.values.mean()"
   ]
  },
  {
   "cell_type": "markdown",
   "metadata": {
    "slideshow": {
     "slide_type": "fragment"
    },
    "tags": []
   },
   "source": [
    "However, the default behavior in pandas is to ignore the NaN's, which allows the computation to proceed:"
   ]
  },
  {
   "cell_type": "code",
   "execution_count": 6,
   "metadata": {
    "slideshow": {
     "slide_type": "fragment"
    },
    "tags": []
   },
   "outputs": [
    {
     "data": {
      "text/plain": [
       "value   -0.281776\n",
       "dtype: float64"
      ]
     },
     "execution_count": 6,
     "metadata": {},
     "output_type": "execute_result"
    }
   ],
   "source": [
    "# mean in pandas -- ignore\n",
    "some_data.mean()"
   ]
  },
  {
   "cell_type": "markdown",
   "metadata": {
    "slideshow": {
     "slide_type": "fragment"
    },
    "tags": []
   },
   "source": [
    "But here's the rub: those missing values could have been anything, and ignoring them changes the result from what it would have been!"
   ]
  },
  {
   "cell_type": "code",
   "execution_count": 7,
   "metadata": {
    "slideshow": {
     "slide_type": "fragment"
    },
    "tags": []
   },
   "outputs": [
    {
     "data": {
      "text/plain": [
       "value    1.163668\n",
       "dtype: float64"
      ]
     },
     "execution_count": 7,
     "metadata": {},
     "output_type": "execute_result"
    }
   ],
   "source": [
    "# one counterfactual scenario\n",
    "some_data.loc[[2, 5], 'value'] = [5, 6] \n",
    "some_data.mean()"
   ]
  },
  {
   "cell_type": "markdown",
   "metadata": {
    "slideshow": {
     "slide_type": "subslide"
    },
    "tags": []
   },
   "source": [
    "## The missing data problem\n",
    "\n",
    "In a nutshell, the **missing data problem** is: _**how should missing values be handled in a data analysis?**_"
   ]
  },
  {
   "cell_type": "markdown",
   "metadata": {
    "slideshow": {
     "slide_type": "fragment"
    },
    "tags": []
   },
   "source": [
    "> Getting the software to run is one thing, but this alone does not address the challenges posed by the missing data. Unless the analyst, or the software vendor, provides some way to work around the missing values, the analysis cannot continue because calculations on missing values are not possible. There are many approaches to circumvent this problem. Each of these affects the end result in a different way. (Stef van Buuren, 2018)"
   ]
  },
  {
   "cell_type": "markdown",
   "metadata": {
    "slideshow": {
     "slide_type": "fragment"
    },
    "tags": []
   },
   "source": [
    "There's no universal approach to the missing data problem. The choice of method depends on:\n",
    "* the analysis objective;\n",
    "* the *missing data mechanism*."
   ]
  },
  {
   "cell_type": "markdown",
   "metadata": {
    "slideshow": {
     "slide_type": "fragment"
    },
    "tags": []
   },
   "source": [
    "We will talk briefly about the latter."
   ]
  },
  {
   "cell_type": "markdown",
   "metadata": {
    "slideshow": {
     "slide_type": "subslide"
    },
    "tags": []
   },
   "source": [
    "## Missing data in PSTAT100\n",
    "\n",
    "We won't go too far into this topic in PSTAT 100. Our goal will be awareness-raising, specifically:\n",
    "\n",
    "* characterizing types of missingness (missing data mechanisms);\n",
    "* understanding missingness as a potential source of bias;\n",
    "* basic do's and don't's when it comes to missingness. "
   ]
  },
  {
   "cell_type": "markdown",
   "metadata": {
    "slideshow": {
     "slide_type": "fragment"
    },
    "tags": []
   },
   "source": [
    "If you are interested in the topic, [Stef van Buuren's *Flexible Imputation of Missing Data*](https://stefvanbuuren.name/fimd/) (the source of one of your readings this week) provides an excellent introduction."
   ]
  },
  {
   "cell_type": "markdown",
   "metadata": {
    "slideshow": {
     "slide_type": "subslide"
    },
    "tags": []
   },
   "source": [
    "## Missing data mechanisms\n",
    "\n",
    "The standard framework for understanding missingness is much like that for understanding sampling: just as every unit has a probability of being selected in a sample, every observation has some probablitiy of going missing."
   ]
  },
  {
   "cell_type": "markdown",
   "metadata": {
    "slideshow": {
     "slide_type": "fragment"
    },
    "tags": []
   },
   "source": [
    "A **missing data mechanism** is a _**process causing missingness**_."
   ]
  },
  {
   "cell_type": "markdown",
   "metadata": {
    "slideshow": {
     "slide_type": "fragment"
    },
    "tags": []
   },
   "source": [
    "Suppose we have a dataset $\\mathbf{X}$ (tidy) consisting of $n$ rows/observations and $p$ columns/variables, and define:\n",
    "\n",
    "$$q_{ij} = P(x_{ij} \\text{ is missing})$$"
   ]
  },
  {
   "cell_type": "markdown",
   "metadata": {
    "slideshow": {
     "slide_type": "fragment"
    },
    "tags": []
   },
   "source": [
    "Missing data mechanisms are classified into three categories based on these probabilities:\n",
    "\n",
    "1. Missing completely at random (MCAR)\n",
    "2. Missing at random (MAR)\n",
    "3. Missing not at random (MNAR)"
   ]
  },
  {
   "cell_type": "markdown",
   "metadata": {
    "slideshow": {
     "slide_type": "subslide"
    },
    "tags": []
   },
   "source": [
    "## MCAR\n",
    "\n",
    "Data are **missing completely at random** (MCAR) if the _**probabilities of missing entries are uniformly equal**_. "
   ]
  },
  {
   "cell_type": "markdown",
   "metadata": {
    "slideshow": {
     "slide_type": "fragment"
    },
    "tags": []
   },
   "source": [
    "$$q_{ij} = q \\quad\\text{for all}\\quad i, j$$"
   ]
  },
  {
   "cell_type": "markdown",
   "metadata": {
    "slideshow": {
     "slide_type": "fragment"
    },
    "tags": []
   },
   "source": [
    "This implies that the cause of missingness is unrelated to the data: missing values can be ignored."
   ]
  },
  {
   "cell_type": "markdown",
   "metadata": {
    "slideshow": {
     "slide_type": "fragment"
    },
    "tags": []
   },
   "source": [
    "*This is the easiest scenario to handle.*"
   ]
  },
  {
   "cell_type": "markdown",
   "metadata": {
    "slideshow": {
     "slide_type": "subslide"
    },
    "tags": []
   },
   "source": [
    "## MAR\n",
    "\n",
    "Data are **missing at random** (MAR) if the _**probabilities of missing entries depend on observed data**_."
   ]
  },
  {
   "cell_type": "markdown",
   "metadata": {
    "slideshow": {
     "slide_type": "fragment"
    },
    "tags": []
   },
   "source": [
    "$$q_{ij} = f(\\mathbf{x}_i)$$"
   ]
  },
  {
   "cell_type": "markdown",
   "metadata": {
    "slideshow": {
     "slide_type": "fragment"
    },
    "tags": []
   },
   "source": [
    "This implies that information about the cause of missingness is captured within the dataset: it is possible to model the missing data."
   ]
  },
  {
   "cell_type": "markdown",
   "metadata": {
    "slideshow": {
     "slide_type": "fragment"
    },
    "tags": []
   },
   "source": [
    "*Missing data methods typically address this scenario.*"
   ]
  },
  {
   "cell_type": "markdown",
   "metadata": {
    "slideshow": {
     "slide_type": "subslide"
    },
    "tags": []
   },
   "source": [
    "## MNAR\n",
    "\n",
    "Data are **missing not at random** (MNAR) if the _**probabilities of missing entries depend on unobserved data**_."
   ]
  },
  {
   "cell_type": "markdown",
   "metadata": {
    "slideshow": {
     "slide_type": "fragment"
    },
    "tags": []
   },
   "source": [
    "$$q_{ij} = \\; ?$$"
   ]
  },
  {
   "cell_type": "markdown",
   "metadata": {
    "slideshow": {
     "slide_type": "fragment"
    },
    "tags": []
   },
   "source": [
    "This implies that information about the cause of missingness is unavailable."
   ]
  },
  {
   "cell_type": "markdown",
   "metadata": {
    "slideshow": {
     "slide_type": "fragment"
    },
    "tags": []
   },
   "source": [
    "*This is the most complicated scenario.*"
   ]
  },
  {
   "cell_type": "markdown",
   "metadata": {
    "slideshow": {
     "slide_type": "subslide"
    },
    "tags": []
   },
   "source": [
    "## Example\n",
    "\n",
    "In the GDP growth data, growth measurements are missing for many countries before a certain year. "
   ]
  },
  {
   "cell_type": "markdown",
   "metadata": {
    "slideshow": {
     "slide_type": "fragment"
    },
    "tags": []
   },
   "source": [
    "We might be able to hypothesize about why -- perhaps a country didn't exist or didn't keep reliable records for a period of time."
   ]
  },
  {
   "cell_type": "markdown",
   "metadata": {
    "slideshow": {
     "slide_type": "fragment"
    },
    "tags": []
   },
   "source": [
    "However, the data as they are contain no additional information that might explain the cause of missingness. So these data are MNAR."
   ]
  },
  {
   "cell_type": "markdown",
   "metadata": {
    "slideshow": {
     "slide_type": "subslide"
    },
    "tags": []
   },
   "source": [
    "## Simple fixes\n",
    "\n",
    "The easiest approach to missing data is to drop observations with missing values: `df.dropna()`. \n",
    "* Induces information loss, but is otherwise appropriate if data are MCAR.\n",
    "* Induces bias if data are MAR or MNAR."
   ]
  },
  {
   "cell_type": "markdown",
   "metadata": {
    "slideshow": {
     "slide_type": "fragment"
    },
    "tags": []
   },
   "source": [
    "Another simple fix is *mean imputation*, filling in missing values with the mean of the corresponding variable: `df.fillna()`.\n",
    "* Only a good idea if a very small proportion of values are missing.\n",
    "* Induces bias if data are MAR or MNAR."
   ]
  },
  {
   "cell_type": "markdown",
   "metadata": {
    "slideshow": {
     "slide_type": "subslide"
    },
    "tags": []
   },
   "source": [
    "## Perils of mean imputation\n",
    "\n",
    "<img src=\"figures/mean-imputation.png\" style=\"width:800px\">"
   ]
  },
  {
   "cell_type": "markdown",
   "metadata": {
    "slideshow": {
     "slide_type": "fragment"
    },
    "tags": []
   },
   "source": [
    "*Imputing too many missing values distorts the distribution of sample values.*"
   ]
  },
  {
   "cell_type": "markdown",
   "metadata": {
    "slideshow": {
     "slide_type": "subslide"
    },
    "tags": []
   },
   "source": [
    "## Do's and don't's\n",
    "\n",
    "Do:\n",
    "\n",
    "1. Always check for missing values *upon import*.\n",
    "    + Tabulate the proportion of observations with missingness\n",
    "    + Tabulate the proportion of values for each variable that are missing\n",
    "2. Take time to find out the reasons data are missing.\n",
    "    + Determine which outcomes are coded as missing.\n",
    "    + Investigate the physical mechanisms involved.\n",
    "3. Report missing data if they are present."
   ]
  },
  {
   "cell_type": "markdown",
   "metadata": {
    "slideshow": {
     "slide_type": "fragment"
    },
    "tags": []
   },
   "source": [
    "Don't:\n",
    "\n",
    "1. Use software defaults for handling missing values blindly.\n",
    "2. Drop missing values if data are not MCAR."
   ]
  },
  {
   "cell_type": "markdown",
   "metadata": {
    "slideshow": {
     "slide_type": "slide"
    },
    "tags": []
   },
   "source": [
    "# Case study: voter fraud\n",
    "\n",
    "* Steven Miller's analysis of 'Voter Integrity Fund' surveys\n",
    "* Sources of bias\n",
    "* Ethical issues"
   ]
  },
  {
   "cell_type": "markdown",
   "metadata": {
    "slideshow": {
     "slide_type": "subslide"
    },
    "tags": []
   },
   "source": [
    "## The Miller case\n",
    "\n",
    "On November 21, 2020, a professor at Williams College, Steven Miller, filed an affidavit alleging that an analysis of phone surveys showed that among registered republican voters in PA:\n",
    "* ~40K mail ballots were fraudlently requested;\n",
    "* ~48K mail ballots were not counted."
   ]
  },
  {
   "cell_type": "markdown",
   "metadata": {
    "slideshow": {
     "slide_type": "fragment"
    },
    "tags": []
   },
   "source": [
    "> President Donald J. Trump amplified the statement in a tweet, the Chairman of the Federal Elections Commission (FEC) referenced the statement as indicative of fraud, and a conservative group prominently featured it in a legal brief seeking to overturn the Pennsylvania election results. (Samuel Wolf, Williams Record, 11/25/20)"
   ]
  },
  {
   "cell_type": "markdown",
   "metadata": {
    "slideshow": {
     "slide_type": "fragment"
    },
    "tags": []
   },
   "source": [
    "The Miller affidavit was criticized by statisticians as incorrect, irresponsible, and unethical."
   ]
  },
  {
   "cell_type": "markdown",
   "metadata": {
    "slideshow": {
     "slide_type": "subslide"
    },
    "tags": []
   },
   "source": [
    "## The flawed assumption\n",
    "\n",
    "On a purely mathematical level, Miller's calculations were standard. The key issue was a single flawed assumption:\n",
    "\n",
    "> The analysis is predicated on the assumption that the responders are a **representative sample** of the population of registered Republicans in Pennsylvania for whom a mail-in ballot was requested but not counted, and responded accurately to the questions during the phone calls. (Miller affidavit)"
   ]
  },
  {
   "cell_type": "markdown",
   "metadata": {
    "slideshow": {
     "slide_type": "fragment"
    },
    "tags": []
   },
   "source": [
    "Essentially, Miller made two critical mistakes *in the analysis*:\n",
    "\n",
    "1. Failure to critically assess the sampling design and scope of inference.\n",
    "2. Ignored missing data."
   ]
  },
  {
   "cell_type": "markdown",
   "metadata": {
    "slideshow": {
     "slide_type": "fragment"
    },
    "tags": []
   },
   "source": [
    "We will conduct a *post mortem* and examine these issues. "
   ]
  },
  {
   "cell_type": "markdown",
   "metadata": {
    "slideshow": {
     "slide_type": "fragment"
    },
    "tags": []
   },
   "source": [
    "Miller is a number theorist, not a trained survey statistician, so on some level his mistakes were understandable, but they did a lot of damage."
   ]
  },
  {
   "cell_type": "markdown",
   "metadata": {
    "slideshow": {
     "slide_type": "subslide"
    },
    "tags": []
   },
   "source": [
    "## Sampling design\n",
    "\n",
    "> There were 165,412 unreturned mail ballots requested by registered republicans in PA.\n",
    "\n",
    "Those voters were surveyed by phone by Matt Braynard's private firm External Affairs on behalf of the Voter Integrity Fund. "
   ]
  },
  {
   "cell_type": "markdown",
   "metadata": {
    "slideshow": {
     "slide_type": "fragment"
    },
    "tags": []
   },
   "source": [
    "We don't really know how they obtained and selected phone numbers or exactly what the survey procedure was, but here's what we do know:\n",
    "\n",
    "1. ~23K individuals were called on Nov. 9-10.\n",
    "2. The ~2.5K who answered were asked if they were the registered voter or a family member.\n",
    "3. If they said yes, they were asked if they requested a ballot.\n",
    "4. Those who requested a ballot were asked if they mailed it."
   ]
  },
  {
   "cell_type": "markdown",
   "metadata": {
    "slideshow": {
     "slide_type": "subslide"
    },
    "tags": []
   },
   "source": [
    "## Spot any immediate issues?\n",
    "\n",
    "We'll look in greater detail at these steps, but can you spot any obvious fishiness?"
   ]
  },
  {
   "cell_type": "markdown",
   "metadata": {
    "slideshow": {
     "slide_type": "fragment"
    },
    "tags": []
   },
   "source": [
    "* ~23K individuals were called on Nov. 9-10\n",
    "    + How did they pick who to call?\n",
    "    + Narrow snapshot in time.\n",
    "    + 9th and 10th were a Monday and Tuesday.\n",
    "    + Mail ballots were still being counted; don't actually know whether returned ballots were ultimately counted or not by this time."
   ]
  },
  {
   "cell_type": "markdown",
   "metadata": {
    "slideshow": {
     "slide_type": "fragment"
    },
    "tags": []
   },
   "source": [
    "* The ~2.5K who answered were asked if they were the registered voter or a family member.\n",
    "    + Family members could answer on behalf of one another."
   ]
  },
  {
   "cell_type": "markdown",
   "metadata": {
    "slideshow": {
     "slide_type": "fragment"
    },
    "tags": []
   },
   "source": [
    "* If they said yes, they were asked if they requested a ballot.\n",
    "    + Misleading question: there's a registration checkbox; you don't have to file an explicit request in Pennsylvania."
   ]
  },
  {
   "cell_type": "markdown",
   "metadata": {
    "slideshow": {
     "slide_type": "fragment"
    },
    "tags": []
   },
   "source": [
    "* Those who requested a ballot were asked if they mailed it.\n",
    "    + What about voters who claimed not to request a ballot? Did they receive one, and if so, did they mail it?"
   ]
  },
  {
   "cell_type": "markdown",
   "metadata": {
    "slideshow": {
     "slide_type": "subslide"
    },
    "tags": []
   },
   "source": [
    "## Survey schematic\n",
    "\n",
    "<img src=\"figures/miller-diagram.png\" style=\"width:450px\">"
   ]
  },
  {
   "cell_type": "markdown",
   "metadata": {
    "slideshow": {
     "slide_type": "subslide"
    },
    "tags": []
   },
   "source": [
    "## Sampling design\n",
    "\n",
    "**Population**: republicans registered to vote in PA who had mail ballots officially requested that hadn't been returned or counted by November 9?"
   ]
  },
  {
   "cell_type": "markdown",
   "metadata": {
    "slideshow": {
     "slide_type": "fragment"
    },
    "tags": []
   },
   "source": [
    "**Sampling frame**: unknown; source of phone numbers unspecified."
   ]
  },
  {
   "cell_type": "markdown",
   "metadata": {
    "slideshow": {
     "slide_type": "fragment"
    },
    "tags": []
   },
   "source": [
    "**Sample**: 2684 registered republicans or family members of registered repbulicans who had a mail ballot officially requested in PA and answered survey calls on Nov. 9 or 10."
   ]
  },
  {
   "cell_type": "markdown",
   "metadata": {
    "slideshow": {
     "slide_type": "fragment"
    },
    "tags": []
   },
   "source": [
    "**Sampling mechanism**: nonrandom; depends on availability during calling hours on Monday and Tuesday, language spoken, and willingness to talk."
   ]
  },
  {
   "cell_type": "markdown",
   "metadata": {
    "slideshow": {
     "slide_type": "fragment"
    },
    "tags": []
   },
   "source": [
    "*This is not a representative sample of any meaningful population.*"
   ]
  },
  {
   "cell_type": "markdown",
   "metadata": {
    "slideshow": {
     "slide_type": "subslide"
    },
    "tags": []
   },
   "source": [
    "## Missingness\n",
    "\n",
    "Respondents hung up at every stage of the survey. \n",
    "\n",
    "This is probably not at random -- individuals who do not believe voter fraud occurred are more likely to hang up. \n",
    "\n",
    "However, we don't have any information about whether respondents think fraud occurred.\n",
    "\n",
    "So data are MNAR, and likely over-represent people more likely to claim they never requested a ballot."
   ]
  },
  {
   "cell_type": "markdown",
   "metadata": {
    "slideshow": {
     "slide_type": "subslide"
    },
    "tags": []
   },
   "source": [
    "## The analysis\n",
    "\n",
    "Miller first calculated:\n",
    "\n",
    "* The proportion of respondents who reported not requesting ballots among those who either voted in person, didn't request a ballot, or did request a ballot.\n",
    "    + Ignored those who weren't sure and those who hung up.\n",
    "    + Claimed that the estimated number of fraudulent requests was:\n",
    "    $$\\left(\\frac{556}{1150 + 556 + 544}\\right)\\times 165,412 = 0.2471 \\times 165,412 = 40,875$$"
   ]
  },
  {
   "cell_type": "markdown",
   "metadata": {
    "slideshow": {
     "slide_type": "subslide"
    },
    "tags": []
   },
   "source": [
    "## Simulation\n",
    "\n",
    "It's not too tricky to envision sources of bias that would affect Miller's results. *How much bias might there be?*\n",
    "\n",
    "This is an oversimplification, but if we are willing to assume that\n",
    "\n",
    "1. respondents all know whether they actually requested a ballot and tell the truth,\n",
    "2. respondents who didn't request a ballot are more likely to be reached, and\n",
    "3. respondents who did request a ballot are more likely to hang up during the interview,\n",
    "\n",
    "then we can show through a simple simulation that an actual fraud rate of under 1% will be estimated at over 20% almost all the time."
   ]
  },
  {
   "cell_type": "markdown",
   "metadata": {
    "slideshow": {
     "slide_type": "subslide"
    },
    "tags": []
   },
   "source": [
    "## Simulated population\n",
    "\n",
    "First let's generate a population of 150K voters."
   ]
  },
  {
   "cell_type": "code",
   "execution_count": 8,
   "metadata": {
    "slideshow": {
     "slide_type": "fragment"
    },
    "tags": []
   },
   "outputs": [],
   "source": [
    "np.random.seed(41021)\n",
    "\n",
    "# proportion of fraudlent requests\n",
    "true_prop = 0.009\n",
    "\n",
    "# generate population of 100K; 100 of 100K did not request a ballot\n",
    "N = 150000\n",
    "population = pd.DataFrame(data = {'requested': np.ones(N)})\n",
    "num_nrequest = round(N*true_prop) - 1\n",
    "population.iloc[0:num_nrequest, 0] = 0"
   ]
  },
  {
   "cell_type": "markdown",
   "metadata": {
    "slideshow": {
     "slide_type": "subslide"
    },
    "tags": []
   },
   "source": [
    "## Simulated sample\n",
    "\n",
    "Then let's introduce sampling weights based on the conditional probability that an individual will talk with the interviewer given whether they requested a ballot or not."
   ]
  },
  {
   "cell_type": "code",
   "execution_count": 9,
   "metadata": {
    "slideshow": {
     "slide_type": "fragment"
    },
    "tags": []
   },
   "outputs": [],
   "source": [
    "# assume respondents tell the truth\n",
    "p_request = 1 - true_prop\n",
    "p_nrequest = true_prop\n",
    "\n",
    "# assume respondents who claim no request are 15x more likely to talk\n",
    "talk_factor = 15\n",
    "\n",
    "# observed nonresponse rate\n",
    "p_talk = 0.09\n",
    "\n",
    "# conditional probability of talking given claimed request or not \n",
    "p_talk_request = p_talk/(p_request + talk_factor*p_nrequest) \n",
    "p_talk_nrequest = talk_factor*p_talk_request\n",
    "\n",
    "# draw sample weighted by conditional probabilities\n",
    "np.random.seed(41021)\n",
    "population.loc[population.requested == 1, 'sample_weight'] = p_talk_request\n",
    "population.loc[population.requested == 0, 'sample_weight'] = p_talk_nrequest\n",
    "samp = population.sample(n = 2500, replace = False, weights = 'sample_weight')"
   ]
  },
  {
   "cell_type": "markdown",
   "metadata": {
    "slideshow": {
     "slide_type": "subslide"
    },
    "tags": []
   },
   "source": [
    "## Simulated missing mechanism\n",
    "\n",
    "Then let's introduce missing values at different rates for respondents who requested a ballot and respondents who didn't."
   ]
  },
  {
   "cell_type": "code",
   "execution_count": 10,
   "metadata": {
    "slideshow": {
     "slide_type": "fragment"
    },
    "tags": []
   },
   "outputs": [],
   "source": [
    "# assume respondents who affirm requesting are 4x more likely to hang up or deflect\n",
    "missing_factor = 4\n",
    "\n",
    "# observed missing/unsure rate\n",
    "p_missing = 0.25\n",
    "\n",
    "# conditional probabilities of missing given request status\n",
    "p_missing_nrequest = p_missing/(0.8 + missing_factor*0.2) \n",
    "p_missing_request = missing_factor*p_missing_nrequest\n",
    "\n",
    "# input missing values\n",
    "np.random.seed(41021)\n",
    "samp.loc[samp.requested == 1, 'missing_weight'] = p_missing_request\n",
    "samp.loc[samp.requested == 0, 'missing_weight'] = p_missing_nrequest\n",
    "samp['missing'] = np.random.binomial(n = 1, p = samp.missing_weight.values)\n",
    "samp.loc[samp.missing == 1, 'requested'] = float('nan')"
   ]
  },
  {
   "cell_type": "markdown",
   "metadata": {
    "slideshow": {
     "slide_type": "subslide"
    },
    "tags": []
   },
   "source": [
    "## Simulated result\n",
    "\n",
    "If we then drop all the missing values and calculate the proportion of respondents who didn't request a ballot, we get:"
   ]
  },
  {
   "cell_type": "code",
   "execution_count": 11,
   "metadata": {
    "slideshow": {
     "slide_type": "fragment"
    },
    "tags": []
   },
   "outputs": [
    {
     "data": {
      "text/plain": [
       "0.21206743566992015"
      ]
     },
     "execution_count": 11,
     "metadata": {},
     "output_type": "execute_result"
    }
   ],
   "source": [
    "# compute mean after dropping missing values\n",
    "1 - samp.requested.mean()"
   ]
  },
  {
   "cell_type": "markdown",
   "metadata": {
    "slideshow": {
     "slide_type": "fragment"
    },
    "tags": []
   },
   "source": [
    "So Miller's result is *expected* if the sampling and missing mechanisms introduce bias, even if the true rate of fraudulent requests is under 1% -- on the order of 1,000 ballots."
   ]
  },
  {
   "cell_type": "markdown",
   "metadata": {
    "slideshow": {
     "slide_type": "subslide"
    },
    "tags": []
   },
   "source": [
    "## Takeaways\n",
    "\n",
    "The main mistakes were ignoring the sampling design and missing data -- in other words, proceeding to analyze the data without first getting well-acquainted. We should assume these were honest mistakes."
   ]
  },
  {
   "cell_type": "markdown",
   "metadata": {
    "slideshow": {
     "slide_type": "fragment"
    },
    "tags": []
   },
   "source": [
    "After the affidavit was filed, a colleague spoke with Miller; he recanted and acknowledged his mistakes, but this received far less attention than the conclusions in the affidavit."
   ]
  },
  {
   "cell_type": "markdown",
   "metadata": {
    "slideshow": {
     "slide_type": "subslide"
    },
    "tags": []
   },
   "source": [
    "## Professional ethics and social responsibility\n",
    "\n",
    "The American Statistical Association publishes [ethical guidelines for statistical practice](https://www.amstat.org/ASA/Your-Career/Ethical-Guidelines-for-Statistical-Practice.aspx). The Miller case violated a large number of these, most prominently, that an ethical practitioner:"
   ]
  },
  {
   "cell_type": "markdown",
   "metadata": {
    "slideshow": {
     "slide_type": "fragment"
    },
    "tags": []
   },
   "source": [
    "* Reports the sources and assessed adequacy of the data, accounts for all data considered in a study, and explains the sample(s) actually used."
   ]
  },
  {
   "cell_type": "markdown",
   "metadata": {
    "slideshow": {
     "slide_type": "fragment"
    },
    "tags": []
   },
   "source": [
    "* In publications and reports, conveys the findings in ways that are both honest and meaningful to the user/reader. This includes tables, models, and graphics."
   ]
  },
  {
   "cell_type": "markdown",
   "metadata": {
    "slideshow": {
     "slide_type": "fragment"
    },
    "tags": []
   },
   "source": [
    "* In publications or testimony, identifies the ultimate financial sponsor of the study, the stated purpose, and the intended use of the study results."
   ]
  },
  {
   "cell_type": "markdown",
   "metadata": {
    "slideshow": {
     "slide_type": "fragment"
    },
    "tags": []
   },
   "source": [
    "* When reporting analyses of volunteer data or other data that may not be representative of a defined population, includes appropriate disclaimers and, if used, appropriate weighting."
   ]
  },
  {
   "cell_type": "markdown",
   "metadata": {
    "slideshow": {
     "slide_type": "slide"
    },
    "tags": []
   },
   "source": [
    "# Summary\n",
    "\n",
    "This week we've touched on sampling design and missing data."
   ]
  },
  {
   "cell_type": "markdown",
   "metadata": {
    "slideshow": {
     "slide_type": "fragment"
    },
    "tags": []
   },
   "source": [
    "**Terminology**: population, sampling frame, sample, sampling mechanism, missing data mechanism."
   ]
  },
  {
   "cell_type": "markdown",
   "metadata": {
    "slideshow": {
     "slide_type": "fragment"
    },
    "tags": []
   },
   "source": [
    "* Sampling mechanisms: census; random sample, probability sample; convenience (nonrandom) sample."
   ]
  },
  {
   "cell_type": "markdown",
   "metadata": {
    "slideshow": {
     "slide_type": "fragment"
    },
    "tags": []
   },
   "source": [
    "* Missing data mechanisms: completely at random (MCAR); at random (MAR); not at random (MNAR)."
   ]
  },
  {
   "cell_type": "markdown",
   "metadata": {
    "slideshow": {
     "slide_type": "fragment"
    },
    "tags": []
   },
   "source": [
    "**Key concepts**:"
   ]
  },
  {
   "cell_type": "markdown",
   "metadata": {
    "slideshow": {
     "slide_type": "fragment"
    },
    "tags": []
   },
   "source": [
    "* Sampling design and missing data handling determine the reliability and scope of inferences."
   ]
  },
  {
   "cell_type": "markdown",
   "metadata": {
    "slideshow": {
     "slide_type": "fragment"
    },
    "tags": []
   },
   "source": [
    "* Either poor design or inappropriate handling of missing data can induce bias and generate misleading results."
   ]
  },
  {
   "cell_type": "markdown",
   "metadata": {
    "slideshow": {
     "slide_type": "fragment"
    },
    "tags": []
   },
   "source": [
    "The Miller case study illustrated how easy it is to overlook these issues, and the potential social impact of statistical malpractice. "
   ]
  }
 ],
 "metadata": {
  "kernelspec": {
   "display_name": "Python 3",
   "language": "python",
   "name": "python3"
  },
  "language_info": {
   "codemirror_mode": {
    "name": "ipython",
    "version": 3
   },
   "file_extension": ".py",
   "mimetype": "text/x-python",
   "name": "python",
   "nbconvert_exporter": "python",
   "pygments_lexer": "ipython3",
   "version": "3.8.5"
  }
 },
 "nbformat": 4,
 "nbformat_minor": 4
}
